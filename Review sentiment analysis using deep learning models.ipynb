{
 "cells": [
  {
   "cell_type": "markdown",
   "id": "9f9ed4ed-d847-461c-b95c-66223667299a",
   "metadata": {},
   "source": [
    "# Review sentiment classification using deep learning models\n",
    "\n",
    "This project aims to classify the sentiment of hotel reviews from booking.com. The goal is to compare the performance of various deep learning models for this task and identify the most accurate model. This notebook builds on the previous work done on the same dataset, where classification models were employed to perform the same task. By exploring different models, we aim to determine whether deep learning models can outperform the machine learning models in terms of accuracy."
   ]
  },
  {
   "cell_type": "code",
   "execution_count": 1,
   "id": "5ecd6990-0370-4569-8507-fa369d7e1402",
   "metadata": {},
   "outputs": [],
   "source": [
    "import pandas as pd\n",
    "import numpy as np\n",
    "import seaborn as sns\n",
    "import matplotlib.pyplot as plt\n",
    "import numpy as np\n",
    "\n",
    "import gensim.downloader as api\n",
    "import sklearn.metrics as skmetrics\n",
    "from sklearn.metrics import roc_curve, auc\n",
    "\n",
    "import torch\n",
    "import torch.nn as nn\n",
    "import torch.nn.functional as F"
   ]
  },
  {
   "cell_type": "code",
   "execution_count": 2,
   "id": "30ea8968-3a9d-4272-8c7a-e2fbc8dd1507",
   "metadata": {},
   "outputs": [
    {
     "name": "stderr",
     "output_type": "stream",
     "text": [
      "<ipython-input-2-37d60890e97f>:8: SettingWithCopyWarning: \n",
      "A value is trying to be set on a copy of a slice from a DataFrame.\n",
      "Try using .loc[row_indexer,col_indexer] = value instead\n",
      "\n",
      "See the caveats in the documentation: https://pandas.pydata.org/pandas-docs/stable/user_guide/indexing.html#returning-a-view-versus-a-copy\n",
      "  pos_df['Sentiment'] = 1 #positive\n",
      "<ipython-input-2-37d60890e97f>:12: SettingWithCopyWarning: \n",
      "A value is trying to be set on a copy of a slice from a DataFrame.\n",
      "Try using .loc[row_indexer,col_indexer] = value instead\n",
      "\n",
      "See the caveats in the documentation: https://pandas.pydata.org/pandas-docs/stable/user_guide/indexing.html#returning-a-view-versus-a-copy\n",
      "  neg_df['Sentiment'] = 0 #negative\n"
     ]
    },
    {
     "data": {
      "text/html": [
       "<div>\n",
       "<style scoped>\n",
       "    .dataframe tbody tr th:only-of-type {\n",
       "        vertical-align: middle;\n",
       "    }\n",
       "\n",
       "    .dataframe tbody tr th {\n",
       "        vertical-align: top;\n",
       "    }\n",
       "\n",
       "    .dataframe thead th {\n",
       "        text-align: right;\n",
       "    }\n",
       "</style>\n",
       "<table border=\"1\" class=\"dataframe\">\n",
       "  <thead>\n",
       "    <tr style=\"text-align: right;\">\n",
       "      <th></th>\n",
       "      <th>Review</th>\n",
       "      <th>Sentiment</th>\n",
       "    </tr>\n",
       "  </thead>\n",
       "  <tbody>\n",
       "    <tr>\n",
       "      <th>0</th>\n",
       "      <td>Perfect Location Great value Very comfortable...</td>\n",
       "      <td>1</td>\n",
       "    </tr>\n",
       "    <tr>\n",
       "      <th>1</th>\n",
       "      <td>The whole hotel was very clean the staff were...</td>\n",
       "      <td>1</td>\n",
       "    </tr>\n",
       "    <tr>\n",
       "      <th>2</th>\n",
       "      <td>Bar prices but that s London for you</td>\n",
       "      <td>0</td>\n",
       "    </tr>\n",
       "    <tr>\n",
       "      <th>3</th>\n",
       "      <td>Perfect location close to all transports Nice...</td>\n",
       "      <td>1</td>\n",
       "    </tr>\n",
       "    <tr>\n",
       "      <th>4</th>\n",
       "      <td>Room was cold the warm air heating struggled ...</td>\n",
       "      <td>0</td>\n",
       "    </tr>\n",
       "    <tr>\n",
       "      <th>...</th>\n",
       "      <td>...</td>\n",
       "      <td>...</td>\n",
       "    </tr>\n",
       "    <tr>\n",
       "      <th>2472</th>\n",
       "      <td>Reasonable price and good location breakfast ...</td>\n",
       "      <td>1</td>\n",
       "    </tr>\n",
       "    <tr>\n",
       "      <th>2473</th>\n",
       "      <td>Great bed bathroom beer garden decor staff an...</td>\n",
       "      <td>1</td>\n",
       "    </tr>\n",
       "    <tr>\n",
       "      <th>2474</th>\n",
       "      <td>The only negative was the noise there were bu...</td>\n",
       "      <td>0</td>\n",
       "    </tr>\n",
       "    <tr>\n",
       "      <th>2475</th>\n",
       "      <td>Nice variety of foods Good coffee</td>\n",
       "      <td>1</td>\n",
       "    </tr>\n",
       "    <tr>\n",
       "      <th>2476</th>\n",
       "      <td>The lighting was pretty dark Room lighting wo...</td>\n",
       "      <td>0</td>\n",
       "    </tr>\n",
       "  </tbody>\n",
       "</table>\n",
       "<p>2477 rows × 2 columns</p>\n",
       "</div>"
      ],
      "text/plain": [
       "                                                 Review  Sentiment\n",
       "0      Perfect Location Great value Very comfortable...          1\n",
       "1      The whole hotel was very clean the staff were...          1\n",
       "2                 Bar prices but that s London for you           0\n",
       "3      Perfect location close to all transports Nice...          1\n",
       "4      Room was cold the warm air heating struggled ...          0\n",
       "...                                                 ...        ...\n",
       "2472   Reasonable price and good location breakfast ...          1\n",
       "2473   Great bed bathroom beer garden decor staff an...          1\n",
       "2474   The only negative was the noise there were bu...          0\n",
       "2475                  Nice variety of foods Good coffee          1\n",
       "2476   The lighting was pretty dark Room lighting wo...          0\n",
       "\n",
       "[2477 rows x 2 columns]"
      ]
     },
     "execution_count": 2,
     "metadata": {},
     "output_type": "execute_result"
    }
   ],
   "source": [
    "# import the data\n",
    "reviews_data = pd.read_csv('/Users/israel/Downloads/Hotel_Reviews_Booking.csv')\n",
    "reviews_data = reviews_data[:1500]\n",
    "\n",
    "### Prepare the reveiws dataset\n",
    "pos_df = reviews_data[['Positive_Review']]\n",
    "pos_df.columns = ['Review']\n",
    "pos_df['Sentiment'] = 1 #positive\n",
    "\n",
    "neg_df = reviews_data[['Negative_Review']]\n",
    "neg_df.columns = ['Review']\n",
    "neg_df['Sentiment'] = 0 #negative\n",
    "\n",
    "clf_df = pd.concat([pos_df,neg_df])\n",
    "clf_df = clf_df.drop_duplicates().reset_index(drop=True)\n",
    "clf_df = clf_df.sample(frac=1).reset_index(drop=True)\n",
    "clf_df"
   ]
  },
  {
   "cell_type": "code",
   "execution_count": 3,
   "id": "e18daf39-94a3-47e7-8d04-0066f92d2007",
   "metadata": {},
   "outputs": [
    {
     "name": "stdout",
     "output_type": "stream",
     "text": [
      "1    1412\n",
      "0    1065\n",
      "Name: Sentiment, dtype: int64\n"
     ]
    },
    {
     "data": {
      "image/png": "[encoded data removed]",
      "text/plain": [
       "<Figure size 432x288 with 1 Axes>"
      ]
     },
     "metadata": {
      "needs_background": "light"
     },
     "output_type": "display_data"
    }
   ],
   "source": [
    "# Check the imbalance in the data\n",
    "print(clf_df['Sentiment'].value_counts())\n",
    "sns.countplot(x='Sentiment', data=clf_df)\n",
    "plt.title('Sentiment distribution')\n",
    "plt.show()"
   ]
  },
  {
   "cell_type": "markdown",
   "id": "5dd296f4-f6a9-4b5b-8712-1606f5cf3afd",
   "metadata": {},
   "source": [
    "### Data Preparations\n",
    "\n",
    "#### Vectorization \n",
    "\n",
    "Now we will transform the text into a numerical vector representation. The review is split into individual words and for each word, the vector representation from a pre-trained word2vec model is retrieved and added to the review vector. If the word is not in the word2vec model, it is skipped. After all words in the review have been processed, the review vector is divided by the number of words in the review to normalize it."
   ]
  },
  {
   "cell_type": "code",
   "execution_count": 4,
   "id": "b5dde545-9ee2-415f-b58d-3069cf1dbc97",
   "metadata": {},
   "outputs": [],
   "source": [
    "# Load the pre-trained word embeddings\n",
    "word2vec_model = api.load(\"word2vec-google-news-300\")\n",
    "\n",
    "def review_to_vector(review):\n",
    "    review_vector = np.zeros((300,))\n",
    "    word_count = 0\n",
    "    for word in review.split():\n",
    "        if word in word2vec_model:\n",
    "            review_vector += word2vec_model[word]\n",
    "            word_count += 1\n",
    "    if word_count != 0:\n",
    "        review_vector /= word_count\n",
    "    return review_vector\n",
    "\n",
    "reviews = clf_df['Review'].apply(review_to_vector)\n",
    "reviews = np.stack(reviews.values)"
   ]
  },
  {
   "cell_type": "markdown",
   "id": "50a34889-da41-49b8-8cb5-f7e3eade0cbe",
   "metadata": {},
   "source": [
    "Now we will convert the  sentiment labels. We need the labels in this way because neural networks typically expect the output/label data to be in a one-hot encoded format. This format provides a more convenient and efficient representation of the categorical data that the network can learn from. "
   ]
  },
  {
   "cell_type": "code",
   "execution_count": 5,
   "id": "83be7c5b-e532-4764-9793-f0b64f1079d7",
   "metadata": {},
   "outputs": [],
   "source": [
    "def sentiment_to_onehot(sentiment):\n",
    "    if sentiment == 1:\n",
    "        return [0, 1]\n",
    "    else:\n",
    "        return [1, 0]\n",
    "\n",
    "sentiments = clf_df['Sentiment'].apply(sentiment_to_onehot)\n",
    "sentiments = np.stack(sentiments.values)"
   ]
  },
  {
   "cell_type": "markdown",
   "id": "3ac10481-3deb-44d3-a4ad-8ed999f49c2c",
   "metadata": {},
   "source": [
    "#### Train/test splitting"
   ]
  },
  {
   "cell_type": "code",
   "execution_count": 6,
   "id": "1667c7ed-a66e-43a4-a4c5-020cf6385df1",
   "metadata": {},
   "outputs": [],
   "source": [
    "X_train = reviews[:int(0.8 * len(reviews))]\n",
    "y_train = sentiments[:int(0.8 * len(sentiments))]\n",
    "X_test = reviews[int(0.8 * len(reviews)):]\n",
    "y_test = sentiments[int(0.8 * len(sentiments)):]"
   ]
  },
  {
   "cell_type": "code",
   "execution_count": 7,
   "id": "3325a425-53eb-449c-a825-ca0fd36816fb",
   "metadata": {},
   "outputs": [],
   "source": [
    "# set parameters\n",
    "num_epochs = 100\n",
    "input_size = 300\n",
    "hidden_size = 128\n",
    "num_classes = 2\n",
    "learning_rate = 0.001"
   ]
  },
  {
   "cell_type": "code",
   "execution_count": 8,
   "id": "60b51e3e-0771-4ae6-b896-9446f796e9d1",
   "metadata": {},
   "outputs": [],
   "source": [
    "# track models performance\n",
    "log_models = pd.DataFrame(columns=[\"Model\",\"Accuracy\",\"Precision\",\"Recall\",\"F1-score\",\"AUC\",\"FPR\",\"TPR\",\"Loss_values\"])"
   ]
  },
  {
   "cell_type": "markdown",
   "id": "e3080110-15e2-453e-a5af-ba7ffbf34946",
   "metadata": {},
   "source": [
    "## Neural networks models\n",
    "\n",
    "We will define a general function that trains a PyTorch model and evaluates the model's accuracy, precision, recall, f1-score, and ROC and AUC on a test set. We will also record the loss values for each epoch for comparison."
   ]
  },
  {
   "cell_type": "code",
   "execution_count": 9,
   "id": "cddf2345-e654-4ecc-8d78-3e3b0d7f8a95",
   "metadata": {},
   "outputs": [],
   "source": [
    "def train_and_evaluate(model_name,model, X_train, y_train, X_test, y_test, criterion, optimizer, num_epochs):\n",
    "    if model_name in(['Encoder-decoder']):\n",
    "        encoder = model[0]\n",
    "        decoder = model[1]\n",
    "    \n",
    "    loss_values = []\n",
    "    for epoch in range(num_epochs):\n",
    "        # Convert the training data to PyTorch tensors\n",
    "        inputs = torch.from_numpy(X_train).float()\n",
    "        if model_name in(['RNN','LSTM','GRU','Encoder-decoder','Encoder-decoder-transformer']):\n",
    "            # Add an extra dimension to the tensor at position 1\n",
    "            inputs = inputs.unsqueeze(1) \n",
    "        if model_name in(['Transformers']):\n",
    "            # Add an extra dimension to the tensor at position 0\n",
    "            inputs = inputs.unsqueeze(0)\n",
    "        labels = torch.from_numpy(y_train).long()\n",
    "        \n",
    "        # Set the gradients to zero\n",
    "        optimizer.zero_grad()\n",
    "        if model_name in(['Encoder-decoder']):\n",
    "            h, c = encoder(inputs)\n",
    "            outputs = decoder(h[-1, :, :])\n",
    "        else:\n",
    "            outputs = model(inputs)\n",
    "        loss = criterion(outputs, torch.max(labels, 1)[1])\n",
    "        # Backpropagate the loss\n",
    "        loss.backward()\n",
    "        # Update the model weights\n",
    "        optimizer.step()\n",
    "\n",
    "        loss_values.append(loss.item())\n",
    "        if (epoch+1) % 10 == 0:\n",
    "            print ('Epoch [{}/{}], Loss: {:.4f}'.format(epoch+1, num_epochs, loss.item()))\n",
    "\n",
    "    inputs = torch.from_numpy(X_test).float()\n",
    "    if model_name in(['RNN','LSTM','GRU','Encoder-decoder','Encoder-decoder-transformer']):\n",
    "        inputs = inputs.unsqueeze(1)\n",
    "    if model_name in(['Transformers']):\n",
    "        inputs = inputs.unsqueeze(0)\n",
    "    labels = torch.from_numpy(y_test.argmax(1)).long()\n",
    "\n",
    "    with torch.no_grad():\n",
    "        if model_name in(['Encoder-decoder']):\n",
    "            h, c = encoder(inputs)\n",
    "            outputs = decoder(h[-1, :, :])\n",
    "        else:\n",
    "            outputs = model(inputs)\n",
    "        probs = outputs[:, 1].numpy()\n",
    "        predicted = outputs.argmax(1)\n",
    "        correct = (predicted == labels).sum().item()\n",
    "        accuracy = correct / len(labels)\n",
    "        print('\\nAccuracy of the model on the test data: {:.2f}%'.format(accuracy * 100))\n",
    "        \n",
    "        precision = skmetrics.precision_score(labels, predicted, average='weighted')\n",
    "        recall = skmetrics.recall_score(labels, predicted, average='weighted')\n",
    "        f1 = skmetrics.f1_score(labels, predicted, average='weighted')\n",
    "        print('Precision of the model: {:.2f}%'.format(precision * 100))\n",
    "        print('Recall of the model: {:.2f}%'.format(recall * 100))\n",
    "        print('F1-score of the model: {:.2f}%'.format(f1 * 100))\n",
    "\n",
    "        fpr, tpr, thresholds = roc_curve(y_test[:, 1], probs)\n",
    "        roc_auc = auc(fpr, tpr)\n",
    "        \n",
    "    return accuracy, precision, recall, f1, roc_auc, fpr, tpr, loss_values"
   ]
  },
  {
   "cell_type": "markdown",
   "id": "72b33d9b-b6d5-4668-a298-0ebd213f96f9",
   "metadata": {},
   "source": [
    "### FFNN\n",
    "\n",
    "FFNN (feed-forward neural network) is simple and straightforward model and it can be trained relatively quickly. The model consists of multiple fully connected (linear) layers with non-linear activation functions (ReLU) and dropout regularization to prevent overfitting."
   ]
  },
  {
   "cell_type": "code",
   "execution_count": 10,
   "id": "3f964263-c2fb-49c7-96e0-20f51c54ee35",
   "metadata": {},
   "outputs": [
    {
     "name": "stdout",
     "output_type": "stream",
     "text": [
      "Epoch [10/100], Loss: 0.6560\n",
      "Epoch [20/100], Loss: 0.5561\n",
      "Epoch [30/100], Loss: 0.4200\n",
      "Epoch [40/100], Loss: 0.3004\n",
      "Epoch [50/100], Loss: 0.2434\n",
      "Epoch [60/100], Loss: 0.2052\n",
      "Epoch [70/100], Loss: 0.1940\n",
      "Epoch [80/100], Loss: 0.1721\n",
      "Epoch [90/100], Loss: 0.1474\n",
      "Epoch [100/100], Loss: 0.1344\n",
      "\n",
      "Accuracy of the model on the test data: 91.94%\n",
      "Precision of the model: 91.93%\n",
      "Recall of the model: 91.94%\n",
      "F1-score of the model: 91.93%\n"
     ]
    }
   ],
   "source": [
    "class FFNN(nn.Module):\n",
    "    def __init__(self, input_size, hidden_size, num_classes):\n",
    "        super(FFNN, self).__init__()\n",
    "        self.fc1 = nn.Linear(input_size, hidden_size)\n",
    "        self.relu = nn.ReLU()\n",
    "        self.dropout = nn.Dropout(0.5)\n",
    "        self.fc2 = nn.Linear(hidden_size, hidden_size)\n",
    "        self.fc3 = nn.Linear(hidden_size, num_classes)\n",
    "\n",
    "    def forward(self, x):\n",
    "        out = self.fc1(x)\n",
    "        out = self.relu(out)\n",
    "        out = self.dropout(out)\n",
    "        out = self.fc2(out)\n",
    "        out = self.relu(out)\n",
    "        out = self.dropout(out)\n",
    "        out = self.fc3(out)\n",
    "        return out\n",
    "    \n",
    "model = FFNN(input_size, hidden_size, num_classes)\n",
    "criterion = nn.CrossEntropyLoss()\n",
    "optimizer = torch.optim.Adam(model.parameters(), lr=learning_rate)\n",
    "\n",
    "# Train and evaluate the model\n",
    "accuracy, precision, recall, f1, roc_auc, fpr, tpr, loss_values = train_and_evaluate('FFNN',model, X_train, y_train, X_test, y_test, criterion, optimizer, num_epochs)\n",
    "log_models.loc[len(log_models)] = ['FFNN',accuracy, precision, recall, f1, roc_auc, fpr, tpr, loss_values]"
   ]
  },
  {
   "cell_type": "markdown",
   "id": "317ae874-7ae7-43b9-915c-cec165ed9e84",
   "metadata": {},
   "source": [
    "### RNN-based models\n",
    "\n",
    "#### Vanilla RNN\n",
    "\n",
    "The RNN architecture captures sequential information of the text data by processing each word of the sequence sequentially and using its hidden state to pass information to the next word."
   ]
  },
  {
   "cell_type": "code",
   "execution_count": 11,
   "id": "7ac19134-3aa0-4a9a-9c75-42240f174757",
   "metadata": {},
   "outputs": [
    {
     "name": "stdout",
     "output_type": "stream",
     "text": [
      "Epoch [10/100], Loss: 0.6173\n",
      "Epoch [20/100], Loss: 0.5321\n",
      "Epoch [30/100], Loss: 0.4483\n",
      "Epoch [40/100], Loss: 0.3775\n",
      "Epoch [50/100], Loss: 0.3240\n",
      "Epoch [60/100], Loss: 0.2876\n",
      "Epoch [70/100], Loss: 0.2635\n",
      "Epoch [80/100], Loss: 0.2466\n",
      "Epoch [90/100], Loss: 0.2346\n",
      "Epoch [100/100], Loss: 0.2241\n",
      "\n",
      "Accuracy of the model on the test data: 92.74%\n",
      "Precision of the model: 92.75%\n",
      "Recall of the model: 92.74%\n",
      "F1-score of the model: 92.73%\n"
     ]
    }
   ],
   "source": [
    "class RNN(nn.Module):\n",
    "    def __init__(self, input_size, hidden_size, num_classes, num_layers=2):\n",
    "        super(RNN, self).__init__()\n",
    "        self.hidden_size = hidden_size\n",
    "        self.num_layers = num_layers\n",
    "        self.rnn = nn.RNN(input_size, hidden_size, batch_first=True)\n",
    "        self.dropout = nn.Dropout(p=0.1)\n",
    "        self.fc = nn.Linear(hidden_size, num_classes)\n",
    "        \n",
    "    def forward(self, x):\n",
    "        h0 = torch.zeros(1, x.size(0), self.hidden_size)\n",
    "        out, _ = self.rnn(x, h0)\n",
    "        out = self.dropout(out)\n",
    "        out = self.fc(out[:, -1, :])\n",
    "        return out\n",
    "\n",
    "model = RNN(input_size, hidden_size, num_classes)\n",
    "criterion = nn.CrossEntropyLoss()\n",
    "optimizer = torch.optim.Adam(model.parameters(), lr=learning_rate)\n",
    "\n",
    "# Train and evaluate the model\n",
    "accuracy, precision, recall, f1, roc_auc, fpr, tpr, loss_values = train_and_evaluate('RNN',model, X_train, y_train, X_test, y_test, criterion, optimizer, num_epochs)\n",
    "log_models.loc[len(log_models)] = ['RNN',accuracy, precision, recall, f1, roc_auc, fpr, tpr, loss_values]"
   ]
  },
  {
   "cell_type": "markdown",
   "id": "5e9f0d86-5e06-43b4-829c-9b4096936445",
   "metadata": {},
   "source": [
    "#### Bi-RNN\n",
    "\n",
    "The bi-directional nature of the RNN allows the model to take into account the context of the current word in both the forward and backward directions. Additionally, the linear layer at the end of the model can combine information from both directions to make a prediction."
   ]
  },
  {
   "cell_type": "code",
   "execution_count": 12,
   "id": "4c0fb73a-652d-46f2-88d6-cdbb981114da",
   "metadata": {},
   "outputs": [
    {
     "name": "stdout",
     "output_type": "stream",
     "text": [
      "Epoch [10/100], Loss: 0.5759\n",
      "Epoch [20/100], Loss: 0.4610\n",
      "Epoch [30/100], Loss: 0.3683\n",
      "Epoch [40/100], Loss: 0.3042\n",
      "Epoch [50/100], Loss: 0.2662\n",
      "Epoch [60/100], Loss: 0.2434\n",
      "Epoch [70/100], Loss: 0.2284\n",
      "Epoch [80/100], Loss: 0.2166\n",
      "Epoch [90/100], Loss: 0.2066\n",
      "Epoch [100/100], Loss: 0.1980\n",
      "\n",
      "Accuracy of the model on the test data: 92.34%\n",
      "Precision of the model: 92.34%\n",
      "Recall of the model: 92.34%\n",
      "F1-score of the model: 92.33%\n"
     ]
    }
   ],
   "source": [
    "class BiRNN(nn.Module):\n",
    "    def __init__(self, input_size, hidden_size, num_classes):\n",
    "        super(BiRNN, self).__init__()\n",
    "        self.hidden_size = hidden_size\n",
    "        self.rnn = nn.RNN(input_size, hidden_size, batch_first=True, bidirectional=True)\n",
    "        self.fc = nn.Linear(hidden_size*2, num_classes)\n",
    "        \n",
    "    def forward(self, x):\n",
    "        h0 = torch.zeros(2, x.size(0), self.hidden_size)\n",
    "        out, _ = self.rnn(x, h0)\n",
    "        out = self.fc(torch.cat((out[:, -1, :self.hidden_size], out[:, 0, self.hidden_size:]), dim=1))\n",
    "        return out\n",
    "\n",
    "model = BiRNN(input_size, hidden_size, num_classes)\n",
    "criterion = nn.CrossEntropyLoss()\n",
    "optimizer = torch.optim.Adam(model.parameters(), lr=learning_rate)\n",
    "\n",
    "# Train and evaluate the model\n",
    "accuracy, precision, recall, f1, roc_auc, fpr, tpr, loss_values = train_and_evaluate('RNN',model, X_train, y_train, X_test, y_test, criterion, optimizer, num_epochs)\n",
    "log_models.loc[len(log_models)] = ['Bi-RNN',accuracy, precision, recall, f1, roc_auc, fpr, tpr, loss_values]"
   ]
  },
  {
   "cell_type": "markdown",
   "id": "b7fa394b-e2f8-42a4-ab6f-0b4cbdf820aa",
   "metadata": {},
   "source": [
    "#### LSTM\n",
    "\n",
    "The LSTM architecture is designed to address the vanishing gradient problem in RNN. It can capture long-term dependencies in sequential data and selectively remember or forget information as needed."
   ]
  },
  {
   "cell_type": "code",
   "execution_count": 13,
   "id": "e1146b69-4f18-4511-b137-77c52030e507",
   "metadata": {},
   "outputs": [
    {
     "name": "stdout",
     "output_type": "stream",
     "text": [
      "Epoch [10/100], Loss: 0.6645\n",
      "Epoch [20/100], Loss: 0.6276\n",
      "Epoch [30/100], Loss: 0.5769\n",
      "Epoch [40/100], Loss: 0.5086\n",
      "Epoch [50/100], Loss: 0.4355\n",
      "Epoch [60/100], Loss: 0.3699\n",
      "Epoch [70/100], Loss: 0.3179\n",
      "Epoch [80/100], Loss: 0.2817\n",
      "Epoch [90/100], Loss: 0.2579\n",
      "Epoch [100/100], Loss: 0.2412\n",
      "\n",
      "Accuracy of the model on the test data: 92.34%\n",
      "Precision of the model: 92.34%\n",
      "Recall of the model: 92.34%\n",
      "F1-score of the model: 92.33%\n"
     ]
    }
   ],
   "source": [
    "class LSTM(nn.Module):\n",
    "    def __init__(self, input_size, hidden_size, num_classes):\n",
    "        super(LSTM, self).__init__()\n",
    "        self.hidden_size = hidden_size\n",
    "        self.lstm = nn.LSTM(input_size, hidden_size, batch_first=True)\n",
    "        self.fc = nn.Linear(hidden_size, num_classes)\n",
    "        \n",
    "    def forward(self, x):\n",
    "        h0 = torch.zeros(1, x.size(0), self.hidden_size)\n",
    "        c0 = torch.zeros(1, x.size(0), self.hidden_size)\n",
    "        out, _ = self.lstm(x, (h0, c0))\n",
    "        out = self.fc(out[:, -1, :])\n",
    "        return out\n",
    "\n",
    "model = LSTM(input_size, hidden_size, num_classes)\n",
    "criterion = nn.CrossEntropyLoss()\n",
    "optimizer = torch.optim.Adam(model.parameters(), lr=learning_rate)\n",
    "\n",
    "# Train and evaluate the model\n",
    "accuracy, precision, recall, f1, roc_auc, fpr, tpr, loss_values = train_and_evaluate('LSTM',model, X_train, y_train, X_test, y_test, criterion, optimizer, num_epochs)\n",
    "log_models.loc[len(log_models)] = ['LSTM',accuracy, precision, recall, f1, roc_auc, fpr, tpr, loss_values]"
   ]
  },
  {
   "cell_type": "markdown",
   "id": "bade2b98-a7a6-484e-b187-70f5ad55fbf5",
   "metadata": {},
   "source": [
    "#### Nested LSTM\n",
    "\n",
    "In the The nested LSTM architecture, we are using two LSTM layers which can learn higher-level representations of the input, where the output of the first LSTM layer serves as the input to the second LSTM layer. This allows the model to capture long-term dependencies and relationships within the input sequences."
   ]
  },
  {
   "cell_type": "code",
   "execution_count": 14,
   "id": "2d083ae5-b0ba-4596-a4b2-bd61cbf51809",
   "metadata": {},
   "outputs": [
    {
     "name": "stdout",
     "output_type": "stream",
     "text": [
      "Epoch [10/100], Loss: 0.6656\n",
      "Epoch [20/100], Loss: 0.6070\n",
      "Epoch [30/100], Loss: 0.4805\n",
      "Epoch [40/100], Loss: 0.3450\n",
      "Epoch [50/100], Loss: 0.2569\n",
      "Epoch [60/100], Loss: 0.2238\n",
      "Epoch [70/100], Loss: 0.1997\n",
      "Epoch [80/100], Loss: 0.1814\n",
      "Epoch [90/100], Loss: 0.1639\n",
      "Epoch [100/100], Loss: 0.1471\n",
      "\n",
      "Accuracy of the model on the test data: 92.54%\n",
      "Precision of the model: 92.54%\n",
      "Recall of the model: 92.54%\n",
      "F1-score of the model: 92.54%\n"
     ]
    }
   ],
   "source": [
    "class NestedLSTM(nn.Module):\n",
    "    def __init__(self, input_size, hidden_size, num_classes):\n",
    "        super(NestedLSTM, self).__init__()\n",
    "        self.hidden_size = hidden_size\n",
    "        self.lstm1 = nn.LSTM(input_size, hidden_size, batch_first=True)\n",
    "        self.lstm2 = nn.LSTM(hidden_size, hidden_size, batch_first=True)\n",
    "        self.fc = nn.Linear(hidden_size, num_classes)\n",
    "        \n",
    "    def forward(self, x):\n",
    "        h0 = torch.zeros(1, x.size(0), self.hidden_size)\n",
    "        c0 = torch.zeros(1, x.size(0), self.hidden_size)\n",
    "        out, (h_n, c_n) = self.lstm1(x, (h0, c0))\n",
    "        out, _ = self.lstm2(out, (h_n, c_n))\n",
    "        out = self.fc(out[:, -1, :])\n",
    "        return out\n",
    "\n",
    "model = NestedLSTM(input_size, hidden_size, num_classes)\n",
    "criterion = nn.CrossEntropyLoss()\n",
    "optimizer = torch.optim.Adam(model.parameters(), lr=learning_rate)\n",
    "\n",
    "# Train and evaluate the model\n",
    "accuracy, precision, recall, f1, roc_auc, fpr, tpr, loss_values = train_and_evaluate('LSTM',model, X_train, y_train, X_test, y_test, criterion, optimizer, num_epochs)\n",
    "log_models.loc[len(log_models)] = ['Nested LSTM',accuracy, precision, recall, f1, roc_auc, fpr, tpr, loss_values]"
   ]
  },
  {
   "cell_type": "markdown",
   "id": "5d39cd74-3e98-4166-8089-ac855231e7f2",
   "metadata": {},
   "source": [
    "#### GRU\n",
    "\n",
    "The GRU is similar to the LSTM in that it can handle long-term dependencies but has fewer parameters, which can make it easier to train and faster to run."
   ]
  },
  {
   "cell_type": "code",
   "execution_count": 15,
   "id": "67908aff-da0c-48c8-af38-015b7e67fa0c",
   "metadata": {},
   "outputs": [
    {
     "name": "stdout",
     "output_type": "stream",
     "text": [
      "Epoch [10/100], Loss: 0.6456\n",
      "Epoch [20/100], Loss: 0.5885\n",
      "Epoch [30/100], Loss: 0.5140\n",
      "Epoch [40/100], Loss: 0.4374\n",
      "Epoch [50/100], Loss: 0.3709\n",
      "Epoch [60/100], Loss: 0.3192\n",
      "Epoch [70/100], Loss: 0.2833\n",
      "Epoch [80/100], Loss: 0.2592\n",
      "Epoch [90/100], Loss: 0.2425\n",
      "Epoch [100/100], Loss: 0.2300\n",
      "\n",
      "Accuracy of the model on the test data: 92.74%\n",
      "Precision of the model: 92.75%\n",
      "Recall of the model: 92.74%\n",
      "F1-score of the model: 92.73%\n"
     ]
    }
   ],
   "source": [
    "class GRU(nn.Module):\n",
    "    def __init__(self, input_size, hidden_size, num_classes):\n",
    "        super(GRU, self).__init__()\n",
    "        self.hidden_size = hidden_size\n",
    "        self.gru = nn.GRU(input_size, hidden_size, batch_first=True)\n",
    "        self.fc = nn.Linear(hidden_size, num_classes)\n",
    "        \n",
    "    def forward(self, x):\n",
    "        h0 = torch.zeros(1, x.size(0), self.hidden_size)\n",
    "        out, _ = self.gru(x, h0)\n",
    "        out = self.fc(out[:, -1, :])\n",
    "        return out\n",
    "\n",
    "model = GRU(input_size, hidden_size, num_classes)\n",
    "criterion = nn.CrossEntropyLoss()\n",
    "optimizer = torch.optim.Adam(model.parameters(), lr=learning_rate)\n",
    "\n",
    "# Train and evaluate the model\n",
    "accuracy, precision, recall, f1, roc_auc, fpr, tpr, loss_values = train_and_evaluate('GRU',model, X_train, y_train, X_test, y_test, criterion, optimizer, num_epochs)\n",
    "log_models.loc[len(log_models)] = ['GRU',accuracy, precision, recall, f1, roc_auc, fpr, tpr, loss_values]"
   ]
  },
  {
   "cell_type": "markdown",
   "id": "531dfc56-e318-4723-8e7a-5268d6279d57",
   "metadata": {},
   "source": [
    "#### Encoder-decoder\n",
    "\n",
    "The Encoder-decoder architecture allows the model to encode the input sequence into a fixed-size vector representation, and then decode this representation into the output sequence, thus capturing long-term dependencies. Here the encoder uses an LSTM to encode the input sequence and outputs the final hidden and cell state, which are then used as the initial hidden and cell state for the decoder. The decoder we defined here is a simple linear layer that takes the final hidden state of the encoder as input and predicts the sentiment class."
   ]
  },
  {
   "cell_type": "code",
   "execution_count": 16,
   "id": "7a5bef90-9a68-436b-bc29-de359623b274",
   "metadata": {},
   "outputs": [
    {
     "name": "stdout",
     "output_type": "stream",
     "text": [
      "Epoch [10/100], Loss: 0.6638\n",
      "Epoch [20/100], Loss: 0.6267\n",
      "Epoch [30/100], Loss: 0.5732\n",
      "Epoch [40/100], Loss: 0.5031\n",
      "Epoch [50/100], Loss: 0.4291\n",
      "Epoch [60/100], Loss: 0.3640\n",
      "Epoch [70/100], Loss: 0.3133\n",
      "Epoch [80/100], Loss: 0.2784\n",
      "Epoch [90/100], Loss: 0.2554\n",
      "Epoch [100/100], Loss: 0.2393\n",
      "\n",
      "Accuracy of the model on the test data: 92.34%\n",
      "Precision of the model: 92.34%\n",
      "Recall of the model: 92.34%\n",
      "F1-score of the model: 92.33%\n"
     ]
    }
   ],
   "source": [
    "class Encoder(nn.Module):\n",
    "    def __init__(self, input_size, hidden_size):\n",
    "        super(Encoder, self).__init__()\n",
    "        self.hidden_size = hidden_size\n",
    "        self.lstm = nn.LSTM(input_size, hidden_size, batch_first=True)\n",
    "        \n",
    "    def forward(self, x):\n",
    "        h0 = torch.zeros(1, x.size(0), self.hidden_size)\n",
    "        c0 = torch.zeros(1, x.size(0), self.hidden_size)\n",
    "        out, (h, c) = self.lstm(x, (h0, c0))\n",
    "        return h, c\n",
    "\n",
    "class Decoder(nn.Module):\n",
    "    def __init__(self, hidden_size, num_classes):\n",
    "        super(Decoder, self).__init__()\n",
    "        self.hidden_size = hidden_size\n",
    "        self.fc = nn.Linear(hidden_size, num_classes)\n",
    "        \n",
    "    def forward(self, x):\n",
    "        out = self.fc(x)\n",
    "        return out\n",
    "\n",
    "encoder = Encoder(input_size, hidden_size)\n",
    "decoder = Decoder(hidden_size, num_classes)\n",
    "model = [encoder, decoder]\n",
    "criterion = nn.CrossEntropyLoss()\n",
    "optimizer = torch.optim.Adam(list(encoder.parameters()) + list(decoder.parameters()), lr=learning_rate)\n",
    "\n",
    "# Train and evaluate the model\n",
    "accuracy, precision, recall, f1, roc_auc, fpr, tpr, loss_values = train_and_evaluate('Encoder-decoder',model, X_train, y_train, X_test, y_test, criterion, optimizer, num_epochs)\n",
    "log_models.loc[len(log_models)] = ['Encoder-decoder',accuracy, precision, recall, f1, roc_auc, fpr, tpr, loss_values]"
   ]
  },
  {
   "cell_type": "markdown",
   "id": "2a7e3697-08b7-4f54-9ab0-f22fd6dc4de2",
   "metadata": {},
   "source": [
    "#### MoE Encoder-decoder\n",
    "\n",
    "The MoE Encoder-decoder architecture allows the model to learn multiple experts that can each capture different aspects of the data. The MoE mechanism enables the model to dynamically assign weights to the outputs of the experts based on the input, which can improve the model's ability to handle diverse input distributions."
   ]
  },
  {
   "cell_type": "code",
   "execution_count": 17,
   "id": "07ca0557-4501-46ef-926d-4f45ed3c57df",
   "metadata": {},
   "outputs": [
    {
     "name": "stdout",
     "output_type": "stream",
     "text": [
      "Epoch [10/100], Loss: 0.6721\n",
      "Epoch [20/100], Loss: 0.6406\n",
      "Epoch [30/100], Loss: 0.5943\n",
      "Epoch [40/100], Loss: 0.5228\n",
      "Epoch [50/100], Loss: 0.4397\n",
      "Epoch [60/100], Loss: 0.3616\n",
      "Epoch [70/100], Loss: 0.2979\n",
      "Epoch [80/100], Loss: 0.2548\n",
      "Epoch [90/100], Loss: 0.2282\n",
      "Epoch [100/100], Loss: 0.2109\n",
      "\n",
      "Accuracy of the model on the test data: 92.54%\n",
      "Precision of the model: 92.54%\n",
      "Recall of the model: 92.54%\n",
      "F1-score of the model: 92.53%\n"
     ]
    }
   ],
   "source": [
    "class Encoder(nn.Module):\n",
    "    def __init__(self, input_size, hidden_size):\n",
    "        super(Encoder, self).__init__()\n",
    "        self.hidden_size = hidden_size\n",
    "        self.lstm = nn.LSTM(input_size, hidden_size, batch_first=True)\n",
    "        \n",
    "    def forward(self, x):\n",
    "        h0 = torch.zeros(1, x.size(0), self.hidden_size)\n",
    "        c0 = torch.zeros(1, x.size(0), self.hidden_size)\n",
    "        out, (h, c) = self.lstm(x, (h0, c0))\n",
    "        return h, c\n",
    "\n",
    "class MoE(nn.Module):\n",
    "    def __init__(self, num_experts, hidden_size):\n",
    "        super(MoE, self).__init__()\n",
    "        self.num_experts = num_experts\n",
    "        self.hidden_size = hidden_size\n",
    "        self.gate = nn.Linear(hidden_size, num_experts)\n",
    "        self.experts = nn.ModuleList([Decoder(hidden_size, num_classes) for _ in range(num_experts)])\n",
    "        \n",
    "    def forward(self, x):\n",
    "        gates = F.softmax(self.gate(x), dim=1)\n",
    "        expert_outputs = [expert(x) for expert in self.experts]\n",
    "        outputs = torch.stack(expert_outputs, dim=1)\n",
    "        weighted_outputs = torch.bmm(gates.unsqueeze(1), outputs).squeeze(1)\n",
    "        return weighted_outputs    \n",
    "\n",
    "class Decoder(nn.Module):\n",
    "    def __init__(self, hidden_size, num_classes):\n",
    "        super(Decoder, self).__init__()\n",
    "        self.hidden_size = hidden_size\n",
    "        self.fc = nn.Linear(hidden_size, num_classes)\n",
    "        \n",
    "    def forward(self, x):\n",
    "        out = self.fc(x)\n",
    "        return out\n",
    "\n",
    "num_experts=3\n",
    "encoder = Encoder(input_size, hidden_size)\n",
    "moe = MoE(num_experts, hidden_size)\n",
    "decoder = Decoder(hidden_size, num_classes)\n",
    "model = nn.Sequential(encoder, moe, decoder)\n",
    "criterion = nn.CrossEntropyLoss()\n",
    "optimizer = torch.optim.Adam(model.parameters(), lr=learning_rate)\n",
    "\n",
    "# Train and evaluate the model\n",
    "accuracy, precision, recall, f1, roc_auc, fpr, tpr, loss_values = train_and_evaluate('Encoder-decoder',model, X_train, y_train, X_test, y_test, criterion, optimizer, num_epochs)\n",
    "log_models.loc[len(log_models)] = ['MoE Encoder-decoder',accuracy, precision, recall, f1, roc_auc, fpr, tpr, loss_values]"
   ]
  },
  {
   "cell_type": "markdown",
   "id": "5392f270-a206-4ac2-9c99-0c0ad57e7a82",
   "metadata": {},
   "source": [
    "### Transformers-based models\n",
    "\n",
    "#### Transformer-encoder\n",
    "\n",
    "The Transformer-encoder architecture uses self-attention mechanisms that can capture the dependencies between words in a sentence. Additionally, the model is able to process variable-length input sequences without the need for recurrent connections, which can help speed up training and inference time."
   ]
  },
  {
   "cell_type": "code",
   "execution_count": 18,
   "id": "283df2a4-dc0d-4d55-91d5-85f9017f426e",
   "metadata": {},
   "outputs": [
    {
     "name": "stdout",
     "output_type": "stream",
     "text": [
      "Epoch [10/100], Loss: 0.6748\n",
      "Epoch [20/100], Loss: 0.6749\n",
      "Epoch [30/100], Loss: 0.6023\n",
      "Epoch [40/100], Loss: 0.3186\n",
      "Epoch [50/100], Loss: 0.2246\n",
      "Epoch [60/100], Loss: 0.1803\n",
      "Epoch [70/100], Loss: 0.1502\n",
      "Epoch [80/100], Loss: 0.1135\n",
      "Epoch [90/100], Loss: 0.0817\n",
      "Epoch [100/100], Loss: 0.0587\n",
      "\n",
      "Accuracy of the model on the test data: 91.33%\n",
      "Precision of the model: 91.47%\n",
      "Recall of the model: 91.33%\n",
      "F1-score of the model: 91.29%\n"
     ]
    }
   ],
   "source": [
    "class TransformerEncoder(nn.Module):\n",
    "    def __init__(self, input_size, hidden_size, num_classes, num_layers=2, nhead=8):\n",
    "        super(TransformerEncoder, self).__init__()\n",
    "        self.hidden_size = hidden_size\n",
    "        self.input_size = input_size\n",
    "        self.num_classes = num_classes\n",
    "        self.encoder = nn.Linear(input_size, hidden_size)\n",
    "        self.transformer_encoder = nn.TransformerEncoder(nn.TransformerEncoderLayer(hidden_size, nhead=nhead), num_layers=num_layers)\n",
    "        self.fc = nn.Linear(hidden_size, num_classes)\n",
    "\n",
    "    def forward(self, x):\n",
    "        x = self.encoder(x)\n",
    "        x = x.permute(1,0,2) #(batch, sequence, feature)\n",
    "        x = self.transformer_encoder(x)\n",
    "        x = x.permute(1,0,2) #(sequence, batch, feature)\n",
    "        x = self.fc(x[-1, :, :])\n",
    "        return x\n",
    "\n",
    "model = TransformerEncoder(input_size, hidden_size, num_classes)\n",
    "criterion = nn.CrossEntropyLoss()\n",
    "optimizer = torch.optim.Adam(model.parameters(), lr=learning_rate)\n",
    "\n",
    "# Train and evaluate the model\n",
    "accuracy, precision, recall, f1, roc_auc, fpr, tpr, loss_values = train_and_evaluate('Transformers',model, X_train, y_train, X_test, y_test, criterion, optimizer, num_epochs)\n",
    "log_models.loc[len(log_models)] = ['Transformer-encoder',accuracy, precision, recall, f1, roc_auc, fpr, tpr, loss_values]"
   ]
  },
  {
   "cell_type": "markdown",
   "id": "44b93053-a3d7-44c5-b63c-1b5f12e03a50",
   "metadata": {},
   "source": [
    "#### Multi-head attention transformer\n",
    "\n",
    "The multi-head attention transformer takes the input tensor and computes the dot product of query, key, and value tensors, whereas in the transformer-encoder, the attention mechanism is separated into two parts: multi-head self-attention and a position-wise fully connected feed-forward network. Additionally, the multi-head attention transformer has only one attention layer, while the transformer-encoder have multiple layers."
   ]
  },
  {
   "cell_type": "code",
   "execution_count": 19,
   "id": "79d853da-cc62-4cd4-820f-9bf23fd6085f",
   "metadata": {},
   "outputs": [
    {
     "name": "stdout",
     "output_type": "stream",
     "text": [
      "Epoch [10/100], Loss: 0.5870\n",
      "Epoch [20/100], Loss: 0.3466\n",
      "Epoch [30/100], Loss: 0.2614\n",
      "Epoch [40/100], Loss: 0.2238\n",
      "Epoch [50/100], Loss: 0.2028\n",
      "Epoch [60/100], Loss: 0.1822\n",
      "Epoch [70/100], Loss: 0.1649\n",
      "Epoch [80/100], Loss: 0.1481\n",
      "Epoch [90/100], Loss: 0.1325\n",
      "Epoch [100/100], Loss: 0.1236\n",
      "\n",
      "Accuracy of the model on the test data: 91.13%\n",
      "Precision of the model: 91.14%\n",
      "Recall of the model: 91.13%\n",
      "F1-score of the model: 91.13%\n"
     ]
    }
   ],
   "source": [
    "class MultiHeadAttentionTransformer(nn.Module):\n",
    "    def __init__(self, input_size, hidden_size, num_classes, nhead=8):\n",
    "        super(MultiHeadAttentionTransformer, self).__init__()\n",
    "        self.hidden_size = hidden_size\n",
    "        self.input_size = input_size\n",
    "        self.num_classes = num_classes\n",
    "        self.encoder = nn.Linear(input_size, hidden_size)\n",
    "        self.multihead_attention = nn.MultiheadAttention(hidden_size, nhead)\n",
    "        self.fc = nn.Linear(hidden_size, num_classes)\n",
    "\n",
    "    def forward(self, x):\n",
    "        x = self.encoder(x)\n",
    "        x, _ = self.multihead_attention(x, x, x)\n",
    "        x = self.fc(x[-1, :, :])\n",
    "        return x\n",
    "\n",
    "model = MultiHeadAttentionTransformer(input_size, hidden_size, num_classes)\n",
    "criterion = nn.CrossEntropyLoss()\n",
    "optimizer = torch.optim.Adam(model.parameters(), lr=learning_rate)\n",
    "\n",
    "# Train and evaluate the model\n",
    "accuracy, precision, recall, f1, roc_auc, fpr, tpr, loss_values = train_and_evaluate('Transformers',model, X_train, y_train, X_test, y_test, criterion, optimizer, num_epochs)\n",
    "log_models.loc[len(log_models)] = ['Multi-head attention transformer',accuracy, precision, recall, f1, roc_auc, fpr, tpr, loss_values]"
   ]
  },
  {
   "cell_type": "markdown",
   "id": "6db95c84-a1a6-4389-80c8-98b0aa178ef1",
   "metadata": {},
   "source": [
    "#### Encoder-decoder transformer \n",
    "\n",
    "The encoder-decoder transformer architecture use the attention mechanism. In this architecture, the encoder uses the transformer network to encode the input sequence, while the decoder uses another transformer network to generate the output sequence."
   ]
  },
  {
   "cell_type": "code",
   "execution_count": 20,
   "id": "9cc6561c-cd0a-42ec-b54c-cc281a8377ef",
   "metadata": {},
   "outputs": [
    {
     "name": "stdout",
     "output_type": "stream",
     "text": [
      "Epoch [10/100], Loss: 0.7057\n",
      "Epoch [20/100], Loss: 0.6874\n",
      "Epoch [30/100], Loss: 0.6836\n",
      "Epoch [40/100], Loss: 0.6819\n",
      "Epoch [50/100], Loss: 0.6806\n",
      "Epoch [60/100], Loss: 0.6793\n",
      "Epoch [70/100], Loss: 0.6192\n",
      "Epoch [80/100], Loss: 0.6258\n",
      "Epoch [90/100], Loss: 0.2616\n",
      "Epoch [100/100], Loss: 0.2228\n",
      "\n",
      "Accuracy of the model on the test data: 92.34%\n",
      "Precision of the model: 92.51%\n",
      "Recall of the model: 92.34%\n",
      "F1-score of the model: 92.30%\n"
     ]
    }
   ],
   "source": [
    "class Encoder(nn.Module):\n",
    "    def __init__(self, input_size, hidden_size, num_layers=2, nhead=8):\n",
    "        super(Encoder, self).__init__()\n",
    "        self.hidden_size = hidden_size\n",
    "        self.input_size = input_size\n",
    "        self.encoder = nn.Linear(input_size, hidden_size)\n",
    "        self.transformer_encoder = nn.TransformerEncoder(nn.TransformerEncoderLayer(hidden_size, nhead=nhead), num_layers=num_layers)\n",
    "\n",
    "    def forward(self, x):\n",
    "        x = self.encoder(x)\n",
    "        x = x.permute(1,0,2) #(batch, sequence, feature)\n",
    "        x = self.transformer_encoder(x)\n",
    "        return x\n",
    "\n",
    "class Decoder(nn.Module):\n",
    "    def __init__(self, hidden_size, num_classes, num_layers=2, nhead=8):\n",
    "        super(Decoder, self).__init__()\n",
    "        self.hidden_size = hidden_size\n",
    "        self.num_classes = num_classes\n",
    "        self.decoder = nn.Linear(hidden_size, num_classes)\n",
    "        self.transformer_decoder = nn.TransformerDecoder(nn.TransformerDecoderLayer(hidden_size, nhead=nhead), num_layers=num_layers)\n",
    "\n",
    "    def forward(self, x, encoder_output):\n",
    "        x = x.unsqueeze(0) #(1, batch, feature)\n",
    "        x = self.transformer_decoder(x, encoder_output)\n",
    "        x = self.decoder(x[-1, :, :])\n",
    "        return x\n",
    "\n",
    "class Transformer(nn.Module):\n",
    "    def __init__(self, input_size, hidden_size, num_classes, num_layers=2, nhead=8):\n",
    "        super(Transformer, self).__init__()\n",
    "        self.hidden_size = hidden_size\n",
    "        self.num_classes = num_classes\n",
    "        self.encoder = Encoder(input_size, hidden_size, num_layers, nhead)\n",
    "        self.decoder = Decoder(hidden_size, num_classes, num_layers, nhead)\n",
    "\n",
    "    def forward(self, x):\n",
    "        encoder_output = self.encoder(x)\n",
    "        decoder_output = self.decoder(encoder_output[-1, :, :], encoder_output)\n",
    "        return decoder_output\n",
    "\n",
    "model = Transformer(input_size, hidden_size, num_classes)\n",
    "criterion = nn.CrossEntropyLoss()\n",
    "optimizer = torch.optim.Adam(model.parameters(), lr=learning_rate)\n",
    "\n",
    "# Train and evaluate the model\n",
    "accuracy, precision, recall, f1, roc_auc, fpr, tpr, loss_values = train_and_evaluate('Encoder-decoder-transformer',model, X_train, y_train, X_test, y_test, criterion, optimizer, num_epochs)\n",
    "log_models.loc[len(log_models)] = ['Encoder-decoder transformer',accuracy, precision, recall, f1, roc_auc, fpr, tpr, loss_values]"
   ]
  },
  {
   "cell_type": "markdown",
   "id": "25dfa684-ad1f-44d2-a9bd-bb6e48838872",
   "metadata": {},
   "source": [
    "### Model comparison"
   ]
  },
  {
   "cell_type": "code",
   "execution_count": 21,
   "id": "677f2f49-736a-4892-992d-fab4f6e0b6c3",
   "metadata": {},
   "outputs": [
    {
     "data": {
      "text/html": [
       "<div>\n",
       "<style scoped>\n",
       "    .dataframe tbody tr th:only-of-type {\n",
       "        vertical-align: middle;\n",
       "    }\n",
       "\n",
       "    .dataframe tbody tr th {\n",
       "        vertical-align: top;\n",
       "    }\n",
       "\n",
       "    .dataframe thead th {\n",
       "        text-align: right;\n",
       "    }\n",
       "</style>\n",
       "<table border=\"1\" class=\"dataframe\">\n",
       "  <thead>\n",
       "    <tr style=\"text-align: right;\">\n",
       "      <th></th>\n",
       "      <th>Accuracy</th>\n",
       "      <th>Precision</th>\n",
       "      <th>Recall</th>\n",
       "      <th>F1-score</th>\n",
       "      <th>AUC</th>\n",
       "      <th>FPR</th>\n",
       "      <th>TPR</th>\n",
       "      <th>Loss_values</th>\n",
       "    </tr>\n",
       "    <tr>\n",
       "      <th>Model</th>\n",
       "      <th></th>\n",
       "      <th></th>\n",
       "      <th></th>\n",
       "      <th></th>\n",
       "      <th></th>\n",
       "      <th></th>\n",
       "      <th></th>\n",
       "      <th></th>\n",
       "    </tr>\n",
       "  </thead>\n",
       "  <tbody>\n",
       "    <tr>\n",
       "      <th>RNN</th>\n",
       "      <td>0.927419</td>\n",
       "      <td>0.927494</td>\n",
       "      <td>0.927419</td>\n",
       "      <td>0.927319</td>\n",
       "      <td>0.966918</td>\n",
       "      <td>[0.0, 0.0, 0.0, 0.004484304932735426, 0.004484...</td>\n",
       "      <td>[0.0, 0.003663003663003663, 0.4542124542124542...</td>\n",
       "      <td>[0.6922503709793091, 0.6804596185684204, 0.670...</td>\n",
       "    </tr>\n",
       "    <tr>\n",
       "      <th>GRU</th>\n",
       "      <td>0.927419</td>\n",
       "      <td>0.927494</td>\n",
       "      <td>0.927419</td>\n",
       "      <td>0.927319</td>\n",
       "      <td>0.968823</td>\n",
       "      <td>[0.0, 0.0, 0.0, 0.0, 0.0, 0.004484304932735426...</td>\n",
       "      <td>[0.0, 0.003663003663003663, 0.3186813186813186...</td>\n",
       "      <td>[0.6963319778442383, 0.6890884041786194, 0.682...</td>\n",
       "    </tr>\n",
       "    <tr>\n",
       "      <th>Nested LSTM</th>\n",
       "      <td>0.925403</td>\n",
       "      <td>0.925374</td>\n",
       "      <td>0.925403</td>\n",
       "      <td>0.925354</td>\n",
       "      <td>0.965505</td>\n",
       "      <td>[0.0, 0.0, 0.0, 0.0, 0.0, 0.004484304932735426...</td>\n",
       "      <td>[0.0, 0.003663003663003663, 0.3626373626373626...</td>\n",
       "      <td>[0.6961032152175903, 0.6927406787872314, 0.689...</td>\n",
       "    </tr>\n",
       "    <tr>\n",
       "      <th>MoE Encoder-decoder</th>\n",
       "      <td>0.925403</td>\n",
       "      <td>0.925425</td>\n",
       "      <td>0.925403</td>\n",
       "      <td>0.925319</td>\n",
       "      <td>0.968807</td>\n",
       "      <td>[0.0, 0.0, 0.0, 0.0, 0.0, 0.004484304932735426...</td>\n",
       "      <td>[0.0, 0.003663003663003663, 0.336996336996337,...</td>\n",
       "      <td>[0.6934943795204163, 0.6912226676940918, 0.688...</td>\n",
       "    </tr>\n",
       "    <tr>\n",
       "      <th>LSTM</th>\n",
       "      <td>0.923387</td>\n",
       "      <td>0.923372</td>\n",
       "      <td>0.923387</td>\n",
       "      <td>0.923319</td>\n",
       "      <td>0.969464</td>\n",
       "      <td>[0.0, 0.0, 0.0, 0.0, 0.0, 0.004484304932735426...</td>\n",
       "      <td>[0.0, 0.003663003663003663, 0.3516483516483517...</td>\n",
       "      <td>[0.6990910768508911, 0.6949828267097473, 0.691...</td>\n",
       "    </tr>\n",
       "    <tr>\n",
       "      <th>Bi-RNN</th>\n",
       "      <td>0.923387</td>\n",
       "      <td>0.923449</td>\n",
       "      <td>0.923387</td>\n",
       "      <td>0.923281</td>\n",
       "      <td>0.965637</td>\n",
       "      <td>[0.0, 0.0, 0.0, 0.0, 0.0, 0.004484304932735426...</td>\n",
       "      <td>[0.0, 0.003663003663003663, 0.2820512820512820...</td>\n",
       "      <td>[0.6899418830871582, 0.6712309122085571, 0.657...</td>\n",
       "    </tr>\n",
       "    <tr>\n",
       "      <th>Encoder-decoder</th>\n",
       "      <td>0.923387</td>\n",
       "      <td>0.923449</td>\n",
       "      <td>0.923387</td>\n",
       "      <td>0.923281</td>\n",
       "      <td>0.968906</td>\n",
       "      <td>[0.0, 0.0, 0.0, 0.0, 0.0, 0.004484304932735426...</td>\n",
       "      <td>[0.0, 0.003663003663003663, 0.336996336996337,...</td>\n",
       "      <td>[0.698454737663269, 0.6941095590591431, 0.6899...</td>\n",
       "    </tr>\n",
       "    <tr>\n",
       "      <th>Encoder-decoder transformer</th>\n",
       "      <td>0.923387</td>\n",
       "      <td>0.925109</td>\n",
       "      <td>0.923387</td>\n",
       "      <td>0.922999</td>\n",
       "      <td>0.953974</td>\n",
       "      <td>[0.0, 0.0, 0.0, 0.004484304932735426, 0.004484...</td>\n",
       "      <td>[0.0, 0.003663003663003663, 0.0622710622710622...</td>\n",
       "      <td>[0.7025518417358398, 0.8063535690307617, 3.188...</td>\n",
       "    </tr>\n",
       "    <tr>\n",
       "      <th>FFNN</th>\n",
       "      <td>0.919355</td>\n",
       "      <td>0.919333</td>\n",
       "      <td>0.919355</td>\n",
       "      <td>0.919283</td>\n",
       "      <td>0.962154</td>\n",
       "      <td>[0.0, 0.0, 0.0, 0.004484304932735426, 0.004484...</td>\n",
       "      <td>[0.0, 0.003663003663003663, 0.2747252747252747...</td>\n",
       "      <td>[0.6909021735191345, 0.688519299030304, 0.6840...</td>\n",
       "    </tr>\n",
       "    <tr>\n",
       "      <th>Transformer-encoder</th>\n",
       "      <td>0.913306</td>\n",
       "      <td>0.914689</td>\n",
       "      <td>0.913306</td>\n",
       "      <td>0.912898</td>\n",
       "      <td>0.937910</td>\n",
       "      <td>[0.0, 0.0, 0.0, 0.004484304932735426, 0.004484...</td>\n",
       "      <td>[0.0, 0.003663003663003663, 0.0146520146520146...</td>\n",
       "      <td>[0.8923071622848511, 2.6885180473327637, 2.097...</td>\n",
       "    </tr>\n",
       "    <tr>\n",
       "      <th>Multi-head attention transformer</th>\n",
       "      <td>0.911290</td>\n",
       "      <td>0.911390</td>\n",
       "      <td>0.911290</td>\n",
       "      <td>0.911325</td>\n",
       "      <td>0.963074</td>\n",
       "      <td>[0.0, 0.0, 0.0, 0.0, 0.0, 0.004484304932735426...</td>\n",
       "      <td>[0.0, 0.003663003663003663, 0.1172161172161172...</td>\n",
       "      <td>[0.7047083973884583, 0.6909339427947998, 0.677...</td>\n",
       "    </tr>\n",
       "  </tbody>\n",
       "</table>\n",
       "</div>"
      ],
      "text/plain": [
       "                                  Accuracy  Precision    Recall  F1-score  \\\n",
       "Model                                                                       \n",
       "RNN                               0.927419   0.927494  0.927419  0.927319   \n",
       "GRU                               0.927419   0.927494  0.927419  0.927319   \n",
       "Nested LSTM                       0.925403   0.925374  0.925403  0.925354   \n",
       "MoE Encoder-decoder               0.925403   0.925425  0.925403  0.925319   \n",
       "LSTM                              0.923387   0.923372  0.923387  0.923319   \n",
       "Bi-RNN                            0.923387   0.923449  0.923387  0.923281   \n",
       "Encoder-decoder                   0.923387   0.923449  0.923387  0.923281   \n",
       "Encoder-decoder transformer       0.923387   0.925109  0.923387  0.922999   \n",
       "FFNN                              0.919355   0.919333  0.919355  0.919283   \n",
       "Transformer-encoder               0.913306   0.914689  0.913306  0.912898   \n",
       "Multi-head attention transformer  0.911290   0.911390  0.911290  0.911325   \n",
       "\n",
       "                                       AUC  \\\n",
       "Model                                        \n",
       "RNN                               0.966918   \n",
       "GRU                               0.968823   \n",
       "Nested LSTM                       0.965505   \n",
       "MoE Encoder-decoder               0.968807   \n",
       "LSTM                              0.969464   \n",
       "Bi-RNN                            0.965637   \n",
       "Encoder-decoder                   0.968906   \n",
       "Encoder-decoder transformer       0.953974   \n",
       "FFNN                              0.962154   \n",
       "Transformer-encoder               0.937910   \n",
       "Multi-head attention transformer  0.963074   \n",
       "\n",
       "                                                                                FPR  \\\n",
       "Model                                                                                 \n",
       "RNN                               [0.0, 0.0, 0.0, 0.004484304932735426, 0.004484...   \n",
       "GRU                               [0.0, 0.0, 0.0, 0.0, 0.0, 0.004484304932735426...   \n",
       "Nested LSTM                       [0.0, 0.0, 0.0, 0.0, 0.0, 0.004484304932735426...   \n",
       "MoE Encoder-decoder               [0.0, 0.0, 0.0, 0.0, 0.0, 0.004484304932735426...   \n",
       "LSTM                              [0.0, 0.0, 0.0, 0.0, 0.0, 0.004484304932735426...   \n",
       "Bi-RNN                            [0.0, 0.0, 0.0, 0.0, 0.0, 0.004484304932735426...   \n",
       "Encoder-decoder                   [0.0, 0.0, 0.0, 0.0, 0.0, 0.004484304932735426...   \n",
       "Encoder-decoder transformer       [0.0, 0.0, 0.0, 0.004484304932735426, 0.004484...   \n",
       "FFNN                              [0.0, 0.0, 0.0, 0.004484304932735426, 0.004484...   \n",
       "Transformer-encoder               [0.0, 0.0, 0.0, 0.004484304932735426, 0.004484...   \n",
       "Multi-head attention transformer  [0.0, 0.0, 0.0, 0.0, 0.0, 0.004484304932735426...   \n",
       "\n",
       "                                                                                TPR  \\\n",
       "Model                                                                                 \n",
       "RNN                               [0.0, 0.003663003663003663, 0.4542124542124542...   \n",
       "GRU                               [0.0, 0.003663003663003663, 0.3186813186813186...   \n",
       "Nested LSTM                       [0.0, 0.003663003663003663, 0.3626373626373626...   \n",
       "MoE Encoder-decoder               [0.0, 0.003663003663003663, 0.336996336996337,...   \n",
       "LSTM                              [0.0, 0.003663003663003663, 0.3516483516483517...   \n",
       "Bi-RNN                            [0.0, 0.003663003663003663, 0.2820512820512820...   \n",
       "Encoder-decoder                   [0.0, 0.003663003663003663, 0.336996336996337,...   \n",
       "Encoder-decoder transformer       [0.0, 0.003663003663003663, 0.0622710622710622...   \n",
       "FFNN                              [0.0, 0.003663003663003663, 0.2747252747252747...   \n",
       "Transformer-encoder               [0.0, 0.003663003663003663, 0.0146520146520146...   \n",
       "Multi-head attention transformer  [0.0, 0.003663003663003663, 0.1172161172161172...   \n",
       "\n",
       "                                                                        Loss_values  \n",
       "Model                                                                                \n",
       "RNN                               [0.6922503709793091, 0.6804596185684204, 0.670...  \n",
       "GRU                               [0.6963319778442383, 0.6890884041786194, 0.682...  \n",
       "Nested LSTM                       [0.6961032152175903, 0.6927406787872314, 0.689...  \n",
       "MoE Encoder-decoder               [0.6934943795204163, 0.6912226676940918, 0.688...  \n",
       "LSTM                              [0.6990910768508911, 0.6949828267097473, 0.691...  \n",
       "Bi-RNN                            [0.6899418830871582, 0.6712309122085571, 0.657...  \n",
       "Encoder-decoder                   [0.698454737663269, 0.6941095590591431, 0.6899...  \n",
       "Encoder-decoder transformer       [0.7025518417358398, 0.8063535690307617, 3.188...  \n",
       "FFNN                              [0.6909021735191345, 0.688519299030304, 0.6840...  \n",
       "Transformer-encoder               [0.8923071622848511, 2.6885180473327637, 2.097...  \n",
       "Multi-head attention transformer  [0.7047083973884583, 0.6909339427947998, 0.677...  "
      ]
     },
     "execution_count": 21,
     "metadata": {},
     "output_type": "execute_result"
    }
   ],
   "source": [
    "log_models = log_models.set_index('Model')\n",
    "log_models = log_models.sort_values(by=\"F1-score\",ascending=False)\n",
    "log_models"
   ]
  },
  {
   "cell_type": "markdown",
   "id": "008be6c4-48ff-4f66-b5b7-d9c7964590bb",
   "metadata": {},
   "source": [
    "##### Metrics scores"
   ]
  },
  {
   "cell_type": "code",
   "execution_count": 22,
   "id": "2bfed41a-563d-46fe-922a-fdf4f1896616",
   "metadata": {},
   "outputs": [
    {
     "data": {
      "text/plain": [
       "<Figure size 504x432 with 0 Axes>"
      ]
     },
     "metadata": {},
     "output_type": "display_data"
    },
    {
     "data": {
      "image/png": "[encoded data removed]",
      "text/plain": [
       "<Figure size 432x288 with 1 Axes>"
      ]
     },
     "metadata": {
      "needs_background": "light"
     },
     "output_type": "display_data"
    }
   ],
   "source": [
    "plt.figure(figsize=(7, 6))\n",
    "log_models[['Accuracy','Precision','Recall','F1-score','AUC']].T.plot.barh()\n",
    "plt.title('Classifier evaluation')\n",
    "plt.legend(title='Model', bbox_to_anchor=(1, 1))\n",
    "plt.xlabel('Score')\n",
    "plt.xlim((0.88,0.99))\n",
    "plt.show()"
   ]
  },
  {
   "cell_type": "markdown",
   "id": "cc4dc526-42b2-4338-ae71-daf2e7ef4d60",
   "metadata": {},
   "source": [
    "##### ROC curve"
   ]
  },
  {
   "cell_type": "code",
   "execution_count": 23,
   "id": "c2a3cfe5-2812-44da-a44d-b0363b4478e6",
   "metadata": {},
   "outputs": [
    {
     "data": {
      "image/png": "[encoded data removed]",
      "text/plain": [
       "<Figure size 432x360 with 1 Axes>"
      ]
     },
     "metadata": {
      "needs_background": "light"
     },
     "output_type": "display_data"
    }
   ],
   "source": [
    "log_models = log_models.reset_index()\n",
    "plt.figure(figsize=(6, 5))\n",
    "for model in range(len(log_models)):\n",
    "    plt.plot(log_models['FPR'][model], log_models['TPR'][model], lw=2.2, label='{} (AUC = {:.4f})'.format(log_models['Model'][model],log_models['AUC'][model]))\n",
    "plt.plot([0, 1], [0, 1], linestyle='--', lw=1, color='gray')\n",
    "plt.xlim([-0.05, 1.05])\n",
    "plt.ylim([-0.05, 1.05])\n",
    "plt.xlabel('False Positive Rate')\n",
    "plt.ylabel('True Positive Rate')\n",
    "plt.title('Receiver Operating Characteristic (ROC)')\n",
    "plt.legend(title='Methods', bbox_to_anchor=(1, 0.5))\n",
    "plt.show()"
   ]
  },
  {
   "cell_type": "markdown",
   "id": "7a7fae26-7dc8-4cec-9391-e674be4d74fb",
   "metadata": {},
   "source": [
    "##### Training loss vs epochs"
   ]
  },
  {
   "cell_type": "code",
   "execution_count": 24,
   "id": "af268f2b-1b6c-44d3-a454-dc9e02d4f65a",
   "metadata": {},
   "outputs": [
    {
     "data": {
      "image/png": "[encoded data removed]",
      "text/plain": [
       "<Figure size 432x360 with 1 Axes>"
      ]
     },
     "metadata": {
      "needs_background": "light"
     },
     "output_type": "display_data"
    }
   ],
   "source": [
    "plt.figure(figsize=(6, 5))\n",
    "for model in range(len(log_models)):\n",
    "    plt.plot(range(1, num_epochs+1), log_models['Loss_values'][model], label='{} (AUC = {:.4f})'.format(log_models['Model'][model],log_models['Accuracy'][model]))\n",
    "plt.xlabel('Epochs')\n",
    "plt.ylabel('Loss')\n",
    "plt.title('Training loss vs Epochs')\n",
    "plt.legend(title='Methods', bbox_to_anchor=(1, 0.5))\n",
    "plt.show()"
   ]
  },
  {
   "cell_type": "markdown",
   "id": "e4948332-ef00-45b7-ac7b-dd6f004afda2",
   "metadata": {},
   "source": [
    "Based on the performance metrics shown, there is no significant difference between the models. The RNN, GRU, and Nested LSTM models perform best in terms of accuracy and F1-score. MoE encoder-decoder, LSTM, Bi-RNN, and encoder-decoder models have slightly lower scores but are still reasonable choices. The encoder-decoder transformer, FFNN, transformer-encoder, and multi-head attention transformer models show lower performance and thus may not be the best choices for this particular sentiment analysis task.\n",
    "\n",
    "It should be noted that in this project, the models were trained without using batches. This means that the entire training dataset was fed to the model at once, which can lead to memory issues for large datasets. In our case, the dataset is not very large, and the training process was still manageable even without using batches.\n",
    "\n",
    "In comparison to our previous notebook where we explored machine learning classification models, the deep learning models examined in this notebook have shown to outperform the majority of them. It's worth noting that SVM did provide a similar level of accuracy."
   ]
  }
 ],
 "metadata": {
  "kernelspec": {
   "display_name": "Python 3",
   "language": "python",
   "name": "python3"
  },
  "language_info": {
   "codemirror_mode": {
    "name": "ipython",
    "version": 3
   },
   "file_extension": ".py",
   "mimetype": "text/x-python",
   "name": "python",
   "nbconvert_exporter": "python",
   "pygments_lexer": "ipython3",
   "version": "3.8.8"
  }
 },
 "nbformat": 4,
 "nbformat_minor": 5
}
