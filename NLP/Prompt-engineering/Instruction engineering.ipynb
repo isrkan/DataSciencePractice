{
 "cells": [
  {
   "cell_type": "markdown",
   "metadata": {
    "id": "phEG7nVNhNRu"
   },
   "source": [
    "# Instruction engineering\n",
    "This notebook focuses on instruction engineering, a critical part of prompt engineering that focuses on writing clear, structured, and effective instructions for language models. The quality of instructions directly influences the relevance, accuracy, and usability of the model's output.\n",
    "\n",
    "As language models become more advanced, providing well-structured, concise, and specific instructions becomes increasingly important. Well-crafted prompts guide the model to generate responses that are not only relevant but also coherent and aligned with the task's goals. In this notebook, we will explore techniques for designing effective instructions, balancing the level of specificity and generality, and refining prompts iteratively for optimal results."
   ]
  },
  {
   "cell_type": "code",
   "execution_count": 1,
   "metadata": {
    "id": "s6fXyZ7ZhMnF"
   },
   "outputs": [],
   "source": [
    "import os\n",
    "from langchain_openai import ChatOpenAI\n",
    "from langchain.prompts import PromptTemplate\n",
    "from dotenv import load_dotenv\n",
    "\n",
    "# Load environment variables\n",
    "load_dotenv()\n",
    "\n",
    "# Set up OpenAI API key\n",
    "os.environ[\"OPENAI_API_KEY\"] = os.getenv('OPENAI_API_KEY')"
   ]
  },
  {
   "cell_type": "markdown",
   "metadata": {
    "id": "th-uvlYFhUiL"
   },
   "source": [
    "### Initialize the language model\n",
    "We instantiate a lightweight GPT model from OpenAI using LangChain."
   ]
  },
  {
   "cell_type": "code",
   "execution_count": 2,
   "metadata": {
    "id": "NjO3Kn46hUFY"
   },
   "outputs": [],
   "source": [
    "# Initialize the language model\n",
    "llm = ChatOpenAI(model=\"gpt-4o-mini-2024-07-18\")"
   ]
  },
  {
   "cell_type": "markdown",
   "metadata": {
    "id": "r_5GKhVxhT55"
   },
   "source": [
    "## Crafting clear instructions\n",
    "The clarity of our instruction significantly impacts the quality of a model's output. Let’s compare two prompts: one vague and one detailed, to observe how LLMs handle each. We will demonstrate how the precision and scope of instructions affect the informativeness and relevance of the model’s response."
   ]
  },
  {
   "cell_type": "code",
   "execution_count": 3,
   "metadata": {
    "id": "7z01ww2lhTuN"
   },
   "outputs": [
    {
     "name": "stdout",
     "output_type": "stream",
     "text": [
      "Vague Instruction Output:\n",
      "Climate change refers to long-term alterations in temperature, precipitation, and other atmospheric conditions on Earth, primarily driven by human activities such as burning fossil fuels, deforestation, and industrial processes. This results in increased greenhouse gas emissions, leading to global warming, rising sea levels, extreme weather events, and disruptions to ecosystems and biodiversity. Mitigating climate change involves reducing emissions, transitioning to renewable energy sources, and enhancing sustainability practices.\n",
      "\n",
      "Clear Instruction Output:\n",
      "**Primary Causes of Climate Change:**\n",
      "\n",
      "1. **Greenhouse Gas Emissions:** The burning of fossil fuels (coal, oil, and natural gas) for energy and transportation is the largest source of greenhouse gases (GHGs), notably carbon dioxide (CO2) and methane (CH4).\n",
      "2. **Deforestation:** Land-use changes, particularly deforestation for agriculture and urban development, reduce carbon sequestration and increase CO2 levels in the atmosphere.\n",
      "3. **Industrial Processes:** Emissions from manufacturing and chemical processes contribute significantly to GHG levels.\n",
      "4. **Agriculture:** Agricultural practices, including livestock production and rice cultivation, release methane and nitrous oxide, potent greenhouse gases.\n",
      "\n",
      "**Effects of Climate Change:**\n",
      "\n",
      "1. **Global Temperature Rise:** Increased GHG concentrations have led to a rise in average global temperatures, resulting in more frequent and severe heatwaves.\n",
      "2. **Extreme Weather Events:** Climate change is linked to an increase in the frequency and intensity of extreme weather events, including hurricanes, floods, and droughts.\n",
      "3. **Sea Level Rise:** Thermal expansion of seawater and melting ice sheets contribute to rising sea levels, threatening coastal communities and ecosystems.\n",
      "4. **Ecosystem Disruption:** Changes in climate affect biodiversity and ecosystems, leading to habitat loss, species extinction, and altered migration patterns.\n",
      "5. **Human Health Risks:** Increased heat and pollution, along with the spread of vector-borne diseases, pose significant health risks to populations worldwide.\n",
      "\n",
      "The scientific consensus underscores that human activities are the primary driver of recent climate change, necessitating urgent action to mitigate its impacts.\n"
     ]
    }
   ],
   "source": [
    "# A vague instruction – lacks specifics\n",
    "vague_instruction = \"Tell me about climate change concisely.\"\n",
    "# A clear instruction – explicitly defines scope and focus\n",
    "clear_instruction = \"Provide a concise summary of the primary causes and effects of climate change, focusing on scientific consensus from the past five years concisely.\"\n",
    "\n",
    "# Invoke model with both prompts\n",
    "print(\"Vague Instruction Output:\")\n",
    "print(llm.invoke(vague_instruction).content)\n",
    "\n",
    "print(\"\\nClear Instruction Output:\")\n",
    "print(llm.invoke(clear_instruction).content)"
   ]
  },
  {
   "cell_type": "markdown",
   "metadata": {
    "id": "MqYdUahhhTik"
   },
   "source": [
    "This block demonstrates how instruction clarity affects model output. The clear version sets better boundaries: scope (causes and effects), focus (scientific consensus), and timeframe (last five years). The model output will reflect this increased specificity with more targeted content.\n",
    "\n",
    "\n",
    "## Effective instruction structures\n",
    "Now we test how format and structure how a model organizes its output. We compare two common styles:\n",
    "- Bullet-style prompts, which suggest structured, point-wise answers.\n",
    "- Narrative-style prompts, which encourage natural language flow.\n",
    "\n"
   ]
  },
  {
   "cell_type": "code",
   "execution_count": 4,
   "metadata": {
    "id": "NFxaMqzShTW9"
   },
   "outputs": [
    {
     "name": "stdout",
     "output_type": "stream",
     "text": [
      "Bullet Structure Output:\n",
      "### Definition of Photosynthesis\n",
      "Photosynthesis is the biochemical process by which green plants, algae, and some bacteria convert light energy, usually from the sun, into chemical energy stored in glucose, using carbon dioxide and water.\n",
      "\n",
      "### Main Components Involved\n",
      "1. **Chlorophyll** - The green pigment in plants that captures light energy.\n",
      "2. **Light Energy** - Typically from sunlight, which drives the process.\n",
      "3. **Water (H₂O)** - Absorbed by roots from the soil.\n",
      "4. **Carbon Dioxide (CO₂)** - Taken in from the atmosphere through stomata.\n",
      "5. **Glucose (C₆H₁₂O₆)** - The sugar produced as a result of photosynthesis.\n",
      "6. **Oxygen (O₂)** - A byproduct released into the atmosphere.\n",
      "\n",
      "### Steps in Order\n",
      "1. **Light Absorption**: Chlorophyll absorbs sunlight, energizing electrons.\n",
      "2. **Water Splitting (Photolysis)**: Light energy splits water molecules into oxygen, protons, and electrons.\n",
      "3. **Oxygen Release**: The oxygen produced is released as a byproduct.\n",
      "4. **Energy Conversion**: The energized electrons move through the electron transport chain, producing ATP and NADPH.\n",
      "5. **Carbon Fixation (Calvin Cycle)**: ATP and NADPH are used to convert carbon dioxide into glucose during a series of reactions in the stroma of chloroplasts.\n",
      "\n",
      "### Importance for Life on Earth\n",
      "Photosynthesis is crucial for life on Earth as it is the primary source of organic matter for nearly all organisms, forming the base of the food chain. It also produces oxygen, which is essential for the survival of aerobic organisms, including humans. Additionally, photosynthesis helps regulate atmospheric CO₂ levels, contributing to climate stability.\n",
      "\n",
      "Narrative Structure Output:\n",
      "**Definition:** Photosynthesis is the process by which green plants, algae, and some bacteria convert light energy into chemical energy, using carbon dioxide and water to produce glucose and oxygen.\n",
      "\n",
      "**Step-by-Step Process:**\n",
      "\n",
      "1. **Light Absorption:** Photosynthesis begins in the chloroplasts of plant cells, where chlorophyll, the green pigment, captures sunlight.\n",
      "\n",
      "2. **Water Splitting:** The absorbed light energy is used to split water molecules (H₂O) into oxygen (O₂), protons, and electrons. This occurs in the thylakoid membranes.\n",
      "\n",
      "3. **Oxygen Release:** The oxygen produced during the water-splitting process is released into the atmosphere as a byproduct.\n",
      "\n",
      "4. **Energy Conversion:** The electrons from the water molecules travel through a series of proteins in the thylakoid membrane, creating a flow of energy that helps produce ATP (adenosine triphosphate) and NADPH, which store energy.\n",
      "\n",
      "5. **Carbon Fixation:** In the next phase, known as the Calvin cycle, carbon dioxide (CO₂) from the atmosphere is captured and combined with the energy carriers (ATP and NADPH) to synthesize glucose (C₆H₁₂O₆).\n",
      "\n",
      "6. **Glucose Production:** The glucose produced serves as an energy source for the plant and, indirectly, for other organisms that consume plants.\n",
      "\n",
      "**Importance of Photosynthesis:**\n",
      "Photosynthesis is crucial for life on Earth as it provides the oxygen we breathe and serves as the foundation of the food chain. It enables energy transfer from the sun to living organisms and helps regulate atmospheric CO₂ levels, making it essential for maintaining ecological balance and sustaining life.\n"
     ]
    }
   ],
   "source": [
    "# Instruction using bullet-point format\n",
    "bullet_structure = \"\"\"\n",
    "Explain the process of photosynthesis concisely:\n",
    "- Define photosynthesis\n",
    "- List the main components involved\n",
    "- Describe the steps in order\n",
    "- Mention its importance for life on Earth\n",
    "\"\"\"\n",
    "\n",
    "# Instruction using narrative, conversational tone\n",
    "narrative_structure = \"\"\"\n",
    "Imagine you're a botanist explaining photosynthesis to a curious student.\n",
    "Start with a simple definition, then walk through the process step-by-step,\n",
    "highlighting the key components involved. Conclude by emphasizing why\n",
    "photosynthesis is crucial for life on Earth. Write it concisely.\n",
    "\"\"\"\n",
    "\n",
    "# Invoke model with both prompts\n",
    "print(\"Bullet Structure Output:\")\n",
    "print(llm.invoke(bullet_structure).content)\n",
    "\n",
    "print(\"\\nNarrative Structure Output:\")\n",
    "print(llm.invoke(narrative_structure).content)"
   ]
  },
  {
   "cell_type": "markdown",
   "metadata": {
    "id": "yAIo1CUrhTLJ"
   },
   "source": [
    "This shows how different instruction formats can tailor the tone and flow of generated content. Bullet points promote structured, compact outputs; narratives encourage storytelling and natural phrasing. Choosing one depends on our downstream use case (e.g., structured responses vs. conversational agents).\n",
    "\n",
    "## Balancing specificity and generality in Instructions\n",
    "Prompts can be highly specific or more general. Specificity reduces ambiguity and increases accuracy, but generality can be useful for creative or exploratory tasks. Next, we explore how instruction specificity level changes model output. We will prompt the model to summarize a time-travel film in two ways: one specific, one general."
   ]
  },
  {
   "cell_type": "code",
   "execution_count": 5,
   "metadata": {
    "id": "HS66mFE7hS_t"
   },
   "outputs": [
    {
     "name": "stdout",
     "output_type": "stream",
     "text": [
      "Specific Instruction Output:\n",
      "In the 1985 film \"Back to the Future,\" the main character, Marty McFly, is a teenager who shares a close friendship with eccentric inventor Dr. Emmett Brown. Dr. Brown creates a time machine out of a DeLorean car, powered by plutonium and requiring a speed of 88 miles per hour to travel through time. Marty accidentally travels back to 1955, a pivotal year where he inadvertently disrupts his parents' meeting, threatening his own existence. The main conflict arises as Marty must ensure his parents fall in love to secure his future. With Dr. Brown's guidance, Marty orchestrates a series of events to bring his parents together during the Enchantment Under the Sea dance. Successfully resolving the issues, Marty returns to 1985, where he finds his life has improved due to the positive changes in his parents’ relationship.\n",
      "\n",
      "General Instruction Output:\n",
      "In the 1985 classic \"Back to the Future,\" teenager Marty McFly, played by Michael J. Fox, is accidentally sent back to 1955 using a time machine built by eccentric scientist Doc Brown, portrayed by Christopher Lloyd. Marty's mission is complicated when he inadvertently disrupts the timeline, preventing his parents, George and Lorraine, from meeting, which threatens his own existence. \n",
      "\n",
      "The time travel method involves a DeLorean car, which requires 1.21 gigawatts of power and a speed of 88 miles per hour to activate the time jump. Marty navigates the 1950s, experiencing its cultural significance while attempting to fix the timeline. \n",
      "\n",
      "The main conflict revolves around ensuring his parents fall in love. With Doc's guidance, Marty orchestrates a plan to ensure their romance blossoms at the school dance. Ultimately, he succeeds, restoring the timeline, and returns to 1985, where he finds his family has a brighter future.\n"
     ]
    }
   ],
   "source": [
    "# Specific: references exact film, characters, plot points\n",
    "specific_instruction = \"\"\"\n",
    "Describe the plot of the 1985 film 'Back to the Future', focusing on:\n",
    "1. The main character's name and his friendship with Dr. Brown\n",
    "2. The time machine and how it works\n",
    "3. The specific year the main character travels to and why it's significant\n",
    "4. The main conflict involving his parents' past\n",
    "5. How the protagonist resolves the issues and returns to his time\n",
    "Limit your response to 150 words.\n",
    "\"\"\"\n",
    "\n",
    "# General: open-ended, abstract task\n",
    "general_instruction = \"\"\"\n",
    "Describe the plot of a popular time travel movie from the 1980s. Include:\n",
    "1. The main characters and their relationships\n",
    "2. The method of time travel\n",
    "3. The time period visited and its significance\n",
    "4. The main conflict or challenge faced\n",
    "5. How the story is resolved\n",
    "Keep your response around 150 words.\n",
    "\"\"\"\n",
    "\n",
    "# Invoke model with both prompts\n",
    "print(\"Specific Instruction Output:\")\n",
    "print(llm.invoke(specific_instruction).content)\n",
    "\n",
    "print(\"\\nGeneral Instruction Output:\")\n",
    "print(llm.invoke(general_instruction).content)"
   ]
  },
  {
   "cell_type": "markdown",
   "metadata": {
    "id": "gTYB2wgwhS0h"
   },
   "source": [
    "Specific instructions produce precise, grounded responses. General ones provide creative flexibility, but can introduce ambiguity or generic details. Our choice should align with how constrained or creative our application needs to be.\n",
    "\n",
    "## Iterative refinement\n",
    "No prompt is perfect on the first try. Often, refining our prompt incrementally leads to much better results. Prompt refinement is a feedback-driven process. We start with a base instruction, evaluate the model's response, and then enhance the instruction to improve relevance, detail, or formatting.\n",
    "\n",
    "Here, we will show how an initial, vague prompt can be transformed into a much more useful and complete one through iteration.\n"
   ]
  },
  {
   "cell_type": "code",
   "execution_count": 6,
   "metadata": {
    "id": "Em8-p-z2hSo6"
   },
   "outputs": [
    {
     "name": "stdout",
     "output_type": "stream",
     "text": [
      "Initial Instruction Output:\n",
      "Making a peanut butter and jelly sandwich is a simple and classic process. Here’s how to do it step by step:\n",
      "\n",
      "### Ingredients:\n",
      "- 2 slices of bread (white, whole wheat, or your choice)\n",
      "- Peanut butter (smooth or chunky, depending on your preference)\n",
      "- Jelly or jam (flavor of your choice, such as grape, strawberry, or raspberry)\n",
      "\n",
      "### Tools:\n",
      "- A butter knife or spreader\n",
      "- A spoon (optional for jelly)\n",
      "- A plate (optional for serving)\n",
      "\n",
      "### Instructions:\n",
      "\n",
      "1. **Gather Your Ingredients and Tools**: Make sure you have all your ingredients and tools ready at your workspace.\n",
      "\n",
      "2. **Spread Peanut Butter**:\n",
      "   - Take one slice of bread and place it on the plate.\n",
      "   - Use the butter knife to scoop out a generous amount of peanut butter.\n",
      "   - Spread the peanut butter evenly over the slice of bread, covering it from edge to edge.\n",
      "\n",
      "3. **Spread Jelly**:\n",
      "   - Take the second slice of bread and place it on the plate.\n",
      "   - If you prefer, you can use a clean butter knife or a spoon to scoop out some jelly.\n",
      "   - Spread the jelly evenly over this slice of bread, again covering it from edge to edge.\n",
      "\n",
      "4. **Combine the Slices**:\n",
      "   - Carefully place the slice of bread with jelly on top of the slice with peanut butter, so that the peanut butter and jelly sides are facing each other.\n",
      "\n",
      "5. **Cut the Sandwich (Optional)**:\n",
      "   - If you prefer, you can cut the sandwich in half or into quarters for easier eating.\n",
      "\n",
      "6. **Serve**:\n",
      "   - Your peanut butter and jelly sandwich is now ready to eat! You can enjoy it as is or pair it with a glass of milk or a piece of fruit.\n",
      "\n",
      "### Tips:\n",
      "- If you want to add some extra flavor or texture, consider adding banana slices or honey.\n",
      "- Make sure to close the jars of peanut butter and jelly tightly after use to keep them fresh.\n",
      "- Clean up your workspace once you're done!\n",
      "\n",
      "Enjoy your delicious peanut butter and jelly sandwich!\n",
      "\n",
      "Refined Instruction Output:\n",
      "Here's a step-by-step guide on how to make a delicious peanut butter and jelly sandwich, incorporating your requested improvements:\n",
      "\n",
      "### How to Make a Peanut Butter and Jelly Sandwich\n",
      "\n",
      "1. **Wash Your Hands**: Before you begin, thoroughly wash your hands with soap and water for at least 20 seconds to ensure cleanliness and avoid any contamination.\n",
      "\n",
      "2. **Gather Your Ingredients**:\n",
      "   - **Bread**: Use two slices of whole wheat bread for a nutritious option.\n",
      "   - **Peanut Butter**: Choose creamy or crunchy natural peanut butter, which contains minimal added sugars and preservatives.\n",
      "   - **Jelly**: Opt for grape jelly or strawberry jam, depending on your preference.\n",
      "\n",
      "3. **Prepare Your Workspace**: Clear a clean, flat surface (like a kitchen counter or cutting board) to work on, and gather your tools: a butter knife, a spoon (if needed), and a plate.\n",
      "\n",
      "4. **Spread the Peanut Butter**: Take one slice of whole wheat bread and use the butter knife to spread a generous layer of peanut butter evenly across the surface, covering it from edge to edge.\n",
      "\n",
      "5. **Spread the Jelly**: Take the second slice of bread and use the knife (or a clean spoon) to spread a layer of grape jelly or strawberry jam evenly across the surface of the slice.\n",
      "\n",
      "6. **Combine the Slices**: Carefully place the slice with the jelly on top of the slice with the peanut butter, jelly side facing the peanut butter, to form a sandwich.\n",
      "\n",
      "7. **Cut the Sandwich (Optional)**: If desired, use the knife to cut the sandwich in half or into quarters for easier handling.\n",
      "\n",
      "8. **Address Allergies**: Before serving, be mindful of peanut allergies. If you or someone you’re making the sandwich for has a peanut allergy, consider using a nut-free alternative like sunflower seed butter or soy nut butter instead.\n",
      "\n",
      "9. **Store the Sandwich**: If you’re not eating the sandwich immediately, wrap it in plastic wrap or place it in an airtight container to keep it fresh. Store it in the refrigerator if you want to keep it for more than a few hours.\n",
      "\n",
      "Enjoy your delicious and carefully prepared peanut butter and jelly sandwich!\n"
     ]
    }
   ],
   "source": [
    "# First draft: simple instruction\n",
    "initial_instruction = \"Explain how to make a peanut butter and jelly sandwich.\"\n",
    "\n",
    "# Get model output\n",
    "print(\"Initial Instruction Output:\")\n",
    "initial_output = llm.invoke(initial_instruction).content\n",
    "print(initial_output)\n",
    "\n",
    "# Improved version: more detailed, clear, and safety-conscious\n",
    "refined_instruction = \"\"\"\n",
    "Explain how to make a peanut butter and jelly sandwich, with the following improvements:\n",
    "1. Specify the type of bread, peanut butter, and jelly to use\n",
    "2. Include a step about washing hands before starting\n",
    "3. Mention how to deal with potential allergies\n",
    "4. Add a tip for storing the sandwich if not eaten immediately\n",
    "Present the instructions in a numbered list format.\n",
    "\"\"\"\n",
    "\n",
    "print(\"\\nRefined Instruction Output:\")\n",
    "refined_output = llm.invoke(refined_instruction).content\n",
    "print(refined_output)"
   ]
  },
  {
   "cell_type": "markdown",
   "metadata": {
    "id": "YNhvLIqThSdi"
   },
   "source": [
    "This illustrates the power of prompt iteration. Small refinements like adding safety steps, specifying formats (lists), or asking for real-world advice (e.g., storage tips) can greatly improve the usefulness and clarity of generated outputs.\n",
    "\n",
    "## Practical application\n",
    "Now we combine everything we have learned — clarity, format, specificity, structure, and iteration — into a prompt for a more complex and realistic task. We will build a well-scoped prompt for creating an educational resource — writing a brief personal finance lesson plan."
   ]
  },
  {
   "cell_type": "code",
   "execution_count": 7,
   "metadata": {
    "id": "TtKQxplIhSSZ"
   },
   "outputs": [
    {
     "name": "stdout",
     "output_type": "stream",
     "text": [
      "Final Instruction Output:\n",
      "### Lesson Plan: Introduction to Basic Personal Finance for High School Students\n",
      "\n",
      "#### Introduction\n",
      "Understanding personal finance is crucial for making informed decisions about money. It empowers you to manage your expenses, save for future goals, and build a secure financial future. Learning these skills now will help you avoid common financial pitfalls later in life.\n",
      "\n",
      "#### Key Topics\n",
      "\n",
      "1. **Budgeting**\n",
      "   - **Explanation**: Budgeting is the process of creating a plan to spend your money. It helps you allocate funds for essentials, savings, and discretionary spending.\n",
      "   - **Activity**: Have students create a simple budget using a template that includes categories like income, expenses, and savings goals. They can personalize it based on hypothetical or real income sources.\n",
      "\n",
      "2. **Saving**\n",
      "   - **Explanation**: Saving involves setting aside money for future needs or emergencies. It's important to save regularly, even small amounts, to build a financial cushion.\n",
      "   - **Activity**: Challenge students to set a savings goal for a specific item they want (e.g., a new phone) and calculate how much they need to save each month to reach that goal in a set timeframe.\n",
      "\n",
      "3. **Understanding Credit**\n",
      "   - **Explanation**: Credit refers to borrowing money with the agreement to pay it back later, often with interest. Understanding how credit works, including scores and reports, is essential for making large purchases like cars or homes.\n",
      "   - **Activity**: Have students research their \"credit score\" and discuss factors that affect it. Create a scenario where they must decide whether to take a loan and what the consequences might be.\n",
      "\n",
      "4. **Smart Spending**\n",
      "   - **Explanation**: Smart spending means making informed choices about purchases to ensure you're getting value for your money. It emphasizes comparison shopping and understanding needs vs. wants.\n",
      "   - **Activity**: Organize a mock shopping day where students compare prices for the same item at different stores or online, discussing which option provides the best value.\n",
      "\n",
      "#### Conclusion\n",
      "By learning these basic personal finance skills—budgeting, saving, understanding credit, and smart spending—students can build a strong foundation for their financial future. For further learning, consider resources like **Khan Academy’s Personal Finance course** or **MyMoney.gov** for interactive tools and additional information.\n"
     ]
    }
   ],
   "source": [
    "final_instruction = \"\"\"\n",
    "Task: Create a brief lesson plan for teaching basic personal finance to high school students.\n",
    "\n",
    "Instructions:\n",
    "1. Start with a concise introduction explaining the importance of personal finance.\n",
    "2. List 3-5 key topics to cover (e.g., budgeting, saving, understanding credit).\n",
    "3. For each topic:\n",
    "   a) Provide a brief explanation suitable for teenagers.\n",
    "   b) Suggest one practical activity or exercise to reinforce the concept.\n",
    "4. Conclude with a summary and a suggestion for further learning resources.\n",
    "\n",
    "Format your response as a structured outline. Aim for clarity and engagement,\n",
    "balancing specific examples with general principles that can apply to various\n",
    "financial situations. Keep the entire lesson plan to approximately 300 words.\n",
    "\"\"\"\n",
    "\n",
    "print(\"Final Instruction Output:\")\n",
    "print(llm.invoke(final_instruction).content)"
   ]
  },
  {
   "cell_type": "markdown",
   "metadata": {
    "id": "7Dv9_V8yhSGL"
   },
   "source": [
    "This instruction blends clarity, structure, and balance. It's detailed enough to guide the model, yet general enough for creative flexibility. The formatting and length constraints help control output quality and consistency."
   ]
  }
 ],
 "metadata": {
  "colab": {
   "provenance": []
  },
  "kernelspec": {
   "display_name": "Python 3 (ipykernel)",
   "language": "python",
   "name": "python3"
  },
  "language_info": {
   "codemirror_mode": {
    "name": "ipython",
    "version": 3
   },
   "file_extension": ".py",
   "mimetype": "text/x-python",
   "name": "python",
   "nbconvert_exporter": "python",
   "pygments_lexer": "ipython3",
   "version": "3.8.19"
  }
 },
 "nbformat": 4,
 "nbformat_minor": 4
}
