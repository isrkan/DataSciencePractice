{
 "cells": [
  {
   "cell_type": "markdown",
   "metadata": {
    "id": "SzkKSX14LEtS"
   },
   "source": [
    "# Ethical considerations in prompt engineering\n",
    "\n",
    "As language models become increasingly central to decision-making systems, content generation, and user-facing applications, it's essential that they behave in ways that are not only intelligent but responsible. One critical area in this regard is prompt engineering — the way we phrase our instructions can significantly influence model behavior, and sometimes unintentionally perpetuate harmful biases. The prompts we write shape the responses we get, and careless phrasing can introduce bias, exclude groups, or propagate stereotypes.\n",
    "\n",
    "This notebook walks through how to detect and mitigate those risks by designing more inclusive, balanced, and fair prompts. We will also introduce simple evaluation techniques to audit model outputs and reflect on their fairness."
   ]
  },
  {
   "cell_type": "code",
   "execution_count": 1,
   "metadata": {
    "id": "s4RcwVXPLDrz"
   },
   "outputs": [],
   "source": [
    "import os\n",
    "from langchain_openai import ChatOpenAI\n",
    "from langchain.prompts import PromptTemplate\n",
    "from dotenv import load_dotenv\n",
    "\n",
    "# Load environment variables\n",
    "load_dotenv()\n",
    "\n",
    "# Set up OpenAI API key\n",
    "os.environ[\"OPENAI_API_KEY\"] = os.getenv('OPENAI_API_KEY')"
   ]
  },
  {
   "cell_type": "markdown",
   "metadata": {
    "id": "HBBiY1anLPMZ"
   },
   "source": [
    "### Initialize the language model\n",
    "We instantiate a lightweight GPT model from OpenAI using LangChain."
   ]
  },
  {
   "cell_type": "code",
   "execution_count": 2,
   "metadata": {
    "id": "CHwXGxEKLPAC"
   },
   "outputs": [],
   "source": [
    "# Initialize the language model\n",
    "llm = ChatOpenAI(model=\"gpt-4o-mini-2024-07-18\")"
   ]
  },
  {
   "cell_type": "markdown",
   "metadata": {
    "id": "_NL_rPLKLOzn"
   },
   "source": [
    "## Understanding biases in AI\n",
    "Before we can fix bias, we need to see how it shows up. Let's start by examining how biases can manifest in AI responses. We will use a potentially biased prompt and analyze the output."
   ]
  },
  {
   "cell_type": "code",
   "execution_count": 3,
   "metadata": {
    "id": "gxUK1M2ELOmZ"
   },
   "outputs": [
    {
     "name": "stdout",
     "output_type": "stream",
     "text": [
      "Potentially biased response:\n",
      "A typical programmer can be characterized by a mix of technical skills, problem-solving abilities, and personal traits. While there is no one-size-fits-all description, here are some common attributes and behaviors associated with programmers:\n",
      "\n",
      "1. **Technical Skills**: \n",
      "   - Proficient in one or more programming languages (e.g., Python, Java, C++, JavaScript).\n",
      "   - Familiar with software development frameworks and tools (e.g., Git, Docker, IDEs).\n",
      "   - Knowledge of algorithms, data structures, and design patterns.\n",
      "\n",
      "2. **Problem-Solving Mindset**: \n",
      "   - Enjoys tackling complex challenges and breaking them down into manageable parts.\n",
      "   - Often employs logical and analytical thinking to debug and optimize code.\n",
      "\n",
      "3. **Attention to Detail**: \n",
      "   - Pays close attention to syntax, semantics, and the overall structure of code.\n",
      "   - Often reviews and tests code thoroughly to ensure functionality and performance.\n",
      "\n",
      "4. **Continuous Learner**: \n",
      "   - Keeps up with the latest technologies, programming languages, and industry trends.\n",
      "   - Engages in ongoing education through online courses, tutorials, and coding challenges.\n",
      "\n",
      "5. **Collaboration and Communication**: \n",
      "   - Works well in teams, often participating in code reviews and pair programming.\n",
      "   - Communicates effectively with both technical and non-technical stakeholders.\n",
      "\n",
      "6. **Creativity and Innovation**: \n",
      "   - Applies creative thinking to develop new solutions or improve existing systems.\n",
      "   - Enjoys experimenting with new ideas and technologies.\n",
      "\n",
      "7. **Work Environment**: \n",
      "   - Typically works in an office, remote, or hybrid setting, often with flexible hours.\n",
      "   - May spend significant time in front of a computer screen, focusing on writing and testing code.\n",
      "\n",
      "8. **Passion for Technology**: \n",
      "   - Often has a strong interest in technology and may engage in personal projects or open-source contributions.\n",
      "   - Enjoys discussing tech-related topics, attending meetups, or participating in hackathons.\n",
      "\n",
      "9. **Diverse Backgrounds**: \n",
      "   - Programmers come from various educational and professional backgrounds, including computer science degrees, bootcamps, or self-taught paths.\n",
      "\n",
      "10. **Work-Life Balance**: \n",
      "    - Many programmers value a healthy work-life balance, often enjoying hobbies outside of coding, such as gaming, music, or sports.\n",
      "\n",
      "Overall, a typical programmer embodies a combination of analytical skills, creativity, and a passion for technology, making them vital contributors to the development of software and digital solutions.\n"
     ]
    }
   ],
   "source": [
    "# A generic prompt that may lead to stereotypical assumptions\n",
    "biased_prompt = \"Describe a typical programmer.\"\n",
    "\n",
    "# Call the model with the biased prompt\n",
    "biased_response = llm.invoke(biased_prompt).content\n",
    "\n",
    "print(\"Potentially biased response:\")\n",
    "print(biased_response)"
   ]
  },
  {
   "cell_type": "markdown",
   "metadata": {
    "id": "R7HSH2P0LOaU"
   },
   "source": [
    "This code sends a prompt with loaded wording—“typical programmer”—which might trigger stereotypical responses. The purpose is to illustrate how implicit bias can surface from vague language.\n",
    "\n",
    "## Identifying and mitigating biases\n",
    "Let’s now rewrite the earlier prompt to be explicitly inclusive, and examine the new model output."
   ]
  },
  {
   "cell_type": "code",
   "execution_count": 4,
   "metadata": {
    "id": "iD3C5QkQLOMw"
   },
   "outputs": [
    {
     "name": "stdout",
     "output_type": "stream",
     "text": [
      "More inclusive response:\n",
      "The world of computer programming is incredibly diverse, encompassing individuals from a wide range of backgrounds, experiences, and characteristics. Here are some key aspects that highlight this diversity:\n",
      "\n",
      "1. **Educational Backgrounds**:\n",
      "   - **Formal Education**: Many programmers hold degrees in computer science, software engineering, or related fields. These individuals often have a solid theoretical foundation in algorithms, data structures, and software design.\n",
      "   - **Self-Taught**: There are numerous successful programmers who are self-taught, learning through online courses, coding bootcamps, or personal projects. This group often brings unique perspectives and innovative problem-solving skills.\n",
      "   - **Non-Traditional Paths**: Some programmers come from completely different fields, such as the arts, humanities, or sciences, leveraging their previous experiences to approach programming challenges creatively.\n",
      "\n",
      "2. **Cultural Diversity**:\n",
      "   - Programmers hail from various countries, cultures, and ethnic backgrounds. This cultural diversity enriches the tech community, offering a multitude of viewpoints, languages, and problem-solving approaches.\n",
      "   - Many programming communities actively promote inclusivity and representation, encouraging women, LGBTQ+ individuals, and underrepresented minorities to pursue careers in technology.\n",
      "\n",
      "3. **Experience Levels**:\n",
      "   - The field includes seasoned professionals with decades of experience, as well as newcomers just starting their careers. Each group contributes differently: veterans bring mentorship and deep industry knowledge, while novices often bring fresh ideas and perspectives.\n",
      "   - Programmers also vary in their experience with different technologies, ranging from specialists in a specific programming language or framework to generalists proficient in multiple languages.\n",
      "\n",
      "4. **Work Environments**:\n",
      "   - Programmers work in a variety of settings, from large corporations and startups to non-profits and government agencies. Some are remote workers, while others thrive in an office environment, showing adaptability to different work cultures and dynamics.\n",
      "   - Freelancers and contractors represent another segment, enjoying the flexibility of choosing their projects and clients, while also facing unique challenges related to job stability and client management.\n",
      "\n",
      "5. **Personal Characteristics**:\n",
      "   - Programmers often exhibit a range of personal traits, such as analytical thinking, creativity, and perseverance. Problem-solving skills are paramount, but so are communication and teamwork abilities, particularly in collaborative projects.\n",
      "   - Many programmers are passionate about technology and continuously seek to learn and adapt to new trends, showcasing a growth mindset that drives innovation.\n",
      "\n",
      "6. **Interests and Hobbies**:\n",
      "   - Outside of programming, individuals may have diverse interests, including gaming, music, art, writing, and outdoor activities. These hobbies can influence their programming style and approach to projects, fostering creativity and innovation.\n",
      "   - Participation in open-source projects, hackathons, and tech meetups allows programmers to network, share knowledge, and collaborate, further broadening their horizons and experiences.\n",
      "\n",
      "7. **Impact of Trends**:\n",
      "   - The rise of technologies such as artificial intelligence, blockchain, and web development frameworks has attracted a new generation of programmers with varied interests and expertise, shaping the future landscape of the industry.\n",
      "\n",
      "In summary, the community of computer programmers is marked by its rich diversity, with individuals coming together from different educational backgrounds, cultures, experiences, and personal characteristics. This variety not only enhances the creativity and innovation within the field but also fosters a more inclusive and collaborative environment.\n"
     ]
    }
   ],
   "source": [
    "# Use a more inclusive prompt to avoid stereotypical assumptions\n",
    "inclusive_prompt = PromptTemplate(\n",
    "    input_variables=[\"profession\"],\n",
    "    template=\"Describe the diverse range of individuals who work as {profession}, emphasizing the variety in their backgrounds, experiences, and characteristics.\"\n",
    ")\n",
    "\n",
    "# Format and invoke the new prompt\n",
    "inclusive_response = (inclusive_prompt | llm).invoke({\"profession\": \"computer programmers\"}).content\n",
    "print(\"More inclusive response:\")\n",
    "print(inclusive_response)"
   ]
  },
  {
   "cell_type": "markdown",
   "metadata": {
    "id": "7GvNS5gaLN_u"
   },
   "source": [
    "By reframing the prompt to explicitly ask for diversity, the model is guided to generate a more balanced response that reflects reality rather than stereotypes.\n",
    "\n",
    "## Creating inclusive prompts across topics\n",
    "We generalize the technique by writing a helper function to create inclusive prompts for any subject. We will apply it to a few topics prone to cultural or normative bias."
   ]
  },
  {
   "cell_type": "code",
   "execution_count": 5,
   "metadata": {
    "id": "PWVwFQCqLNps"
   },
   "outputs": [
    {
     "name": "stdout",
     "output_type": "stream",
     "text": [
      "Inclusive perspective on leadership:\n",
      "Leadership is a multifaceted concept that transcends traditional notions of authority and hierarchy. It is shaped by a variety of factors including cultural backgrounds, personal experiences, and societal contexts. To effectively engage with diverse perspectives on leadership, it is essential to recognize and appreciate the myriad ways in which leadership is understood and practiced across different cultures and communities.\n",
      "\n",
      "### 1. **Cultural Contexts of Leadership**\n",
      "\n",
      "Different cultures have distinct values and beliefs that influence their approach to leadership. For instance:\n",
      "\n",
      "- **Collectivist Cultures**: In many Asian cultures, such as Japan and China, leadership often emphasizes harmony, group cohesion, and consensus-building. Leaders may be seen as facilitators rather than authoritative figures, focusing on the collective rather than individual recognition.\n",
      "\n",
      "- **Individualistic Cultures**: In contrast, Western cultures, particularly in the United States and parts of Europe, often celebrate charismatic and visionary leaders who inspire followers through personal achievement and individualism. Here, leadership is frequently associated with assertiveness and personal branding.\n",
      "\n",
      "### 2. **Diverse Experiences and Perspectives**\n",
      "\n",
      "Leadership is also influenced by personal experiences and social identities, including gender, race, socioeconomic status, and more. Acknowledging these differences is vital:\n",
      "\n",
      "- **Gender and Leadership**: Women in leadership roles often face unique challenges, such as gender bias and societal expectations. Research shows that female leaders may adopt collaborative and empathetic leadership styles, which can lead to effective team dynamics but may also be undervalued in male-dominated environments.\n",
      "\n",
      "- **Racial and Ethnic Diversity**: Leaders from diverse racial and ethnic backgrounds bring unique perspectives shaped by their experiences. These leaders may prioritize inclusivity and equity in their leadership practices, advocating for marginalized voices and challenging systemic inequalities.\n",
      "\n",
      "- **Generational Perspectives**: Different generations (e.g., Baby Boomers, Generation X, Millennials, and Gen Z) bring diverse expectations and values to leadership. For example, younger generations may prioritize social responsibility and sustainability, influencing their expectations of leaders to be more accountable and ethically driven.\n",
      "\n",
      "### 3. **Inclusive Leadership Practices**\n",
      "\n",
      "To foster an inclusive leadership environment, it is crucial to adopt practices that recognize and value diversity:\n",
      "\n",
      "- **Active Listening and Empathy**: Inclusive leaders practice active listening, allowing team members from various backgrounds to share their viewpoints. This fosters an environment where individuals feel valued and heard.\n",
      "\n",
      "- **Mentorship and Development**: Diverse leadership also requires intentional mentorship and development programs that support underrepresented groups in gaining leadership skills and opportunities.\n",
      "\n",
      "- **Adaptability and Flexibility**: Effective leaders demonstrate adaptability, recognizing that different situations and team dynamics may require different leadership styles. This flexibility can enhance team performance and morale.\n",
      "\n",
      "### 4. **Collaboration Across Differences**\n",
      "\n",
      "Leadership in a globalized world often involves collaboration across cultural boundaries. Understanding and valuing different leadership approaches can lead to innovative solutions and richer organizational cultures:\n",
      "\n",
      "- **Cross-Cultural Leadership**: Leaders who are culturally competent can navigate diverse environments, leveraging the strengths of various cultural perspectives to drive collaboration and creativity.\n",
      "\n",
      "- **Shared Leadership Models**: Embracing shared or distributed leadership models can empower team members at all levels to take ownership and contribute to decision-making, fostering a sense of shared responsibility and community.\n",
      "\n",
      "### Conclusion\n",
      "\n",
      "A balanced and inclusive perspective on leadership acknowledges that there is no one-size-fits-all approach. It is a dynamic interplay of cultural contexts, personal experiences, and diverse viewpoints. By embracing this complexity and viewing leadership as a shared journey rather than a solitary path, organizations and communities can cultivate environments where all voices are valued, leading to more effective and innovative outcomes. Ultimately, inclusive leadership not only enhances organizational performance but also contributes to a more equitable and just society.\n",
      "\n",
      "--------------------------------------------------\n",
      "\n",
      "Inclusive perspective on family structures:\n",
      "Family structures are diverse and multifaceted, reflecting a wide array of cultural, social, and personal influences. Understanding these variations is essential for fostering inclusivity and respect for all types of families. Here are some perspectives to consider:\n",
      "\n",
      "### Traditional Family Structures\n",
      "Historically, the nuclear family—typically consisting of two parents and their biological children—has been viewed as the standard family unit in many cultures. This structure often emphasizes stability, shared responsibilities, and a clear division of roles. However, it's crucial to recognize that this model is not universal and that many families thrive in different configurations.\n",
      "\n",
      "### Extended Families\n",
      "In many cultures, extended families, which include relatives such as grandparents, aunts, uncles, and cousins living together or maintaining close relationships, play a significant role. This structure can provide a robust support network, offering emotional, financial, and caregiving assistance. In some cultures, this model is preferred for its communal approach to raising children and sharing resources.\n",
      "\n",
      "### Single-Parent Families\n",
      "Single-parent families, whether resulting from divorce, separation, or choice, are increasingly common. Single parents often face unique challenges but can also foster deep connections with their children. Their experiences highlight the importance of resilience, adaptability, and the ability to create fulfilling family lives despite societal stigmas.\n",
      "\n",
      "### Blended Families\n",
      "Blended families, formed when one or both partners have children from previous relationships, represent another evolving family structure. These families navigate complexities such as differing parenting styles and family dynamics. They can exemplify the importance of communication, compromise, and the ability to create new traditions and bonds.\n",
      "\n",
      "### LGBTQ+ Families\n",
      "Families formed by LGBTQ+ individuals and couples, including same-sex parents and chosen families (friends who create a familial bond), challenge traditional notions of family. These families often emphasize love, support, and acceptance, providing rich environments for raising children. Adoption and surrogacy have also become common pathways for LGBTQ+ individuals to become parents.\n",
      "\n",
      "### Cultural Perspectives\n",
      "Different cultures have unique understandings of family. For example, in some Indigenous communities, family may extend beyond biological ties to include spiritual kinship and communal relationships. In many collectivist cultures, the family unit is interwoven with community, emphasizing interdependence over individuality.\n",
      "\n",
      "### Intersectionality\n",
      "It's essential to consider how factors such as race, class, disability, and immigration status intersect with family structures. For instance, families of color may face systemic barriers that impact their experiences and definitions of family. Recognizing these intersections allows for a deeper understanding of the challenges and strengths present within various family dynamics.\n",
      "\n",
      "### Challenges and Support\n",
      "All family structures face challenges, whether they stem from societal stigma, economic hardships, or legal barriers. Support systems—such as community organizations, social services, and policy advocacy—are crucial for helping families thrive, regardless of their structure. Promoting inclusivity involves recognizing the legitimacy of all family forms and advocating for equitable resources and opportunities.\n",
      "\n",
      "### Conclusion\n",
      "A balanced and inclusive perspective on family structures recognizes that there is no one-size-fits-all definition of family. Each structure is shaped by individual experiences, cultural backgrounds, and societal contexts. By celebrating this diversity and advocating for support systems that honor all families, we can create a more inclusive society where every family has the opportunity to flourish.\n",
      "\n",
      "--------------------------------------------------\n",
      "\n",
      "Inclusive perspective on beauty standards:\n",
      "Beauty standards are intricate and multifaceted, shaped by a variety of cultural, social, and personal factors. They vary widely across different societies and communities, reflecting local customs, historical influences, and changing societal norms. A balanced and inclusive perspective on beauty standards considers diverse viewpoints and experiences, highlighting both the positive and negative implications of these standards.\n",
      "\n",
      "### Cultural Contexts\n",
      "\n",
      "1. **Global Diversity**: Beauty is perceived differently across cultures. For instance, in some African cultures, fuller body types are celebrated as symbols of wealth and fertility, while in Western societies, leaner body types have historically been idealized. In Asian cultures, fair skin has often been associated with beauty and higher social status, whereas in other regions, tanned skin may be preferred. Recognizing this diversity helps us appreciate that beauty standards are not universal but culturally relative.\n",
      "\n",
      "2. **Historical Influences**: Beauty standards have evolved over time due to historical events, economic conditions, and social movements. For example, the Renaissance celebrated more voluptuous figures, while the 20th century saw a shift towards slimmer ideals. Understanding this historical context allows us to see beauty as a dynamic concept rather than a fixed one.\n",
      "\n",
      "### Social Implications\n",
      "\n",
      "1. **Media Representation**: The media plays a crucial role in shaping beauty standards. Historically, mainstream media has often perpetuated narrow definitions of beauty, predominantly featuring white, thin, and young individuals. However, there has been a growing movement advocating for more inclusive representation, celebrating diversity in body shapes, sizes, ages, and ethnicities. This shift helps challenge stereotypes and empowers individuals to embrace their unique beauty.\n",
      "\n",
      "2. **Psychological Impact**: Beauty standards can have significant psychological effects. On one hand, they can inspire individuals to take pride in their appearance and express themselves creatively. On the other hand, unrealistic beauty ideals can lead to body dissatisfaction, low self-esteem, and mental health issues. It is essential to foster a culture that promotes self-acceptance and recognizes beauty in all forms.\n",
      "\n",
      "### Personal Experiences\n",
      "\n",
      "1. **Individual Perspectives**: People's experiences with beauty standards are deeply personal and can vary greatly. Some may feel empowered by current trends, while others may feel marginalized or pressured to conform. Listening to and amplifying diverse voices allows for a more nuanced understanding of how beauty standards affect different individuals.\n",
      "\n",
      "2. **Intersectionality**: Factors such as race, gender, sexuality, and socioeconomic status intersect to shape one’s experience of beauty. For example, women of color may face unique challenges in navigating beauty standards that do not reflect their cultural backgrounds. An inclusive perspective acknowledges these intersections and advocates for beauty standards that celebrate and honor all identities.\n",
      "\n",
      "### Moving Forward\n",
      "\n",
      "1. **Promoting Inclusivity**: The movement towards inclusivity in beauty standards is gaining momentum. Brands and organizations are increasingly recognizing the importance of representing diverse bodies and identities in their campaigns. This shift not only reflects societal changes but also encourages individuals to embrace their authentic selves.\n",
      "\n",
      "2. **Education and Awareness**: Educating individuals about the fluidity of beauty standards and the impact of media representation can foster critical thinking and self-acceptance. By encouraging dialogue about beauty and its cultural significance, we can create a more inclusive environment that values diversity.\n",
      "\n",
      "In conclusion, beauty standards are complex and deeply rooted in cultural, social, and personal contexts. A balanced perspective acknowledges the diversity of experiences and the impact of these standards on individuals. As society continues to evolve, fostering inclusivity and celebrating diverse definitions of beauty can lead to a more accepting and empowering world for all.\n",
      "\n",
      "--------------------------------------------------\n",
      "\n"
     ]
    }
   ],
   "source": [
    "# Function to generate an inclusive prompt for any given topic\n",
    "def create_inclusive_prompt(topic):\n",
    "    \"\"\"Creates an inclusive prompt template for a given topic.\"\"\"\n",
    "    return PromptTemplate(\n",
    "        input_variables=[\"topic\"],\n",
    "        template=\"Provide a balanced and inclusive perspective on {topic}, considering diverse viewpoints, experiences, and cultural contexts.\"\n",
    "    )\n",
    "\n",
    "# Test across different social and cultural themes\n",
    "topics = [\"leadership\", \"family structures\", \"beauty standards\"]\n",
    "\n",
    "for topic in topics:\n",
    "    prompt = create_inclusive_prompt(topic)\n",
    "    response = (prompt | llm).invoke({\"topic\": topic}).content\n",
    "    print(f\"Inclusive perspective on {topic}:\")\n",
    "    print(response)\n",
    "    print(\"\\n\" + \"-\"*50 + \"\\n\")"
   ]
  },
  {
   "cell_type": "markdown",
   "metadata": {
    "id": "ftWtpCAZLnfy"
   },
   "source": [
    "This demonstrates how prompt design can nudge the model to acknowledge complexity and diversity, which is especially critical for topics related to human behavior, culture, or identity.\n",
    "\n",
    "## Evaluating fairness in AI outputs\n",
    "After generating model outputs, it’s useful to critically assess them. Let's implement a simple method to evaluate the fairness of AI-generated outputs."
   ]
  },
  {
   "cell_type": "code",
   "execution_count": 6,
   "metadata": {
    "id": "QnsnGNcZLNS5"
   },
   "outputs": [
    {
     "name": "stdout",
     "output_type": "stream",
     "text": [
      "Fairness Evaluation:\n",
      "The provided text describes characteristics of strong leaders in the corporate world, emphasizing decisiveness and the ability to command respect. Here’s an evaluation of its fairness and inclusivity:\n",
      "\n",
      "1. **Language and Gender Neutrality**: The text uses \"their\" as a singular pronoun, which is gender-neutral and inclusive. However, the term \"strong leaders\" might imply a traditional view of leadership that skews towards masculine traits, as \"decisiveness\" and \"commanding respect\" can be associated with stereotypical masculine qualities.\n",
      "\n",
      "2. **Diversity of Leadership Styles**: The text does not recognize that effective leadership can manifest in various styles beyond decisiveness and commanding respect. For example, attributes like empathy, collaboration, and inclusivity are increasingly recognized as vital in modern leadership but are not mentioned here.\n",
      "\n",
      "3. **Exclusion of Non-Traditional Leaders**: The statement does not acknowledge leaders from diverse backgrounds, such as those from different cultural, gender, or socioeconomic backgrounds. It may inadvertently reinforce a narrow view of what constitutes a successful leader in the corporate context.\n",
      "\n",
      "4. **Implicit Biases**: The phrasing might suggest that only a specific type of leadership is valued in the corporate world, potentially alienating those who lead differently or who may be seen as less traditional.\n",
      "\n",
      "### Fairness Score: 5/10\n",
      "While the text is straightforward and uses gender-neutral language, it lacks inclusivity in recognizing diverse leadership styles and backgrounds, which lowers its fairness score. A more inclusive approach would highlight a range of leadership qualities and recognize the value of different perspectives in leadership.\n"
     ]
    }
   ],
   "source": [
    "# Function to evaluate fairness and inclusivity in text\n",
    "def evaluate_fairness(text):\n",
    "    \"\"\"Evaluates the fairness of a given text.\"\"\"\n",
    "    evaluation_prompt = PromptTemplate(\n",
    "        input_variables=[\"text\"],\n",
    "        template=\"Evaluate the following text for fairness and inclusivity. Identify any potential biases or exclusionary language. Provide a fairness score from 1 to 10, where 10 is most fair and inclusive:\\n\\nText: {text}\\n\\nEvaluation:\"\n",
    "    )\n",
    "    return (evaluation_prompt | llm).invoke({\"text\": text}).content\n",
    "\n",
    "# Example text to evaluate\n",
    "sample_text = \"In the corporate world, strong leaders are often characterized by their decisiveness and ability to command respect.\"\n",
    "fairness_evaluation = evaluate_fairness(sample_text)\n",
    "\n",
    "print(\"Fairness Evaluation:\")\n",
    "print(fairness_evaluation)"
   ]
  },
  {
   "cell_type": "markdown",
   "metadata": {
    "id": "NtWdjbRoLNG8"
   },
   "source": [
    "The model is prompted to score and explain fairness. While not a substitute for human audit, this approach is helpful for rapid iteration or building fairness-checking pipelines.\n",
    "\n",
    "\n",
    "## Practical exercise\n",
    "Let’s apply our learnings to improve a biased prompt and compare the model’s behavior before and after the change."
   ]
  },
  {
   "cell_type": "code",
   "execution_count": 7,
   "metadata": {
    "id": "UJOfjRKuLycH"
   },
   "outputs": [
    {
     "name": "stdout",
     "output_type": "stream",
     "text": [
      "Original prompt:\n",
      "Describe the ideal candidate for a high-stress executive position.\n",
      "\n",
      "Original response:\n",
      "The ideal candidate for a high-stress executive position possesses a unique combination of skills, traits, and experiences that enable them to thrive in demanding environments. Here are the key characteristics:\n",
      "\n",
      "1. **Resilience**: The ability to bounce back from setbacks, manage stress effectively, and maintain composure under pressure is crucial. Resilient leaders can navigate challenges without losing focus or motivation.\n",
      "\n",
      "2. **Strong Decision-Making Skills**: The candidate should be adept at making informed, timely decisions, often with limited information. They must weigh risks and benefits quickly and confidently.\n",
      "\n",
      "3. **Emotional Intelligence**: High emotional intelligence allows the candidate to understand and manage their own emotions, as well as empathize with others. This skill is vital for maintaining team morale and fostering a positive work environment.\n",
      "\n",
      "4. **Excellent Communication Skills**: The ability to articulate ideas clearly, listen actively, and convey messages effectively to diverse stakeholders is essential. Strong communication fosters collaboration and mitigates misunderstandings.\n",
      "\n",
      "5. **Strategic Thinking**: An ideal candidate should have the foresight to anticipate challenges and opportunities, enabling them to develop long-term strategies while remaining flexible to adapt to changing circumstances.\n",
      "\n",
      "6. **Leadership and Team Management**: Experience in leading teams, inspiring others, and delegating tasks effectively is crucial. The candidate should be able to build trust and respect among their team members, even in high-pressure situations.\n",
      "\n",
      "7. **Problem-Solving Ability**: A strong analytical mindset and creativity in finding solutions are important for overcoming obstacles and addressing unforeseen issues promptly.\n",
      "\n",
      "8. **Time Management and Prioritization**: The ability to prioritize tasks effectively and manage time efficiently is critical in high-stress environments where competing demands are common.\n",
      "\n",
      "9. **Integrity and Ethical Judgment**: A commitment to ethical decision-making and integrity is essential for building trust and credibility within the organization and with external stakeholders.\n",
      "\n",
      "10. **Industry Knowledge and Experience**: The candidate should have relevant experience and a deep understanding of the industry, including market trends, challenges, and competitive dynamics.\n",
      "\n",
      "11. **Adaptability**: Flexibility in adapting to new situations, technologies, and organizational changes is important in a rapidly evolving business landscape.\n",
      "\n",
      "12. **Visionary Mindset**: The ability to set a clear vision for the future and inspire others to work towards that vision is essential for driving organizational success.\n",
      "\n",
      "Overall, the ideal candidate combines emotional resilience, strategic acumen, and strong interpersonal skills, all while maintaining a clear focus on the organization’s goals and values.\n",
      "\n",
      "Improved prompt:\n",
      "Describe a range of qualities and skills that could make someone successful in a high-stress executive position, considering diverse backgrounds, experiences, and leadership styles. Emphasize the importance of work-life balance and mental health.\n",
      "\n",
      "Improved response:\n",
      "Success in a high-stress executive position requires a unique blend of qualities and skills that can be influenced by diverse backgrounds, experiences, and leadership styles. Here are some key attributes that can contribute to effectiveness in such roles, along with an emphasis on work-life balance and mental health:\n",
      "\n",
      "### Key Qualities and Skills\n",
      "\n",
      "1. **Emotional Intelligence (EQ)**: \n",
      "   - The ability to understand and manage one’s own emotions, as well as empathize with others, is crucial. Executives with high EQ can navigate complex interpersonal dynamics and foster strong relationships, which is essential in high-pressure environments.\n",
      "\n",
      "2. **Resilience**: \n",
      "   - The capacity to bounce back from setbacks and maintain focus is vital. Resilient leaders can handle stress more effectively, adapt to changing circumstances, and inspire their teams to persevere through challenges.\n",
      "\n",
      "3. **Strategic Thinking**: \n",
      "   - Successful executives must be able to think critically and strategically. This includes the ability to analyze complex situations, anticipate future trends, and make informed decisions that align with long-term organizational goals.\n",
      "\n",
      "4. **Adaptability**: \n",
      "   - The ability to pivot and adjust strategies in response to changing market conditions or internal dynamics is essential. Leaders who are flexible and open to new ideas can drive innovation and maintain organizational agility.\n",
      "\n",
      "5. **Communication Skills**: \n",
      "   - Effective communication is key in high-stress situations. Executives must be able to clearly articulate their vision, provide constructive feedback, and actively listen to their team members to foster collaboration and transparency.\n",
      "\n",
      "6. **Decisiveness**: \n",
      "   - High-stress environments often require quick decision-making. Successful executives can assess situations rapidly, weigh options, and make confident decisions, even under pressure.\n",
      "\n",
      "7. **Delegation**: \n",
      "   - Understanding the importance of delegation allows leaders to empower their teams, distribute workload more effectively, and focus on strategic initiatives rather than getting bogged down in day-to-day tasks.\n",
      "\n",
      "8. **Visionary Leadership**: \n",
      "   - A strong leader should have a clear vision and be able to inspire others to rally around that vision. This can motivate teams and create a sense of purpose, even in challenging times.\n",
      "\n",
      "9. **Cultural Competence**: \n",
      "   - In today’s diverse workplace, understanding and appreciating different backgrounds and perspectives can enhance team dynamics and foster innovation. Culturally competent leaders can create inclusive environments where all employees feel valued.\n",
      "\n",
      "10. **Conflict Resolution**: \n",
      "    - The ability to address and resolve conflicts effectively is crucial in high-stress scenarios. Leaders who can mediate disputes and maintain a positive team atmosphere contribute to overall organizational health.\n",
      "\n",
      "### Importance of Work-Life Balance and Mental Health\n",
      "\n",
      "1. **Self-Care Practices**: \n",
      "   - Successful executives prioritize their own mental health and well-being, recognizing that personal resilience is foundational to professional effectiveness. This might involve mindfulness practices, regular exercise, or hobbies that provide relaxation and joy.\n",
      "\n",
      "2. **Work-Life Integration**: \n",
      "   - Emphasizing the importance of work-life balance not only benefits the executive but also sets a precedent for the entire organization. Promoting flexible work arrangements and encouraging time off for mental health can lead to increased employee satisfaction and retention.\n",
      "\n",
      "3. **Support Systems**: \n",
      "   - Access to support networks, whether through professional coaching, mentoring, or peer support, can help executives navigate the challenges of their roles. Organizations should foster a culture where seeking help is normalized and encouraged.\n",
      "\n",
      "4. **Promotion of a Healthy Workplace Culture**: \n",
      "   - Leaders should advocate for policies that support mental health, such as wellness programs, mental health days, and open dialogue about stress and burnout. This creates an environment where employees feel safe discussing challenges and seeking support.\n",
      "\n",
      "5. **Modeling Behavior**: \n",
      "   - By demonstrating healthy work-life practices, executives can inspire their teams to prioritize their well-being. This leads to a more sustainable work culture that values mental health alongside productivity.\n",
      "\n",
      "In summary, success in a high-stress executive role is multifaceted, requiring a combination of emotional intelligence, resilience, strategic thinking, and effective communication. Coupled with a commitment to work-life balance and mental health, these qualities form a solid foundation for leadership that not only drives organizational success but also fosters a supportive and thriving workplace culture.\n",
      "\n",
      "Fairness evaluation of improved response:\n",
      "The text presents a thoughtful exploration of the qualities and skills required for success in high-stress executive positions while emphasizing mental health and work-life balance. Overall, it demonstrates a strong commitment to fairness and inclusivity. Here are some observations regarding potential biases or exclusionary language:\n",
      "\n",
      "### Positive Aspects:\n",
      "1. **Diversity and Inclusion Focus**: The text explicitly mentions the importance of engaging diverse viewpoints in decision-making and acknowledges the value of different backgrounds and experiences.\n",
      "2. **Mental Health and Work-Life Balance**: It highlights the significance of mental well-being and work-life balance, which is increasingly recognized as essential for all employees, regardless of their position.\n",
      "3. **Cultural Competence**: The inclusion of cultural competence indicates an awareness of global perspectives and the need for sensitivity to diverse cultures within a team.\n",
      "4. **Supportive Leadership Styles**: The mention of servant leadership and transformational leadership promotes inclusivity and collaboration.\n",
      "\n",
      "### Areas for Improvement:\n",
      "1. **Gender and Diversity Representation**: While the text mentions diversity awareness, it could further elaborate on how leadership roles have historically been dominated by certain demographics and suggest strategies for addressing these disparities, such as targeting underrepresented groups in leadership development.\n",
      "2. **Language Use**: The language is primarily focused on traditional corporate environments. It could broaden its inclusivity by integrating examples or references to varied industry contexts, including non-traditional or emerging sectors.\n",
      "3. **Exclusivity of Terms**: The term \"executive position\" may implicitly suggest a certain level of privilege or experience that might exclude individuals from less traditional career paths or those who may not have had access to executive roles. Acknowledging alternative career trajectories could enhance inclusivity.\n",
      "\n",
      "Overall, the text is well-structured and conveys a strong message about the importance of inclusivity and mental health in leadership. \n",
      "\n",
      "### Fairness Score: **8/10**\n",
      "The score reflects the text’s strong commitment to inclusivity while noting areas for improvement in acknowledging systemic barriers and broader contexts.\n"
     ]
    }
   ],
   "source": [
    "# A prompt that could imply a narrow view of leadership\n",
    "biased_prompt = \"Describe the ideal candidate for a high-stress executive position.\"\n",
    "\n",
    "# Show the original response\n",
    "print(\"Original prompt:\")\n",
    "print(biased_prompt)\n",
    "print(\"\\nOriginal response:\")\n",
    "print(llm.invoke(biased_prompt).content)\n",
    "\n",
    "# An improved, inclusive version of the original prompt\n",
    "improved_prompt = PromptTemplate(\n",
    "    input_variables=[\"position\"],\n",
    "    template=\"Describe a range of qualities and skills that could make someone successful in a {position}, considering diverse backgrounds, experiences, and leadership styles. Emphasize the importance of work-life balance and mental health.\"\n",
    ")\n",
    "\n",
    "# Show improved prompt and response\n",
    "print(\"\\nImproved prompt:\")\n",
    "print(improved_prompt.format(position=\"high-stress executive position\"))\n",
    "print(\"\\nImproved response:\")\n",
    "print((improved_prompt | llm).invoke({\"position\": \"high-stress executive position\"}).content)\n",
    "\n",
    "# Evaluate the fairness of the improved response\n",
    "fairness_score = evaluate_fairness((improved_prompt | llm).invoke({\"position\": \"high-stress executive position\"}).content)\n",
    "\n",
    "print(\"\\nFairness evaluation of improved response:\")\n",
    "print(fairness_score)"
   ]
  },
  {
   "cell_type": "markdown",
   "metadata": {
    "id": "RlNYnam5Lxrn"
   },
   "source": [
    "The original prompt implicitly suggests there’s only one \"ideal\" candidate and may reinforce traditional stereotypes around leadership under stress.\n",
    "\n",
    "By explicitly encouraging diversity and holistic well-being, the improved prompt elicits a much richer, less stereotyped response that aligns with modern leadership values.\n",
    "\n",
    "The evaluation gives us a qualitative and quantitative check on the result, helping validate that our rephrased prompt steered the model in a more ethical direction.\n",
    "\n",
    "\n",
    "Ethical prompt engineering is not just about avoiding harm—it’s about actively shaping model behavior to reflect the values of equity, fairness, and representation. As LLMs become central to communication, search, writing, and decision support, our responsibility as engineers and designers only grows.\n"
   ]
  }
 ],
 "metadata": {
  "colab": {
   "provenance": []
  },
  "kernelspec": {
   "display_name": "Python 3 (ipykernel)",
   "language": "python",
   "name": "python3"
  },
  "language_info": {
   "codemirror_mode": {
    "name": "ipython",
    "version": 3
   },
   "file_extension": ".py",
   "mimetype": "text/x-python",
   "name": "python",
   "nbconvert_exporter": "python",
   "pygments_lexer": "ipython3",
   "version": "3.8.19"
  }
 },
 "nbformat": 4,
 "nbformat_minor": 4
}
