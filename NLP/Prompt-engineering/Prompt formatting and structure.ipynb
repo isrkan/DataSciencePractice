{
 "cells": [
  {
   "cell_type": "markdown",
   "metadata": {
    "id": "UdJkS_Xam1-l"
   },
   "source": [
    "# Prompt formatting and structure\n",
    "\n",
    "In this notebook, we will explore different ways to structure prompts. When interacting with LLMs, the way we phrase and structure prompts plays a critical role in shaping the model's responses. Prompt design is not only about content — it's about form, context, and clarity. We will investigate how changes in format (e.g., Q&A, dialogue, structured instructions) and layout elements (e.g., lists, headings) influence the model's output."
   ]
  },
  {
   "cell_type": "code",
   "execution_count": 1,
   "metadata": {
    "id": "lGJTNqE2mjKd"
   },
   "outputs": [],
   "source": [
    "import os\n",
    "from langchain_openai import ChatOpenAI\n",
    "from langchain.prompts import PromptTemplate\n",
    "from dotenv import load_dotenv\n",
    "\n",
    "# Load environment variables\n",
    "load_dotenv()\n",
    "\n",
    "# Set up OpenAI API key\n",
    "os.environ[\"OPENAI_API_KEY\"] = os.getenv('OPENAI_API_KEY')"
   ]
  },
  {
   "cell_type": "markdown",
   "metadata": {
    "id": "0Ga_O9A3nFxu"
   },
   "source": [
    "### Initialize the language model\n",
    "We instantiate a lightweight GPT model from OpenAI using LangChain."
   ]
  },
  {
   "cell_type": "code",
   "execution_count": 2,
   "metadata": {
    "id": "VQytiZS3nFkn"
   },
   "outputs": [],
   "source": [
    "# Initialize the language model\n",
    "llm = ChatOpenAI(model=\"gpt-4o-mini-2024-07-18\")"
   ]
  },
  {
   "cell_type": "markdown",
   "metadata": {
    "id": "41YcvHdYnFW1"
   },
   "source": [
    "## Exploring different prompt formats\n",
    "We will now look at how different ways of phrasing a prompt—question format, dialogue, and instruction—affect the model's interpretation and response using the topic of photosynthesis as our consistent theme.\n",
    "\n",
    "### 1. Question and answer (Q&A) format\n",
    "In this format, we treat the prompt like a direct question. This often leads to concise and focused answers."
   ]
  },
  {
   "cell_type": "code",
   "execution_count": 3,
   "metadata": {
    "id": "e0A8abvxnFIe"
   },
   "outputs": [
    {
     "name": "stdout",
     "output_type": "stream",
     "text": [
      "Photosynthesis is a biological process used by plants, algae, and some bacteria to convert light energy, usually from the sun, into chemical energy stored in glucose (a type of sugar). This process primarily occurs in the chloroplasts of plant cells and involves two main stages: the light-dependent reactions and the light-independent reactions (Calvin cycle).\n",
      "\n",
      "1. **Light-dependent reactions**: These occur in the thylakoid membranes of the chloroplasts and require sunlight. When chlorophyll and other pigments absorb light, they energize electrons, which then move through a series of proteins (the electron transport chain). This process generates ATP (adenosine triphosphate) and NADPH (nicotinamide adenine dinucleotide phosphate), which are energy carriers. Additionally, water (H₂O) is split during this process, releasing oxygen (O₂) as a byproduct.\n",
      "\n",
      "2. **Light-independent reactions (Calvin cycle)**: These occur in the stroma of the chloroplasts and do not directly require light. Instead, they use the ATP and NADPH produced in the light-dependent reactions to convert carbon dioxide (CO₂) from the atmosphere into glucose through a series of chemical reactions.\n",
      "\n",
      "The overall chemical equation for photosynthesis can be summarized as:\n",
      "\\[ 6CO_2 + 6H_2O + light \\ energy \\rightarrow C_6H_{12}O_6 + 6O_2 \\]\n",
      "\n",
      "In essence, photosynthesis is crucial for life on Earth, as it provides the oxygen we breathe and is the foundation of the food chain, supporting nearly all life forms by producing organic matter.\n"
     ]
    }
   ],
   "source": [
    "# Prompt using a classic Q&A format\n",
    "qa_prompt = \"\"\"Q: What is photosynthesis?\n",
    "A:\"\"\"\n",
    "\n",
    "# Get the model's response\n",
    "response = llm.invoke(qa_prompt).content\n",
    "print(response)"
   ]
  },
  {
   "cell_type": "markdown",
   "metadata": {
    "id": "F0ZWhkubnE7W"
   },
   "source": [
    "Q&A prompts are interpreted by the model as factual and objective, often resulting in shorter, more direct answers.\n",
    "\n",
    "### 2. Dialogue format\n",
    "Dialogue-style prompts add context and human intent. By simulating a conversation, we guide the tone and complexity level (e.g., teacher-to-student)."
   ]
  },
  {
   "cell_type": "code",
   "execution_count": 4,
   "metadata": {
    "id": "fjV_CLXhnEtO"
   },
   "outputs": [
    {
     "name": "stdout",
     "output_type": "stream",
     "text": [
      "Plants need several key components for photosynthesis to occur:\n",
      "\n",
      "1. **Sunlight**: This is the primary energy source for photosynthesis. Plants capture light energy using a pigment called chlorophyll, which is found in their leaves.\n",
      "\n",
      "2. **Carbon Dioxide (CO2)**: Plants absorb carbon dioxide from the air through small openings in their leaves called stomata.\n",
      "\n",
      "3. **Water (H2O)**: Plants take up water from the soil through their roots. Water is also essential for the photosynthesis process.\n",
      "\n",
      "4. **Chlorophyll**: While not a requirement in the same way as sunlight, CO2, and water, chlorophyll is crucial because it allows plants to capture light energy.\n",
      "\n",
      "During photosynthesis, plants convert these inputs into glucose (a type of sugar) and oxygen. The overall chemical equation for photosynthesis can be simplified as:\n",
      "\n",
      "\\[ 6CO_2 + 6H_2O + \\text{light energy} \\rightarrow C_6H_{12}O_6 + 6O_2 \\]\n",
      "\n",
      "This means that six molecules of carbon dioxide and six molecules of water, using light energy, are transformed into one molecule of glucose and six molecules of oxygen. The glucose produced serves as food for the plant, while the oxygen is released into the atmosphere as a byproduct.\n"
     ]
    }
   ],
   "source": [
    "# Prompt simulating a conversation between a student and teacher\n",
    "dialogue_prompt = \"\"\"Student: Can you explain photosynthesis to me?\n",
    "Teacher: Certainly! Photosynthesis is...\n",
    "Student: What does a plant need for photosynthesis?\n",
    "Teacher:\"\"\"\n",
    "\n",
    "# Get the model's response\n",
    "response = llm.invoke(dialogue_prompt).content\n",
    "print(response)"
   ]
  },
  {
   "cell_type": "markdown",
   "metadata": {
    "id": "dPaF685OnEf4"
   },
   "source": [
    "Dialogue formatting adds a narrative element, making the output more natural and explanatory. The model adapts its tone and word choice to match the characters involved.\n",
    "\n",
    "### 3. Instruction format\n",
    "Instruction-based prompts are declarative and task-oriented. This is a versatile format ideal for educational, technical, or analytical tasks."
   ]
  },
  {
   "cell_type": "code",
   "execution_count": 5,
   "metadata": {
    "id": "6YnLaV-9nERD"
   },
   "outputs": [
    {
     "name": "stdout",
     "output_type": "stream",
     "text": [
      "Photosynthesis is the biochemical process by which green plants, algae, and certain bacteria convert light energy, usually from the sun, into chemical energy stored in glucose. This process primarily occurs in the chloroplasts of plant cells, where chlorophyll, the green pigment, captures light energy.\n",
      "\n",
      "### Main Components of Photosynthesis:\n",
      "1. **Light**: Sunlight provides the energy required for photosynthesis.\n",
      "2. **Chlorophyll**: This pigment absorbs light, primarily in the blue and red wavelengths.\n",
      "3. **Water (H₂O)**: Absorbed by plant roots, water is split into oxygen and hydrogen during the light-dependent reactions.\n",
      "4. **Carbon Dioxide (CO₂)**: Taken from the atmosphere through stomata, CO₂ is used in the Calvin cycle to produce glucose.\n",
      "5. **Glucose (C₆H₁₂O₆)**: The end product of photosynthesis, it serves as an energy source for plants and other organisms.\n",
      "\n",
      "### Importance of Photosynthesis:\n",
      "- **Oxygen Production**: Photosynthesis releases oxygen as a byproduct, which is essential for the survival of aerobic organisms, including humans.\n",
      "- **Energy Source**: It forms the base of the food chain, as plants convert solar energy into chemical energy, providing food for herbivores and, subsequently, carnivores.\n",
      "- **Carbon Dioxide Regulation**: Photosynthesis helps regulate atmospheric CO₂ levels, playing a crucial role in mitigating climate change.\n",
      "- **Ecosystem Balance**: It supports life on Earth by contributing to the carbon and oxygen cycles, maintaining ecological balance.\n",
      "\n",
      "In summary, photosynthesis is vital for life on Earth, providing energy, oxygen, and contributing to ecological stability.\n"
     ]
    }
   ],
   "source": [
    "# Prompt with a clear instructional tone\n",
    "instruction_prompt = \"\"\"Provide a brief explanation of photosynthesis, including its main components and importance.\"\"\"\n",
    "\n",
    "# Get the model's response\n",
    "response = llm.invoke(instruction_prompt).content\n",
    "print(response)"
   ]
  },
  {
   "cell_type": "markdown",
   "metadata": {
    "id": "wCetyLfSnEC-"
   },
   "source": [
    "Instructional prompts signal the model to deliver structured or goal-directed responses. They work well when the output needs to meet specific content expectations.\n",
    "\n",
    "\n",
    "## Impact of structural elements in prompts\n",
    "Beyond wording, how we structure a prompt visually—using headings, bullets, or lists—can influence the clarity and organization of the output.\n",
    "\n",
    "### 1. Using headings\n",
    "We ask the model to organize content under predefined headings. This adds readability and encourages clear segmentation of ideas."
   ]
  },
  {
   "cell_type": "code",
   "execution_count": 6,
   "metadata": {
    "id": "3Mfl_H16nD0-"
   },
   "outputs": [
    {
     "name": "stdout",
     "output_type": "stream",
     "text": [
      "# Definition\n",
      "Photosynthesis is a biochemical process by which green plants, algae, and some bacteria convert light energy, usually from the sun, into chemical energy stored in glucose. This process primarily occurs in the chloroplasts of plant cells, utilizing chlorophyll, the green pigment responsible for capturing light energy.\n",
      "\n",
      "# Process\n",
      "Photosynthesis can be divided into two main stages: the light-dependent reactions and the light-independent reactions (Calvin cycle).\n",
      "\n",
      "1. **Light-dependent Reactions**: These reactions occur in the thylakoid membranes of the chloroplasts and require sunlight. When chlorophyll absorbs light energy, it excites electrons, which then travel through a series of proteins in the electron transport chain. This process generates ATP (adenosine triphosphate) and NADPH (nicotinamide adenine dinucleotide phosphate), two energy carriers. Additionally, water molecules are split (photolysis), releasing oxygen as a byproduct.\n",
      "\n",
      "2. **Light-independent Reactions (Calvin Cycle)**: These reactions take place in the stroma of the chloroplasts and do not directly require light. Instead, they utilize ATP and NADPH produced in the light-dependent reactions to convert carbon dioxide (CO₂) from the atmosphere into glucose through a series of chemical reactions. The main enzyme involved in this process is RuBisCO, which helps incorporate CO₂ into organic molecules.\n",
      "\n",
      "Overall, the simplified equation for photosynthesis can be represented as:\n",
      "\\[ 6 \\text{CO}_2 + 6 \\text{H}_2\\text{O} + \\text{light energy} \\rightarrow \\text{C}_6\\text{H}_{12}\\text{O}_6 + 6 \\text{O}_2 \\]\n",
      "\n",
      "# Importance\n",
      "Photosynthesis is crucial for life on Earth for several reasons:\n",
      "\n",
      "1. **Oxygen Production**: Photosynthesis is the primary source of atmospheric oxygen, which is essential for the respiration of most living organisms.\n",
      "\n",
      "2. **Energy Source**: It serves as the foundation of the food chain. Plants (producers) convert solar energy into chemical energy, which is then consumed by herbivores (primary consumers) and subsequently by carnivores (secondary consumers).\n",
      "\n",
      "3. **Carbon Dioxide Reduction**: Photosynthesis helps regulate atmospheric CO₂ levels, playing a key role in mitigating climate change by absorbing carbon dioxide, a greenhouse gas.\n",
      "\n",
      "4. **Biodiversity Support**: By producing organic matter, photosynthesis supports diverse ecosystems and habitats, enabling a variety of organisms to thrive.\n",
      "\n",
      "In summary, photosynthesis is not only essential for plant growth but also for sustaining life on Earth and maintaining ecological balance.\n"
     ]
    }
   ],
   "source": [
    "# Prompt with section headers to shape structure\n",
    "headings_prompt = \"\"\"Explain photosynthesis using the following structure:\n",
    "\n",
    "# Definition\n",
    "\n",
    "# Process\n",
    "\n",
    "# Importance\n",
    "\"\"\"\n",
    "\n",
    "# Get the structured response\n",
    "response = llm.invoke(headings_prompt).content\n",
    "print(response)"
   ]
  },
  {
   "cell_type": "markdown",
   "metadata": {
    "id": "Co64C9v5nDn7"
   },
   "source": [
    "The model uses the headings to break its answer into parts. This approach is useful for documentation, teaching, and structured analysis.\n",
    "\n",
    "### 2. Using bullet points\n",
    "Using bullet points encourages the model to summarize or list facts concisely, which is effective for note-taking or extracting key points."
   ]
  },
  {
   "cell_type": "code",
   "execution_count": 7,
   "metadata": {
    "id": "ZXclzfIlnDaG"
   },
   "outputs": [
    {
     "name": "stdout",
     "output_type": "stream",
     "text": [
      "The key components needed for photosynthesis are:\n",
      "\n",
      "1. **Light Energy** (usually from the sun)\n",
      "2. **Water (H₂O)**\n",
      "3. **Carbon Dioxide (CO₂)**\n",
      "4. **Chlorophyll** (the pigment in plants that captures light energy)\n",
      "\n",
      "These components work together in plants, algae, and some bacteria to convert light energy into chemical energy, producing glucose and oxygen as byproducts.\n"
     ]
    }
   ],
   "source": [
    "# Prompt with bullet points to organize information\n",
    "bullet_points_prompt = \"\"\"List the key components needed for photosynthesis:\n",
    "\n",
    "•\n",
    "•\n",
    "•\n",
    "\"\"\"\n",
    "\n",
    "# Get a bulleted response\n",
    "response = llm.invoke(bullet_points_prompt).content\n",
    "print(response)"
   ]
  },
  {
   "cell_type": "markdown",
   "metadata": {
    "id": "fS2NzOQDnDNW"
   },
   "source": [
    "Bullets prompt the model to itemize content, focusing on clarity and brevity. This structure is great for summarizing complex ideas or creating outlines.\n",
    "\n",
    "### 3. Using numbered lists\n",
    "With numbered lists, we guide the model to follow a logical, step-by-step order. This is useful for sequences, workflows, or processes."
   ]
  },
  {
   "cell_type": "code",
   "execution_count": 8,
   "metadata": {
    "id": "LdjZSNglnDAR"
   },
   "outputs": [
    {
     "name": "stdout",
     "output_type": "stream",
     "text": [
      "Photosynthesis occurs in two main stages: the light-dependent reactions and the light-independent reactions (Calvin cycle). Here are the steps in order:\n",
      "\n",
      "1. **Light Absorption**: Chlorophyll and other pigments in the chloroplasts absorb sunlight, primarily in the blue and red wavelengths. This energy excites electrons and initiates the process.\n",
      "\n",
      "2. **Water Splitting (Photolysis)**: The absorbed light energy is used to split water molecules (H₂O) into oxygen (O₂), protons (H⁺), and electrons. This reaction occurs in the thylakoid membranes of the chloroplasts.\n",
      "\n",
      "3. **Electron Transport Chain**: The excited electrons from chlorophyll are passed along a series of proteins in the thylakoid membrane, known as the electron transport chain. As the electrons move through the chain, their energy is used to pump protons into the thylakoid lumen, creating a proton gradient.\n",
      "\n",
      "4. **ATP and NADPH Formation**: The proton gradient drives ATP synthase to produce ATP from ADP and inorganic phosphate (Pi). Additionally, the electrons reduce NADP⁺ to form NADPH. Both ATP and NADPH are then utilized in the Calvin cycle.\n",
      "\n",
      "5. **Calvin Cycle (Light-Independent Reactions)**: In the stroma of the chloroplasts, ATP and NADPH generated in the light-dependent reactions are used to fix carbon dioxide (CO₂) into organic molecules through a series of reactions, ultimately producing glucose and other carbohydrates. \n",
      "\n",
      "These steps summarize the overall process of photosynthesis, which converts light energy into chemical energy stored in glucose.\n"
     ]
    }
   ],
   "source": [
    "# Prompt using a numbered list for ordered steps\n",
    "numbered_list_prompt = \"\"\"Describe the steps of photosynthesis in order:\n",
    "\n",
    "1.\n",
    "2.\n",
    "3.\n",
    "4.\n",
    "\"\"\"\n",
    "\n",
    "# Generate a stepwise explanation\n",
    "response = llm.invoke(numbered_list_prompt).content\n",
    "print(response)"
   ]
  },
  {
   "cell_type": "markdown",
   "metadata": {
    "id": "NyyNEI-AnCxv"
   },
   "source": [
    "Numbering enforces a hierarchy and sequence. It helps the model respond with temporal or logical progression—useful in how-to guides or process documentation.\n",
    "\n",
    "\n",
    "## Comparing prompt effectiveness\n",
    "Let’s now look at how different prompt structures influence the quality and completeness of responses when answering the same question. We will use three styles:\n",
    "- Plain instruction\n",
    "- Structured instruction\n",
    "- Q&A with enumerated list"
   ]
  },
  {
   "cell_type": "code",
   "execution_count": 9,
   "metadata": {
    "id": "AUBAbfm9n6fU"
   },
   "outputs": [
    {
     "name": "stdout",
     "output_type": "stream",
     "text": [
      "Prompt 1:\n",
      "Photosynthesis is a crucial biological process that plays a fundamental role in sustaining life on Earth. Here are several key reasons highlighting its importance:\n",
      "\n",
      "1. **Oxygen Production**: Photosynthesis is responsible for producing oxygen, a vital component of the Earth's atmosphere. During the process, plants, algae, and some bacteria convert carbon dioxide and water into glucose and oxygen using sunlight. This oxygen is essential for the survival of most living organisms that rely on aerobic respiration to produce energy.\n",
      "\n",
      "2. **Carbon Dioxide Reduction**: Photosynthesis helps regulate atmospheric carbon dioxide levels, a greenhouse gas that contributes to climate change. By absorbing CO2 during the process, photosynthetic organisms mitigate the impacts of excess greenhouse gases and help maintain a balanced ecosystem.\n",
      "\n",
      "3. **Base of the Food Chain**: Photosynthetic organisms, primarily plants and phytoplankton, form the foundation of the food chain. They convert solar energy into chemical energy (glucose) that serves as food for herbivores, which in turn are consumed by carnivores. This energy transfer is essential for the survival of all trophic levels in ecosystems.\n",
      "\n",
      "4. **Ecosystem Support**: Photosynthesis supports entire ecosystems by providing food and energy for various organisms. Terrestrial and aquatic ecosystems depend on photosynthetic life forms to sustain biodiversity and maintain ecological balance.\n",
      "\n",
      "5. **Climate Regulation**: Through the absorption of carbon dioxide and the release of oxygen, photosynthesis plays a role in regulating the Earth's climate. Forests, grasslands, and oceans act as carbon sinks, helping to sequester carbon and mitigate climate change.\n",
      "\n",
      "6. **Source of Fossil Fuels**: Over millions of years, the remains of ancient photosynthetic organisms have transformed into fossil fuels such as coal, oil, and natural gas. These energy sources have powered human civilization but also highlight the long-term impact of photosynthesis on Earth’s geology and energy resources.\n",
      "\n",
      "7. **Economic Importance**: Photosynthesis underpins agriculture, forestry, and fisheries, which are vital for human sustenance and economies. Crops grown through photosynthesis provide food, fibers, and other materials essential for human life and industry.\n",
      "\n",
      "In summary, photosynthesis is integral to life on Earth, supporting oxygen production, food chains, ecosystem stability, climate regulation, and human economies. Its significance extends beyond biological function to environmental and economic dimensions, making it a cornerstone of life as we know it.\n",
      "Prompt 2:\n",
      "Photosynthesis is a fundamental biological process that plays a crucial role in sustaining life on Earth. Its importance can be understood through three key aspects: oxygen production, food chain support, and carbon dioxide absorption.\n",
      "\n",
      "### 1. Oxygen Production\n",
      "Photosynthesis is responsible for generating a significant portion of the oxygen in Earth's atmosphere. During the process, plants, algae, and some bacteria convert sunlight, carbon dioxide, and water into glucose and oxygen. The equation for photosynthesis can be summarized as:\n",
      "\n",
      "\\[ \\text{6CO}_2 + \\text{6H}_2\\text{O} + \\text{light energy} \\rightarrow \\text{C}_6\\text{H}_{12}\\text{O}_6 + \\text{6O}_2 \\]\n",
      "\n",
      "This production of oxygen is vital for aerobic organisms, including humans, as it is essential for cellular respiration. Without the oxygen generated by photosynthesis, life as we know it could not exist, leading to the collapse of ecosystems and the extinction of many species.\n",
      "\n",
      "### 2. Food Chain Support\n",
      "Photosynthesis is the foundation of most food chains and ecosystems. Producers, primarily plants and phytoplankton, harness sunlight to create organic matter through photosynthesis. This organic matter serves as the primary energy source for herbivores (primary consumers), which are then consumed by carnivores (secondary and tertiary consumers). Thus, photosynthesis initiates the flow of energy through ecosystems, supporting diverse life forms. The availability of food produced by photosynthesis influences population dynamics and biodiversity, making it a keystone process for maintaining ecological balance.\n",
      "\n",
      "### 3. Carbon Dioxide Absorption\n",
      "Photosynthesis plays a critical role in regulating atmospheric carbon dioxide levels. During the process, plants absorb carbon dioxide from the atmosphere, which helps mitigate the effects of climate change. By converting carbon dioxide into organic compounds, photosynthesis acts as a natural carbon sink, reducing the concentration of this greenhouse gas. This absorption contributes to stabilizing the climate and ensuring a habitable environment for all living organisms. Moreover, the role of photosynthesis in the carbon cycle is essential for maintaining the balance of ecosystems and supporting life on Earth.\n",
      "\n",
      "In summary, photosynthesis is integral to life on Earth through its production of oxygen, support of food chains, and absorption of carbon dioxide. It sustains ecosystems, supports biodiversity, and plays a crucial role in regulating the planet's climate.\n",
      "Prompt 3:\n",
      "A: Photosynthesis is crucial for life on Earth because:\n",
      "\n",
      "1. **Oxygen Production**: Photosynthesis produces oxygen as a byproduct, which is essential for the survival of most living organisms that rely on aerobic respiration.\n",
      "\n",
      "2. **Energy Conversion**: It converts solar energy into chemical energy stored in glucose, providing the primary energy source for nearly all ecosystems. Plants, algae, and some bacteria use sunlight to synthesize food, forming the base of the food chain.\n",
      "\n",
      "3. **Carbon Dioxide Regulation**: Photosynthesis helps regulate atmospheric carbon dioxide levels, playing a vital role in mitigating climate change and maintaining the balance of gases in the atmosphere. This process reduces the greenhouse effect and contributes to a stable climate.\n"
     ]
    }
   ],
   "source": [
    "# Define a list of differently structured prompts\n",
    "comparison_prompts = [\n",
    "    \"Explain the importance of photosynthesis for life on Earth.\",\n",
    "    \"\"\"Explain the importance of photosynthesis for life on Earth. Structure your answer as follows:\n",
    "    1. Oxygen production\n",
    "    2. Food chain support\n",
    "    3. Carbon dioxide absorption\"\"\",\n",
    "    \"\"\"Q: Why is photosynthesis important for life on Earth?\n",
    "    A: Photosynthesis is crucial for life on Earth because:\n",
    "    1.\n",
    "    2.\n",
    "    3.\"\"\"\n",
    "]\n",
    "\n",
    "# Iterate over each format and generate a response\n",
    "for i, prompt in enumerate(comparison_prompts, 1):\n",
    "    print(f\"Prompt {i}:\")\n",
    "    response = llm.invoke(prompt).content\n",
    "    print(response)"
   ]
  },
  {
   "cell_type": "markdown",
   "metadata": {
    "id": "LUy9qKhSn5-A"
   },
   "source": [
    "This section highlights how the same topic can yield different styles, levels of detail, and logical flow depending on prompt formatting. It is a practical way to evaluate which format suits a specific use case (e.g., teaching vs. summarization vs. detailed reasoning).\n",
    "\n",
    "\n",
    "Prompt formatting is more than just phrasing—it is design thinking applied to language. As we build more complex or domain-specific applications, being intentional with how we structure prompts can dramatically improve performance and reliability."
   ]
  }
 ],
 "metadata": {
  "colab": {
   "provenance": []
  },
  "kernelspec": {
   "display_name": "Python 3 (ipykernel)",
   "language": "python",
   "name": "python3"
  },
  "language_info": {
   "codemirror_mode": {
    "name": "ipython",
    "version": 3
   },
   "file_extension": ".py",
   "mimetype": "text/x-python",
   "name": "python",
   "nbconvert_exporter": "python",
   "pygments_lexer": "ipython3",
   "version": "3.8.19"
  }
 },
 "nbformat": 4,
 "nbformat_minor": 4
}
