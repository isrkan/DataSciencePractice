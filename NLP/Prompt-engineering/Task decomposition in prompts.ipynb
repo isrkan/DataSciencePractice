{
 "cells": [
  {
   "cell_type": "markdown",
   "metadata": {
    "id": "5XeTrsvzDxlO"
   },
   "source": [
    "## Task decomposition in prompts\n",
    "\n",
    "This notebook explores task decomposition in prompt engineering, a technique that breaks down complex problems into smaller, more manageable subtasks. This approach is key to effectively leveraging LLMs for multi-step reasoning tasks. By decomposing a problem into simpler parts, we improve the model's ability to produce more reliable, accurate, and interpretable results.\n",
    "\n",
    "While AI language models are increasingly capable of handling complex tasks, they perform best when provided with clear, structured instructions. Task decomposition simplifies complex problems, allowing the model to focus on one element at a time, leading to better outcomes. This not only enhances the model's performance but also improves the interpretability and reliability of the results.\n",
    "\n",
    "In this notebook, we demonstrate how to break down a financial analysis task into individual subtasks. We will guide the model step by step, resulting in a comprehensive solution."
   ]
  },
  {
   "cell_type": "code",
   "execution_count": 1,
   "metadata": {
    "id": "fiV9QD1xDw3q"
   },
   "outputs": [],
   "source": [
    "import os\n",
    "from langchain_openai import ChatOpenAI\n",
    "from langchain.prompts import PromptTemplate\n",
    "from dotenv import load_dotenv\n",
    "\n",
    "# Load environment variables\n",
    "load_dotenv()\n",
    "\n",
    "# Set up OpenAI API key\n",
    "os.environ[\"OPENAI_API_KEY\"] = os.getenv('OPENAI_API_KEY')"
   ]
  },
  {
   "cell_type": "markdown",
   "metadata": {
    "id": "u1FXQDt4D4S5"
   },
   "source": [
    "### Initialize the language model\n",
    "We instantiate a lightweight GPT model from OpenAI using LangChain."
   ]
  },
  {
   "cell_type": "code",
   "execution_count": 2,
   "metadata": {
    "id": "MNGTQT9zD3yR"
   },
   "outputs": [],
   "source": [
    "# Initialize the language model\n",
    "llm = ChatOpenAI(model=\"gpt-4o-mini-2024-07-18\")"
   ]
  },
  {
   "cell_type": "markdown",
   "metadata": {
    "id": "WHOgXw6ZD3kl"
   },
   "source": [
    "We will also define a helper function to run the prompts:"
   ]
  },
  {
   "cell_type": "code",
   "execution_count": 3,
   "metadata": {
    "id": "AG7DLnEiD3X7"
   },
   "outputs": [],
   "source": [
    "# Define a helper function to run the prompts\n",
    "def run_prompt(prompt, **kwargs):\n",
    "    \"\"\"Helper function to run a prompt through the language model.\n",
    "\n",
    "    Args:\n",
    "        prompt (str): The prompt template string.\n",
    "        **kwargs: Keyword arguments to fill the prompt template.\n",
    "\n",
    "    Returns:\n",
    "        str: The model's response.\n",
    "    \"\"\"\n",
    "    # Create a PromptTemplate object using the provided prompt string\n",
    "    prompt_template = PromptTemplate(template=prompt, input_variables=list(kwargs.keys()))\n",
    "\n",
    "    # Combine the prompt template with the llm to create a processing chain\n",
    "    chain = prompt_template | llm\n",
    "\n",
    "    # Invoke the chain with the provided keyword arguments (which fill in the placeholders in the prompt)\n",
    "    return chain.invoke(kwargs).content"
   ]
  },
  {
   "cell_type": "markdown",
   "metadata": {
    "id": "-dNE7oL7D3Kk"
   },
   "source": [
    "`run_prompt` is designed to take a prompt (a template with placeholders) and dynamic keyword arguments (`kwargs`) to fill in those placeholders.\n",
    "- `PromptTemplate` object: This object takes the raw `prompt` string and a list of keys (`kwargs.keys()`) to identify the placeholders in the prompt. It essentially prepares the template by marking where values need to be inserted.\n",
    "- Chaining `PromptTemplate` and LLM: The prompt template is combined with the language model (`llm`) using the `|` operator. This creates a processing \"chain\" that will use the prompt template to format the input and then pass it through the model to get a response.\n",
    "- Invoke and return: `.invoke(kwargs)` runs the chain, passing in the dynamic values as keyword arguments. The model generates a response based on these values, and the function returns just the `content` of the response (i.e., the model's generated text).\n",
    "\n",
    "\n",
    "## Breaking down complex tasks\n",
    "In this section, we will break down a complex task into smaller, more manageable subtasks using the example of analyzing a company's financial health. This demonstrates the importance of task decomposition in prompt engineering, where complex problems are split into discrete steps that the AI model can handle more effectively.\n",
    "\n",
    "The task at hand is to analyze a company's financial health based on specific financial data. However, analyzing financial health involves several components, such as profitability, liquidity, and cash flow, which are better addressed individually. Instead of giving the model one complex prompt to perform all analyses at once, we first decompose the task into multiple smaller tasks, allowing the model to focus on one aspect of the analysis at a time."
   ]
  },
  {
   "cell_type": "code",
   "execution_count": 4,
   "metadata": {
    "id": "altmA7QpD29V"
   },
   "outputs": [
    {
     "name": "stdout",
     "output_type": "stream",
     "text": [
      "### Subtask 1: Assess Profitability\n",
      "**Description:** Evaluate the company's ability to generate profit relative to its revenue and assets. This involves calculating key profitability ratios such as the net profit margin (Net Income / Revenue) and return on assets (Net Income / Total Assets). The objective is to determine how effectively the company converts sales into profit and how efficiently it utilizes its assets to generate earnings.\n",
      "\n",
      "---\n",
      "\n",
      "### Subtask 2: Analyze Liquidity and Solvency\n",
      "**Description:** Examine the company's ability to meet its short-term and long-term obligations. This includes calculating liquidity ratios like the current ratio (Current Assets / Current Liabilities) and solvency ratios such as the debt-to-equity ratio (Total Liabilities / Total Assets). The goal is to assess the financial stability of the company and its capacity to cover debts as they come due.\n",
      "\n",
      "---\n",
      "\n",
      "### Subtask 3: Evaluate Cash Flow Health\n",
      "**Description:** Investigate the company's cash flow situation, focusing on cash flow from operations. This involves analyzing the cash flow statement to determine the sustainability of cash generated from core business activities. The aim is to assess whether the company generates enough cash to support operations, pay liabilities, and fund growth without relying heavily on financing or external funding.\n"
     ]
    }
   ],
   "source": [
    "# Define the complex task, which is to analyze the financial health of a company\n",
    "complex_task = \"\"\"\n",
    "Analyze the financial health of a company based on the following data:\n",
    "- Revenue: $10 million\n",
    "- Net Income: $2 million\n",
    "- Total Assets: $15 million\n",
    "- Total Liabilities: $7 million\n",
    "- Cash Flow from Operations: $3 million\n",
    "\"\"\"\n",
    "\n",
    "# Define the prompt template to decompose the complex task into subtasks\n",
    "decomposition_prompt = \"\"\"\n",
    "Break down the task of analyzing a company's financial health into 3 subtasks. For each subtask, provide a brief description of what it should accomplish.\n",
    "\n",
    "Task: {task}\n",
    "\n",
    "Subtasks:\n",
    "1.\n",
    "\"\"\"\n",
    "\n",
    "# Call the function to invoke the decomposition process using the decomposition prompt\n",
    "subtasks = run_prompt(decomposition_prompt, task=complex_task)\n",
    "print(subtasks)"
   ]
  },
  {
   "cell_type": "markdown",
   "metadata": {
    "id": "yxpMiWAtONE2"
   },
   "source": [
    "1. Define the complex task (`complex_task`): This block contains the initial task, which is to analyze a company's financial health based on provided data. The task includes essential financial figures like revenue, net income, assets, liabilities, and cash flow. This represents the \"big picture\" problem that needs to be broken down into smaller, more manageable subtasks.\n",
    "2. Decomposition prompt (`decomposition_prompt`): The decomposition prompt is crafted to instruct the model to split the given task into 3 distinct subtasks. The prompt includes a placeholder `{task}`, which will be replaced with the `complex_task` content when the prompt is executed. The goal of this prompt is to guide the model to produce three clear and actionable subtasks that focus on different aspects of the financial health analysis.\n",
    "3. Calling the `run_prompt` function: The `run_prompt` function is invoked, passing in the `decomposition_prompt` template along with the `complex_task`.\n",
    "   - The function takes the task (financial health analysis) and feeds it into the decomposition prompt.\n",
    "   - The `run_prompt` function processes the template, replaces the placeholder `{task}` with the task content, and invokes the model to generate the decomposition.\n",
    "\n",
    "This technique ensures that large and complex tasks are handled more efficiently by focusing the model's attention on one aspect of the problem at a time. It also makes the model's reasoning process more interpretable and reliable, especially in domains like financial analysis where precision is important.\n",
    "\n",
    "\n",
    "## Chaining subtasks in prompts\n",
    "Now that we have decomposed the complex task into smaller, more manageable subtasks, we will chain them together. Chaining allows us to guide the language model through a series of steps, where the output of one subtask feeds into the next. This technique is essential when solving multi-step problems, as it enables us to break the overall problem down into smaller parts and solve them sequentially.\n",
    "\n",
    "### Defining separate prompts for subtasks\n",
    "In this section, we will create individual prompts for each of the three subtasks we identified earlier: profitability analysis, liquidity analysis, and cash flow analysis. Each subtask will be analyzed separately, and the results will be obtained step by step.\n",
    "1. Profitability analysis: The first subtask involves analyzing the company's profitability.\n",
    "2. Liquidity analysis: The second subtask focuses on analyzing the company's liquidity, which is typically evaluated using its total assets and total liabilities.\n",
    "3. Cash flow analysis: The third subtask involves analyzing the company’s cash flow from operations, which indicates the company’s ability to generate cash from its core operations.\n",
    "\n",
    "Each of these subtasks will be handled by a separate function, and we will invoke them sequentially. The model will process each subtask independently but will be as part of a larger task."
   ]
  },
  {
   "cell_type": "code",
   "execution_count": 5,
   "metadata": {
    "id": "RtN032w1D2jl"
   },
   "outputs": [
    {
     "name": "stdout",
     "output_type": "stream",
     "text": [
      "Profitability Analysis:\n",
      " To analyze the company's profitability, we will calculate the profit margin using the provided data.\n",
      "\n",
      "### Profit Margin Calculation\n",
      "\n",
      "The profit margin is calculated using the formula:\n",
      "\n",
      "\\[\n",
      "\\text{Profit Margin} = \\left( \\frac{\\text{Net Income}}{\\text{Revenue}} \\right) \\times 100\n",
      "\\]\n",
      "\n",
      "Substituting the given values:\n",
      "\n",
      "- **Net Income**: $2 million\n",
      "- **Revenue**: $10 million\n",
      "\n",
      "\\[\n",
      "\\text{Profit Margin} = \\left( \\frac{2 \\, \\text{million}}{10 \\, \\text{million}} \\right) \\times 100 = 20\\%\n",
      "\\]\n",
      "\n",
      "### Analysis of Profitability\n",
      "\n",
      "A profit margin of **20%** indicates that the company retains 20 cents of profit for every dollar of revenue generated. This is a strong profit margin, suggesting that the company is effectively managing its costs and expenses relative to its sales.\n",
      "\n",
      "### Key Points:\n",
      "1. **Efficiency**: A 20% profit margin typically signifies good operational efficiency. The company is likely controlling its costs well, which is essential for long-term profitability.\n",
      "2. **Comparison**: To further assess the company's performance, it would be useful to compare this profit margin against industry averages or benchmarks. A profit margin that is significantly higher than industry peers could indicate a competitive advantage.\n",
      "3. **Sustainability**: While a strong profit margin is a positive sign, it’s also important to consider the sustainability of this margin over time. Factors such as market conditions, pricing strategies, and cost management practices will influence future profitability.\n",
      "4. **Investment Considerations**: Investors often look at profit margins as part of their decision-making process. A consistent or improving profit margin can lead to increased investor confidence and potentially a higher valuation of the company.\n",
      "\n",
      "In summary, based on the calculated profit margin of 20%, the company appears to be profitable and well-managed, but ongoing analysis will be necessary to ensure that it remains competitive and sustainable in the long term.\n",
      "\n",
      "Liquidity Analysis:\n",
      " To analyze the company's liquidity, we can calculate the **current ratio**. The current ratio is a liquidity ratio that measures a company's ability to cover its short-term obligations with its short-term assets. It is calculated using the formula:\n",
      "\n",
      "\\[\n",
      "\\text{Current Ratio} = \\frac{\\text{Current Assets}}{\\text{Current Liabilities}}\n",
      "\\]\n",
      "\n",
      "However, in this case, we do not have specific information about current assets and current liabilities. Instead, we can use total assets and total liabilities to provide a general sense of liquidity.\n",
      "\n",
      "Given:\n",
      "- Total Assets = $15 million\n",
      "- Total Liabilities = $7 million\n",
      "\n",
      "A more general measure of liquidity can be derived from the **debt-to-equity ratio** or simply analyzing the relationship between assets and liabilities. \n",
      "\n",
      "### Debt-to-Equity Analysis\n",
      "1. **Equity Calculation**:\n",
      "   \\[\n",
      "   \\text{Equity} = \\text{Total Assets} - \\text{Total Liabilities} = 15\\, \\text{million} - 7\\, \\text{million} = 8\\, \\text{million}\n",
      "   \\]\n",
      "\n",
      "2. **Debt-to-Equity Ratio**:\n",
      "   \\[\n",
      "   \\text{Debt-to-Equity Ratio} = \\frac{\\text{Total Liabilities}}{\\text{Equity}} = \\frac{7\\, \\text{million}}{8\\, \\text{million}} = 0.875\n",
      "   \\]\n",
      "\n",
      "### Analysis\n",
      "- **Current Ratio**: Without specific current assets and liabilities, we cannot compute the current ratio directly. However, a high current ratio (typically above 1) indicates good short-term financial health. \n",
      "- **Total Assets to Total Liabilities**: The company has $15 million in assets against $7 million in liabilities, leading to a significant buffer of assets available to cover liabilities.\n",
      "- **Debt-to-Equity Ratio of 0.875**: This suggests that the company uses a moderate level of debt compared to equity, which is generally seen as a healthy sign of leverage. A ratio below 1 suggests that the company has more equity than debt, indicating less risk and more financial stability.\n",
      "\n",
      "### Conclusion\n",
      "The company's liquidity appears to be strong, with sufficient assets to cover its liabilities. Although we cannot calculate the current ratio directly due to a lack of specific data, the overall financial structure indicated by total assets and liabilities suggests that the company is in a healthy position to meet its obligations. The debt-to-equity ratio further supports this conclusion, indicating a balanced approach to financing with a manageable level of debt.\n",
      "\n",
      "Cash Flow Analysis:\n",
      " Based on the provided cash flow from operations of $3 million, we can make several observations regarding the company's cash flow health:\n",
      "\n",
      "1. **Positive Cash Flow from Operations**: A cash flow from operations amounting to $3 million indicates that the company is generating cash from its core business activities. This is a positive sign, as it suggests that the company is able to cover its operating expenses and potentially reinvest in growth or distribute returns to shareholders.\n",
      "\n",
      "2. **Sustainability**: To assess the overall health of the cash flow, it's important to look at the sustainability of this cash flow level. If the $3 million is consistent over multiple periods and aligns with the company's revenue trends, it suggests a stable operational performance. However, if it fluctuates significantly or is a one-time occurrence, it may raise concerns about the reliability of cash generation.\n",
      "\n",
      "3. **Comparison to Industry Norms**: Analyzing this figure against industry benchmarks can provide additional insights. If the cash flow from operations is higher than industry peers, it may indicate a competitive advantage or effective management. Conversely, if it lags behind, it might highlight operational inefficiencies or market challenges.\n",
      "\n",
      "4. **Investment and Financing Needs**: A healthy cash flow from operations can afford the company flexibility in investments and financing. The company can use this cash to fund capital expenditures, pay down debt, or return value to shareholders. If the $3 million is sufficient to meet these needs without relying on external financing, it further strengthens the cash flow health.\n",
      "\n",
      "5. **Further Analysis Required**: While $3 million in cash flow from operations is a positive indicator, a more comprehensive analysis would require additional information, such as cash flows from investing and financing activities, net income, capital expenditures, and changes in working capital. This would provide a clearer picture of the company's overall cash flow dynamics.\n",
      "\n",
      "In summary, the company's cash flow from operations of $3 million is a positive indicator of operational health, but further context and comparative analysis are necessary for a full assessment of its cash flow health.\n"
     ]
    }
   ],
   "source": [
    "# Function to analyze the company's profitability\n",
    "def analyze_profitability(revenue, net_income):\n",
    "    \"\"\"Analyze the company's profitability.\n",
    "\n",
    "    Args:\n",
    "        revenue (float): Company's revenue.\n",
    "        net_income (float): Company's net income.\n",
    "\n",
    "    Returns:\n",
    "        str: Analysis of the company's profitability.\n",
    "    \"\"\"\n",
    "    # Define the prompt to analyze profitability based on the provided data\n",
    "    prompt = \"\"\"\n",
    "    Analyze the company's profitability based on the following data:\n",
    "    - Revenue: ${revenue} million\n",
    "    - Net Income: ${net_income} million\n",
    "\n",
    "    Calculate the profit margin and provide a brief analysis of the company's profitability.\n",
    "    \"\"\"\n",
    "    # Call the function to get the model's response for profitability analysis\n",
    "    return run_prompt(prompt, revenue=revenue, net_income=net_income)\n",
    "\n",
    "# Function to analyze the company's liquidity\n",
    "def analyze_liquidity(total_assets, total_liabilities):\n",
    "    \"\"\"Analyze the company's liquidity.\n",
    "\n",
    "    Args:\n",
    "        total_assets (float): Company's total assets.\n",
    "        total_liabilities (float): Company's total liabilities.\n",
    "\n",
    "    Returns:\n",
    "        str: Analysis of the company's liquidity.\n",
    "    \"\"\"\n",
    "    # Define the prompt to analyze liquidity based on the provided data\n",
    "    prompt = \"\"\"\n",
    "    Analyze the company's liquidity based on the following data:\n",
    "    - Total Assets: ${total_assets} million\n",
    "    - Total Liabilities: ${total_liabilities} million\n",
    "\n",
    "    Calculate the current ratio and provide a brief analysis of the company's liquidity.\n",
    "    \"\"\"\n",
    "    # Call the function to get the model's response for liquidity analysis\n",
    "    return run_prompt(prompt, total_assets=total_assets, total_liabilities=total_liabilities)\n",
    "\n",
    "# Function to analyze the company's cash flow\n",
    "def analyze_cash_flow(cash_flow):\n",
    "    \"\"\"Analyze the company's cash flow.\n",
    "\n",
    "    Args:\n",
    "        cash_flow (float): Company's cash flow from operations.\n",
    "\n",
    "    Returns:\n",
    "        str: Analysis of the company's cash flow.\n",
    "    \"\"\"\n",
    "    # Define the prompt to analyze cash flow based on the provided data\n",
    "    prompt = \"\"\"\n",
    "    Analyze the company's cash flow based on the following data:\n",
    "    - Cash Flow from Operations: ${cash_flow} million\n",
    "\n",
    "    Provide a brief analysis of the company's cash flow health.\n",
    "    \"\"\"\n",
    "    # Call the function to get the model's response for cash flow analysis\n",
    "    return run_prompt(prompt, cash_flow=cash_flow)\n",
    "\n",
    "# Run the chained subtasks\n",
    "profitability_analysis = analyze_profitability(10, 2)\n",
    "liquidity_analysis = analyze_liquidity(15, 7)\n",
    "cash_flow_analysis = analyze_cash_flow(3)\n",
    "\n",
    "# Print the results of all three analyses\n",
    "print(\"Profitability Analysis:\\n\", profitability_analysis)\n",
    "print(\"\\nLiquidity Analysis:\\n\", liquidity_analysis)\n",
    "print(\"\\nCash Flow Analysis:\\n\", cash_flow_analysis)"
   ]
  },
  {
   "cell_type": "markdown",
   "metadata": {
    "id": "zODjvUl9RX1N"
   },
   "source": [
    "1. `analyze_profitability(revenue, net_income)`: This function takes in two parameters: `revenue` and `net_income`. The prompt provided to the language model requests it to analyze the company's profitability based on these two data points. The model is asked to calculate the profit margin (which is generally calculated as `Net Income / Revenue`) and provide a brief analysis of the company’s profitability.\n",
    "2. `analyze_liquidity(total_assets, total_liabilities)`: This function works similarly to the previous one but focuses on liquidity. The parameters `total_assets` and `total_liabilities` are used to evaluate the company's liquidity by calculating its current ratio (which is typically `Total Assets / Total Liabilities`).\n",
    "3. `analyze_cash_flow(cash_flow)`: In this function, the focus shifts to analyzing the company’s cash flow from operations. The model is prompted to provide an analysis of the company’s cash flow health, which is a key indicator of the company’s operational efficiency and its ability to generate cash.\n",
    "\n",
    "\n",
    "### Integrating results\n",
    "Once we have the individual analyses from the subtasks—profitability, liquidity, and cash flow—we need to combine them into a single, comprehensive assessment of the company's overall financial health. This step is crucial because, while each analysis provides valuable insights into a specific financial aspect of the company, it is only by considering them together that we can form a full picture of the company's financial position.\n",
    "\n",
    "In this section, we will demonstrate how to integrate the results from the subtasks and synthesize them into an overall financial health assessment. This is achieved by creating a new prompt that includes the outputs from each subtask as input, and instructing the language model to summarize and evaluate the company's financial situation based on all the provided information."
   ]
  },
  {
   "cell_type": "code",
   "execution_count": 6,
   "metadata": {
    "id": "Wx9hTZ-pD2Jg"
   },
   "outputs": [
    {
     "name": "stdout",
     "output_type": "stream",
     "text": [
      "Overall Financial Health Analysis:\n",
      " ### Overall Assessment of the Company's Financial Health\n",
      "\n",
      "The company's financial health can be evaluated through three key analyses: profitability, liquidity, and cash flow. Here's a summary of the findings from each analysis:\n",
      "\n",
      "#### Profitability Analysis\n",
      "- **Profit Margin**: The company has a profit margin of **20%**, meaning it retains 20 cents of profit for every dollar of revenue. \n",
      "  - **Efficiency**: This indicates strong operational efficiency and effective cost management.\n",
      "  - **Comparison**: A comparison to industry averages could further validate its competitive positioning.\n",
      "  - **Sustainability**: While the current margin is promising, ongoing assessment will be necessary to ensure it remains sustainable amidst market fluctuations.\n",
      "\n",
      "#### Liquidity Analysis\n",
      "- **Total Assets vs. Total Liabilities**: The company has total assets of **$15 million** and total liabilities of **$7 million**, providing a significant buffer to cover its obligations.\n",
      "- **Debt-to-Equity Ratio**: The debt-to-equity ratio of **0.875** suggests a balanced use of debt, indicating that the company has more equity than liabilities. This is generally seen as a sign of financial stability with manageable risk.\n",
      "- **Current Ratio**: Although we cannot directly calculate the current ratio due to the absence of specific current assets and liabilities, the overall asset-to-liability position indicates a strong liquidity profile.\n",
      "\n",
      "#### Cash Flow Analysis\n",
      "- **Cash Flow from Operations**: The company generates **$3 million** in cash flow from operations, a positive indicator of its ability to cover operating expenses and reinvest in the business.\n",
      "  - **Sustainability**: The sustainability of this cash flow figure over time is crucial. If consistent, it reflects solid operational performance.\n",
      "  - **Flexibility**: This cash flow provides the company with flexibility for investments, debt repayment, or shareholder returns.\n",
      "\n",
      "### Overall Evaluation\n",
      "In summary, the company appears to be in a strong financial position characterized by:\n",
      "\n",
      "1. **Strong Profitability**: A 20% profit margin signifies effective cost management and potential competitive advantages.\n",
      "2. **Healthy Liquidity**: With a favorable asset-to-liability ratio and a moderate debt-to-equity ratio, the company demonstrates a solid ability to meet its short-term obligations and maintain financial stability.\n",
      "3. **Positive Cash Flow**: The generation of $3 million in cash flow from operations indicates robust operational performance and the ability to fund growth or return value to shareholders.\n",
      "\n",
      "### Recommendations\n",
      "- **Continuous Monitoring**: It is essential for the company to continuously monitor its profit margins, cash flow sustainability, and liquidity ratios to ensure ongoing financial health.\n",
      "- **Benchmarking**: Comparing profitability and cash flow metrics against industry peers will provide further insights into performance and areas for improvement.\n",
      "- **Investment in Growth**: With strong cash flow, the company should consider strategic investments to fuel growth while maintaining its financial stability.\n",
      "\n",
      "Overall, the company is positioned well for future growth and stability, assuming it continues to manage its operations effectively and adapt to market conditions.\n"
     ]
    }
   ],
   "source": [
    "# Function to integrate results from subtasks to provide an overall analysis\n",
    "def integrate_results(profitability, liquidity, cash_flow):\n",
    "    \"\"\"Integrate the results from subtasks to provide an overall analysis.\n",
    "\n",
    "    Args:\n",
    "        profitability (str): Profitability analysis.\n",
    "        liquidity (str): Liquidity analysis.\n",
    "        cash_flow (str): Cash flow analysis.\n",
    "\n",
    "    Returns:\n",
    "        str: Overall analysis of the company's financial health.\n",
    "    \"\"\"\n",
    "    # Define the prompt for integrating results into an overall analysis\n",
    "    prompt = \"\"\"\n",
    "    Based on the following analyses, provide an overall assessment of the company's financial health:\n",
    "\n",
    "    Profitability Analysis:\n",
    "    {profitability}\n",
    "\n",
    "    Liquidity Analysis:\n",
    "    {liquidity}\n",
    "\n",
    "    Cash Flow Analysis:\n",
    "    {cash_flow}\n",
    "\n",
    "    Summarize the key points and give an overall evaluation of the company's financial position.\n",
    "    \"\"\"\n",
    "    # Pass the results from each analysis into the prompt and invoke the model to generate the overall analysis\n",
    "    return run_prompt(prompt, profitability=profitability, liquidity=liquidity, cash_flow=cash_flow)\n",
    "\n",
    "# Integrate the results of the three analyses into an overall financial health assessment\n",
    "overall_analysis = integrate_results(profitability_analysis, liquidity_analysis, cash_flow_analysis)\n",
    "print(\"Overall Financial Health Analysis:\\n\", overall_analysis)"
   ]
  },
  {
   "cell_type": "markdown",
   "metadata": {
    "id": "gu2lkT69D17I"
   },
   "source": [
    "1. `integrate_results(profitability, liquidity, cash_flow)`:This function is responsible for integrating the results from the three separate analyses into an overall financial assessment. The function creates a prompt that presents all three analyses to the language model and asks it to synthesize the key points from each one and provide an overall evaluation.\n",
    "2. Prompt design: The prompt is designed to be comprehensive and detailed. It includes placeholders for the results of the three analyses (profitability, liquidity, and cash flow). The model is asked to summarize the key points from each analysis and then provide an overarching evaluation of the company’s financial health. This prompt allows the model to process and integrate multiple aspects of the company's financial situation, leading to a cohesive and informative output.\n",
    "\n",
    "\n",
    "Breaking the task into subtasks and then integrating the results ensures that the process is systematic and efficient. Each analysis focuses on a specific area, while the integration step combines them into one comprehensive assessment.\n",
    "\n",
    "This approach makes the problem-solving process more manageable and ensures that the final output is well-rounded and aligned with the overall goal: to provide a comprehensive evaluation of the company’s financial health. This method ensures that each individual analysis is thorough, while the final integrated output gives a holistic view of the company's financial situation."
   ]
  }
 ],
 "metadata": {
  "colab": {
   "provenance": []
  },
  "kernelspec": {
   "display_name": "Python 3 (ipykernel)",
   "language": "python",
   "name": "python3"
  },
  "language_info": {
   "codemirror_mode": {
    "name": "ipython",
    "version": 3
   },
   "file_extension": ".py",
   "mimetype": "text/x-python",
   "name": "python",
   "nbconvert_exporter": "python",
   "pygments_lexer": "ipython3",
   "version": "3.8.19"
  }
 },
 "nbformat": 4,
 "nbformat_minor": 4
}
