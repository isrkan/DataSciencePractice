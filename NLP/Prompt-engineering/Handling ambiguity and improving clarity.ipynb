{
 "cells": [
  {
   "cell_type": "markdown",
   "metadata": {
    "id": "fF4XJRsipIHV"
   },
   "source": [
    "# Handling ambiguity and improving clarity in prompt engineering\n",
    "\n",
    "This notebook focuses on two aspects of prompt engineering: identifying and resolving ambiguous prompts, and techniques for writing clearer prompts. Ambiguous or vague prompts often lead to suboptimal or inconsistent results, which can make AI systems harder to work with.\n"
   ]
  },
  {
   "cell_type": "code",
   "execution_count": 1,
   "metadata": {
    "id": "KqftkbLQpMtY"
   },
   "outputs": [],
   "source": [
    "import os\n",
    "from langchain_openai import ChatOpenAI\n",
    "from langchain.prompts import PromptTemplate\n",
    "\n",
    "# Load environment variables\n",
    "from dotenv import load_dotenv\n",
    "\n",
    "# Load environment variables\n",
    "load_dotenv()\n",
    "\n",
    "# Set up OpenAI API key\n",
    "os.environ[\"OPENAI_API_KEY\"] = os.getenv('OPENAI_API_KEY')"
   ]
  },
  {
   "cell_type": "markdown",
   "metadata": {
    "id": "vnvJ2yVKpMdq"
   },
   "source": [
    "### Initialize the language model\n",
    "We instantiate a lightweight GPT model from OpenAI using LangChain."
   ]
  },
  {
   "cell_type": "code",
   "execution_count": 2,
   "metadata": {
    "id": "qNt2J4CMpMO1"
   },
   "outputs": [],
   "source": [
    "# Initialize the language model\n",
    "llm = ChatOpenAI(model=\"gpt-4o-mini-2024-07-18\")"
   ]
  },
  {
   "cell_type": "markdown",
   "metadata": {
    "id": "DJdhszbqpL81"
   },
   "source": [
    "## Identifying ambiguous prompts\n",
    "The first step in improving prompt clarity is recognizing when a prompt is ambiguous. Ambiguity arises when a prompt can be interpreted in multiple ways, leading to unclear or inconsistent answers from the AI. In this section, we will analyze some ambiguous prompts and explore why they may lead to misinterpretations."
   ]
  },
  {
   "cell_type": "code",
   "execution_count": 3,
   "metadata": {
    "id": "wUhZjGwWpLn0"
   },
   "outputs": [
    {
     "name": "stdout",
     "output_type": "stream",
     "text": [
      "Prompt: Tell me about the bank.\n",
      "The prompt \"Tell me about the bank.\" is ambiguous for several reasons:\n",
      "\n",
      "1. **Type of Bank**: The term \"bank\" could refer to different types of financial institutions. It could mean a traditional commercial bank, an investment bank, a savings bank, or even a central bank. The listener might not know which type of bank the speaker is referring to.\n",
      "\n",
      "2. **Specific Bank**: The prompt does not specify which bank to discuss. There are numerous banks around the world, and without a specific name or context, it is unclear which institution is being referenced.\n",
      "\n",
      "3. **Context of Discussion**: The prompt lacks context regarding what aspects of the bank should be discussed. The listener could interpret this as a request for information about the bank's services, its history, its financial health, its role in the economy, recent news related to it, or its policies.\n",
      "\n",
      "4. **Geographical Location**: The term \"bank\" can also refer to banks in different geographical locations. For instance, \"the bank\" could refer to a local bank in a specific city or a bank operating on a national or international level.\n",
      "\n",
      "5. **Intended Audience**: The prompt does not clarify who the information is intended for. This could affect the depth and style of the response—whether it should be a detailed financial analysis or a general overview.\n",
      "\n",
      "### Possible Interpretations:\n",
      "1. **Request for a Specific Bank**: \"Tell me about Bank of America\" or \"Tell me about the European Central Bank.\"\n",
      "  \n",
      "2. **Discussion of Types of Banks**: \"Tell me about what commercial banks do versus investment banks.\"\n",
      "\n",
      "3. **Historical Overview**: \"Tell me about the history of banking in the United States.\"\n",
      "\n",
      "4. **Current Events**: \"Tell me about recent news related to JPMorgan Chase.\"\n",
      "\n",
      "5. **Banking Operations**: \"Tell me about how banks lend money and manage deposits.\"\n",
      "\n",
      "6. **Regulatory Environment**: \"Tell me about the regulations that govern banks in the EU.\"\n",
      "\n",
      "7. **Personal Experience**: \"Tell me about your experience with your local bank.\"\n",
      "\n",
      "In summary, the ambiguity arises from the lack of specificity regarding the type of bank, the particular institution, the context of the discussion, geographical considerations, and the intended audience for the information.\n",
      "--------------------------------------------------\n",
      "Prompt: What's the best way to get to school?\n",
      "The prompt \"What's the best way to get to school?\" is ambiguous for several reasons:\n",
      "\n",
      "1. **Mode of Transportation**: The question does not specify the mode of transportation. \"Best way\" could refer to walking, cycling, driving, taking public transport, or even carpooling. Each mode has different implications regarding time, cost, convenience, and environmental impact.\n",
      "\n",
      "2. **Criteria for \"Best\"**: The term \"best\" is subjective and can vary based on different criteria. For example:\n",
      "   - **Fastest route**: Which route gets you there in the least amount of time?\n",
      "   - **Safest route**: Which way minimizes risks, such as traffic or unsafe neighborhoods?\n",
      "   - **Cheapest option**: Which way has the lowest cost, considering factors like fuel, bus fares, or maintenance?\n",
      "   - **Healthiest choice**: Which option promotes physical activity, such as walking or cycling?\n",
      "   - **Most convenient**: Which way is easiest based on the individual's schedule or lifestyle, such as proximity to other commitments?\n",
      "\n",
      "3. **Starting Point**: The question does not specify where the person is starting from. The \"best way\" could differ significantly depending on their location relative to the school.\n",
      "\n",
      "4. **Time of Day**: The time of day can affect traffic patterns, public transport schedules, and safety, making \"best\" different depending on when the journey is being made.\n",
      "\n",
      "5. **School Location**: There may be multiple schools referred to as \"school.\" Without specifying which school, the answer could vary widely.\n",
      "\n",
      "### Possible Interpretations:\n",
      "1. What is the fastest route to school from my current location?\n",
      "2. What is the safest way to get to school, considering potential dangers on the route?\n",
      "3. What is the most cost-effective way to travel to school?\n",
      "4. What is the healthiest way to get to school, such as walking or biking?\n",
      "5. What is the most convenient route to school considering my schedule and other commitments?\n",
      "6. What is the best way to get to a specific school (e.g., if there are multiple schools nearby)?\n",
      "\n",
      "In summary, the ambiguity arises from the lack of specificity regarding transportation mode, criteria for \"best,\" starting location, time, and which school is meant. Each of these factors can lead to different answers based on individual preferences and circumstances.\n",
      "--------------------------------------------------\n",
      "Prompt: Can you explain the theory?\n",
      "The prompt \"Can you explain the theory?\" is ambiguous for several reasons:\n",
      "\n",
      "1. **Lack of Specificity**: The term \"theory\" is vague and can refer to a multitude of concepts across various fields (e.g., scientific theories, mathematical theories, philosophical theories, etc.). Without specifying which theory is being referenced, the request lacks clarity.\n",
      "\n",
      "2. **Context Dependency**: The understanding of what theory is being referred to could vary significantly based on the context in which the question is asked. Different audiences might have different interpretations based on their background knowledge.\n",
      "\n",
      "3. **Depth of Explanation**: The request does not specify the level of detail or depth required in the explanation. It could range from a brief overview to an in-depth analysis, which can lead to varied interpretations of what is expected.\n",
      "\n",
      "4. **Intended Audience**: The prompt does not indicate the intended audience for the explanation. Different audiences (experts, laypersons, students) would require different approaches and levels of complexity in the explanation.\n",
      "\n",
      "5. **Purpose of Explanation**: The reason behind the request for an explanation is not stated. Is the aim to gain a general understanding, to apply the theory practically, or to critique it? The purpose can significantly influence how the theory should be explained.\n",
      "\n",
      "### Possible Interpretations:\n",
      "1. **Scientific Theory**: The prompt could be asking for an explanation of a specific scientific theory, such as the theory of evolution, relativity, or quantum mechanics.\n",
      "\n",
      "2. **Mathematical Theory**: It could refer to a mathematical theory, such as number theory or game theory, requiring an explanation of its principles and applications.\n",
      "\n",
      "3. **Philosophical Theory**: The question might be seeking an explanation of a philosophical theory, like utilitarianism or existentialism.\n",
      "\n",
      "4. **Theoretical Framework in a Specific Field**: The theory could be related to a specific discipline, such as a theory in psychology (e.g., attachment theory), sociology (e.g., social learning theory), or economics (e.g., supply and demand theory).\n",
      "\n",
      "5. **Conceptual Theory**: The prompt might refer to a broad conceptual theory, like the theory of relativity or theories of personality.\n",
      "\n",
      "6. **Request for a Summary vs. In-Depth Analysis**: The prompt might be interpreted as a request for a simple summary or a detailed exploration, depending on the responder’s interpretation of \"explain.\"\n",
      "\n",
      "7. **Audience Level**: The request could be aimed at different audience levels (e.g., a high school student, a college student, or a professional in the field), which would affect the complexity and vocabulary used in the explanation.\n",
      "\n",
      "In summary, the ambiguity arises from the lack of context, specificity, and clarity regarding the desired depth and audience for the explanation of \"the theory.\"\n",
      "--------------------------------------------------\n"
     ]
    }
   ],
   "source": [
    "# List of ambiguous prompts to analyze\n",
    "ambiguous_prompts = [\n",
    "    \"Tell me about the bank.\",\n",
    "    \"What's the best way to get to school?\",\n",
    "    \"Can you explain the theory?\"\n",
    "]\n",
    "\n",
    "# Loop through the prompts and analyze their ambiguity\n",
    "for prompt in ambiguous_prompts:\n",
    "    analysis_prompt = f\"Analyze the following prompt for ambiguity: '{prompt}'. Explain why it's ambiguous and list possible interpretations.\"\n",
    "    print(f\"Prompt: {prompt}\")\n",
    "    print(llm.invoke(analysis_prompt).content)\n",
    "    print(\"-\" * 50)"
   ]
  },
  {
   "cell_type": "markdown",
   "metadata": {
    "id": "et60CSJspJ9X"
   },
   "source": [
    "We define a list of prompts that are vague and can have multiple interpretations. For each prompt, we ask the AI model to analyze it for ambiguity and explain possible interpretations, which helps us understand how the prompt might confuse the model. By examining the output, we can identify common sources of ambiguity.\n",
    "\n",
    "## Resolving ambiguity by providing context\n",
    "Once we have identified ambiguity, the next step is to resolve it by providing additional context. Ambiguity often arises when key information is missing, so clarifying the prompt can help the AI produce a more relevant response."
   ]
  },
  {
   "cell_type": "code",
   "execution_count": 4,
   "metadata": {
    "id": "V54ESQuUpJw4"
   },
   "outputs": [
    {
     "name": "stdout",
     "output_type": "stream",
     "text": [
      "Context: You are a financial advisor discussing savings accounts.\n",
      "Clarified response: When discussing savings accounts, it's essential to consider the bank's overall reputation, services, and offerings. Here are some key points to consider about a bank when evaluating its savings account options:\n",
      "\n",
      "1. **Reputation and Stability**: Look for banks that are well-established and have a strong financial reputation. You can check ratings from agencies like Moody's, Fitch, or Standard & Poor’s to assess their creditworthiness.\n",
      "\n",
      "2. **FDIC Insurance**: Ensure that the bank is a member of the Federal Deposit Insurance Corporation (FDIC), which protects individual depositors against bank failures, covering deposits up to $250,000 per depositor, per insured bank.\n",
      "\n",
      "3. **Interest Rates**: Compare the interest rates offered on savings accounts. Some banks offer competitive rates, especially online banks, which may have lower overhead costs. Look for the Annual Percentage Yield (APY) to understand the potential earnings on your savings.\n",
      "\n",
      "4. **Fees**: Check for any fees associated with the savings account, such as monthly maintenance fees, minimum balance requirements, and withdrawal fees. Some banks may waive fees if you maintain a certain balance or set up direct deposits.\n",
      "\n",
      "5. **Accessibility**: Consider the bank's accessibility in terms of branch locations, ATMs, and online banking services. Good online banking features, mobile apps, and customer service can enhance your overall banking experience.\n",
      "\n",
      "6. **Account Features**: Look for additional features that may benefit you, such as automatic savings plans, rewards programs, or integration with budgeting tools. Some banks also offer options to link savings accounts with checking accounts for easy transfers.\n",
      "\n",
      "7. **Customer Service**: Research the quality of customer service the bank provides. Read reviews and testimonials to gauge the experiences of other customers.\n",
      "\n",
      "8. **Promotions and Bonuses**: Some banks may offer promotional rates or bonuses for opening a new savings account. Be sure to read the terms and conditions to understand how to qualify for these offers.\n",
      "\n",
      "By considering these factors, you can choose a bank that aligns with your savings goals and financial needs.\n",
      "--------------------------------------------------\n",
      "Context: You are a geographer describing river formations.\n",
      "Clarified response: In the context of river formations, a riverbank refers to the land alongside a river. It is the boundary that separates the flowing water of the river from the adjacent terrestrial landscape. Riverbanks play a crucial role in the ecology and hydrology of river systems, influencing both the physical characteristics of the river and the habitats surrounding it. Here are some key points about riverbanks:\n",
      "\n",
      "1. **Structure and Composition**: Riverbanks can vary widely in composition, consisting of materials such as soil, gravel, sand, or rock. The stability and erosion resistance of the bank depend on its composition and vegetation cover.\n",
      "\n",
      "2. **Erosion and Deposition**: The dynamics of river flow can lead to erosion on one side of the riverbank while causing sediment deposition on the other. This process shapes the landscape over time and can create features such as meanders, oxbow lakes, and floodplains.\n",
      "\n",
      "3. **Vegetation**: Vegetation along riverbanks, known as riparian vegetation, plays a significant role in stabilizing the banks, reducing erosion, and providing habitat for wildlife. Roots of plants help bind the soil, while the foliage can shade the water, influencing temperature and providing habitat for aquatic life.\n",
      "\n",
      "4. **Flooding**: Riverbanks are often designed to manage flooding, with natural and artificial barriers that can help contain high water levels. In flood-prone areas, levees and floodwalls may be constructed to protect adjacent lands.\n",
      "\n",
      "5. **Human Impact**: Human activities, such as urban development, agriculture, and dam construction, can significantly alter riverbanks. These changes can lead to increased erosion, habitat loss, and changes in water quality. Effective management practices are essential to mitigate these impacts and preserve the ecological integrity of riverbanks.\n",
      "\n",
      "6. **Cultural and Economic Importance**: Riverbanks are often sites of human activity, serving as locations for recreation, fishing, and agriculture. They can also hold cultural significance for local communities, often being places for gathering and traditional practices.\n",
      "\n",
      "Understanding the dynamics of riverbanks is crucial for managing river ecosystems, mitigating flood risks, and preserving biodiversity in these vital landscapes.\n",
      "--------------------------------------------------\n"
     ]
    }
   ],
   "source": [
    "def resolve_ambiguity(prompt, context):\n",
    "    \"\"\"\n",
    "    Resolve ambiguity in a prompt by providing additional context.\n",
    "\n",
    "    Args:\n",
    "    prompt (str): The original ambiguous prompt\n",
    "    context (str): Additional context to resolve ambiguity\n",
    "\n",
    "    Returns:\n",
    "    str: The AI's response to the clarified prompt\n",
    "    \"\"\"\n",
    "    # Clarifying the prompt with additional context\n",
    "    clarified_prompt = f\"{context}\\n\\nBased on this context, {prompt}\"\n",
    "    # Returning the AI's response to the clarified prompt\n",
    "    return llm.invoke(clarified_prompt).content\n",
    "\n",
    "# Example usage\n",
    "ambiguous_prompt = \"Tell me about the bank.\"\n",
    "contexts = [\n",
    "    \"You are a financial advisor discussing savings accounts.\",\n",
    "    \"You are a geographer describing river formations.\"\n",
    "]\n",
    "\n",
    "# Resolving ambiguity with different contexts\n",
    "for context in contexts:\n",
    "    print(f\"Context: {context}\")\n",
    "    print(f\"Clarified response: {resolve_ambiguity(ambiguous_prompt, context)}\")\n",
    "    print(\"-\" * 50)"
   ]
  },
  {
   "cell_type": "markdown",
   "metadata": {
    "id": "wTzWuZGLpJj9"
   },
   "source": [
    "- We define a function `resolve_ambiguity` that takes an ambiguous prompt and adds additional context to it. By specifying the context (like \"You are a financial advisor\"), we guide the AI toward the intended interpretation.\n",
    "- We provide two different contexts for the same ambiguous prompt, which should lead to different outputs depending on the context. This allows us to see how the AI adapts its response when additional context is provided.\n",
    "\n",
    "The goal is to show that by adding context, we can guide the model to produce more accurate and relevant responses, eliminating the ambiguity.\n",
    "\n",
    "## Techniques for writing clearer prompts\n",
    "Clearer prompts lead to better, more consistent responses from AI. One effective technique is to make prompts more specific and detailed, which removes any ambiguity about what is being asked.\n",
    "\n",
    "Let’s compare an unclear prompt with a clearer, more structured one."
   ]
  },
  {
   "cell_type": "code",
   "execution_count": 5,
   "metadata": {
    "id": "Z92ABUQNpGVu"
   },
   "outputs": [
    {
     "name": "stdout",
     "output_type": "stream",
     "text": [
      "Original Prompt Response:\n",
      "Could you please provide more details about what you are trying to make? This could be a recipe, a DIY project, or something else entirely. The more information you provide, the better I can assist you!\n",
      "\n",
      "Improved Prompt Response:\n",
      "Sure! Here’s a step-by-step guide for making a classic Margherita pizza, which is simple yet delicious. This recipe will yield one 12-inch pizza.\n",
      "\n",
      "### Ingredients\n",
      "\n",
      "**For the Dough:**\n",
      "- 2 cups (250g) all-purpose flour (plus extra for dusting)\n",
      "- 1 teaspoon salt\n",
      "- 1/2 teaspoon sugar\n",
      "- 1/2 teaspoon instant yeast\n",
      "- 3/4 cup (180ml) warm water (about 110°F or 43°C)\n",
      "- 1 tablespoon olive oil (optional)\n",
      "\n",
      "**For the Toppings:**\n",
      "- 1/2 cup (120ml) canned San Marzano tomatoes (or any high-quality crushed tomatoes)\n",
      "- 1 teaspoon salt\n",
      "- 1 cup fresh mozzarella cheese, torn into small pieces (preferably buffalo mozzarella)\n",
      "- Fresh basil leaves\n",
      "- Extra virgin olive oil for drizzling\n",
      "- Optional: Freshly cracked black pepper\n",
      "\n",
      "### Equipment Needed\n",
      "- Mixing bowl\n",
      "- Wooden spoon or dough scraper\n",
      "- Clean surface for kneading\n",
      "- Pizza stone or baking sheet\n",
      "- Rolling pin (optional)\n",
      "- Oven\n",
      "\n",
      "### Instructions\n",
      "\n",
      "#### Step 1: Prepare the Dough\n",
      "1. **Mix Dry Ingredients:** In a mixing bowl, combine the flour, salt, sugar, and instant yeast.\n",
      "2. **Add Water:** Gradually add the warm water to the dry ingredients, mixing with a wooden spoon or dough scraper until a shaggy dough forms.\n",
      "3. **Knead the Dough:** Transfer the dough to a lightly floured surface. Knead the dough for about 10 minutes until it's smooth and elastic. If using, incorporate the olive oil halfway through kneading.\n",
      "4. **First Rise:** Place the dough in a lightly oiled bowl, cover it with a damp cloth or plastic wrap, and let it rise in a warm place for about 1 to 2 hours, or until it has doubled in size.\n",
      "\n",
      "#### Step 2: Prepare the Sauce\n",
      "1. **Make the Sauce:** While the dough is rising, prepare the tomato sauce. In a bowl, crush the canned San Marzano tomatoes by hand or with a fork. Add salt to taste. You can also add a pinch of olive oil if desired.\n",
      "\n",
      "#### Step 3: Preheat the Oven\n",
      "1. **Oven Temperature:** About 30 minutes before you’re ready to bake, preheat your oven to its highest setting (usually around 475°F to 500°F or 245°C to 260°C). If you have a pizza stone, place it in the oven to preheat as well.\n",
      "\n",
      "#### Step 4: Shape the Pizza\n",
      "1. **Shape the Dough:** Once the dough has risen, gently punch it down to release air. Transfer it to a floured surface.\n",
      "2. **Form the Base:** Using your hands or a rolling pin, shape the dough into a 12-inch round. Make the edges slightly thicker to form a crust.\n",
      "3. **Transfer to Baking Surface:** If using a pizza stone, transfer the dough to a pizza peel dusted with flour. If using a baking sheet, place the shaped dough directly on the greased baking sheet.\n",
      "\n",
      "#### Step 5: Assemble the Pizza\n",
      "1. **Add Sauce:** Spread a thin layer of the prepared tomato sauce evenly over the dough, leaving a small border around the edges.\n",
      "2. **Add Cheese:** Distribute the torn mozzarella pieces evenly over the sauce.\n",
      "3. **Add Basil:** Tear a few fresh basil leaves and scatter them on top. You can add more after baking for freshness.\n",
      "4. **Drizzle with Olive Oil:** Lightly drizzle extra virgin olive oil over the toppings.\n",
      "\n",
      "#### Step 6: Bake the Pizza\n",
      "1. **Bake:** Carefully slide the pizza onto the preheated pizza stone or place the baking sheet in the oven. Bake for about 8 to 12 minutes, or until the crust is golden brown and the cheese is bubbling and slightly browned.\n",
      "\n",
      "#### Step 7: Serve\n",
      "1. **Finish and Serve:** Once baked, remove the pizza from the oven. Add a few more fresh basil leaves if desired, and let it cool for a minute. Slice and serve hot, with a drizzle of olive oil and freshly cracked black pepper if you like.\n",
      "\n",
      "Enjoy your homemade classic Margherita pizza!\n"
     ]
    }
   ],
   "source": [
    "def compare_prompt_clarity(original_prompt, improved_prompt):\n",
    "    \"\"\"\n",
    "    Compare the responses to an original prompt and an improved, clearer version.\n",
    "\n",
    "    Args:\n",
    "    original_prompt (str): The original, potentially unclear prompt\n",
    "    improved_prompt (str): An improved, clearer version of the prompt\n",
    "\n",
    "    Returns:\n",
    "    tuple: Responses to the original and improved prompts\n",
    "    \"\"\"\n",
    "    # Generating responses for both the original and improved prompts\n",
    "    original_response = llm.invoke(original_prompt).content\n",
    "    improved_response = llm.invoke(improved_prompt).content\n",
    "    return original_response, improved_response\n",
    "\n",
    "# Example of an unclear prompt and its improved version\n",
    "original_prompt = \"How do I make it?\"\n",
    "improved_prompt = \"Provide a step-by-step guide for making a classic margherita pizza, including ingredients and cooking instructions.\"\n",
    "\n",
    "# Get responses for both versions\n",
    "original_response, improved_response = compare_prompt_clarity(original_prompt, improved_prompt)\n",
    "\n",
    "# Output the responses\n",
    "print(\"Original Prompt Response:\")\n",
    "print(original_response)\n",
    "print(\"\\nImproved Prompt Response:\")\n",
    "print(improved_response)"
   ]
  },
  {
   "cell_type": "markdown",
   "metadata": {
    "id": "F-VteN3Gp6UR"
   },
   "source": [
    "- The function `compare_prompt_clarity` compares the output of an original, vague prompt with a more specific, improved version.\n",
    "- Then, we provide an example of a vague prompt and a more specific, clearer prompt. The AI is asked to respond to both the unclear and the clearer prompts. The goal here is to show how increasing the specificity of a prompt leads to better, more relevant responses from the model.\n",
    "\n",
    "## Using structured prompts for clarity\n",
    "Structured prompts guide the model to follow a specific format, improving the consistency and accuracy of the responses. In this section, we will define a structured prompt template that helps in obtaining detailed and well-organized AI answers."
   ]
  },
  {
   "cell_type": "code",
   "execution_count": 6,
   "metadata": {
    "id": "30rZ-YHSp6zQ"
   },
   "outputs": [
    {
     "name": "stdout",
     "output_type": "stream",
     "text": [
      "To analyze the impact of social media on society, we can consider the following aspects: \n",
      "\n",
      "1. **Communication and Connectivity**  \n",
      "2. **Mental Health and Well-being**  \n",
      "3. **Information Dissemination and Misinformation**  \n",
      "\n",
      "### 1. Communication and Connectivity\n",
      "\n",
      "Social media has revolutionized the way people communicate and connect with one another. It has enabled instantaneous communication across vast distances, allowing individuals to maintain relationships regardless of geographical barriers. Platforms like Facebook, Twitter, and Instagram have fostered communities that might not have been possible in the pre-digital age, allowing users to share experiences, interests, and support.\n",
      "\n",
      "However, this connectivity comes with drawbacks. While social media can enhance relationships, it can also lead to superficial interactions. Many users engage with others primarily through online platforms, which can detract from face-to-face communication skills and create a sense of isolation. Furthermore, the constant barrage of notifications and updates can lead to a feeling of being overwhelmed, causing stress and anxiety for some users.\n",
      "\n",
      "### 2. Mental Health and Well-being\n",
      "\n",
      "The impact of social media on mental health is a double-edged sword. On one hand, social media can provide support networks for individuals struggling with mental health issues, allowing them to share their experiences and find community among others with similar challenges. Online platforms can also serve as outlets for self-expression, creativity, and activism, which can contribute positively to an individual's self-esteem and sense of purpose.\n",
      "\n",
      "On the other hand, excessive use of social media has been linked to negative mental health outcomes, including anxiety, depression, and low self-esteem. The tendency to curate an idealized version of one’s life can lead to feelings of inadequacy among users who compare themselves to others. Additionally, cyberbullying and negative interactions can exacerbate mental health issues, particularly among vulnerable populations such as teenagers.\n",
      "\n",
      "### 3. Information Dissemination and Misinformation\n",
      "\n",
      "Social media plays a crucial role in the dissemination of information, providing a platform for news, educational content, and diverse perspectives. It has democratized information sharing, allowing voices that may have been marginalized in traditional media to be heard. This has the potential to foster greater awareness and engagement with social issues, encouraging civic participation and activism.\n",
      "\n",
      "However, the same platforms that facilitate the spread of valuable information also enable the rapid dissemination of misinformation and fake news. The algorithms that govern social media often prioritize engagement over accuracy, leading to the viral spread of misleading content. This has significant implications for public discourse, as misinformation can shape opinions, influence elections, and even affect public health, as seen during the COVID-19 pandemic. Efforts to combat misinformation are ongoing, but the challenge remains significant.\n",
      "\n",
      "### Conclusion\n",
      "\n",
      "In conclusion, social media has a profound impact on society, encompassing both positive and negative effects across communication, mental health, and the dissemination of information. While it fosters connectivity and can provide support and information, it also presents challenges that must be navigated carefully. As society continues to adapt to the evolving landscape of social media, it will be crucial to promote healthy usage practices, encourage critical thinking about information sources, and foster meaningful in-person connections. Balancing these aspects will be essential for maximizing the benefits of social media while mitigating its adverse effects.\n"
     ]
    }
   ],
   "source": [
    "# Structured prompt template\n",
    "structured_prompt = PromptTemplate(\n",
    "    input_variables=[\"topic\", \"aspects\", \"tone\"],\n",
    "    template=\"\"\"Provide an analysis of {topic} considering the following aspects:\n",
    "    1. {{aspects[0]}}\n",
    "    2. {{aspects[1]}}\n",
    "    3. {{aspects[2]}}\n",
    "\n",
    "    Present the analysis in a {tone} tone.\n",
    "    \"\"\"\n",
    ")\n",
    "\n",
    "# Example usage with input variables\n",
    "input_variables = {\n",
    "    \"topic\": \"the impact of social media on society\",\n",
    "    \"aspects\": [\"communication patterns\", \"mental health\", \"information spread\"],\n",
    "    \"tone\": \"balanced and objective\"\n",
    "}\n",
    "\n",
    "# Invoke the model with the structured prompt\n",
    "chain = structured_prompt | llm\n",
    "response = chain.invoke(input_variables).content\n",
    "print(response)"
   ]
  },
  {
   "cell_type": "markdown",
   "metadata": {
    "id": "Y5Q7JHQTqCOe"
   },
   "source": [
    "- A `PromptTemplate` is defined with placeholders for variables like topic, aspects, and tone. This ensures that responses are focused and follow a clear structure.\n",
    "- We provide input values for `topic`, `aspects`, and `tone`, ensuring that the model's output is tailored to these specific details. This approach is particularly useful when the goal is to obtain an in-depth, comprehensive answer.\n",
    "\n",
    "## Practical exercise: Improving prompt clarity\n",
    "Finally, we will practice improving the clarity of a few more vague prompts. We will ask the model to suggest clearer versions of unclear prompts and compare the results."
   ]
  },
  {
   "cell_type": "code",
   "execution_count": 7,
   "metadata": {
    "id": "2RTNbqJbp_EG"
   },
   "outputs": [
    {
     "name": "stdout",
     "output_type": "stream",
     "text": [
      "Original: What's the difference?\n",
      "Improved: \"What are the key differences between [Topic A] and [Topic B]?\"\n",
      "--------------------------------------------------\n",
      "Original: How does it work?\n",
      "Improved: Can you explain the process or mechanism behind how this system or concept operates?\n",
      "--------------------------------------------------\n",
      "Original: Why is it important?\n",
      "Improved: Why is understanding this topic important for personal growth and development?\n",
      "--------------------------------------------------\n"
     ]
    }
   ],
   "source": [
    "# List of unclear prompts\n",
    "unclear_prompts = [\n",
    "    \"What's the difference?\",\n",
    "    \"How does it work?\",\n",
    "    \"Why is it important?\"\n",
    "]\n",
    "\n",
    "def improve_prompt_clarity(unclear_prompt):\n",
    "    \"\"\"\n",
    "    Improve the clarity of a given prompt.\n",
    "\n",
    "    Args:\n",
    "    unclear_prompt (str): The original unclear prompt\n",
    "\n",
    "    Returns:\n",
    "    str: An improved, clearer version of the prompt\n",
    "    \"\"\"\n",
    "    # Ask the model to suggest a clearer version of the prompt\n",
    "    improvement_prompt = f\"The following prompt is unclear: '{unclear_prompt}'. Please provide a clearer, more specific version of this prompt. Output just the improved prompt and nothing else.\"\n",
    "    return llm.invoke(improvement_prompt).content\n",
    "\n",
    "# Loop through unclear prompts and apply the function to improve each unclear prompt\n",
    "for prompt in unclear_prompts:\n",
    "    improved_prompt = improve_prompt_clarity(prompt)\n",
    "    print(f\"Original: {prompt}\")\n",
    "    print(f\"Improved: {improved_prompt}\")\n",
    "    print(\"-\" * 50)"
   ]
  },
  {
   "cell_type": "markdown",
   "metadata": {
    "id": "NNktspUFp-qG"
   },
   "source": [
    "- We define a list of vague prompts.\n",
    "- We define a function `improve_prompt_clarity` that asks the AI to suggest a clearer version of a vague prompt.\n",
    "- For each unclear prompt, apply this function to suggest a clearer version. This lets us observe how the model can help refine ambiguous questions into more specific and actionable ones.\n",
    "\n",
    "This process helps identify areas where prompts can be made more explicit. The model suggests alternative versions that are more likely to generate accurate and relevant answers."
   ]
  }
 ],
 "metadata": {
  "colab": {
   "provenance": []
  },
  "kernelspec": {
   "display_name": "Python 3 (ipykernel)",
   "language": "python",
   "name": "python3"
  },
  "language_info": {
   "codemirror_mode": {
    "name": "ipython",
    "version": 3
   },
   "file_extension": ".py",
   "mimetype": "text/x-python",
   "name": "python",
   "nbconvert_exporter": "python",
   "pygments_lexer": "ipython3",
   "version": "3.8.19"
  }
 },
 "nbformat": 4,
 "nbformat_minor": 4
}
