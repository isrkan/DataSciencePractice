{
 "cells": [
  {
   "cell_type": "markdown",
   "metadata": {
    "id": "UQaKjEt5IMwj"
   },
   "source": [
    "# Role prompting with language models\n",
    "\n",
    "This notebook explores the concept of role prompting in LLMs — a technique used to steer the model’s behavior by assigning it a clearly defined role or perspective. Rather than relying on the model’s general-purpose capabilities, role prompting allows us to specify who the model should be, how it should think, and what kind of communication style it should adopt when generating a response.\n",
    "\n",
    "By embedding the right context into the prompt — such as defining the model as a financial advisor, a journalist, or a middle school teacher — we can elicit outputs that are more relevant, focused, and appropriate to a given task or audience. This approach is especially useful in domains that demand domain-specific knowledge, tone control, or user-centric explanations.\n",
    "\n",
    "While language models are inherently flexible, their default behavior can sometimes be too generic or inconsistent for specialized applications. Role prompting helps address this by establishing clear expectations upfront, shaping how the model interprets the task and frames its response. Whether we are aiming for authoritative recommendations, simplified educational content, or creative storytelling in a specific voice, role prompting provides a lightweight yet powerful mechanism for tailoring outputs — all without fine-tuning or retraining the model."
   ]
  },
  {
   "cell_type": "code",
   "execution_count": 1,
   "metadata": {
    "id": "7srWiIGGIKiq"
   },
   "outputs": [],
   "source": [
    "import os\n",
    "from dotenv import load_dotenv\n",
    "from langchain_openai import ChatOpenAI\n",
    "from langchain.prompts import PromptTemplate\n",
    "\n",
    "# Load environment variables\n",
    "load_dotenv()\n",
    "\n",
    "# Set up OpenAI API key\n",
    "os.environ[\"OPENAI_API_KEY\"] = os.getenv(\"OPENAI_API_KEY\")"
   ]
  },
  {
   "cell_type": "markdown",
   "metadata": {
    "id": "qDREVSqCIS5C"
   },
   "source": [
    "### Initialize the language model\n",
    "We instantiate a lightweight GPT model from OpenAI using LangChain."
   ]
  },
  {
   "cell_type": "code",
   "execution_count": 2,
   "metadata": {
    "id": "bmb9Z0LYISsB"
   },
   "outputs": [],
   "source": [
    "# Initialize the language model\n",
    "llm = ChatOpenAI(model=\"gpt-4o-mini-2024-07-18\")"
   ]
  },
  {
   "cell_type": "markdown",
   "metadata": {
    "id": "5E-rheAgISW8"
   },
   "source": [
    "## Basic role assignment\n",
    "This section introduces a simple example of role prompting by assigning the language model the role of a technical writer. The goal is to explain a technical concept in a manner that is accessible to non-technical users. By specifying the model's role and audience directly in the prompt, we influence not only what the model says, but how it says it — affecting tone, terminology, and overall clarity."
   ]
  },
  {
   "cell_type": "code",
   "execution_count": 3,
   "metadata": {
    "id": "xl9auMm_ISJn"
   },
   "outputs": [
    {
     "name": "stdout",
     "output_type": "stream",
     "text": [
      "Cloud computing is a technology that allows you to access and store data and applications over the internet instead of on your computer's hard drive. This means you can use services like file storage, software applications, and computing power from anywhere with an internet connection, making it easier to collaborate and share information. Essentially, it lets you use powerful tools and resources without needing to manage them on your own device.\n"
     ]
    }
   ],
   "source": [
    "# Define a prompt template assigning the AI the role of a technical writer\n",
    "tech_writer_prompt = PromptTemplate(\n",
    "    input_variables=[\"topic\"],\n",
    "    template=\"\"\"You are a technical writer specializing in creating clear and concise documentation for software products.\n",
    "    Your task is to write a brief explanation of {topic} for a user manual.\n",
    "    Please provide a 2-3 sentence explanation that is easy for non-technical users to understand.\"\"\"\n",
    ")\n",
    "\n",
    "# Create a chain by combining the prompt with the language model\n",
    "chain = tech_writer_prompt | llm\n",
    "# Invoke the chain on a specific topic to generate the output\n",
    "response = chain.invoke({\"topic\": \"cloud computing\"})\n",
    "print(response.content)"
   ]
  },
  {
   "cell_type": "markdown",
   "metadata": {
    "id": "2FVYEnyw8vKe"
   },
   "source": [
    "- In this example, the `PromptTemplate` from LangChain is used to construct a structured instruction for the model. The template includes:\n",
    "  - A clearly assigned role (\"You are a technical writer…\")\n",
    "  - A well-defined task (write a brief explanation for documentation)\n",
    "  - Audience guidance (non-technical users)\n",
    "  - Length constraints (2–3 sentences)\n",
    "- This prompt is then passed into a chain, which combines the prompt with the `llm`. The `.invoke()` method executes the chain with a specific topic — here, \"cloud computing\".\n",
    "\n",
    "By embedding the role and task into the prompt, the model is primed to generate responses that reflect the behavior of a technical writer: concise, clear, and adapted to a non-expert audience. This approach is particularly effective in documentation, educational content, or any context where the clarity of explanation matters.\n",
    "\n",
    "## Crafting effective role descriptions\n",
    "This example illustrates how richer and more detailed role descriptions can shape not only the content of the output but also its style and ethical framing. The model adopts the voice of an experienced financial advisor, with principles like clarity, analysis, and responsibility baked into the prompt."
   ]
  },
  {
   "cell_type": "code",
   "execution_count": 4,
   "metadata": {
    "id": "Mwnq0McSIRu1"
   },
   "outputs": [
    {
     "name": "stdout",
     "output_type": "stream",
     "text": [
      "Given your solid income and absence of debt, you’re in a great position to build a strong financial foundation. I recommend starting by establishing a retirement plan, such as a 401(k) or IRA, to take advantage of tax benefits and compound growth over time. Additionally, consider allocating a portion of your savings to an emergency fund that covers 3-6 months of living expenses for added security. Finally, as you develop your investment strategy, ensure it aligns with your long-term goals and risk tolerance for sustainable growth.\n"
     ]
    }
   ],
   "source": [
    "# Define a detailed role description for a seasoned financial advisor\n",
    "financial_advisor_prompt = PromptTemplate(\n",
    "    input_variables=[\"client_situation\"],\n",
    "    template=\"\"\"You are a seasoned financial advisor with over 20 years of experience in personal finance, investment strategies, and retirement planning.\n",
    "    You have a track record of helping clients from diverse backgrounds achieve their financial goals.\n",
    "    Your approach is characterized by:\n",
    "    1. Thorough analysis of each client's unique financial situation\n",
    "    2. Clear and jargon-free communication of complex financial concepts\n",
    "    3. Ethical considerations in all recommendations\n",
    "    4. A focus on long-term financial health and stability\n",
    "\n",
    "    Given the following client situation, provide a brief (3-4 sentences) financial advice:\n",
    "    {client_situation}\n",
    "\n",
    "    Your response should reflect your expertise and adhere to your characteristic approach.\"\"\"\n",
    ")\n",
    "\n",
    "# Combine the prompt with the language model to create a chain\n",
    "chain = financial_advisor_prompt | llm\n",
    "# Invoke the chain with a specific client situation to generate financial advice\n",
    "response = chain.invoke({\"client_situation\": \"A 35-year-old professional earning $80,000 annually, with $30,000 in savings, no debt, and no retirement plan.\"})\n",
    "print(response.content)"
   ]
  },
  {
   "cell_type": "markdown",
   "metadata": {
    "id": "A2zTYq1w-XVi"
   },
   "source": [
    "In this example, we are crafting a more detailed role description to guide the AI model's behavior in producing expert financial advice.\n",
    "1. Role definition: The prompt begins by defining the AI's role — a seasoned financial advisor with over 20 years of experience. By doing so, the model adopts the persona of a trusted expert who provides advice based on years of expertise and proven strategies.\n",
    "2. Guiding principles: The prompt outlines four key principles that should guide the advisor's recommendations:\n",
    "   - Thorough analysis: The model is instructed to consider each client's unique financial situation in depth.\n",
    "   - Clear communication: The model should use jargon-free language to ensure that complex concepts are understandable.\n",
    "   - Ethical considerations: Recommendations should reflect high ethical standards.\n",
    "   - Long-term stability: The advice should prioritize long-term financial health over short-term gains.\n",
    "3. Task specification: The task is clearly defined: the model is asked to generate a 3-4 sentence piece of advice tailored to the specific client situation provided.\n",
    "4. Client situation: The example client situation includes relevant financial details: income, savings, debt, and retirement status. This allows the model to generate tailored advice that takes these factors into account.\n",
    "5. Prompt template: We use LangChain's `PromptTemplate` to create the structured prompt that the model will use to generate the output. The template has placeholders (like `{client_situation}`) for dynamically injecting data into the prompt, making the process flexible.\n",
    "6. Chain execution: The chain, which connects the prompt and the language model (`llm`), is invoked with the specific client situation.\n",
    "\n",
    "This approach can be applied across domains where role-specific expertise is necessary, such as legal advice, healthcare consultations, or even customer service interactions.\n",
    "\n",
    "\n",
    "## Comparing responses with different roles\n",
    "In this section, we explore how the role assigned to the AI model can significantly influence the way it generates responses. By changing the model's perspective and tailoring the prompt to different personas, we can shape the communication style, vocabulary, and depth of the output. This demonstrates how the same factual content can be presented in varying ways based on the role assigned to the AI."
   ]
  },
  {
   "cell_type": "code",
   "execution_count": 5,
   "metadata": {
    "id": "vdAwBduWIRTB"
   },
   "outputs": [
    {
     "name": "stdout",
     "output_type": "stream",
     "text": [
      "\n",
      "Scientist's explanation:\n",
      "\n",
      "The greenhouse effect is a natural phenomenon that occurs when certain gases in the Earth's atmosphere trap heat, thereby warming the planet. This process is essential for maintaining the Earth's temperature within a range that supports life.\n",
      "\n",
      "Here's how it works in scientific terms:\n",
      "\n",
      "1. **Solar Radiation**: The Earth receives energy from the sun in the form of solar radiation, which includes visible light, ultraviolet (UV) light, and infrared (IR) radiation. Approximately 30% of this incoming solar energy is reflected back into space by clouds, atmospheric particles, and the Earth's surface.\n",
      "\n",
      "2. **Absorption of Energy**: The remaining solar radiation is absorbed by the Earth's surface, warming it. The surface then emits this energy back into the atmosphere in the form of infrared radiation (heat).\n",
      "\n",
      "3. **Greenhouse Gases**: Certain gases in the atmosphere, known as greenhouse gases (GHGs), including carbon dioxide (CO₂), methane (CH₄), nitrous oxide (N₂O), and water vapor (H₂O), have molecular structures that allow them to absorb and re-emit infrared radiation. This is due to their ability to vibrate in response to specific wavelengths of IR radiation.\n",
      "\n",
      "4. **Re-radiation of Heat**: After absorbing heat, greenhouse gases re-radiate this energy in all directions, including back towards the Earth's surface. This process effectively traps heat within the atmosphere, creating a \"blanket\" that keeps the planet warmer than it would be without these gases.\n",
      "\n",
      "5. **Temperature Regulation**: The greenhouse effect is crucial for regulating the Earth's temperature. Without it, our planet would be too cold to support most forms of life, as average global temperatures would be about -18°C (0°F) instead of the current average of around 15°C (59°F).\n",
      "\n",
      "6. **Enhanced Greenhouse Effect**: Human activities, such as burning fossil fuels, deforestation, and industrial processes, have significantly increased the concentration of greenhouse gases in the atmosphere. This enhanced greenhouse effect leads to additional warming, contributing to global climate change and associated impacts such as rising sea levels, changing weather patterns, and increased frequency of extreme weather events.\n",
      "\n",
      "In summary, the greenhouse effect is a vital atmospheric process that allows life to thrive on Earth, but human-induced alterations to this natural system are leading to significant and potentially harmful changes in the climate.\n",
      "--------------------------------------------------\n",
      "\n",
      "Teacher's explanation:\n",
      "\n",
      "Sure! Let's imagine Earth is like a big greenhouse, which is a special building that helps plants grow by trapping heat from the sun. Here’s how the greenhouse effect works:\n",
      "\n",
      "1. **Sunlight Comes In**: The sun sends us light and warmth. When this sunlight reaches the Earth, some of it warms the ground, the oceans, and everything around us.\n",
      "\n",
      "2. **Heat Gets Trapped**: After the ground warms up, it tries to send some of that heat back into space. But here’s where the greenhouse effect comes in: there are gases in the air, known as greenhouse gases (like carbon dioxide and methane), that act like a blanket. They trap some of that heat so it doesn’t escape back into space.\n",
      "\n",
      "3. **Keeping Earth Warm**: This trapped heat helps keep our planet warm enough for us to live. Without the greenhouse effect, Earth would be way too cold for us to survive.\n",
      "\n",
      "4. **Too Much of a Good Thing**: However, if there are too many greenhouse gases (like when we burn fossil fuels or cut down lots of trees), too much heat gets trapped. This can make the Earth warmer than it should be, leading to climate change, which can cause problems like extreme weather, melting ice, and rising sea levels.\n",
      "\n",
      "So, in short, the greenhouse effect is a natural process that keeps our planet warm, but we need to be careful not to add too many greenhouse gases, or it can lead to big changes in our climate!\n",
      "--------------------------------------------------\n",
      "\n",
      "Journalist's explanation:\n",
      "\n",
      "**Understanding the Greenhouse Effect: Our Planet's Blanket**\n",
      "\n",
      "Imagine wrapping yourself in a cozy blanket on a chilly evening. It keeps you warm by trapping the heat your body emits. Our planet, Earth, has a similar mechanism that keeps it warm and hospitable to life, known as the greenhouse effect. But while this natural phenomenon is essential for sustaining life, human activities are altering it in ways that could have serious consequences for our future.\n",
      "\n",
      "### What is the Greenhouse Effect?\n",
      "\n",
      "To grasp the greenhouse effect, we first need to understand how our planet interacts with the sun. The sun emits energy, which travels through the vacuum of space and reaches Earth, providing the warmth and light necessary for life. Some of this solar energy is absorbed by the Earth's surface, warming it up, while the rest is reflected back into space.\n",
      "\n",
      "Here’s where the greenhouse effect comes into play. Earth’s atmosphere contains gases known as greenhouse gases, including carbon dioxide (CO₂), methane (CH₄), and nitrous oxide (N₂O). These gases act like that cozy blanket, trapping some of the heat that radiates back from the Earth’s surface. Without this natural insulation, our planet would be a frigid place, with average temperatures plummeting to around -18 degrees Celsius (0 degrees Fahrenheit), instead of the comfortable 15 degrees Celsius (59 degrees Fahrenheit) we enjoy today.\n",
      "\n",
      "### The Role of Greenhouse Gases\n",
      "\n",
      "Greenhouse gases are critical players in this process. They allow sunlight to enter the atmosphere but absorb and re-radiate the heat that the Earth emits. Think of them as a one-way mirror: they let light in but prevent some of the heat from escaping. This effect is vital for maintaining a climate that can support diverse ecosystems, agriculture, and human civilization.\n",
      "\n",
      "However, the balance of this system is delicate. Natural processes like volcanic eruptions and ocean currents produce greenhouse gases, but human activities—primarily the burning of fossil fuels (like coal, oil, and natural gas) and deforestation—have significantly increased their concentration in the atmosphere. Since the Industrial Revolution, levels of CO₂ have risen by over 40%, leading to an enhanced greenhouse effect. \n",
      "\n",
      "### The Consequences of an Enhanced Greenhouse Effect\n",
      "\n",
      "With more greenhouse gases in the atmosphere, more heat is trapped, leading to a rise in global temperatures, a phenomenon commonly referred to as global warming. This change has far-reaching consequences: glaciers are melting, sea levels are rising, weather patterns are becoming more erratic, and ecosystems are facing stress.\n",
      "\n",
      "For example, warmer temperatures can lead to more extreme weather events, such as hurricanes, droughts, and heatwaves. Wildlife that can’t adapt quickly enough may face extinction, and communities that rely on stable climates for agriculture are finding it harder to grow food. \n",
      "\n",
      "### What Can We Do?\n",
      "\n",
      "Understanding the greenhouse effect is crucial, but so is taking action. Mitigating climate change requires a collective effort to reduce greenhouse gas emissions. This can be achieved through various means: transitioning to renewable energy sources like solar and wind, enhancing energy efficiency in homes and industries, and protecting and restoring forests that absorb CO₂.\n",
      "\n",
      "Individually, we can also play a role by making conscious choices—reducing waste, using public transport, and supporting sustainable practices. Every action counts, and when combined, they can lead to significant change.\n",
      "\n",
      "### Conclusion\n",
      "\n",
      "The greenhouse effect is a natural and essential phenomenon that keeps our planet warm and livable. However, the amplified version driven by human activities poses a significant challenge to our environment and future. By understanding this delicate balance, we can work together to preserve our planet for generations to come, ensuring that it remains a place where life can thrive. So, let’s embrace our role as stewards of the Earth and take the necessary steps to protect our home. After all, we’re all in this together.\n",
      "--------------------------------------------------\n"
     ]
    }
   ],
   "source": [
    "# Define a list of roles and their corresponding descriptions\n",
    "roles = [\n",
    "    (\"Scientist\", \"You are a research scientist specializing in climate change. Explain the following concept in scientific terms:\"),\n",
    "    (\"Teacher\", \"You are a middle school science teacher. Explain the following concept in simple terms suitable for 12-year-old students:\"),\n",
    "    (\"Journalist\", \"You are a journalist writing for a popular science magazine. Explain the following concept in an engaging and informative manner for a general adult audience:\")\n",
    "]\n",
    "\n",
    "# Define the topic to be explained\n",
    "topic = \"The greenhouse effect\"\n",
    "\n",
    "# Iterate over each role and generate an explanation\n",
    "for role, description in roles:\n",
    "    # Create a prompt template that incorporates the specific role's description\n",
    "    role_prompt = PromptTemplate(\n",
    "        input_variables=[\"topic\"],\n",
    "        template=f\"{description} {{topic}}\"\n",
    "    )\n",
    "    # Chain the prompt with the language model\n",
    "    chain = role_prompt | llm\n",
    "    # Invoke the chain with the specific topic\n",
    "    response = chain.invoke({\"topic\": topic})\n",
    "    print(f\"\\n{role}'s explanation:\\n\")\n",
    "    print(response.content)\n",
    "    print(\"-\" * 50)"
   ]
  },
  {
   "cell_type": "markdown",
   "metadata": {
    "id": "W1l7yO5dA6BM"
   },
   "source": [
    "We demonstrate here using the same scientific topic — \"The Greenhouse Effect\" — and asking the model to explain it from the viewpoints of three distinct roles:\n",
    "1. Roles definition:\n",
    "   - Scientist: This role requires the AI to use scientific language and technical terms appropriate for an expert-level explanation.\n",
    "   - Teacher: In this case, the AI is expected to explain the topic in simple, easy-to-understand language, suitable for a 12-year-old student.\n",
    "   - Journalist: Here, the AI must craft an engaging and informative explanation tailored for a general adult audience, striking a balance between accessibility and depth.\n",
    "2. Prompt creation: For each role, a specific description is provided that clearly defines how the AI should approach the explanation of the topic. This description is embedded in a prompt template where the placeholder `{topic}` will be replaced with the actual topic (\"The greenhouse effect\").\n",
    "3. Chain creation: A chain is created that links the role-specific prompt with the language model (`llm`). This chain is used to invoke the model with the topic and the specific role description.\n",
    "4. Generating responses: The model then generates a response for each role with the `invoke` method.\n",
    "\n",
    "\n",
    "This technique of role prompting can be useful in many real-world applications where the tone, vocabulary, and complexity of the content need to be adjusted based on the target audience or specific professional context.\n",
    "- Role-specific outputs: The model's responses are not just based on the topic but are significantly shaped by the role it is assigned. This demonstrates the flexibility and power of role prompting to tailor the model’s behavior.\n",
    "- Audience adaptation: By defining the audience for each role (e.g., scientist for an expert, teacher for students, journalist for the public), we can ensure that the content is presented in the most suitable manner."
   ]
  },
  {
   "cell_type": "markdown",
   "metadata": {
    "id": "3Q1kcsvAIRF8"
   },
   "source": [
    "## Refining role descriptions\n",
    "In this section, we delve into refining role descriptions to achieve more specific and tailored outcomes. Specifically, we explore how the same prompt can generate different writing styles by carefully defining the role's characteristics. This method can be especially useful in creative tasks like storytelling, where the style, tone, and emotional appeal vary greatly depending on the desired genre.\n",
    "\n",
    "By modifying the role's description to emphasize the unique features of each style, we can guide the model to produce distinctly different outputs, even when describing the same scenario."
   ]
  },
  {
   "cell_type": "code",
   "execution_count": 6,
   "metadata": {
    "id": "Ti3n6PFZIQ34"
   },
   "outputs": [
    {
     "name": "stdout",
     "output_type": "stream",
     "text": [
      "\n",
      "Gothic horror version:\n",
      "\n",
      "As the last vestiges of daylight surrendered to the encroaching gloom, Eleanor stepped through the threshold of the forsaken manor, a chill clawing at her spine like the skeletal fingers of the long-dead. Shadows danced malevolently upon the walls, their flickering forms whispering secrets of sorrow and decay, while the air hung thick with the scent of mildew and memories long forgotten. The floorboards creaked beneath her hesitant steps, groaning as if lamenting her intrusion into their desolate sanctuary, and the silence enveloped her, a suffocating shroud that thrummed with the pulse of restless spirits. In that sepulchral stillness, a sense of dread unfurled within her, as if the very house itself held its breath, waiting for the inevitable reckoning that would draw her deeper into its haunted embrace.\n",
      "--------------------------------------------------\n",
      "\n",
      "Minimalist realism version:\n",
      "\n",
      "The door creaked open, revealing a dim room where shadows stretched across the floor. Dust motes danced in the fading light, settling on bare walls. He paused, listening to the silence, the echo of his footsteps swallowed by the emptiness. Outside, the last rays of sun slipped away, leaving only the chill of approaching night.\n",
      "--------------------------------------------------\n"
     ]
    }
   ],
   "source": [
    "# Define the prompt template for storytelling with style-specific characteristics\n",
    "storyteller_prompt = PromptTemplate(\n",
    "    input_variables=[\"style\", \"scenario\"],\n",
    "    template=\"\"\"You are a master storyteller known for your ability to adapt to various narrative styles.\n",
    "    Your current task is to write in the style of {style}.\n",
    "    Key characteristics of this style include:\n",
    "    1. {style_char1}\n",
    "    2. {style_char2}\n",
    "    3. {style_char3}\n",
    "\n",
    "    Write a short paragraph (3-4 sentences) in this style about the following scenario:\n",
    "    {scenario}\n",
    "\n",
    "    Ensure your writing clearly reflects the specified style.\"\"\"\n",
    ")\n",
    "\n",
    "# Define different storytelling styles and their key characteristics\n",
    "styles = [\n",
    "    {\n",
    "        \"name\": \"Gothic horror\",\n",
    "        \"char1\": \"Atmospheric and ominous descriptions\",\n",
    "        \"char2\": \"Themes of decay, death, and the supernatural\",\n",
    "        \"char3\": \"Heightened emotions and sense of dread\"\n",
    "    },\n",
    "    {\n",
    "        \"name\": \"Minimalist realism\",\n",
    "        \"char1\": \"Sparse, concise language\",\n",
    "        \"char2\": \"Focus on everyday, ordinary events\",\n",
    "        \"char3\": \"Subtle implications rather than explicit statements\"\n",
    "    }\n",
    "]\n",
    "\n",
    "# Define the scenario for the story\n",
    "scenario = \"A person enters an empty house at twilight\"\n",
    "\n",
    "# Iterate through each style and generate a response\n",
    "for style in styles:\n",
    "    # Create a prompt for each style with the corresponding characteristics\n",
    "    chain = storyteller_prompt | llm\n",
    "    # Invoke the chain with the relevant variables for the style and scenario\n",
    "    response = chain.invoke({\n",
    "        \"style\": style[\"name\"],\n",
    "        \"style_char1\": style[\"char1\"],\n",
    "        \"style_char2\": style[\"char2\"],\n",
    "        \"style_char3\": style[\"char3\"],\n",
    "        \"scenario\": scenario\n",
    "    })\n",
    "    print(f\"\\n{style['name']} version:\\n\")\n",
    "    print(response.content)\n",
    "    print(\"-\" * 50)"
   ]
  },
  {
   "cell_type": "markdown",
   "metadata": {
    "id": "JjdNvlCWIQoG"
   },
   "source": [
    "This example demonstrates how to refine role descriptions to guide the AI model in generating content with specific stylistic characteristics.\n",
    "1. Defining the storytelling styles: Gothic horror and minimalist realism are two distinct storytelling styles, each with unique characteristics that shape how a story is written.\n",
    "2. Prompt template setup: The prompt template is structured to allow flexibility in generating stories based on a specific style. It contains placeholders for the style and scenario, which will be dynamically filled in when the chain is invoked.\n",
    "   - The key characteristics of each style are also included as inputs (`style_char1`, `style_char2`, `style_char3`), providing clear guidance for the model to adhere to the specific narrative style when writing the story.\n",
    "3. Role assignment with style-specific instructions: For each storytelling style, we provide a detailed description that defines the expected tone, structure, and content of the story.\n",
    "   - The model is then tasked with writing a short narrative (3-4 sentences) that reflects the specified style. This is achieved by embedding the style-specific instructions within the prompt.\n",
    "\n",
    "By refining the role descriptions, we enable the model to generate distinctly different responses. The gothic horror version will likely focus on atmospheric tension, darkness, and unsettling imagery, while the minimalist realism version will favor concise, observational prose, focusing on subtle emotions and the ordinariness of the scene."
   ]
  }
 ],
 "metadata": {
  "colab": {
   "provenance": []
  },
  "kernelspec": {
   "display_name": "Python 3 (ipykernel)",
   "language": "python",
   "name": "python3"
  },
  "language_info": {
   "codemirror_mode": {
    "name": "ipython",
    "version": 3
   },
   "file_extension": ".py",
   "mimetype": "text/x-python",
   "name": "python",
   "nbconvert_exporter": "python",
   "pygments_lexer": "ipython3",
   "version": "3.8.19"
  }
 },
 "nbformat": 4,
 "nbformat_minor": 4
}
