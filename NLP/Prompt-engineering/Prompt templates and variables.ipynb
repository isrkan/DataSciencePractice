{
 "cells": [
  {
   "cell_type": "markdown",
   "id": "bcf05e57-d630-4475-b6b4-e43ea08026d8",
   "metadata": {},
   "source": [
    "# Prompt templates and variables\n",
    "\n",
    "This notebook introduces how to create and use prompt templates with variables to enhance interactions with AI language models. Templates make our prompts easier to manage, more adaptable, and reusable across different use cases. We will explore how to generate dynamic prompts for OpenAI's language models using two approaches:\n",
    "- LangChain's `PromptTemplate` for simple, structured inputs.\n",
    "- Custom Jinja2-based templates for advanced use cases like conditionals and loops. Using Jinja2 templating engine, we will learn to build flexible, reusable prompt structures that support dynamic content. \n",
    "\n",
    "Both methods allow you to define prompts that can be reused and dynamically adapted based on input. This approach makes it easier to manage, scale, and maintain complex applications involving AI."
   ]
  },
  {
   "cell_type": "code",
   "execution_count": 1,
   "id": "48b94747-f8b8-4e3e-a739-f8eccd8137f8",
   "metadata": {},
   "outputs": [],
   "source": [
    "import os\n",
    "import openai\n",
    "import openai\n",
    "from openai import OpenAI\n",
    "from dotenv import load_dotenv\n",
    "from jinja2 import Template\n",
    "from langchain.prompts import PromptTemplate\n",
    "from langchain_openai import ChatOpenAI\n",
    "\n",
    "# Load environment variables from .env file\n",
    "load_dotenv()\n",
    "\n",
    "# Set OpenAI API key\n",
    "openai.api_key = os.getenv('OPENAI_API_KEY')"
   ]
  },
  {
   "cell_type": "markdown",
   "id": "609f6a95-0bff-4d88-8e32-ebc40c19a2be",
   "metadata": {},
   "source": [
    "#### Initialize the language model\n",
    "We now initialize the `ChatOpenAI` model from LangChain. Here, we use `gpt-4o-mini`, a lightweight and responsive model suitable for interactive use cases."
   ]
  },
  {
   "cell_type": "code",
   "execution_count": 2,
   "id": "5c86e3e0-0f26-4efc-b541-cf5061d458fb",
   "metadata": {},
   "outputs": [],
   "source": [
    "# Initialize the language model\n",
    "llm = ChatOpenAI(model=\"gpt-4o-mini-2024-07-18\")"
   ]
  },
  {
   "cell_type": "markdown",
   "id": "c3270507-d54c-43aa-8fc3-65518e6fbee0",
   "metadata": {},
   "source": [
    "### Simple template with one variable\n",
    "We start with a basic example: a template that asks the model to explain a topic. The variable `{topic}` can be replaced dynamically."
   ]
  },
  {
   "cell_type": "code",
   "execution_count": 3,
   "id": "3b8ed6f2-9ad2-4009-bc4c-98ecd4107328",
   "metadata": {},
   "outputs": [
    {
     "name": "stdout",
     "output_type": "stream",
     "text": [
      "Simple Template Result:\n",
      "Photosynthesis is the biological process by which green plants, algae, and some bacteria convert light energy, usually from the sun, into chemical energy stored in glucose. This process primarily occurs in the chloroplasts of plant cells, where chlorophyll—a green pigment—absorbs light. \n",
      "\n",
      "During photosynthesis, carbon dioxide (from the air) and water (from the soil) are combined using light energy to produce glucose and oxygen. The overall chemical equation for photosynthesis can be summarized as:\n",
      "\n",
      "\\[ 6CO_2 + 6H_2O + light \\ energy \\rightarrow C_6H_{12}O_6 + 6O_2 \\]\n",
      "\n",
      "In this equation, \\( CO_2 \\) represents carbon dioxide, \\( H_2O \\) represents water, \\( C_6H_{12}O_6 \\) represents glucose, and \\( O_2 \\) represents oxygen. Photosynthesis is crucial for life on Earth as it provides the oxygen we breathe and serves as the foundation of the food chain.\n"
     ]
    }
   ],
   "source": [
    "# Creating a simple template with one variable\n",
    "simple_template = PromptTemplate(\n",
    "    template=\"Provide a brief explanation of {topic}.\",\n",
    "    input_variables=[\"topic\"]\n",
    ")\n",
    "\n",
    "# Using the simple template\n",
    "print(\"Simple Template Result:\")\n",
    "# Combine the template and the model into a prompt chain\n",
    "chain = simple_template | llm\n",
    "# Use the prompt chain by passing a topic\n",
    "print(chain.invoke({\"topic\": \"photosynthesis\"}).content)"
   ]
  },
  {
   "cell_type": "markdown",
   "id": "c5f63d87-f350-4bbf-9d97-dac73f0dd974",
   "metadata": {},
   "source": [
    "- We define a `PromptTemplate` using LangChain with one placeholder. It expects a single variable called `topic`.\n",
    "- The `|` operator (pipe) creates a chain that passes the prompt result directly to the model (`llm`) using LangChain’s syntax.\n",
    "- `chain.invoke()` feeds the topic into the template, constructs the prompt, sends it to the model, and returns the completion. When invoking, we supply a value for `topic` (\"photosynthesis\").\n",
    "\n",
    "\n",
    "### Template with multiple variables\n",
    "Now let’s make things a bit more dynamic with multiple variables. This is useful when context needs to be adapted to a specific audience."
   ]
  },
  {
   "cell_type": "code",
   "execution_count": 4,
   "id": "dd1421e0-4d87-48f6-9c41-83acad43acfc",
   "metadata": {},
   "outputs": [
    {
     "name": "stdout",
     "output_type": "stream",
     "text": [
      "Complex Template Result:\n",
      "Neural networks are a key technology in artificial intelligence that are inspired by how the human brain works. They consist of interconnected groups of nodes, or \"neurons,\" that process information in layers. \n",
      "\n",
      "Here's a simple breakdown:\n",
      "\n",
      "1. **Structure**: A neural network has an input layer, one or more hidden layers, and an output layer. Each layer contains neurons that receive inputs, process them, and pass on their outputs to the next layer.\n",
      "\n",
      "2. **Learning**: Neural networks learn by adjusting the connections (or weights) between neurons based on examples they are trained on. This training process helps them recognize patterns in data.\n",
      "\n",
      "3. **Function**: Once trained, a neural network can make predictions or decisions based on new input. For example, it can identify objects in images, translate languages, or even generate music.\n",
      "\n",
      "Overall, neural networks are powerful tools for solving complex problems in various fields, including image recognition, natural language processing, and more.\n"
     ]
    }
   ],
   "source": [
    "# Creating a more complex template with multiple variables\n",
    "complex_template = PromptTemplate(\n",
    "    template=\"Explain the concept of {concept} in the field of {field} to a {audience} audience, concisely.\",\n",
    "    input_variables=[\"concept\", \"field\", \"audience\"]\n",
    ")\n",
    "\n",
    "# Using the complex template\n",
    "print(\"Complex Template Result:\")\n",
    "# Combine the template and the model into a prompt chain\n",
    "chain = complex_template | llm\n",
    "# Invoke the chain with multiple input values\n",
    "print(chain.invoke({\"concept\": \"neural networks\", \"field\": \"artificial intelligence\", \"audience\": \"beginner\"}).content)"
   ]
  },
  {
   "cell_type": "markdown",
   "id": "4372301d-ffd4-4275-9cb3-36341efa619b",
   "metadata": {},
   "source": [
    "- The template now includes `{concept}`, `{field}`, and `{audience}`.\n",
    "- We pass a dictionary to `invoke()` to fill in all required fields.\n",
    "- The model now has a clearer context (what, where, and for whom), which improves the quality and relevance of the generated output.\n",
    "\n",
    "\n",
    "### Template for list processing\n",
    "Templates can also process structured input like lists. Here we pass a comma-separated string of items and ask the model to group them."
   ]
  },
  {
   "cell_type": "code",
   "execution_count": 5,
   "id": "e8d3a892-db4c-45cd-9d25-f859896151a9",
   "metadata": {},
   "outputs": [
    {
     "name": "stdout",
     "output_type": "stream",
     "text": [
      "List Template Result:\n",
      "Here are the categories and the items grouped accordingly:\n",
      "\n",
      "### Fruits\n",
      "- Apple\n",
      "- Banana\n",
      "\n",
      "### Vegetables\n",
      "- Carrot\n",
      "\n",
      "### Tools\n",
      "- Hammer\n",
      "- Screwdriver\n",
      "- Pliers\n",
      "\n",
      "### Literature\n",
      "- Novel\n",
      "- Textbook\n",
      "- Magazine\n"
     ]
    }
   ],
   "source": [
    "# Template for categorizing a list of items\n",
    "list_template = PromptTemplate(\n",
    "    template=\"Categorize these items into groups: {items}. Provide the categories and the items in each category.\",\n",
    "    input_variables=[\"items\"]\n",
    ")\n",
    "\n",
    "print(\"List Template Result:\")\n",
    "# Combine the template and the model\n",
    "chain = list_template | llm\n",
    "# Input: a comma-separated list of mixed items\n",
    "items = \"apple, banana, carrot, hammer, screwdriver, pliers, novel, textbook, magazine\"\n",
    "print(chain.invoke({\"items\": items}).content)"
   ]
  },
  {
   "cell_type": "markdown",
   "id": "60d9446f-0979-4350-83cb-ffd42fa2634d",
   "metadata": {},
   "source": [
    "- This template receives a list (in string format) and prompts the model to organize it into categories. The prompt remains reusable — only the `items` input changes.\n",
    "- The model parses the list, identifies patterns, and classifies them into logical groupings such as fruits, tools, books, etc. This is helpful for tasks like classification or organization.\n",
    "\n",
    "\n",
    "### Template with dynamic instructions\n",
    "Templates can also be used to inject instructions, context, and constraints dynamically into a prompt."
   ]
  },
  {
   "cell_type": "code",
   "execution_count": 6,
   "id": "089966d6-94f1-4c5f-b66c-f8365bf301c2",
   "metadata": {},
   "outputs": [
    {
     "name": "stdout",
     "output_type": "stream",
     "text": [
      "Dynamic Instruction Template Result:\n",
      "Designing a logo for a tech startup focused on AI-driven healthcare solutions involves several key elements to ensure it is effective and memorable. Here’s a conceptual solution:\n",
      "\n",
      "### Logo Concept:\n",
      "\n",
      "1. **Shape and Symbolism**:\n",
      "   - **Caduceus + Circuit**: Combine the symbol of a caduceus (representing healthcare) with circuit-like lines or nodes to evoke technology and AI. The caduceus can be stylized to be more abstract, ensuring that it remains recognizable at small sizes.\n",
      "   - **Brain Icon**: Integrate a simple representation of a brain with digital elements (like pixels or circuitry) to symbolize AI. This can be placed next to or within the caduceus shape.\n",
      "\n",
      "2. **Color Palette**:\n",
      "   - **Blue**: Use a calming, professional shade of blue for the healthcare aspect, symbolizing trust and reliability. \n",
      "   - **Green**: Incorporate a vibrant green to represent growth, health, and innovation. This can be used as an accent or in the circuitry part of the logo.\n",
      "\n",
      "3. **Typography**:\n",
      "   - Use a clean, modern sans-serif font for the company name. This reflects the tech aspect and keeps the logo looking contemporary.\n",
      "   - Ensure that the font is bold enough to be legible in smaller sizes, possibly using uppercase letters for clarity.\n",
      "\n",
      "4. **Layout**:\n",
      "   - Consider a horizontal layout where the icon (caduceus + brain/circuit) is on the left and the company name is on the right. This arrangement helps in maintaining balance and making it easy to use in various applications (like website headers, business cards, and app icons).\n",
      "   - Alternatively, a stacked layout (icon on top, text below) can also be considered for social media profiles and app icons.\n",
      "\n",
      "### Example Visualization:\n",
      "\n",
      "- **Icon**: A stylized caduceus that merges into a brain shape, with circuit lines extending from the brain. The caduceus could be in blue while the brain/circuit elements are in green.\n",
      "- **Text**: The company name in a bold, dark blue sans-serif font beside or below the icon, ensuring clarity and legibility.\n",
      "\n",
      "### Final Touches:\n",
      "- Ensure the logo works well in both color and monochrome versions. This is crucial for versatility across different media.\n",
      "- Test the logo at various sizes to confirm that it retains its recognizability and impact when scaled down.\n",
      "\n",
      "By combining these elements, the logo will effectively convey the startup's focus on innovative, AI-driven healthcare solutions while adhering to the specified color scheme and simplicity for easy recognition.\n"
     ]
    }
   ],
   "source": [
    "# Define a template with multiple labeled instruction sections\n",
    "dynamic_instruction_template = PromptTemplate(\n",
    "    template=(\n",
    "        \"Task: {task}\\n\"\n",
    "        \"Context: {context}\\n\"\n",
    "        \"Constraints: {constraints}\\n\\n\"\n",
    "        \"Please provide a solution that addresses the task, considers the context, and adheres to the constraints.\"\n",
    "    ),\n",
    "    input_variables=[\"task\", \"context\", \"constraints\"]\n",
    ")\n",
    "\n",
    "print(\"Dynamic Instruction Template Result:\")\n",
    "# Chain the template with the model\n",
    "chain = dynamic_instruction_template | llm\n",
    "\n",
    "# Invoke with detailed structured input\n",
    "print(chain.invoke({\n",
    "    \"task\": \"Design a logo for a tech startup\",\n",
    "    \"context\": \"The startup focuses on AI-driven healthcare solutions\",\n",
    "    \"constraints\": \"Must use blue and green colors, and should be simple enough to be recognizable when small\"\n",
    "}).content)"
   ]
  },
  {
   "cell_type": "markdown",
   "id": "d7321c23-6d48-4175-9cb8-eb30fcb4c8ea",
   "metadata": {},
   "source": [
    "- The template ensures that input is structured logically, making it easier for the model to follow.\n",
    "- This pattern is excellent for generating consistent responses in design, planning, or decision-making prompts.\n",
    "\n",
    "\n",
    "## Jinja-based templates for advanced logic\n",
    "The LangChain `PromptTemplate` doesn’t support `if/else` logic or loops. For that, we will define our own template system using Jinja2 with a custom `PromptTemplate` class."
   ]
  },
  {
   "cell_type": "code",
   "execution_count": 7,
   "id": "fb6d65f6-06b6-4d0c-b818-29a73bd73021",
   "metadata": {},
   "outputs": [],
   "source": [
    "# Create OpenAI client\n",
    "client = OpenAI(api_key=os.getenv(\"OPENAI_API_KEY\"))\n",
    "\n",
    "# Function to call OpenAI API directly\n",
    "def get_completion(prompt, model=\"gpt-4o-mini-2024-07-18\"):\n",
    "    \"\"\"\n",
    "    Get a completion from the OpenAI API\n",
    "\n",
    "    Args:\n",
    "        prompt (str): The prompt to send to the API\n",
    "        model (str): The model to use for the completion\n",
    "    Returns:\n",
    "        str: The generated completion text from the model\n",
    "    \"\"\"\n",
    "    # Wrap the prompt in the format expected by the Chat API\n",
    "    messages = [{\"role\": \"user\", \"content\": prompt}]\n",
    "    \n",
    "    response = client.chat.completions.create(\n",
    "        model=model, # Specify which model to use\n",
    "        messages=messages, # Provide the conversation as a list of messages\n",
    "        temperature=0, # Set deterministic behavior (lower temperature = less randomness)\n",
    "    )\n",
    "    # Extract the content of the model's reply from the response object\n",
    "    return response.choices[0].message.content"
   ]
  },
  {
   "cell_type": "markdown",
   "id": "0163948c-0054-4936-bfb5-6f090d18ab04",
   "metadata": {},
   "source": [
    "This function is a reusable utility that handles sending prompts to OpenAI’s Chat API and returns the AI's response.\n",
    "- The function takes a string `prompt` and an optional `model` parameter (defaults to GPT-4o-mini)\n",
    "- OpenAI’s chat models expect the input to be in a list of message dictionaries, where each dictionary includes:\n",
    "     - `role`: Identifies the speaker (`\"user\"`, `\"assistant\"`, or `\"system\"`). In this case, the prompt is wrapped in a message with the `\"user\"` role.\n",
    "     - `content`: The actual text to be interpreted by the model.\n",
    "- The function uses the `OpenAI` client object to call `client.chat.completions.create(...)` to send the message(s) to the selected model. (OpenAI client serves as the primary interface to interact with OpenAI’s API)\n",
    "- The API returns a structured response object. `response.choices[0].message.content` accesses the first result returned (since multiple choices can be returned if `n > 1`) and retrieves the actual reply from the assistant.\n",
    "- Finally, the function returns the plain text of the AI's response for easy use in further code or display.\n",
    "\n",
    "#### Custom `PromptTemplate` class using Jinja2\n",
    "This class provides a simple wrapper around the powerful Jinja2 templating engine, making it easier to create reusable prompt templates with dynamic content and allowing us to use advanced logic like conditionals (`{% if %}`) and loops (`{% for %}`)."
   ]
  },
  {
   "cell_type": "code",
   "execution_count": 8,
   "id": "c4fb10e7-8382-429b-b13f-e6d6a065704b",
   "metadata": {},
   "outputs": [],
   "source": [
    "# Custom PromptTemplate using Jinja2\n",
    "class PromptTemplate:\n",
    "    ''' A class to represent a template for generating prompts with variables\n",
    "    Attributes:\n",
    "        template (str): The template string with variables\n",
    "        input_variables (list): A list of the variable names in the template\n",
    "    '''\n",
    "    def __init__(self, template, input_variables):\n",
    "        # Compile the Jinja2 template from the provided string\n",
    "        self.template = Template(template)  # Initialize Jinja2 template\n",
    "        self.input_variables = input_variables # Track which variables are required for this template\n",
    "    \n",
    "    def format(self, **kwargs):\n",
    "        # Fill in the template using keyword arguments (kwargs) and return the rendered string\n",
    "        return self.template.render(**kwargs)  # Render with passed variables"
   ]
  },
  {
   "cell_type": "markdown",
   "id": "edfe3df1-28e8-43eb-a0a6-60eb64334be3",
   "metadata": {},
   "source": [
    "- `template`: A string written using Jinja2 syntax. It can include placeholders like `{{ name }}` or `{% if profession %}`.\n",
    "- `Template(template)`: This turns the raw string into a Jinja2 Template object, which can later be rendered with data.\n",
    "- `input_variables`: This is just metadata—a list of variable names that the template expects. This isn’t used directly by Jinja2, but it's useful for validation or documentation.\n",
    "- The `format` method returns the fully rendered prompt string, ready to be sent to the language model.\n",
    "- `**kwargs`: Accepts any number of keyword arguments representing the variables to fill into the template.\n",
    "- `self.template.render(**kwargs)`: Jinja2 uses this method to substitute the placeholders in the template with actual values.\n",
    "\n",
    "### Jinja-based conditional template\n",
    "Now we create a prompt that conditionally includes a profession if it exists."
   ]
  },
  {
   "cell_type": "code",
   "execution_count": 9,
   "id": "1d57f101-fbdd-48d5-8c7c-81d18632ca91",
   "metadata": {},
   "outputs": [
    {
     "name": "stdout",
     "output_type": "stream",
     "text": [
      "Conditional Template Result (with profession):\n",
      "Sure, Alex! Here are some career tips for you as a software developer:\n",
      "\n",
      "1. **Continuous Learning**: Stay updated with the latest technologies and programming languages. Consider online courses or certifications in areas like cloud computing, AI, or cybersecurity.\n",
      "\n",
      "2. **Networking**: Attend industry meetups, conferences, and online forums to connect with other professionals. This can lead to job opportunities and collaborations.\n",
      "\n",
      "3. **Build a Portfolio**: Work on personal or open-source projects to showcase your skills. A strong portfolio can set you apart in job applications.\n",
      "\n",
      "4. **Soft Skills**: Develop communication and teamwork skills. These are crucial for collaborating with colleagues and stakeholders.\n",
      "\n",
      "5. **Explore Specializations**: Consider specializing in areas like front-end, back-end, DevOps, or data science to enhance your marketability.\n",
      "\n",
      "6. **Seek Feedback**: Regularly ask for feedback from peers and mentors to improve your coding and problem-solving skills.\n",
      "\n",
      "7. **Career Growth**: Set clear career goals, whether it’s moving into a senior developer role, management, or starting your own venture.\n",
      "\n",
      "Stay curious and proactive in your career!\n",
      "\n",
      "Conditional Template Result (without profession):\n",
      "Sure, Sam! Here are some steps you can take:\n",
      "\n",
      "1. **Self-Assessment**: Identify your skills, interests, and values. Consider what you enjoy doing and what you're good at.\n",
      "\n",
      "2. **Explore Options**: Research industries and roles that align with your interests. Look into fields that are growing, such as technology, healthcare, or renewable energy.\n",
      "\n",
      "3. **Education & Skills**: Consider further education or certifications if needed. Online courses can help you gain skills quickly.\n",
      "\n",
      "4. **Networking**: Connect with professionals in your areas of interest through LinkedIn, local meetups, or industry events. Informational interviews can provide insights.\n",
      "\n",
      "5. **Internships/Volunteering**: Gain experience through internships or volunteer work. This can help you build your resume and make connections.\n",
      "\n",
      "6. **Job Search**: Tailor your resume and cover letter for each application. Use job boards and company websites to find openings.\n",
      "\n",
      "7. **Stay Positive**: Job searching can be challenging, but persistence is key. Keep learning and adapting your approach.\n",
      "\n",
      "Good luck!\n"
     ]
    }
   ],
   "source": [
    "# Template with conditional logic using Jinja2\n",
    "conditional_template = PromptTemplate(\n",
    "    template=\"My name is {{ name }} and I am {{ age }} years old. \"\n",
    "             \"{% if profession %}I work as a {{ profession }}.{% else %}I am currently not employed.{% endif %} \"\n",
    "             \"Can you give me career advice based on this information? answer concisely.\",\n",
    "    input_variables=[\"name\", \"age\", \"profession\"]\n",
    ")\n",
    "\n",
    "# Case: with profession\n",
    "print(\"Conditional Template Result (with profession):\")\n",
    "prompt = conditional_template.format(name=\"Alex\", age=\"28\", profession=\"software developer\")\n",
    "print(get_completion(prompt))\n",
    "\n",
    "# Case: without profession\n",
    "print(\"\\nConditional Template Result (without profession):\")\n",
    "prompt = conditional_template.format(name=\"Sam\", age=\"22\", profession=\"\")\n",
    "print(get_completion(prompt))"
   ]
  },
  {
   "cell_type": "markdown",
   "id": "a66a99b2-db2b-4278-8d32-073cd6a8ed5c",
   "metadata": {},
   "source": [
    "- Jinja allows `if-else` conditions inside the prompt. `{% if profession %}...{% else %}...{% endif %}` checks if a profession is passed.\n",
    "- This avoids redundant prompts and makes responses more natural and context-aware.\n",
    "- The same template is used for different user states—employed or not.\n",
    "\n",
    "### Jinja-based list formatting with loop\n",
    "Using a `for` loop inside a template to iterate through items and format them nicely for the model."
   ]
  },
  {
   "cell_type": "code",
   "execution_count": 10,
   "id": "0be4f5f7-57af-4635-aa09-bc3c598cbb55",
   "metadata": {},
   "outputs": [
    {
     "name": "stdout",
     "output_type": "stream",
     "text": [
      "Formatted List Template Result:\n",
      "The list of items you provided consists of programming languages, frameworks, and technologies commonly used in web development. Here's a summary and analysis of the items:\n",
      "\n",
      "### Summary of the List:\n",
      "1. **Programming Languages:**\n",
      "   - **Python**: A versatile, high-level programming language known for its readability and wide range of applications, including web development, data analysis, artificial intelligence, and more.\n",
      "   - **JavaScript**: A core web technology that enables interactive web pages and is essential for front-end development. It can also be used on the server side with environments like Node.js.\n",
      "\n",
      "2. **Markup and Styling Languages:**\n",
      "   - **HTML (HyperText Markup Language)**: The standard markup language for creating web pages. It structures the content on the web.\n",
      "   - **CSS (Cascading Style Sheets)**: A stylesheet language used for describing the presentation of a document written in HTML. It controls layout, colors, fonts, and overall visual aesthetics.\n",
      "\n",
      "3. **Frameworks and Libraries:**\n",
      "   - **React**: A JavaScript library for building user interfaces, particularly single-page applications. It allows developers to create reusable UI components.\n",
      "   - **Django**: A high-level Python web framework that encourages rapid development and clean, pragmatic design. It follows the \"batteries-included\" philosophy, providing many built-in features.\n",
      "   - **Flask**: A lightweight Python web framework that is easy to use and flexible, making it suitable for small to medium-sized applications.\n",
      "   - **Node.js**: A JavaScript runtime built on Chrome's V8 engine that allows developers to execute JavaScript on the server side, enabling full-stack JavaScript development.\n",
      "\n",
      "### Patterns and Groupings:\n",
      "1. **Web Development Focus**: All items are related to web development, either as languages for building web applications (Python, JavaScript) or as technologies for structuring (HTML, CSS) and enhancing (React, Django, Flask, Node.js) web applications.\n",
      "\n",
      "2. **Front-End vs. Back-End**:\n",
      "   - **Front-End Technologies**: HTML, CSS, JavaScript, and React are primarily used for client-side development, focusing on user interface and experience.\n",
      "   - **Back-End Technologies**: Python (with Django and Flask) and Node.js are used for server-side development, handling business logic, database interactions, and server configuration.\n",
      "\n",
      "3. **Language and Framework Relationships**:\n",
      "   - **Python Frameworks**: Django and Flask are both frameworks that utilize Python, showcasing its versatility in web development.\n",
      "   - **JavaScript Frameworks**: React is a library that enhances JavaScript's capabilities for building dynamic user interfaces, while Node.js allows JavaScript to be used on the server side.\n",
      "\n",
      "4. **Full-Stack Development**: The combination of these technologies allows for full-stack development, where developers can work on both the front-end and back-end of web applications using a cohesive set of tools.\n",
      "\n",
      "### Conclusion:\n",
      "The list represents a comprehensive toolkit for modern web development, highlighting the importance of both front-end and back-end technologies. Understanding the relationships and purposes of these items can help developers choose the right tools for their projects and facilitate a more integrated approach to building web applications.\n"
     ]
    }
   ],
   "source": [
    "# Template with a formatted list\n",
    "list_format_template = PromptTemplate(\n",
    "    template=\"Analyze the following list of items:\\n\"\n",
    "             \"{% for item in items.split(',') %}\"\n",
    "             \"- {{ item.strip() }}\\n\"\n",
    "             \"{% endfor %}\"\n",
    "             \"\\nProvide a summary of the list and suggest any patterns or groupings.\",\n",
    "    input_variables=[\"items\"]\n",
    ")\n",
    "\n",
    "# Using the formatted list template\n",
    "print(\"Formatted List Template Result:\")\n",
    "prompt = list_format_template.format(\n",
    "    items=\"Python, JavaScript, HTML, CSS, React, Django, Flask, Node.js\"\n",
    ")\n",
    "print(get_completion(prompt))"
   ]
  },
  {
   "cell_type": "markdown",
   "id": "0d0a5fde-3995-458c-8707-5dbc3d891da7",
   "metadata": {},
   "source": [
    "- The template uses a loop to format each item as a bullet point.\n",
    "- We split a string into individual items using `.split(',')`.\n",
    "- We could easily adapt this for checklists, logs, item summaries, and more."
   ]
  }
 ],
 "metadata": {
  "kernelspec": {
   "display_name": "Python 3 (ipykernel)",
   "language": "python",
   "name": "python3"
  },
  "language_info": {
   "codemirror_mode": {
    "name": "ipython",
    "version": 3
   },
   "file_extension": ".py",
   "mimetype": "text/x-python",
   "name": "python",
   "nbconvert_exporter": "python",
   "pygments_lexer": "ipython3",
   "version": "3.8.19"
  }
 },
 "nbformat": 4,
 "nbformat_minor": 5
}
