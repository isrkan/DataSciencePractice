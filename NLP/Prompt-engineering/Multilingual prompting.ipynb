{
 "cells": [
  {
   "cell_type": "markdown",
   "metadata": {
    "id": "qRRWxtE9BgCq"
   },
   "source": [
    "# Multilingual and cross-lingual prompting\n",
    "\n",
    "In this notebook, we explore how to design prompts for handling multiple languages and enabling cross-lingual interactions using LLMs. The goal is to build prompts that can operate seamlessly across various linguistic contexts—such as greeting users in different languages, adapting responses based on the detected input language, performing translations, and handling non-Latin scripts with cultural nuance.\n",
    "\n",
    "This kind of prompting is crucial for building inclusive applications like international chatbots, educational tools, and translation services that must support users from diverse linguistic backgrounds."
   ]
  },
  {
   "cell_type": "code",
   "execution_count": 1,
   "metadata": {
    "id": "6VgnzSm0oSuL"
   },
   "outputs": [],
   "source": [
    "import os\n",
    "from langchain_openai import ChatOpenAI\n",
    "from langchain.prompts import PromptTemplate\n",
    "from dotenv import load_dotenv\n",
    "\n",
    "# Load environment variables\n",
    "load_dotenv()\n",
    "\n",
    "# Set up OpenAI API key\n",
    "os.environ[\"OPENAI_API_KEY\"] = os.getenv('OPENAI_API_KEY')"
   ]
  },
  {
   "cell_type": "markdown",
   "metadata": {
    "id": "qPYUI5aJBoWg"
   },
   "source": [
    "### Initialize the language model\n",
    "We instantiate a lightweight GPT model from OpenAI using LangChain."
   ]
  },
  {
   "cell_type": "code",
   "execution_count": 2,
   "metadata": {
    "id": "bmfyL3E_BoEM"
   },
   "outputs": [],
   "source": [
    "# Initialize the language model\n",
    "llm = ChatOpenAI(model=\"gpt-4o-mini-2024-07-18\")"
   ]
  },
  {
   "cell_type": "markdown",
   "metadata": {
    "id": "qYLhvAxVBn4U"
   },
   "source": [
    "## Multilingual prompt design\n",
    "Let's begin by crafting a multilingual prompt that greets users in various languages. This demonstrates multilingual generation capability and how to use templates that dynamically adjust based on language input."
   ]
  },
  {
   "cell_type": "code",
   "execution_count": 3,
   "metadata": {
    "id": "9oDZ9BrnBnp1"
   },
   "outputs": [
    {
     "name": "stdout",
     "output_type": "stream",
     "text": [
      "English:\n",
      "Hello! In the United States, the weather can vary greatly depending on the region and time of year. For example, in the summer, places like Florida experience warm, humid conditions, while northern states like Minnesota can have cool, pleasant temperatures. In winter, the northeast often sees heavy snowfall, while the southwest enjoys milder, drier weather. Overall, the diverse climate across the country offers a little something for everyone!\n",
      "\n",
      "Spanish:\n",
      "¡Hola! Espero que estés teniendo un buen día. Hoy, hablemos del clima en España. En general, España cuenta con una variedad de climas, desde el cálido y seco del sur en Andalucía, hasta el fresco y húmedo del norte en Galicia. Durante el verano, muchas regiones experimentan temperaturas altas, especialmente en el interior, mientras que las costas suelen ser más moderadas. En invierno, las montañas de los Pirineos reciben nieve, convirtiéndose en un destino popular para el esquí. ¡Cada estación trae su propio encanto!\n",
      "\n",
      "French:\n",
      "Bonjour ! En France, le temps peut varier considérablement d'une région à l'autre. Par exemple, dans le sud, la Côte d'Azur bénéficie d'un climat méditerranéen avec des étés chauds et secs, tandis que dans le nord, comme à Paris, les hivers peuvent être frais et humides. En ce moment, la météo est agréable avec des températures douces, parfaites pour profiter des magnifiques paysages et des cafés en terrasse.\n",
      "\n",
      "German:\n",
      "Hallo! In Deutschland ist das Wetter im Herbst oft wechselhaft. Die Temperaturen können zwischen milden Tagen und kälteren Nächten schwanken. Es kann regnen, aber auch sonnige Abschnitte sind möglich. Die bunten Blätter der Bäume verleihen der Landschaft eine wunderschöne Atmosphäre. Perfekt für einen Spaziergang im Freien!\n",
      "\n",
      "Hebrew:\n",
      "שלום! \n",
      "\n",
      "היום אני אשתף אותך במידע על מזג האוויר בישראל. בתקופה זו של השנה, מזג האוויר בישראל נעים וקריר, עם טמפרטורות שמגיעות בדרך כלל בין 15 ל-25 מעלות צלזיוס. האוויר יבש והשמש זורחת ברוב הימים, מה שהופך את זה לזמן מצוין לטיולים ולביקורים באתרים היסטוריים. אם אתה מתכנן לבקר, כדאי לקחת בחשבון את השמש ולהתכונן עם כובע ומים.\n",
      "\n",
      "Arabic:\n",
      "مرحبا! \n",
      "\n",
      "في الدول الناطقة بالعربية، مثل مصر، يتميز الطقس بالتنوع. في فصل الصيف، يمكن أن تكون درجات الحرارة مرتفعة جدًا، تصل إلى 40 درجة مئوية في بعض المناطق، بينما تكون شديدة الرطوبة في السواحل. أما في فصل الشتاء، فتكون الأجواء أكثر اعتدالاً مع درجات حرارة تتراوح بين 10 إلى 20 درجة مئوية، مع بعض الأمطار في مناطق معينة. إذا كنت تخطط لزيارة، يُفضل متابعة توقعات الطقس لضمان تجربة مريحة!\n",
      "\n",
      "Hindi:\n",
      "नमस्ते! भारत में मौसम अक्सर विविधता से भरा होता है। यहाँ के विभिन्न क्षेत्रों में मौसम के कई रूप देखने को मिलते हैं। जैसे कि उत्तर भारत में सर्दियों में ठंड और गर्मियों में तपिश होती है, वहीं दक्षिण भारत में आमतौर पर गर्म और आर्द्र मौसम होता है। मानसून के दौरान, जून से सितंबर तक, पूरे देश में बारिश होती है, जो कृषि के लिए बहुत महत्वपूर्ण है। आप किस क्षेत्र के बारे में जानना चाहेंगे?\n",
      "\n",
      "Marathi:\n",
      "नमस्कार! तुम्हांचे स्वागत आहे! \n",
      "\n",
      "मराठीत बोलणाऱ्या देशांमध्ये भारत एक प्रमुख देश आहे, जिथे विविध प्रकारच्या हवामानाची अनुभूती घेतली जाते. भारतात, विशेषतः महाराष्ट्र राज्यात, उन्हाळा सामान्यतः गरम आणि आर्द्र असतो, तर हिवाळा थंड आणि सुखद असतो. monsoon च्या काळात, म्हणजे जुलै ते सप्टेंबर दरम्यान, जोरदार पाऊस पडतो, जो शेतीसाठी अत्यंत महत्त्वाचा असतो. त्यामुळे, भारतात हवामान विविधतेने भरलेले आहे, आणि प्रत्येक ऋतू आपली खासियत आणि सौंदर्य घेऊन येतो.\n",
      "\n"
     ]
    }
   ],
   "source": [
    "# Define a multilingual prompt template\n",
    "multilingual_greeting = PromptTemplate(\n",
    "    input_variables=[\"language\"],\n",
    "    template=\"Greet the user in {language} and provide a short introduction about the weather in a country where this language is spoken.\"\n",
    ")\n",
    "\n",
    "# Languages to test the prompt with\n",
    "languages = [\"English\", \"Spanish\", \"French\", \"German\", \"Hebrew\", \"Arabic\", \"Hindi\", \"Marathi\"]\n",
    "\n",
    "# Run the prompt for each language\n",
    "for lang in languages:\n",
    "    prompt = multilingual_greeting.format(language=lang)\n",
    "    response = llm.invoke(prompt)\n",
    "    print(f\"{lang}:\")\n",
    "    print(response.content)\n",
    "    print()"
   ]
  },
  {
   "cell_type": "markdown",
   "metadata": {
    "id": "Cx7qvLWqBned"
   },
   "source": [
    "This block defines a prompt that adapts to a specified language. The model is asked to produce a culturally contextual greeting and a weather comment based on the language. It illustrates multilingual control through prompt variables.\n",
    "\n",
    "## Language detection and adaptation\n",
    "Now we test whether the model can infer the language from user input and respond in that same language. This is essential for natural multilingual interfaces."
   ]
  },
  {
   "cell_type": "code",
   "execution_count": 4,
   "metadata": {
    "id": "djG1eXiKBnS5"
   },
   "outputs": [
    {
     "name": "stdout",
     "output_type": "stream",
     "text": [
      "Input: Hello, how are you?\n",
      "Response:\n",
      "Hello! I'm doing well, thank you. How about you?\n",
      "\n",
      "Input: Hola, ¿cómo estás?\n",
      "Response:\n",
      "¡Hola! Estoy bien, gracias. ¿Y tú?\n",
      "\n",
      "Input: Bonjour, comment allez-vous ?\n",
      "Response:\n",
      "Bonjour ! Je vais bien, merci. Et vous ?\n",
      "\n",
      "Input: こんにちは、お元気ですか？\n",
      "Response:\n",
      "こんにちは！私は元気です。あなたはいかがですか？\n",
      "\n",
      "Input: Здравствуйте, как дела?\n",
      "Response:\n",
      "Здравствуйте! У меня всё хорошо, спасибо. Как дела у вас?\n",
      "\n"
     ]
    }
   ],
   "source": [
    "# Define the adaptive prompt that detects language and replies in it\n",
    "language_adaptive_prompt = PromptTemplate(\n",
    "    input_variables=[\"user_input\"],\n",
    "    template=\"\"\"Detect the language of the following input and respond in the same language:\n",
    "    User input: {user_input}\n",
    "    Your response (in the detected language):\"\"\"\n",
    ")\n",
    "\n",
    "# Sample multilingual inputs\n",
    "inputs = [\n",
    "    \"Hello, how are you?\",\n",
    "    \"Hola, ¿cómo estás?\",\n",
    "    \"Bonjour, comment allez-vous ?\",\n",
    "    \"こんにちは、お元気ですか？\",\n",
    "    \"Здравствуйте, как дела?\"\n",
    "]\n",
    "\n",
    "# Test the adaptive language response\n",
    "for user_input in inputs:\n",
    "    prompt = language_adaptive_prompt.format(user_input=user_input)\n",
    "    response = llm.invoke(prompt)\n",
    "    print(f\"Input: {user_input}\")\n",
    "    print(\"Response:\")\n",
    "    print(response.content)\n",
    "    print()"
   ]
  },
  {
   "cell_type": "markdown",
   "metadata": {
    "id": "piv2s-V3BnG_"
   },
   "source": [
    "The model automatically detects the language and adapts the response accordingly. This dynamic multilingual capability makes the prompt suitable for chatbots or virtual assistants used globally.\n",
    "\n",
    "## Cross-lingual translation\n",
    "Next, we create prompts that translate text between different language pairs. This demonstrates how to use structured prompts to guide LLMs for translation tasks."
   ]
  },
  {
   "cell_type": "code",
   "execution_count": 5,
   "metadata": {
    "id": "zWgqqqgLBm7W"
   },
   "outputs": [
    {
     "name": "stdout",
     "output_type": "stream",
     "text": [
      "From English to French:\n",
      "Original: The quick brown fox jumps over the lazy dog.\n",
      "Translation:\n",
      "La rapide renarde brune saute par-dessus le chien paresseux.\n",
      "\n",
      "From Spanish to German:\n",
      "Original: La vida es bella.\n",
      "Translation:\n",
      "Das Leben ist schön.\n",
      "\n",
      "From Japanese to English:\n",
      "Original: 桜の花が満開です。\n",
      "Translation:\n",
      "The cherry blossoms are in full bloom.\n",
      "\n"
     ]
    }
   ],
   "source": [
    "# Define the prompt template for translation\n",
    "translation_prompt = PromptTemplate(\n",
    "    input_variables=[\"source_lang\", \"target_lang\", \"text\"],\n",
    "    template=\"\"\"Translate the following text from {source_lang} to {target_lang}:\n",
    "    {source_lang} text: {text}\n",
    "    {target_lang} translation:\"\"\"\n",
    ")\n",
    "\n",
    "# Translation test cases\n",
    "translations = [\n",
    "    {\"source_lang\": \"English\", \"target_lang\": \"French\", \"text\": \"The quick brown fox jumps over the lazy dog.\"},\n",
    "    {\"source_lang\": \"Spanish\", \"target_lang\": \"German\", \"text\": \"La vida es bella.\"},\n",
    "    {\"source_lang\": \"Japanese\", \"target_lang\": \"English\", \"text\": \"桜の花が満開です。\"}\n",
    "]\n",
    "\n",
    "# Execute and print translations\n",
    "for t in translations:\n",
    "    prompt = translation_prompt.format(**t)\n",
    "    response = llm.invoke(prompt)\n",
    "    print(f\"From {t['source_lang']} to {t['target_lang']}:\")\n",
    "    print(f\"Original: {t['text']}\")\n",
    "    print(\"Translation:\")\n",
    "    print(response.content)\n",
    "    print()"
   ]
  },
  {
   "cell_type": "markdown",
   "metadata": {
    "id": "8tpU9HdABmvj"
   },
   "source": [
    "This prompt provides straightforward, reliable translation using the model. These kinds of templates are flexible and can be used in multilingual applications or content localization systems. It works well across diverse language pairs, including non-Latin and Latin scripts.\n",
    "\n",
    "## Handling non-Latin scripts with transliteration\n",
    "Languages like Japanese, Hindi, and Russian use non-Latin scripts. This prompt handles such input by returning the original, its script type, a Latin transliteration, and an English translation."
   ]
  },
  {
   "cell_type": "code",
   "execution_count": 6,
   "metadata": {
    "id": "-P9_Ke3nBmjt"
   },
   "outputs": [
    {
     "name": "stdout",
     "output_type": "stream",
     "text": [
      "1. The original text: こんにちは、世界\n",
      "2. The name of the script/writing system: Japanese\n",
      "3. A transliteration to Latin alphabet: Konnichiwa, Sekai\n",
      "4. An English translation: Hello, World\n",
      "\n",
      "1. The original text: Здравствуй, мир  \n",
      "2. The name of the script/writing system: Cyrillic  \n",
      "3. A transliteration to Latin alphabet: Zdravstvuy, mir  \n",
      "4. An English translation: Hello, world  \n",
      "\n",
      "1. The original text: नमस्ते दुनिया\n",
      "2. The name of the script/writing system: Devanagari\n",
      "3. A transliteration to Latin alphabet: Namaste Duniya\n",
      "4. An English translation: Hello, world\n",
      "\n"
     ]
    }
   ],
   "source": [
    "# Prompt to handle non-Latin scripts with extra metadata\n",
    "non_latin_prompt = PromptTemplate(\n",
    "    input_variables=[\"text\", \"script\"],\n",
    "    template=\"\"\"Provide the following information for the given text:\n",
    "    1. The original text\n",
    "    2. The name of the script/writing system\n",
    "    3. A transliteration to Latin alphabet\n",
    "    4. An English translation\n",
    "\n",
    "    Text: {text}\n",
    "    Script: {script}\n",
    "    \"\"\"\n",
    ")\n",
    "\n",
    "# Test samples in various scripts\n",
    "non_latin_texts = [\n",
    "    {\"text\": \"こんにちは、世界\", \"script\": \"Japanese\"},\n",
    "    {\"text\": \"Здравствуй, мир\", \"script\": \"Cyrillic\"},\n",
    "    {\"text\": \"नमस्ते दुनिया\", \"script\": \"Devanagari\"}\n",
    "]\n",
    "\n",
    "# Generate and print the outputs\n",
    "for text in non_latin_texts:\n",
    "    prompt = non_latin_prompt.format(**text)\n",
    "    response = llm.invoke(prompt)\n",
    "    print(response.content)\n",
    "    print()"
   ]
  },
  {
   "cell_type": "markdown",
   "metadata": {
    "id": "jCTIAp8UBmXL"
   },
   "source": [
    "The model outputs rich information: it identifies the script, provides a transliteration (Romanization), and translates the phrase into English. This is especially valuable in applications like language learning or multilingual search engines.\n",
    "\n",
    "## Improving translation quality and cultural sensitivity\n",
    "Here we enhance translation quality by including cultural context and idiomatic interpretation. Literal translations can be misleading, so this prompt encourages the model to provide both direct and culturally adapted translations."
   ]
  },
  {
   "cell_type": "code",
   "execution_count": 7,
   "metadata": {
    "id": "R_l-dDKBCHBc"
   },
   "outputs": [
    {
     "name": "stdout",
     "output_type": "stream",
     "text": [
      "From English to Japanese:\n",
      "Original: It's raining cats and dogs.\n",
      "Translation and Explanation:\n",
      "1. **Direct Translation**: 猫や犬が降っている (Neko ya inu ga futte iru)\n",
      "\n",
      "2. **Culturally Adapted Translation**: バケツをひっくり返したように降っている (Baketsu o hikkuri kaeshita you ni futte iru)\n",
      "\n",
      "3. **Explanation of Cultural Nuances and Idioms**:\n",
      "   - The direct translation \"猫や犬が降っている\" is not idiomatic in Japanese and would likely confuse native speakers, as it literally means \"cats and dogs are falling.\"\n",
      "   - The culturally adapted translation \"バケツをひっくり返したように降っている\" literally means \"it's raining as if a bucket has been turned over.\" This expression conveys the intensity and heaviness of the rain, similar to the English idiom. \n",
      "   - In Japanese culture, there are several idiomatic expressions related to rain, and this specific one effectively communicates the idea of a heavy downpour in a way that is familiar and relatable to Japanese speakers.\n",
      "\n",
      "From French to English:\n",
      "Original: Je suis dans le pétrin.\n",
      "Translation and Explanation:\n",
      "1. **Direct Translation**: \"I am in the dough.\"\n",
      "\n",
      "2. **Culturally Adapted Translation**: \"I am in a bind.\"\n",
      "\n",
      "3. **Explanations of Cultural Nuances or Idioms**: \n",
      "   - The French expression \"être dans le pétrin\" literally translates to \"to be in the dough,\" which references the process of kneading dough for bread. However, idiomatically, it means to be in a difficult or troublesome situation. The phrase likely originates from the idea that being stuck in dough would be a messy, inconvenient predicament.\n",
      "   - In English, the phrase \"to be in a bind\" conveys a similar meaning of being in a difficult or tricky situation, making it an appropriate adaptation for English speakers. Other English expressions that convey a similar idea include \"to be in hot water\" or \"to be in a jam.\"\n",
      "\n",
      "From Spanish to German:\n",
      "Original: Cuesta un ojo de la cara.\n",
      "Translation and Explanation:\n",
      "1. **Direct Translation**: Es kostet ein Auge des Gesichts.\n",
      "\n",
      "2. **Culturally Adapted Translation**: Es kostet ein Vermögen.\n",
      "\n",
      "3. **Explanation of Cultural Nuances or Idioms**:  \n",
      "   The Spanish expression \"cuesta un ojo de la cara\" literally translates to \"it costs an eye from the face,\" implying that something is very expensive, akin to sacrificing a part of oneself for something valuable. The German equivalent \"es kostet ein Vermögen\" means \"it costs a fortune,\" which conveys the same notion of high expense without the literal imagery of losing a body part. Both expressions communicate the idea of significant cost, but the German version is more commonly used in everyday conversation.\n",
      "\n"
     ]
    }
   ],
   "source": [
    "# Create a prompt that handles idioms and cultural nuances\n",
    "cultural_translation_prompt = PromptTemplate(\n",
    "    input_variables=[\"source_lang\", \"target_lang\", \"text\"],\n",
    "    template=\"\"\"Translate the following text from {source_lang} to {target_lang}, paying special attention to cultural context and idiomatic expressions. Provide:\n",
    "    1. A direct translation\n",
    "    2. A culturally adapted translation (if different)\n",
    "    3. Explanations of any cultural nuances or idioms\n",
    "\n",
    "    {source_lang} text: {text}\n",
    "    {target_lang} translation and explanation:\"\"\"\n",
    ")\n",
    "\n",
    "# Sample idiomatic or culturally rich texts\n",
    "cultural_texts = [\n",
    "    {\"source_lang\": \"English\", \"target_lang\": \"Japanese\", \"text\": \"It's raining cats and dogs.\"},\n",
    "    {\"source_lang\": \"French\", \"target_lang\": \"English\", \"text\": \"Je suis dans le pétrin.\"},\n",
    "    {\"source_lang\": \"Spanish\", \"target_lang\": \"German\", \"text\": \"Cuesta un ojo de la cara.\"}\n",
    "]\n",
    "\n",
    "# Run the prompts and print results\n",
    "for text in cultural_texts:\n",
    "    prompt = cultural_translation_prompt.format(**text)\n",
    "    response = llm.invoke(prompt)\n",
    "    print(f\"From {text['source_lang']} to {text['target_lang']}:\")\n",
    "    print(f\"Original: {text['text']}\")\n",
    "    print(\"Translation and Explanation:\")\n",
    "    print(response.content)\n",
    "    print()"
   ]
  },
  {
   "cell_type": "markdown",
   "metadata": {
    "id": "seao9OJnCHiF"
   },
   "source": [
    "The model now distinguishes between direct and culturally adapted translations, offering explanations for idioms. Idioms often do not translate directly, so we ask the model to provide equivalent expressions and explanations. This approach is more aligned with professional human translation practices and highly valuable for publishing, education, and localization.\n",
    "\n",
    "These techniques are foundational for building inclusive, language-aware applications capable of communicating with users across the globe. With prompt engineering and fine-tuning, such models can further specialize in specific linguistic or cultural domains."
   ]
  }
 ],
 "metadata": {
  "colab": {
   "provenance": []
  },
  "kernelspec": {
   "display_name": "Python 3 (ipykernel)",
   "language": "python",
   "name": "python3"
  },
  "language_info": {
   "codemirror_mode": {
    "name": "ipython",
    "version": 3
   },
   "file_extension": ".py",
   "mimetype": "text/x-python",
   "name": "python",
   "nbconvert_exporter": "python",
   "pygments_lexer": "ipython3",
   "version": "3.8.19"
  }
 },
 "nbformat": 4,
 "nbformat_minor": 4
}
