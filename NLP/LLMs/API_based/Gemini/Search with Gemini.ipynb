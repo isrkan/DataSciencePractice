{
 "cells": [
  {
   "cell_type": "markdown",
   "metadata": {
    "id": "m7V_Kgj44aCw"
   },
   "source": [
    "# Use Search with Gemini API\n",
    "\n",
    "This notebook demonstrates how to integrate Google Search capabilities with Gemini API. We will explore various search scenarios and learn how to effectively combine AI reasoning with real-time web information.\n",
    "\n",
    "We are not limited to Gemini’s pre-trained knowledge—using search tools allows Gemini to pull in current events, check for the latest data, and verify or expand on information it would not otherwise have. This is particularly useful for time-sensitive queries, like looking up sports scores, stock prices, or breaking news.\n",
    "\n",
    "Rather than manually sending search requests and parsing them, the goal is to let Gemini handle reasoning and tool selection automatically - Google Search becomes just one more function Gemini can call when needed."
   ]
  },
  {
   "cell_type": "code",
   "execution_count": 1,
   "metadata": {
    "id": "7QRx5_rI4Nnv"
   },
   "outputs": [],
   "source": [
    "import os\n",
    "from dotenv import load_dotenv\n",
    "from langchain_google_genai import ChatGoogleGenerativeAI\n",
    "from google.ai.generativelanguage_v1beta.types import Tool as GenAITool\n",
    "\n",
    "# Load environment variables\n",
    "load_dotenv()\n",
    "\n",
    "# Set up API key\n",
    "os.environ[\"GOOGLE_API_KEY\"] = os.getenv('GOOGLE_API_KEY')"
   ]
  },
  {
   "cell_type": "markdown",
   "metadata": {
    "id": "hRdCLFyg43ix"
   },
   "source": [
    "GenAITool acts as a formal declaration that tells Gemini what external services it is allowed to use.\n",
    "\n",
    "### Initialize the Gemini model\n",
    "Before running any queries, we need to create an instance of the Gemini model."
   ]
  },
  {
   "cell_type": "code",
   "execution_count": 2,
   "metadata": {
    "id": "edjCnWtd4yqj"
   },
   "outputs": [
    {
     "name": "stdout",
     "output_type": "stream",
     "text": [
      "✅ Gemini model initialized successfully\n"
     ]
    }
   ],
   "source": [
    "# Initialize the Gemini model\n",
    "llm = ChatGoogleGenerativeAI(\n",
    "    model=\"gemini-2.0-flash-exp\",  # Specify the exact Gemini model version\n",
    "    temperature=0.7  # Controls randomness vs. determinism of model outputs\n",
    ")\n",
    "\n",
    "print(\"✅ Gemini model initialized successfully\")"
   ]
  },
  {
   "cell_type": "markdown",
   "metadata": {
    "id": "Z4kgWmS05PBC"
   },
   "source": [
    "`ChatGoogleGenerativeAI` is the main LangChain object responsible for handling prompts, managing tool calls, and receiving responses from Gemini.\n",
    "- We choose a specific Gemini variant. Flash models prioritize speed over size or depth, which is often preferred in conversational agents where latency matters.\n",
    "\n",
    "\n",
    "### Configure the search tool\n",
    "Before sending prompts to Gemini, it’s important to explicitly define which external tools the model is allowed to use. Gemini itself doesn’t automatically “know” that Google Search is allowed—it needs to be configured through a tool declaration."
   ]
  },
  {
   "cell_type": "code",
   "execution_count": 3,
   "metadata": {
    "id": "kNc52MTP5JN1"
   },
   "outputs": [
    {
     "name": "stdout",
     "output_type": "stream",
     "text": [
      "🔍 Google Search tool configured\n",
      "Tool type: <class 'google.ai.generativelanguage_v1beta.types.content.Tool'>\n",
      "Tool configuration: google_search {\n",
      "}\n",
      "\n"
     ]
    }
   ],
   "source": [
    "# Configure the search tool\n",
    "search_tool = GenAITool(google_search={})\n",
    "\n",
    "print(\"🔍 Google Search tool configured\")\n",
    "print(f\"Tool type: {type(search_tool)}\")  # Check the tool’s Python object type\n",
    "print(f\"Tool configuration: {search_tool}\")  # Display the internal configuration state\n"
   ]
  },
  {
   "cell_type": "markdown",
   "metadata": {
    "id": "naQoP_7a5SeC"
   },
   "source": [
    "GenAITool is a configuration object that defines what tools the model can use.\n",
    "- `google_search={}`: Enables Google Search functionality. Leaving it empty is intentional. It keeps things flexible and avoids over-constraining the search behavior. If we later want Gemini to prioritize results from a specific country or use a limited result count, we would add key-value pairs here. The empty dictionary uses default search parameters\n",
    "\n",
    "\n",
    "### Basic search example\n",
    "Let's start with a basic example asking about current technology trends.\n",
    "This demonstrates how Gemini can search for and synthesize recent information.\n"
   ]
  },
  {
   "cell_type": "code",
   "execution_count": 4,
   "metadata": {
    "id": "pD251itA5Y4L"
   },
   "outputs": [
    {
     "name": "stdout",
     "output_type": "stream",
     "text": [
      "🤖 Query: Latest AI developments in 2025\n",
      "📝 Response:\n",
      "Based on the search results, here are some of the latest developments in artificial intelligence as of July 2025:\n",
      "\n",
      "**1. AI Models Becoming More Capable and Useful:**\n",
      "\n",
      "*   AI models are faster and more efficient, with large-scale \"frontier models\" handling tasks from writing to coding, and specialized models tailored for specific industries.\n",
      "*   Models with advanced reasoning capabilities can solve complex problems with logical steps, useful in science, coding, math, law, and medicine.\n",
      "*   OpenAI has revealed that GPT-5 will unify advancements from several specialized models into a single, more capable system, improving versatility across tasks. GPT-5 is expected to launch later in 2025.\n",
      "\n",
      "**2. AI-Powered Agents and Companions:**\n",
      "\n",
      "*   A new generation of AI-powered agents can handle tasks on your behalf, transforming business processes and revolutionizing work management.\n",
      "*   AI companions, like Microsoft Copilot, support you throughout the day, simplifying and prioritizing tasks while safeguarding privacy and security.\n",
      "*   Autonomous agents are rising, handling routine tasks and becoming as commonplace as email or smartphones. These agents proactively manage calendars, negotiate, co-create content, and handle email triage.\n",
      "\n",
      "**3. AI in Healthcare and Medicine:**\n",
      "\n",
      "*   AI drives breakthroughs in healthcare research, diagnostics, and treatment.\n",
      "*   Generative AI transforms drug discovery, with predictions that over 30% of new drugs will be discovered using generative AI by 2025.\n",
      "*   AI models show high accuracy in early disease detection, like cancer, using patient history, imaging, and biomarkers to generate predictive diagnostics.\n",
      "*   AI is used for personalized medicine and predictive analytics, tailoring treatment plans and assisting in early disease detection.\n",
      "\n",
      "**4. AI and Quantum Computing:**\n",
      "\n",
      "*   Quantum-powered AI can lead to the discovery of new materials with properties tailored for specific applications, such as superconductors.\n",
      "*   It enables better prediction of natural disasters and informs policy decisions on climate change mitigation.\n",
      "*   Quantum AI can develop new cryptographic techniques for securing data.\n",
      "\n",
      "**5. Ethical and Societal Considerations:**\n",
      "\n",
      "*   With increased AI integration, ethical questions and pushed boundaries have emerged, leading to a focus on \"responsible\" AI.\n",
      "*   There are concerns about privacy, data bias, and the limitations of AI chatbots, necessitating ethical guardrails.\n",
      "*   Educational institutions need to overhaul curricula to prepare students for AI-augmented roles.\n",
      "*   Legal and ethical frameworks are needed for accountability and ethical considerations with AI colleagues and quantum-powered decision-making.\n",
      "\n",
      "**6. AI Integration and Automation:**\n",
      "\n",
      "*   AI has become synonymous with in-app tools and plug-ins, with more companies integrating AI into their systems.\n",
      "*   Agentic AI tools are being developed to automate complex, multi-step business processes, reducing operational overhead and accelerating innovation.\n",
      "*   Hyper-automation, where AI seamlessly integrates with existing business processes, is becoming the norm.\n",
      "\n",
      "**7. AI for Social Wellbeing:**\n",
      "\n",
      "*   AI is addressing human social needs with the rise of AI companions that provide conversation, caregiving assistance, and friendship, particularly impacting older adults.\n",
      "*   AI tools are being used for mental health support and personalized healthcare.\n",
      "\n",
      "**8. AI in Sustainability and Climate Change:**\n",
      "\n",
      "*   AI is used to protect ecosystems, optimize energy usage, and foster sustainable practices.\n",
      "*   It contributes to climate modeling precision, enabling better prediction of natural disasters.\n",
      "\n",
      "**9. Key AI Models and Tools:**\n",
      "\n",
      "*   **GPT-4o:** Versatile creator with multimodal capabilities and improved image understanding.\n",
      "*   **Claude 3.7 Sonnet:** Excellent at code generation, debugging, and extracting information from technical documents.\n",
      "*   **Llama 4:** The most recent version of Meta's LLM, using a mixture-of-experts architecture.\n",
      "*   **Grok 3:** LLM from xAI with Think mode and DeepSearch mode for reasoning and internet research.\n",
      "*   **Gemini Robotics On-Device:** Brings AI to robots with multimodal reasoning and real-world understanding.\n",
      "*   **Imagen 4:** For developers in the Gemini API and Google AI Studio.\n",
      "\n",
      "**10. AI in Cybersecurity:**\n",
      "\n",
      "*   AI systems like Google's \"Big Sleep\" detect and disable dormant web domains vulnerable to cyberattacks.\n",
      "*   However, there are also new malicious AI variants being used to automate phishing and malware creation.\n",
      "\n",
      "These developments indicate that AI is becoming more integrated into various aspects of life, with advancements in AI models, automation, healthcare, and sustainability. Ethical considerations and the need for responsible AI development are also becoming increasingly important.\n",
      "\n",
      "==================================================\n",
      "\n"
     ]
    }
   ],
   "source": [
    "# Example: Technology trends\n",
    "response = llm.invoke(\n",
    "    \"What are the latest developments in artificial intelligence in 2025?\",\n",
    "    tools=[search_tool]  # Provide Gemini with access to Google Search capability for this query\n",
    ")\n",
    "\n",
    "print(\"🤖 Query: Latest AI developments in 2025\")\n",
    "print(\"📝 Response:\")\n",
    "print(response.content)\n",
    "print(\"\\n\" + \"=\"*50 + \"\\n\")"
   ]
  },
  {
   "cell_type": "markdown",
   "metadata": {
    "id": "T89Rvu8T5c9r"
   },
   "source": [
    "* `llm.invoke()` sends both the query and tool access info to Gemini.\n",
    "  * `tools=[search_tool]`: Provides Google Search capability\n",
    "\n",
    "Gemini automatically determines if search is needed, performs web searches, synthesizes information from multiple sources and provides a comprehensive answer.\n",
    "\n",
    "### Real-time financial information\n",
    "Financial markets change rapidly, making this a perfect use case for search-enabled AI. Gemini allows for retrieving the current performance of specific stocks."
   ]
  },
  {
   "cell_type": "code",
   "execution_count": 5,
   "metadata": {
    "id": "1dSMumse5iiJ"
   },
   "outputs": [
    {
     "name": "stdout",
     "output_type": "stream",
     "text": [
      "📈 Query: Current tech stock performance\n",
      "📝 Response:\n",
      "Here's a summary of the current performance of Apple, Microsoft, and Google stocks as of July 16, 2025:\n",
      "\n",
      "**Apple (AAPL)**\n",
      "\n",
      "*   **Current Price:** \\$210.16\n",
      "*   **Change Today:** Increased by 0.47%\n",
      "*   **Day's High/Low:** \\$212.4 / \\$208.64\n",
      "\n",
      "**Microsoft (MSFT)**\n",
      "\n",
      "*   **Current Price:** \\$505.62\n",
      "*   **Change Today:** Decreased by -0.04%\n",
      "\n",
      "**Google (GOOG)**\n",
      "\n",
      "*   **Current Price:** \\$183.77\n",
      "*   **Change Today:** Increased by 0.37%\n",
      "\n",
      "==================================================\n",
      "\n"
     ]
    }
   ],
   "source": [
    "# Example: Financial markets\n",
    "response = llm.invoke(\n",
    "    \"What is the current performance of major tech stocks like Apple, Microsoft, and Google today?\",\n",
    "    tools=[search_tool]\n",
    ")\n",
    "\n",
    "print(\"📈 Query: Current tech stock performance\")\n",
    "print(\"📝 Response:\")\n",
    "print(response.content)\n",
    "print(\"\\n\" + \"=\"*50 + \"\\n\")"
   ]
  },
  {
   "cell_type": "markdown",
   "metadata": {
    "id": "8lKIiEUO5lAx"
   },
   "source": [
    "The process demonstrates context awareness - understanding that “performance” in this query means looking for numbers like price changes, and market cap fluctuations, triggering the search functionality without hardcoding it.\n",
    "\n",
    "Gemini is responsible for both querying the web and distilling complex financial data into an understandable, conversational response. We do not need to write custom API calls to financial market services; the search tool handles this through generalized search behavior. Also, instead of just dumping raw search results, Gemini crafts a human-readable answer based on financial context.\n",
    "\n",
    "\n",
    "\n",
    "\n",
    "### Breaking news and current events\n",
    "Search-enabled Gemini excels at providing current news summaries and analysis."
   ]
  },
  {
   "cell_type": "code",
   "execution_count": 6,
   "metadata": {
    "id": "DLIqjBSQ5pyc"
   },
   "outputs": [
    {
     "name": "stdout",
     "output_type": "stream",
     "text": [
      "🔬 Query: Recent scientific breakthroughs\n",
      "📝 Response:\n",
      "Here are some of the most significant scientific breakthroughs announced in the past month:\n",
      "\n",
      "*   **Black Hole Merger:** Scientists have detected the most massive black hole merger ever observed, resulting in a new black hole 225 times the mass of the sun. This discovery could provide evidence of a rare type of black hole.\n",
      "*   **Ancient Glacier Ice:** The oldest known ice in Western Europe, dating back over 12,000 years to the last Ice Age, has been revealed by an ancient glacier high in the French Alps.\n",
      "*   **AI Designs Custom Proteins:** Artificial intelligence can now design custom proteins in seconds, a process that previously took years, potentially accelerating cures for diseases like cancer and antibiotic-resistant infections.\n",
      "*   **Parkinson's Detection by Dogs:** Dogs trained to detect Parkinson's disease using scent have demonstrated remarkable accuracy in identifying skin swabs from people with the disease.\n",
      "*   **Exoplanet Discovery:** Astronomers have uncovered a massive exoplanet, ten times the size of Jupiter, hidden in the dusty disc of a young star.\n",
      "*   **Material Discovery Automation:** A new AI-powered lab automation system is accelerating the discovery of new materials, performing experiments in real-time and discovering materials ten times faster than traditional methods.\n",
      "*   **Quantum Entanglement Reversibility:** Scientists have uncovered a quantum counterpart to Carnot's second law, demonstrating that entanglement can be reversed without loss using a clever \"entanglement engine.\"\n",
      "*   **Drought Survival Protein in Plants:** A protein previously thought to be just a cellular courier has been found to help plants survive drought by regulating the closure of pores in leaves to conserve water.\n",
      "*   **Alzheimer's Proteins:** Scientists have identified over 200 misfolded proteins in the brains of aging individuals, which may contribute to Alzheimer's disease.\n",
      "*   **Nerve Cell Generation:** Scientists at ETH Zurich have made significant progress in generating over 400 types of nerve cells from stem cells in the lab.\n",
      "\n",
      "==================================================\n",
      "\n"
     ]
    }
   ],
   "source": [
    "# Example: Current events\n",
    "response = llm.invoke(\n",
    "    \"What are the most significant scientific breakthroughs announced in the past month?\",\n",
    "    tools=[search_tool]\n",
    ")\n",
    "\n",
    "print(\"🔬 Query: Recent scientific breakthroughs\")\n",
    "print(\"📝 Response:\")\n",
    "print(response.content)\n",
    "print(\"\\n\" + \"=\"*50 + \"\\n\")"
   ]
  },
  {
   "cell_type": "markdown",
   "metadata": {
    "id": "SJ8vTk5f5sGp"
   },
   "source": [
    "The prompt’s use of “past month” signals Gemini to prioritize recent search results over older ones. Google Search’s underlying system already ranks relevant results; Gemini layers summarization on top of this to avoid simply echoing headlines.\n",
    "\n",
    "Recognizing what counts as a “scientific breakthrough” involves understanding scientific domains like medicine, physics, or AI research. Gemini’s language model handles that classification.\n",
    "\n",
    "\n",
    "### Comparing multiple options\n",
    "Search-enabled Gemini can gather information about different options and provide comparisons.\n"
   ]
  },
  {
   "cell_type": "code",
   "execution_count": 7,
   "metadata": {
    "id": "2DtEEXzo5xwS"
   },
   "outputs": [
    {
     "name": "stdout",
     "output_type": "stream",
     "text": [
      "📱 Query: Latest smartphone comparison\n",
      "📝 Response:\n",
      "['Okay, let\\'s compare the latest smartphone releases from Samsung, Apple, and Google, focusing on features, price, and reviews. Since the definition of \"latest\" can shift rapidly, I\\'ll aim to provide information based on releases up to my current knowledge cutoff, and I\\'ll use searches to get the most up-to-date information possible.', 'Okay, here\\'s a comparison of the latest smartphone releases from Samsung, Apple, and Google, based on the search results. Note that \"latest\" can be subjective, so I\\'m focusing on releases and information from the past few months (mid-2025).\\n\\n**Samsung**\\n\\n*   **Latest Releases:** Samsung has been busy with several releases, including the Galaxy S25 series (S25, S25+, S25 Ultra, and even an S25 Edge), the Galaxy Z Flip 6 and Z Fold 6, and more budget-friendly options like the Galaxy A series (e.g., A36, A26, A56). There are also FE (Fan Edition) versions sometimes.\\n*   **Features:**\\n    *   **Galaxy S25 Series:** Advanced AI-powered experiences (in partnership with Google, using Gemini AI), powerful processors (Snapdragon 8 Elite in some models), high-resolution cameras, and bright displays. The S25 Ultra stands out with a bigger, sharper screen, titanium build, and Corning Gorilla Armor 2.\\n    *   **Galaxy Z Flip 6:** Refined design, stronger hinge, higher durability, improved camera (50MP main), and more RAM. Larger external display (Flex Window) with more interactive widgets.\\n    *   **Galaxy Z Fold 6:** Innovative foldable design for increased portability and multitasking.\\n    *   **Galaxy A Series:** Recognizable design, AMOLED displays, and essential hardware features at lower price points.\\n*   **Price:** Prices vary widely. The Galaxy S25 is mentioned as a sub-$1000 option, potentially starting around $800. The S25 Ultra is a premium device with a price tag around $1300. Foldable phones (Z Flip and Z Fold) are generally more expensive. The A series aims for value, with some models under $500 or even $300.\\n*   **Reviews:**\\n    *   Generally positive for the S25 series, praising performance, cameras, and AI features. The S25 Ultra is considered the top-end choice if budget allows.\\n    *   The Z Flip 6 is lauded for its foldable design and improved features, though the higher price is a consideration.\\n    *   The A series receives positive reviews as good value options, offering essential features and long-term software support.\\n\\n**Apple**\\n\\n*   **Latest Releases:** The information points to the iPhone 16 series (including iPhone 16, 16 Plus, 16 Pro, 16 Pro Max, and a more affordable 16e) and rumors about the upcoming iPhone 17 series.\\n*   **Features (Rumored/Expected):**\\n    *   **iPhone 17 Pro Max:** Possibly a 6.9-inch OLED screen, A19 Pro chip, triple 48MP camera setup, and a 24MP front camera.\\n    *   **iPhone 17 Air:** A thinner design (5.5mm rumored), potentially a single 48MP rear camera, and possibly no SIM tray.\\n    *   **General Trends:** Improved front-facing cameras (24MP), potential return to aluminum frame for Pro models, and advancements in \"Apple Intelligence.\" Some models may have vapor chamber cooling.\\n*   **Price:** The iPhone 16 is mentioned as starting around $799, with the 16 Plus at $899. The iPhone 16e is a more affordable option at $599. The iPhone 17 Pro Max is speculated to be priced around Rs 1,64,900 in India (which is higher than the previous model).\\n*   **Reviews:** The iPhone 16 and 16 Plus are considered good choices for most people, offering a balance of features and price. The iPhone 16e is positioned as an entry-level option or for those switching from Android.\\n\\n**Google**\\n\\n*   **Latest Releases:** The Pixel 9 series is the latest, including the Pixel 9, Pixel 9 Pro, Pixel 9 Pro XL, and the more budget-friendly Pixel 9a. There\\'s also the Pixel 9 Pro Fold.\\n*   **Features:**\\n    *   **Pixel 9 Pro/Pro XL:** Tensor G4 processor, advanced AI capabilities (Gemini Advanced), and excellent cameras. The Pro XL has a larger screen.\\n    *   **Pixel 9a:** A more affordable option with a new processor, updated design, and good cameras. It ships with Android 15 and gets seven years of updates.\\n    *   **Pixel 9 Pro Fold:** Foldable design with a large 8-inch screen.\\n*   **Price:** The Pixel 9a is priced at $499. The Pixel 9 Pro starts at $999, and the Pixel 9 Pro XL is even more expensive. The Pixel 9 Pro Fold is the most expensive, at $1799.\\n*   **Reviews:**\\n    *   The Pixel 9 Pro and Pro XL are praised for their cameras and AI features, but some features may require a subscription.\\n    *   The Pixel 9a is considered an excellent value, offering many of the features of the higher-end Pixels at a lower price.\\n    *   Google is often first with new AI features on smartphones.\\n\\n**Key Takeaways and Comparisons**\\n\\n*   **AI:** All three brands are heavily emphasizing AI, but Google seems to be pushing it the most, deeply integrating it into the Pixel experience.\\n*   **Foldables:** Samsung continues to be a leader in the foldable market with its Z Flip and Z Fold series. Google has the Pixel Fold, and there\\'s speculation about Apple entering the foldable market in the future.\\n*   **Value:** Google\\'s Pixel A series and Samsung\\'s A series offer compelling value for money, providing essential features at more affordable prices. Apple has the iPhone 16e for a lower price point.\\n*   **Cameras:** All three brands are known for their camera quality. Samsung and Google often compete for the top spot in camera performance, while Apple focuses on a more natural and consistent image quality.\\n*   **Operating System:** Google Pixel phones offer a \"pure\" Android experience, while Samsung uses its One UI on top of Android. Apple uses iOS, known for its user-friendliness and tight integration with Apple\\'s ecosystem.\\n\\n**Disclaimer:** This information is based on the search results and may not be exhaustive. It\\'s always a good idea to check the official websites of Samsung, Apple, and Google for the most up-to-date specifications, pricing, and reviews.']\n",
      "\n",
      "==================================================\n",
      "\n"
     ]
    }
   ],
   "source": [
    "# Example: Product comparison\n",
    "response = llm.invoke(\n",
    "    \"Compare the latest smartphone releases from Samsung, Apple, and Google in terms of features, price, and reviews\",\n",
    "    tools=[search_tool]\n",
    ")\n",
    "\n",
    "print(\"📱 Query: Latest smartphone comparison\")\n",
    "print(\"📝 Response:\")\n",
    "print(response.content)\n",
    "print(\"\\n\" + \"=\"*50 + \"\\n\")"
   ]
  },
  {
   "cell_type": "markdown",
   "metadata": {
    "id": "Pk9uit-95uDC"
   },
   "source": [
    "The query is not just asking about one product or feature but comparing across brands and specs. Gemini identifies what comparison categories make sense - typically features, price, and reviews—based on the query.\n",
    "\n",
    "\n",
    "### Location-specific queries\n",
    "Search capabilities are particularly useful for location-based information that changes frequently."
   ]
  },
  {
   "cell_type": "code",
   "execution_count": 8,
   "metadata": {
    "id": "blFTFTgj54HH"
   },
   "outputs": [
    {
     "name": "stdout",
     "output_type": "stream",
     "text": [
      "✈️ Query: Current travel restrictions for Japan\n",
      "📝 Response:\n",
      "As of July 17, 2025, the following travel restrictions and requirements apply for visiting Japan from the United States:\n",
      "\n",
      "*   **COVID-19 related restrictions:** There are no COVID-19 testing, proof of vaccination, or quarantine requirements to travel to Japan.\n",
      "*   **Visa:** U.S. citizens do not need a visa for short-term tourist visits (up to three months).\n",
      "*   **Passport:** Your passport must be valid for the entire duration of your stay in Japan. You need one blank passport page for the entry stamp.\n",
      "*   **Return ticket:** Even if a visa is not required, you should have proof of a return or onward ticket.\n",
      "*   **Customs declaration:** All foreign visitors entering Japan must make declarations for immigration and customs clearance. This can be done in advance using the Visit Japan Web online system.\n",
      "*   **Currency restrictions:** If you are entering or exiting Japan with ¥1,000,000 or more, you need to declare it.\n",
      "*   **Medications:** Many common medications and over-the-counter drugs in the United States are illegal in Japan, even with a valid U.S. prescription. Bringing them with you could lead to arrest.\n",
      "*   **Driving:** If you plan to drive in Japan, you can use a valid International Driving Permit issued in your home country before your trip.\n",
      "*   **Criminal record:** Travelers with certain criminal convictions may be refused entry into Japan.\n",
      "\n",
      "==================================================\n",
      "\n"
     ]
    }
   ],
   "source": [
    "# Example: Travel information\n",
    "response = llm.invoke(\n",
    "    \"What are the current travel restrictions and requirements for visiting Japan from the United States?\",\n",
    "    tools=[search_tool]\n",
    ")\n",
    "\n",
    "print(\"✈️ Query: Current travel restrictions for Japan\")\n",
    "print(\"📝 Response:\")\n",
    "print(response.content)\n",
    "print(\"\\n\" + \"=\"*50 + \"\\n\")"
   ]
  },
  {
   "cell_type": "markdown",
   "metadata": {
    "id": "OFYD2Jd257-W"
   },
   "source": [
    "The prompt specifies both the destination (Japan) and the origin (United States), guiding Gemini to search for route-specific regulations.\n",
    "\n",
    "### Analytical market insights\n",
    "In some scenarios, users want not just facts, but AI-powered insights and forecasts. This example focuses on the renewable energy sector, where up-to-date market reports and future trend predictions are both key."
   ]
  },
  {
   "cell_type": "code",
   "execution_count": 9,
   "metadata": {
    "id": "OreNWN4J6Jll"
   },
   "outputs": [
    {
     "name": "stdout",
     "output_type": "stream",
     "text": [
      "🌱 Query: Renewable energy market analysis\n",
      "📝 Response:\n",
      "['Okay, I can analyze the current global renewable energy market trends and predict future growth areas. To give you the most up-to-date and comprehensive analysis, I will use search queries to gather information on the latest market reports, trends, and expert forecasts.', \"Here's an analysis of the current global renewable energy market trends and a prediction of future growth areas:\\n\\n**Current Global Renewable Energy Market Trends:**\\n\\n*   **Dominance of Solar and Wind:** Solar and wind energy continue to lead in new capacity additions. Solar PV capacity is expected to continue its strong growth, potentially surpassing hydropower and nuclear.\\n*   **Record Investments:** Global investment in renewables reached record levels in 2023, driven by policy support and increasing demand for clean energy. Investments are flowing into manufacturing, particularly for solar PV and batteries.\\n*   **Falling Costs:** Technological advancements and supportive government policies are driving down the costs of renewable energy, making it more competitive with traditional fossil fuels.\\n*   **Government Support:** Favorable government initiatives, subsidies, and incentive programs are strong catalysts for market expansion, especially in countries like China, the U.S., and India.\\n*   **Grid Integration and Energy Storage:** Advancements in energy storage technologies, such as lithium-ion and flow batteries, are enabling more efficient integration of intermittent renewable power sources like solar and wind.\\n*   **Corporate Demand:** Rising corporate demand for renewable energy is fueled by increasing environmental, social, and governance (ESG) criteria among investors, leading to a shift toward sustainable investments.\\n*   **Electrification of Transportation:** The growing electric vehicle (EV) market is increasing electricity demand, pushing further reliance on renewable energy sources to meet the need for clean power.\\n*   **Regional Growth:** Asia-Pacific currently holds the largest regional share of the renewable energy market, with particularly strong growth in China and India. South America is also advancing rapidly due to pro-investment reforms and abundant renewable resources.\\n*   **Innovation and Technology:** Innovation in areas like advanced photovoltaics, AI-driven energy management, and green hydrogen are shaping a more inclusive and resilient energy future.\\n*   **Manufacturing Investments:** Investments in manufacturing renewable energy and enabling technologies grew significantly, with solar PV and battery manufacturing leading the way.\\n\\n**Predicted Future Growth Areas:**\\n\\n*   **Solar Energy:** Solar power is expected to continue its dominance, driven by decreasing costs, technological advancements, and supportive policies. Both utility-scale projects and rooftop installations are expected to grow.\\n*   **Wind Energy:** Wind energy, both onshore and offshore, is expected to gain further traction, particularly in coastal and island nations seeking to diversify their energy portfolios.\\n*   **Energy Storage:** Energy storage solutions will be crucial for grid stability and round-the-clock power availability, addressing the intermittency of solar and wind power.\\n*   **Green Hydrogen:** Green hydrogen is emerging as a key area for growth, with potential applications in various sectors, including transportation, industry, and power generation.\\n*   **AI and Big Data:** AI and big data analytics will play an increasingly important role in optimizing energy grid management, forecasting power consumption, and enabling predictive maintenance.\\n*   **Cleantech Manufacturing:** The cleantech manufacturing sector is expected to continue supporting renewables supply through domestic supply chain development.\\n*   **Advanced Materials:** Advances in materials like perovskite are expected to significantly boost energy conversion rates in solar PV.\\n*   **Offshore Wind:** Offshore wind farm development is gaining traction, utilizing stronger and more consistent wind patterns.\\n*   **Asia-Pacific Region:** The Asia-Pacific region is expected to remain a key growth area, driven by rapid industrialization, urbanization, and supportive government policies.\\n*   **Commercial and Industrial (C&I) Installations:** C&I installations are gaining momentum as companies seek to hedge against volatile fossil-fuel prices and tighten sustainability targets.\\n\\n**Market Size and Growth Rate:**\\n\\n*   The global renewable energy market is projected to experience substantial growth in the coming years. Different reports provide slightly varying estimates, but the overall trend is strongly positive.\\n*   One source estimates the market size will grow from USD 1.51 trillion in 2024 to USD 4.86 trillion by 2033, with a CAGR of 14.9% from 2025 to 2033.\\n*   Another projects the market to grow from USD 1,262 billion in 2024 to USD 4,607 billion by 2035, representing a CAGR of 12.48%.\\n*   Another source estimates the market will increase from $1.3 trillion in 2024 to $2.0 trillion by 2029, at a CAGR of 8.7%.\\n*   Another source estimates the market size will grow from 5.08 Thousand gigawatt in 2025 to 7.04 Thousand gigawatt by 2030, at a CAGR of 8.94%.\\n*   Another source estimates the market will reach USD 7.28 billion by 2034, rising at a CAGR of 17.23%.\\n\\n**Challenges and Opportunities:**\\n\\n*   **Trade Tensions and Supply Chains:** Trade tensions, tariffs, and supply chain disruptions can create volatility in the renewable energy market.\\n*   **Geopolitical and Weather-Related Risks:** Geopolitical instability and extreme weather events pose risks to renewable energy projects.\\n*   **Workforce Development:** Developing a skilled workforce is crucial to support the growth of the renewable energy sector.\\n*   **Insurance and Risk Management:** Renewable energy companies need to address risk engineering requirements and secure suitable insurance products to protect their investments.\\n\\nIn conclusion, the global renewable energy market is experiencing strong growth and is poised for continued expansion in the coming years. Solar and wind energy will remain key drivers of this growth, along with advancements in energy storage, green hydrogen, and AI-driven energy management. The Asia-Pacific region is expected to lead the way, with significant opportunities emerging in other regions as well. Overcoming challenges related to trade, supply chains, and workforce development will be crucial to realizing the full potential of the renewable energy market.\"]\n",
      "\n",
      "==================================================\n",
      "\n"
     ]
    }
   ],
   "source": [
    "# Example: Complex analytical query\n",
    "response = llm.invoke(\n",
    "    \"Analyze the current global renewable energy market trends and predict future growth areas\",\n",
    "    tools=[search_tool]\n",
    ")\n",
    "\n",
    "print(\"🌱 Query: Renewable energy market analysis\")\n",
    "print(\"📝 Response:\")\n",
    "print(response.content)\n",
    "print(\"\\n\" + \"=\"*50 + \"\\n\")"
   ]
  },
  {
   "cell_type": "markdown",
   "metadata": {
    "id": "kKK-TOm_6L4n"
   },
   "source": [
    "The model is tasked with both describing current conditions and making future predictions based on real-world data. While Gemini doesn’t run hard predictive models, it uses reasoning based on fresh data to suggest likely growth areas.\n",
    "\n",
    "\n",
    "### Handling potential issues\n",
    "When building real-world applications using Gemini with live search functionality, it’s important to plan for things not always working perfectly. Internet-connected tools are prone to occasional network hiccups, API key issues, rate limits, or backend outages."
   ]
  },
  {
   "cell_type": "code",
   "execution_count": 10,
   "metadata": {
    "id": "d3eIFDgU6SLc"
   },
   "outputs": [
    {
     "name": "stdout",
     "output_type": "stream",
     "text": [
      "🚀 Query: Latest space exploration updates\n",
      "📝 Response:\n",
      "Here are some of the latest updates in space exploration missions as of July 17, 2025:\n",
      "\n",
      "**Missions in Progress:**\n",
      "\n",
      "*   **Mars Exploration:**\n",
      "    *   NASA's Perseverance rover is actively searching for past life and collecting samples for future return to Earth.\n",
      "    *   China's Tianwen-1 continues to orbit and study the planet.\n",
      "    *   The United Arab Emirates' Hope orbiter is studying the Martian atmosphere.\n",
      "    *   NASA's Curiosity rover explores an ancient lake bed.\n",
      "*   **Asteroid Exploration:**\n",
      "    *   NASA's Lucy mission is exploring asteroids that share Jupiter's orbit.\n",
      "    *   Japan's Hayabusa2 is en route to two more asteroids after returning a sample from asteroid Ryugu in 2020.\n",
      "*   **Solar Missions:**\n",
      "    *   India's Aditya-L1 is studying the Sun.\n",
      "    *   NASA's Parker Solar Probe is studying the Sun's atmosphere.\n",
      "*   **Kuiper Belt:**\n",
      "    *   NASA's New Horizons is exploring the Kuiper Belt.\n",
      "\n",
      "**Upcoming Missions:**\n",
      "\n",
      "*   **Lunar Missions:**\n",
      "    *   NASA's Artemis program aims to return humans to the Moon, with the first crewed flight, Artemis II, scheduled for 2026.\n",
      "    *   NASA's Lunar Trailblazer orbiter, scheduled to launch in 2024, will study water on the Moon.\n",
      "    *   Israel's Beresheet2, a privately funded mission, is scheduled to launch an orbiter and two landers to the Moon in 2025.\n",
      "*   **Asteroid and Comet Missions:**\n",
      "    *   China's Tianwen-2 mission will launch in 2025 to collect samples from a near-Earth asteroid.\n",
      "    *   ESA's Hera spacecraft launches in 2024 to study the asteroid impacted by NASA's DART mission.\n",
      "    *   NASA's NEO Surveyor is scheduled to launch in 2028 to find asteroids that could pose a threat to Earth.\n",
      "    *   ESA's Comet Interceptor mission will launch in 2029 to study a pristine long-period comet.\n",
      "*   **Mars Missions:**\n",
      "    *   Japan's Martian Moons eXploration (MMX) mission launches in 2026 to collect samples from Phobos.\n",
      "    *   The Mars Sample Return program, a joint effort by NASA and ESA, aims to return samples from Mars to Earth in the early 2030s.\n",
      "*   **Venus Missions:**\n",
      "    *   Rocket Lab and MIT plan to launch the Venus Life Finder mission in early 2025 to scan for organic molecules in Venus' clouds.\n",
      "    *   NASA's DAVINCI mission, launching no earlier than 2029, will explore Venus' atmosphere.\n",
      "    *   NASA's VERITAS, launching no earlier than 2031, will map Venus' topography.\n",
      "*   **Other Missions:**\n",
      "    *   The NASA-funded ESCAPADE twin orbiters will launch in Sept. 2024 to explore how the solar wind strips away Mars' atmosphere\n",
      "    *   China plans to launch its first asteroid deflection test in 2025.\n",
      "\n",
      "**Recent News:**\n",
      "\n",
      "*   **Chang'e-6 Mission:** China's Chang'e-6 mission has successfully delivered the first-ever samples from the Moon's far side.\n",
      "*   **SpaceX Launches:** SpaceX continues regular launches, including Starlink missions. On July 15, 2025, a Falcon 9 rocket launched 26 Starlink satellites into low Earth orbit.\n",
      "*   **James Webb Space Telescope:** The James Webb Space Telescope continues to make discoveries, including detailed images of exoplanets.\n",
      "*   **Commercial Space Station Progress:** NASA is making progress on the Starlab commercial space station.\n",
      "*   **Private Spaceflights:** Private spaceflights continue, with astronauts from various countries participating in missions to the International Space Station. Recently, astronauts from India, Poland, and Hungary returned to Earth after a private space station mission.\n",
      "*   **Boeing Starliner:** Boeing's Starliner won't fly again until 2026, and likely without astronauts aboard, due to ongoing thruster issues.\n",
      "*   **Moon-Rice Project:** Scientists are engineering a protein-rich rice that can grow in space.\n"
     ]
    }
   ],
   "source": [
    "def safe_search_query(query, max_retries=3):\n",
    "    \"\"\"\n",
    "    Safely execute a search query using Gemini with Google Search, including error handling and retry attempts.\n",
    "    \"\"\"\n",
    "    for attempt in range(max_retries):\n",
    "        try:\n",
    "            # Attempt to send the query to Gemini with search capabilities\n",
    "            response = llm.invoke(query, tools=[search_tool])\n",
    "            return response  # Return successful response immediately\n",
    "        except Exception as e:\n",
    "            # Handle and log the error during this attempt\n",
    "            print(f\"Attempt {attempt + 1} failed: {str(e)}\")\n",
    "            # If this was the last allowed attempt, give up gracefully\n",
    "            if attempt == max_retries - 1:\n",
    "                print(\"Max retries reached. Please check your API key and connection.\")\n",
    "                return None  # No response available after retries\n",
    "    return None\n",
    "\n",
    "# Example usage with a real query about space exploration\n",
    "response = safe_search_query(\"What are the latest updates in space exploration missions?\")\n",
    "if response:\n",
    "    print(\"🚀 Query: Latest space exploration updates\")\n",
    "    print(\"📝 Response:\")\n",
    "    print(response.content)\n",
    "else:\n",
    "    print(\"❌ Query failed after retries\")"
   ]
  },
  {
   "cell_type": "markdown",
   "metadata": {
    "id": "N81cRnZH6UOY"
   },
   "source": [
    "If all retry attempts fail, the function reports that and exits cleanly with `None` instead of crashing the application.\n",
    "\n",
    "### Optimizing search queries\n",
    "Simply throwing a vague question at Gemini won’t always yield the best results. Crafting clear, specific, and time-bounded queries helps in improving the relevance and precision of Gemini’s answers and reducing unnecessary web traffic or search load.\n",
    "\n",
    "\n"
   ]
  },
  {
   "cell_type": "code",
   "execution_count": 11,
   "metadata": {
    "id": "dSL5DpUF6Zbr"
   },
   "outputs": [
    {
     "name": "stdout",
     "output_type": "stream",
     "text": [
      "🎯 Optimized Query: What are the top 3 cybersecurity threats identified in enterprise reports from the last 6 months?\n",
      "📝 Response Preview: Based on enterprise cybersecurity reports from the last 6 months, here are three prominent threats:\n",
      "\n",
      "1.  **Ransomware:** This continues to be a major threat, with attackers employing increasingly soph...\n",
      "\n",
      "------------------------------\n",
      "\n",
      "🎯 Optimized Query: Compare the environmental impact of electric vs hydrogen vehicles based on 2024 studies\n",
      "📝 Response Preview: Comparing the environmental impact of electric vehicles (EVs) and hydrogen fuel cell vehicles (HFCVs) requires considering various factors, including greenhouse gas emissions, air quality, and resourc...\n",
      "\n",
      "------------------------------\n",
      "\n",
      "🎯 Optimized Query: What are the latest FDA approvals for cancer treatments announced this year?\n",
      "📝 Response Preview: Here's a summary of some of the latest FDA approvals for cancer treatments announced in 2025:\n",
      "\n",
      "**General Overview:**\n",
      "\n",
      "*   From April 1 to June 30, 2025, the FDA issued 13 new oncology approvals.\n",
      "*   I...\n",
      "\n",
      "------------------------------\n",
      "\n"
     ]
    }
   ],
   "source": [
    "# Example of optimized query structure\n",
    "optimized_queries = [\n",
    "    \"What are the top 3 cybersecurity threats identified in enterprise reports from the last 6 months?\",\n",
    "    \"Compare the environmental impact of electric vs hydrogen vehicles based on 2024 studies\",\n",
    "    \"What are the latest FDA approvals for cancer treatments announced this year?\"\n",
    "]\n",
    "\n",
    "# Loop through each query\n",
    "for query in optimized_queries:\n",
    "    print(f\"🎯 Optimized Query: {query}\")\n",
    "    response = llm.invoke(query, tools=[search_tool])  # Execute the query with search tool enabled\n",
    "    print(f\"📝 Response Preview: {response.content[:200]}...\")\n",
    "    print(\"\\n\" + \"-\"*30 + \"\\n\")"
   ]
  },
  {
   "cell_type": "markdown",
   "metadata": {
    "id": "FFbM3AsB6b_I"
   },
   "source": [
    "- Optimized query crafting: Demonstrates best practices like specifying exact time frames (“last 6 months”) and clear targets (“top 3 threats”).\n",
    "\n",
    "\n",
    "### Understanding search behavior\n",
    "To better understand how Gemini + Google Search behaves at runtime, it’s useful to collect basic analytics on queries and responses—especially in environments with variable user input like chatbots or customer support assistants.\n"
   ]
  },
  {
   "cell_type": "code",
   "execution_count": 12,
   "metadata": {
    "id": "Jr7zsXk16hBm"
   },
   "outputs": [
    {
     "name": "stdout",
     "output_type": "stream",
     "text": [
      "🔍 Analyzing query: What are the current semiconductor industry challenges and supply chain issues?\n",
      "📊 Analysis:\n",
      "- Query length: 79 characters\n",
      "- Response length: 3490 characters\n",
      "- Response type: <class 'langchain_core.messages.ai.AIMessage'>\n",
      "- Contains recent information: True\n",
      "\n",
      "📝 Full Response:\n",
      "Based on the search results, here are some of the current challenges and supply chain issues in the semiconductor industry as of July 2025:\n",
      "\n",
      "**Challenges:**\n",
      "\n",
      "*   **Talent Acquisition and Workforce Development:** A significant shortage of skilled workers, including engineers and technicians, is a major concern. This is due to the specialized and technical nature of chip design and manufacturing, as well as an aging workforce. Companies are investing in training, upskilling, and partnerships with educational institutions to address this gap.\n",
      "*   **Geopolitical Tensions:** Rising tensions, particularly between the United States and China, and conflicts such as those in Ukraine/Russia and the Middle East, can disrupt supply chains and affect access to critical raw materials.\n",
      "*   **Tariffs and Trade Restrictions:** Increasing tariffs and trade restrictions, especially those impacting US-China trade, have increased import costs and disrupted supply chains. These measures can lead to higher production costs and delays in the production and distribution of critical components.\n",
      "*   **Cost Increases:** The rising costs of semiconductor fabs and the need for advanced technologies are causing difficulties for companies in investing in the latest technologies.\n",
      "*   **Sustainability and Ethical Concerns:** There is growing pressure on semiconductor companies to address their environmental impact and ethical practices, including reducing energy and water consumption, managing waste, and ensuring responsible labor practices throughout the supply chain.\n",
      "*   **Legacy and Consumer Electronics Segments:** These segments face challenges, including slowed growth, supply imbalances, and market volatility.\n",
      "\n",
      "**Supply Chain Issues:**\n",
      "\n",
      "*   **Supply Chain Vulnerabilities:** The semiconductor supply chain remains vulnerable to disruptions caused by geopolitical events, natural disasters, and other unforeseen circumstances.\n",
      "*   **Geographic Concentration:** The global supply chain's dependency on and concentration of certain types of semiconductors, especially in the most advanced technologies, in specific regions (e.g., South Korea) poses a risk.\n",
      "*   **Reshoring and Mineral Security:** The lack of a stable domestic supply of critical minerals in the U.S. is pushing reshoring efforts, but the transition to regionalized mineral sourcing will be uneven, introducing new risks around cost volatility and disruptions.\n",
      "*   **Component Obsolescence:** The rapid pace of technological advancement and market consolidation has led to a notable increase in component obsolescence, making managing the supply chain more complex.\n",
      "*   **Raw Material Shortages:** A lack of raw materials can disrupt supply chains.\n",
      "*   **Impact of AI:** While AI is driving growth, any downward movement in AI-related spending and component shortages could have an adverse impact on the broader global semiconductor and electronics supply chain.\n",
      "*   **Inventory Imbalances:** Cyclical demand and shifting priorities can lead to under-supply of critical components in some sectors (e.g., industrial automation) and over-supply in others.\n",
      "\n",
      "**Actions to Improve Supply Chain Agility:**\n",
      "\n",
      "*   Increasing geographical diversity and resiliency in supply chains.\n",
      "*   Building resilient supply chains amid escalating geopolitical tensions.\n",
      "*   Public-private collaboration to address choke points in semiconductor manufacturing.\n",
      "*   Strengthening U.S. supply chains through smart tax, research, and workforce policies.\n"
     ]
    }
   ],
   "source": [
    "# Example with detailed analysis\n",
    "query = \"What are the current semiconductor industry challenges and supply chain issues?\"\n",
    "print(f\"🔍 Analyzing query: {query}\")\n",
    "\n",
    "# Execute the query with search enabled\n",
    "response = llm.invoke(query, tools=[search_tool])\n",
    "\n",
    "print(\"📊 Analysis:\")\n",
    "print(f\"- Query length: {len(query)} characters\")\n",
    "print(f\"- Response length: {len(response.content)} characters\")\n",
    "print(f\"- Response type: {type(response)}\")\n",
    "print(f\"- Contains recent information: {'2024' in response.content or '2025' in response.content}\")\n",
    "\n",
    "print(\"\\n📝 Full Response:\")\n",
    "print(response.content)"
   ]
  },
  {
   "cell_type": "markdown",
   "metadata": {
    "id": "wiQUxdRg6lTO"
   },
   "source": [
    "- Query inspection: Evaluates how long the query is, which can affect both processing time and model interpretation accuracy.\n",
    "- Date keyword detection: Simple heuristics like checking for “2024” or “2025” help confirm that the search integration is pulling recent information rather than outdated content."
   ]
  }
 ],
 "metadata": {
  "colab": {
   "provenance": []
  },
  "kernelspec": {
   "display_name": "Python 3.9",
   "language": "python",
   "name": "python3.9"
  },
  "language_info": {
   "codemirror_mode": {
    "name": "ipython",
    "version": 3
   },
   "file_extension": ".py",
   "mimetype": "text/x-python",
   "name": "python",
   "nbconvert_exporter": "python",
   "pygments_lexer": "ipython3",
   "version": "3.9.13"
  }
 },
 "nbformat": 4,
 "nbformat_minor": 4
}
