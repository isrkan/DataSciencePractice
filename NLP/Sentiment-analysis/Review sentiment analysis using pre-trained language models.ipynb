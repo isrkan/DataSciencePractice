{
 "cells": [
  {
   "cell_type": "markdown",
   "id": "9f9ed4ed-d847-461c-b95c-66223667299a",
   "metadata": {},
   "source": [
    "# Review sentiment classification using pre-trained language models\n",
    "\n",
    "The goal of this project is to classify the sentiment of hotel reviews from booking.com using pre-trained language models. Specifically, we aim to fine-tune popular pre-trained language models and compare their performance. This notebook builds on the previous work done on the same dataset, where classification and deep learning models were employed to perform the same task. Through this project, we hope to determine which pre-trained language model is the most accurate for this task."
   ]
  },
  {
   "cell_type": "code",
   "execution_count": 1,
   "id": "5ecd6990-0370-4569-8507-fa369d7e1402",
   "metadata": {},
   "outputs": [],
   "source": [
    "import pandas as pd\n",
    "import numpy as np\n",
    "import seaborn as sns\n",
    "import matplotlib.pyplot as plt\n",
    "import numpy as np\n",
    "\n",
    "from sklearn.model_selection import train_test_split\n",
    "import sklearn.metrics as skmetrics\n",
    "from sklearn.metrics import accuracy_score\n",
    "\n",
    "import torch\n",
    "from transformers import BertTokenizer, BertForSequenceClassification, AdamW\n",
    "from transformers import BartTokenizer, BartForSequenceClassification\n",
    "from transformers import RobertaTokenizer, RobertaForSequenceClassification\n",
    "from transformers import ElectraTokenizer, ElectraForSequenceClassification\n",
    "from torch.utils.data import TensorDataset, random_split, DataLoader, RandomSampler, SequentialSampler\n",
    "\n",
    "import warnings\n",
    "warnings.filterwarnings(\"ignore\", category=UserWarning)"
   ]
  },
  {
   "cell_type": "code",
   "execution_count": 2,
   "id": "30ea8968-3a9d-4272-8c7a-e2fbc8dd1507",
   "metadata": {},
   "outputs": [
    {
     "data": {
      "text/html": [
       "<div>\n",
       "<style scoped>\n",
       "    .dataframe tbody tr th:only-of-type {\n",
       "        vertical-align: middle;\n",
       "    }\n",
       "\n",
       "    .dataframe tbody tr th {\n",
       "        vertical-align: top;\n",
       "    }\n",
       "\n",
       "    .dataframe thead th {\n",
       "        text-align: right;\n",
       "    }\n",
       "</style>\n",
       "<table border=\"1\" class=\"dataframe\">\n",
       "  <thead>\n",
       "    <tr style=\"text-align: right;\">\n",
       "      <th></th>\n",
       "      <th>Review</th>\n",
       "      <th>Sentiment</th>\n",
       "    </tr>\n",
       "  </thead>\n",
       "  <tbody>\n",
       "    <tr>\n",
       "      <th>0</th>\n",
       "      <td>The room was tiny and for that reason we woul...</td>\n",
       "      <td>0</td>\n",
       "    </tr>\n",
       "    <tr>\n",
       "      <th>1</th>\n",
       "      <td>There were renovations going on that made it ...</td>\n",
       "      <td>0</td>\n",
       "    </tr>\n",
       "    <tr>\n",
       "      <th>2</th>\n",
       "      <td>The bathroom door was hanging off the light f...</td>\n",
       "      <td>0</td>\n",
       "    </tr>\n",
       "    <tr>\n",
       "      <th>3</th>\n",
       "      <td>The location was perfect close to the Undergr...</td>\n",
       "      <td>1</td>\n",
       "    </tr>\n",
       "    <tr>\n",
       "      <th>4</th>\n",
       "      <td>Never change the used cups</td>\n",
       "      <td>0</td>\n",
       "    </tr>\n",
       "    <tr>\n",
       "      <th>...</th>\n",
       "      <td>...</td>\n",
       "      <td>...</td>\n",
       "    </tr>\n",
       "    <tr>\n",
       "      <th>2472</th>\n",
       "      <td>Customer service and cleanliness of rooms</td>\n",
       "      <td>0</td>\n",
       "    </tr>\n",
       "    <tr>\n",
       "      <th>2473</th>\n",
       "      <td>Excellent location when arriving in car</td>\n",
       "      <td>1</td>\n",
       "    </tr>\n",
       "    <tr>\n",
       "      <th>2474</th>\n",
       "      <td>Location is good about 8 mins walk to the tub...</td>\n",
       "      <td>1</td>\n",
       "    </tr>\n",
       "    <tr>\n",
       "      <th>2475</th>\n",
       "      <td>very confy bed Great bar with lovely staff</td>\n",
       "      <td>1</td>\n",
       "    </tr>\n",
       "    <tr>\n",
       "      <th>2476</th>\n",
       "      <td>Very clean large rooms with high value toilet...</td>\n",
       "      <td>1</td>\n",
       "    </tr>\n",
       "  </tbody>\n",
       "</table>\n",
       "<p>2477 rows × 2 columns</p>\n",
       "</div>"
      ],
      "text/plain": [
       "                                                 Review  Sentiment\n",
       "0      The room was tiny and for that reason we woul...          0\n",
       "1      There were renovations going on that made it ...          0\n",
       "2      The bathroom door was hanging off the light f...          0\n",
       "3      The location was perfect close to the Undergr...          1\n",
       "4                            Never change the used cups          0\n",
       "...                                                 ...        ...\n",
       "2472         Customer service and cleanliness of rooms           0\n",
       "2473            Excellent location when arriving in car          1\n",
       "2474   Location is good about 8 mins walk to the tub...          1\n",
       "2475        very confy bed Great bar with lovely staff           1\n",
       "2476   Very clean large rooms with high value toilet...          1\n",
       "\n",
       "[2477 rows x 2 columns]"
      ]
     },
     "execution_count": 2,
     "metadata": {},
     "output_type": "execute_result"
    }
   ],
   "source": [
    "# import the data\n",
    "reviews_data = pd.read_csv('C:/Hotel_Reviews_Booking.csv')\n",
    "reviews_data = reviews_data[:1500]\n",
    "\n",
    "### Prepare the reveiws dataset\n",
    "pos_df = reviews_data[['Positive_Review']].copy()\n",
    "pos_df.columns = ['Review']\n",
    "pos_df.loc[:, 'Sentiment'] = 1 #positive\n",
    "\n",
    "neg_df = reviews_data[['Negative_Review']].copy()\n",
    "neg_df.columns = ['Review']\n",
    "neg_df.loc[:, 'Sentiment'] = 0 #negative\n",
    "\n",
    "clf_df = pd.concat([pos_df,neg_df])\n",
    "clf_df = clf_df.drop_duplicates().reset_index(drop=True)\n",
    "clf_df = clf_df.sample(frac=1).reset_index(drop=True)\n",
    "clf_df"
   ]
  },
  {
   "cell_type": "code",
   "execution_count": 3,
   "id": "e18daf39-94a3-47e7-8d04-0066f92d2007",
   "metadata": {},
   "outputs": [
    {
     "name": "stdout",
     "output_type": "stream",
     "text": [
      "1    1412\n",
      "0    1065\n",
      "Name: Sentiment, dtype: int64\n"
     ]
    },
    {
     "data": {
      "image/png": "[encoded data removed]",
      "text/plain": [
       "<Figure size 640x480 with 1 Axes>"
      ]
     },
     "metadata": {},
     "output_type": "display_data"
    }
   ],
   "source": [
    "# Check the imbalance in the data\n",
    "print(clf_df['Sentiment'].value_counts())\n",
    "sns.countplot(x='Sentiment', data=clf_df)\n",
    "plt.title('Sentiment distribution')\n",
    "plt.show()"
   ]
  },
  {
   "cell_type": "code",
   "execution_count": 4,
   "id": "66dfaacf-d492-4658-9431-31bc54cc54cb",
   "metadata": {},
   "outputs": [],
   "source": [
    "# set parameters\n",
    "epochs = 4\n",
    "batch_size = 16"
   ]
  },
  {
   "cell_type": "code",
   "execution_count": 5,
   "id": "60b51e3e-0771-4ae6-b896-9446f796e9d1",
   "metadata": {},
   "outputs": [],
   "source": [
    "# track models performance\n",
    "log_models = pd.DataFrame(columns=[\"Model\",\"Accuracy\",\"Precision\",\"Recall\",\"F1-score\"])"
   ]
  },
  {
   "cell_type": "markdown",
   "id": "c4c37bb9-cf85-4f45-b823-ba4a5b51c4ba",
   "metadata": {},
   "source": [
    "## Pre-trained language models"
   ]
  },
  {
   "cell_type": "code",
   "execution_count": 5,
   "id": "0ba6d5ce-4ed1-4708-9d83-70c98e914f83",
   "metadata": {},
   "outputs": [],
   "source": [
    "def data_preparation(clf_df, tokenizer):\n",
    "    reviews = clf_df['Review'].values\n",
    "    labels = clf_df['Sentiment'].values\n",
    "\n",
    "    # Preprocess data\n",
    "    input_ids = []\n",
    "    attention_masks = []\n",
    "\n",
    "    for review in reviews:\n",
    "        encoded_dict = tokenizer.encode_plus(\n",
    "                            review,                      # Review to encode\n",
    "                            add_special_tokens = True,   # Add '[CLS]' and '[SEP]'\n",
    "                            max_length = 256,            # Pad & truncate all sentences\n",
    "                            truncation=True,\n",
    "                            pad_to_max_length = True,\n",
    "                            return_attention_mask = True, # Construct attn. masks\n",
    "                            return_tensors = 'pt',       # Return pytorch tensors\n",
    "                       )\n",
    "\n",
    "        input_ids.append(encoded_dict['input_ids'])\n",
    "        attention_masks.append(encoded_dict['attention_mask'])\n",
    "    \n",
    "    input_ids = torch.cat(input_ids, dim=0)\n",
    "    attention_masks = torch.cat(attention_masks, dim=0)\n",
    "    labels = torch.tensor(labels)\n",
    "\n",
    "    # Split data into train and validation sets\n",
    "    train_inputs, val_inputs, train_labels, val_labels = train_test_split(input_ids, labels, random_state=42, test_size=0.2)\n",
    "    train_masks, val_masks, _, _ = train_test_split(attention_masks, input_ids, random_state=42, test_size=0.2)\n",
    "    \n",
    "    return train_inputs, val_inputs, train_labels, val_labels, train_masks, val_masks\n",
    "\n",
    "def training(model, train_inputs, val_inputs, train_labels, val_labels, train_masks, val_masks):\n",
    "    \n",
    "    # Train the model\n",
    "    device = torch.device('cuda' if torch.cuda.is_available() else 'cpu')\n",
    "    model.to(device)\n",
    "    optimizer = AdamW(model.parameters(), lr=2e-5, eps=1e-8)\n",
    "    for epoch in range(epochs):\n",
    "        model.train()\n",
    "        total_loss = 0\n",
    "        for i in range(0, train_inputs.size(0), batch_size):\n",
    "            inputs = train_inputs[i:i+batch_size].to(device)\n",
    "            masks = train_masks[i:i+batch_size].to(device)\n",
    "            labels = train_labels[i:i+batch_size].to(device)\n",
    "\n",
    "            model.zero_grad()        \n",
    "            #outputs = model(inputs, token_type_ids=None, attention_mask=masks, labels=labels)\n",
    "            outputs = model(inputs, attention_mask=masks, labels=labels)\n",
    "            loss = outputs.loss\n",
    "            total_loss += loss.item()\n",
    "            loss.backward()\n",
    "            torch.nn.utils.clip_grad_norm_(model.parameters(), 1.0)\n",
    "            optimizer.step()\n",
    "\n",
    "        avg_train_loss = total_loss / len(train_inputs)\n",
    "        print(f'Epoch {epoch+1}/{epochs}, Training Loss: {avg_train_loss}')\n",
    "\n",
    "        # Evaluate on validation set\n",
    "        model.eval()\n",
    "        val_preds = []\n",
    "        with torch.no_grad():\n",
    "            for i in range(0, val_inputs.size(0), batch_size):\n",
    "                inputs = val_inputs[i:i+batch_size].to(device)\n",
    "                masks = val_masks[i:i+batch_size].to(device)\n",
    "                labels = val_labels[i:i+batch_size].to(device)\n",
    "\n",
    "                #outputs = model(inputs, token_type_ids=None, attention_mask=masks)\n",
    "                outputs = model(inputs, attention_mask=masks)\n",
    "                logits = outputs.logits\n",
    "                preds = torch.argmax(logits, dim=1).flatten()\n",
    "                val_preds.extend(preds.cpu().detach().numpy())\n",
    "    \n",
    "    return val_labels, val_preds\n",
    "\n",
    "def evaluate(labels, predicted):\n",
    "    accuracy = accuracy_score(labels, predicted)\n",
    "    precision = skmetrics.precision_score(labels, predicted, average='weighted')\n",
    "    recall = skmetrics.recall_score(labels, predicted, average='weighted')\n",
    "    f1 = skmetrics.f1_score(labels, predicted, average='weighted')\n",
    "    print('\\nAccuracy of the model on the test data: {:.2f}%'.format(accuracy * 100))\n",
    "    print('Precision of the model: {:.2f}%'.format(precision * 100))\n",
    "    print('Recall of the model: {:.2f}%'.format(recall * 100))\n",
    "    print('F1-score of the model: {:.2f}%'.format(f1 * 100))\n",
    "\n",
    "    return accuracy, precision, recall, f1"
   ]
  },
  {
   "cell_type": "markdown",
   "id": "5dd296f4-f6a9-4b5b-8712-1606f5cf3afd",
   "metadata": {},
   "source": [
    "### BERT\n",
    "\n",
    "BERT is a pre-trained language model that can understand the context of words in a sentence. This ability helps it to accurately understand the meaning of the text, which is especially important for sentiment analysis since the sentiment of a sentence can depend on its context. Another advantage of BERT is that it can be fine-tuned on small datasets to achieve high accuracy, which makes it a suitable choice for this task."
   ]
  },
  {
   "cell_type": "code",
   "execution_count": 7,
   "id": "1b5595b3-722a-4959-afdb-2db74fad5125",
   "metadata": {},
   "outputs": [
    {
     "name": "stderr",
     "output_type": "stream",
     "text": [
      "C:\\Users\\israe\\anaconda3\\lib\\site-packages\\transformers\\tokenization_utils_base.py:2354: FutureWarning: The `pad_to_max_length` argument is deprecated and will be removed in a future version, use `padding=True` or `padding='longest'` to pad to the longest sequence in the batch, or use `padding='max_length'` to pad to a max length. In this case, you can give a specific length with `max_length` (e.g. `max_length=45`) or leave max_length to None to pad to the maximal input size of the model (e.g. 512 for Bert).\n",
      "  warnings.warn(\n",
      "Some weights of the model checkpoint at bert-base-uncased were not used when initializing BertForSequenceClassification: ['cls.predictions.transform.dense.weight', 'cls.seq_relationship.bias', 'cls.predictions.transform.LayerNorm.weight', 'cls.predictions.transform.dense.bias', 'cls.predictions.transform.LayerNorm.bias', 'cls.seq_relationship.weight', 'cls.predictions.decoder.weight', 'cls.predictions.bias']\n",
      "- This IS expected if you are initializing BertForSequenceClassification from the checkpoint of a model trained on another task or with another architecture (e.g. initializing a BertForSequenceClassification model from a BertForPreTraining model).\n",
      "- This IS NOT expected if you are initializing BertForSequenceClassification from the checkpoint of a model that you expect to be exactly identical (initializing a BertForSequenceClassification model from a BertForSequenceClassification model).\n",
      "Some weights of BertForSequenceClassification were not initialized from the model checkpoint at bert-base-uncased and are newly initialized: ['classifier.bias', 'classifier.weight']\n",
      "You should probably TRAIN this model on a down-stream task to be able to use it for predictions and inference.\n",
      "C:\\Users\\israe\\anaconda3\\lib\\site-packages\\transformers\\optimization.py:391: FutureWarning: This implementation of AdamW is deprecated and will be removed in a future version. Use the PyTorch implementation torch.optim.AdamW instead, or set `no_deprecation_warning=True` to disable this warning\n",
      "  warnings.warn(\n"
     ]
    },
    {
     "name": "stdout",
     "output_type": "stream",
     "text": [
      "Epoch 1/4, Training Loss: 0.016094336311574056\n",
      "Epoch 2/4, Training Loss: 0.005760120520587298\n",
      "Epoch 3/4, Training Loss: 0.0036163037854511477\n",
      "Epoch 4/4, Training Loss: 0.0014539221478560313\n",
      "\n",
      "Accuracy of the model on the test data: 96.37%\n",
      "Precision of the model: 96.39%\n",
      "Recall of the model: 96.37%\n",
      "F1-score of the model: 96.38%\n"
     ]
    }
   ],
   "source": [
    "tokenizer = BertTokenizer.from_pretrained('bert-base-uncased', do_lower_case=True)\n",
    "\n",
    "train_inputs, val_inputs, train_labels, val_labels, train_masks, val_masks = data_preparation(clf_df, tokenizer)\n",
    "\n",
    "# Initialize the BERT model\n",
    "model = BertForSequenceClassification.from_pretrained('bert-base-uncased',num_labels = 2, \n",
    "    output_attentions = False,output_hidden_states = False,)\n",
    "\n",
    "val_labels, val_preds = training(model, train_inputs, val_inputs, train_labels, val_labels, train_masks, val_masks)\n",
    "\n",
    "accuracy, precision, recall, f1 = evaluate(val_labels.cpu().numpy(), val_preds)\n",
    "log_models.loc[len(log_models)] = ['BERT',accuracy, precision, recall, f1]"
   ]
  },
  {
   "cell_type": "markdown",
   "id": "19fcef43-70ad-4c7c-8b77-e1513da45fd5",
   "metadata": {},
   "source": [
    "### BART\n",
    "\n",
    "BART is a pre-trained language model that offers some advantages over BERT for text classification tasks. One of the main advantages is its ability to handle variable-length input sequences. Furthermore, BART is trained on a denoising auto-encoder objective, which requires the model to reconstruct a corrupted version of the input sequence. This training process helps BART to learn to compress and summarize text effectively, which can be useful for tasks like sentiment analysis where the relevant information may be spread across the text."
   ]
  },
  {
   "cell_type": "code",
   "execution_count": 13,
   "id": "a2f2e5e0-9804-4a07-86a9-c63ae14ab345",
   "metadata": {},
   "outputs": [
    {
     "name": "stderr",
     "output_type": "stream",
     "text": [
      "Some weights of BartForSequenceClassification were not initialized from the model checkpoint at facebook/bart-base and are newly initialized: ['classification_head.out_proj.weight', 'classification_head.out_proj.bias', 'classification_head.dense.bias', 'classification_head.dense.weight']\n",
      "You should probably TRAIN this model on a down-stream task to be able to use it for predictions and inference.\n"
     ]
    },
    {
     "name": "stdout",
     "output_type": "stream",
     "text": [
      "Epoch 1/4, Training Loss: 0.01697491858683899\n",
      "Epoch 2/4, Training Loss: 0.00906898228088201\n",
      "Epoch 3/4, Training Loss: 0.0073792044525429635\n",
      "Epoch 4/4, Training Loss: 0.004995327849485966\n",
      "\n",
      "Accuracy of the model on the test data: 96.37%\n",
      "Precision of the model: 96.37%\n",
      "Recall of the model: 96.37%\n",
      "F1-score of the model: 96.37%\n"
     ]
    }
   ],
   "source": [
    "tokenizer = BartTokenizer.from_pretrained('facebook/bart-base')\n",
    "\n",
    "train_inputs, val_inputs, train_labels, val_labels, train_masks, val_masks = data_preparation(clf_df, tokenizer)\n",
    "\n",
    "# Initialize the BART model\n",
    "model = BartForSequenceClassification.from_pretrained('facebook/bart-base', num_labels=2)\n",
    "\n",
    "val_labels, val_preds = training(model, train_inputs, val_inputs, train_labels, val_labels, train_masks, val_masks)\n",
    "\n",
    "accuracy, precision, recall, f1 = evaluate(val_labels.cpu().numpy(), val_preds)\n",
    "log_models.loc[len(log_models)] = ['BART',accuracy, precision, recall, f1]"
   ]
  },
  {
   "cell_type": "markdown",
   "id": "ed033201-db7c-44a3-bb7d-c563bcd265a9",
   "metadata": {},
   "source": [
    "### RoBERTa\n",
    "\n",
    "RoBERTa is a modification of the BERT architecture, which has been trained on a larger dataset. This means that RoBERTa has seen a greater variety of language and can potentially capture more subtle nuances in sentiment. Additionally, RoBERTa's dynamic masking approach improves the model's ability to capture context dependencies and long-term dependencies in the input sequence."
   ]
  },
  {
   "cell_type": "code",
   "execution_count": 7,
   "id": "0961e394-bcb7-470c-8d80-642689b694fa",
   "metadata": {},
   "outputs": [
    {
     "name": "stderr",
     "output_type": "stream",
     "text": [
      "C:\\Users\\israe\\anaconda3\\lib\\site-packages\\transformers\\tokenization_utils_base.py:2354: FutureWarning: The `pad_to_max_length` argument is deprecated and will be removed in a future version, use `padding=True` or `padding='longest'` to pad to the longest sequence in the batch, or use `padding='max_length'` to pad to a max length. In this case, you can give a specific length with `max_length` (e.g. `max_length=45`) or leave max_length to None to pad to the maximal input size of the model (e.g. 512 for Bert).\n",
      "  warnings.warn(\n",
      "Some weights of the model checkpoint at roberta-base were not used when initializing RobertaForSequenceClassification: ['roberta.pooler.dense.bias', 'lm_head.decoder.weight', 'roberta.pooler.dense.weight', 'lm_head.layer_norm.bias', 'lm_head.dense.bias', 'lm_head.layer_norm.weight', 'lm_head.dense.weight', 'lm_head.bias']\n",
      "- This IS expected if you are initializing RobertaForSequenceClassification from the checkpoint of a model trained on another task or with another architecture (e.g. initializing a BertForSequenceClassification model from a BertForPreTraining model).\n",
      "- This IS NOT expected if you are initializing RobertaForSequenceClassification from the checkpoint of a model that you expect to be exactly identical (initializing a BertForSequenceClassification model from a BertForSequenceClassification model).\n",
      "Some weights of RobertaForSequenceClassification were not initialized from the model checkpoint at roberta-base and are newly initialized: ['classifier.out_proj.weight', 'classifier.dense.weight', 'classifier.out_proj.bias', 'classifier.dense.bias']\n",
      "You should probably TRAIN this model on a down-stream task to be able to use it for predictions and inference.\n",
      "C:\\Users\\israe\\anaconda3\\lib\\site-packages\\transformers\\optimization.py:391: FutureWarning: This implementation of AdamW is deprecated and will be removed in a future version. Use the PyTorch implementation torch.optim.AdamW instead, or set `no_deprecation_warning=True` to disable this warning\n",
      "  warnings.warn(\n"
     ]
    },
    {
     "name": "stdout",
     "output_type": "stream",
     "text": [
      "Epoch 1/4, Training Loss: 0.02041898718445079\n",
      "Epoch 2/4, Training Loss: 0.00881889602610139\n",
      "Epoch 3/4, Training Loss: 0.0050167632999711005\n",
      "Epoch 4/4, Training Loss: 0.004399278058714183\n",
      "\n",
      "Accuracy of the model on the test data: 97.58%\n",
      "Precision of the model: 97.59%\n",
      "Recall of the model: 97.58%\n",
      "F1-score of the model: 97.58%\n"
     ]
    }
   ],
   "source": [
    "tokenizer = RobertaTokenizer.from_pretrained('roberta-base')\n",
    "\n",
    "train_inputs, val_inputs, train_labels, val_labels, train_masks, val_masks = data_preparation(clf_df, tokenizer)\n",
    "\n",
    "# Initialize the RoBERTa model\n",
    "model = RobertaForSequenceClassification.from_pretrained('roberta-base', num_labels=2)\n",
    "\n",
    "val_labels, val_preds = training(model, train_inputs, val_inputs, train_labels, val_labels, train_masks, val_masks)\n",
    "\n",
    "accuracy, precision, recall, f1 = evaluate(val_labels.cpu().numpy(), val_preds)\n",
    "log_models.loc[len(log_models)] = ['RoBERTa',accuracy, precision, recall, f1]"
   ]
  },
  {
   "cell_type": "markdown",
   "id": "94d1b67a-e9af-40ae-80e6-7d62d7f3f4d4",
   "metadata": {},
   "source": [
    "### ELECTRA\n",
    "\n",
    "ELECTRA is another pre-trained language model that differs from BERT and RoBERTa. While BERT and RoBERTa are pre-trained using masked language modeling, ELECTRA is pre-trained using a different approach called replaced token detection. Additionally, ELECTRA has been shown to have faster training times and requires less memory than BERT and RoBERTa. This is because instead of masking tokens in the input, ELECTRA trains the model to predict whether tokens have been replaced with plausible substitutes. This approach has been shown to be more effective in certain tasks, including sentiment analysis."
   ]
  },
  {
   "cell_type": "code",
   "execution_count": 7,
   "id": "7ca0b4b6-6f91-486a-9e0e-b5c6adf73c98",
   "metadata": {},
   "outputs": [
    {
     "name": "stderr",
     "output_type": "stream",
     "text": [
      "C:\\Users\\israe\\anaconda3\\lib\\site-packages\\transformers\\tokenization_utils_base.py:2354: FutureWarning: The `pad_to_max_length` argument is deprecated and will be removed in a future version, use `padding=True` or `padding='longest'` to pad to the longest sequence in the batch, or use `padding='max_length'` to pad to a max length. In this case, you can give a specific length with `max_length` (e.g. `max_length=45`) or leave max_length to None to pad to the maximal input size of the model (e.g. 512 for Bert).\n",
      "  warnings.warn(\n",
      "Some weights of the model checkpoint at google/electra-base-discriminator were not used when initializing ElectraForSequenceClassification: ['discriminator_predictions.dense_prediction.bias', 'discriminator_predictions.dense.bias', 'discriminator_predictions.dense.weight', 'discriminator_predictions.dense_prediction.weight']\n",
      "- This IS expected if you are initializing ElectraForSequenceClassification from the checkpoint of a model trained on another task or with another architecture (e.g. initializing a BertForSequenceClassification model from a BertForPreTraining model).\n",
      "- This IS NOT expected if you are initializing ElectraForSequenceClassification from the checkpoint of a model that you expect to be exactly identical (initializing a BertForSequenceClassification model from a BertForSequenceClassification model).\n",
      "Some weights of ElectraForSequenceClassification were not initialized from the model checkpoint at google/electra-base-discriminator and are newly initialized: ['classifier.dense.bias', 'classifier.dense.weight', 'classifier.out_proj.bias', 'classifier.out_proj.weight']\n",
      "You should probably TRAIN this model on a down-stream task to be able to use it for predictions and inference.\n",
      "C:\\Users\\israe\\anaconda3\\lib\\site-packages\\transformers\\optimization.py:391: FutureWarning: This implementation of AdamW is deprecated and will be removed in a future version. Use the PyTorch implementation torch.optim.AdamW instead, or set `no_deprecation_warning=True` to disable this warning\n",
      "  warnings.warn(\n"
     ]
    },
    {
     "name": "stdout",
     "output_type": "stream",
     "text": [
      "Epoch 1/4, Training Loss: 0.018638559248992315\n",
      "Epoch 2/4, Training Loss: 0.007035974591334831\n",
      "Epoch 3/4, Training Loss: 0.005350091090427729\n",
      "Epoch 4/4, Training Loss: 0.0035202814908279786\n",
      "\n",
      "Accuracy of the model on the test data: 97.38%\n",
      "Precision of the model: 97.38%\n",
      "Recall of the model: 97.38%\n",
      "F1-score of the model: 97.38%\n"
     ]
    }
   ],
   "source": [
    "tokenizer = ElectraTokenizer.from_pretrained('google/electra-base-discriminator')\n",
    "\n",
    "train_inputs, val_inputs, train_labels, val_labels, train_masks, val_masks = data_preparation(clf_df, tokenizer)\n",
    "\n",
    "# Initialize the ELECTRA model\n",
    "model = ElectraForSequenceClassification.from_pretrained('google/electra-base-discriminator', num_labels=2)\n",
    "\n",
    "val_labels, val_preds = training(model, train_inputs, val_inputs, train_labels, val_labels, train_masks, val_masks)\n",
    "\n",
    "accuracy, precision, recall, f1 = evaluate(val_labels.cpu().numpy(), val_preds)\n",
    "log_models.loc[len(log_models)] = ['ELECTRA',accuracy, precision, recall, f1]"
   ]
  },
  {
   "cell_type": "markdown",
   "id": "25dfa684-ad1f-44d2-a9bd-bb6e48838872",
   "metadata": {},
   "source": [
    "### Model comparison"
   ]
  },
  {
   "cell_type": "code",
   "execution_count": 8,
   "id": "677f2f49-736a-4892-992d-fab4f6e0b6c3",
   "metadata": {},
   "outputs": [
    {
     "data": {
      "text/html": [
       "<div>\n",
       "<style scoped>\n",
       "    .dataframe tbody tr th:only-of-type {\n",
       "        vertical-align: middle;\n",
       "    }\n",
       "\n",
       "    .dataframe tbody tr th {\n",
       "        vertical-align: top;\n",
       "    }\n",
       "\n",
       "    .dataframe thead th {\n",
       "        text-align: right;\n",
       "    }\n",
       "</style>\n",
       "<table border=\"1\" class=\"dataframe\">\n",
       "  <thead>\n",
       "    <tr style=\"text-align: right;\">\n",
       "      <th></th>\n",
       "      <th>Accuracy</th>\n",
       "      <th>Precision</th>\n",
       "      <th>Recall</th>\n",
       "      <th>F1-score</th>\n",
       "    </tr>\n",
       "    <tr>\n",
       "      <th>Model</th>\n",
       "      <th></th>\n",
       "      <th></th>\n",
       "      <th></th>\n",
       "      <th></th>\n",
       "    </tr>\n",
       "  </thead>\n",
       "  <tbody>\n",
       "    <tr>\n",
       "      <th>RoBERTa</th>\n",
       "      <td>0.975806</td>\n",
       "      <td>0.975865</td>\n",
       "      <td>0.975806</td>\n",
       "      <td>0.975820</td>\n",
       "    </tr>\n",
       "    <tr>\n",
       "      <th>ELECTRA</th>\n",
       "      <td>0.973790</td>\n",
       "      <td>0.973803</td>\n",
       "      <td>0.973790</td>\n",
       "      <td>0.973760</td>\n",
       "    </tr>\n",
       "    <tr>\n",
       "      <th>BERT</th>\n",
       "      <td>0.963710</td>\n",
       "      <td>0.963927</td>\n",
       "      <td>0.963710</td>\n",
       "      <td>0.963754</td>\n",
       "    </tr>\n",
       "    <tr>\n",
       "      <th>BART</th>\n",
       "      <td>0.963710</td>\n",
       "      <td>0.963710</td>\n",
       "      <td>0.963710</td>\n",
       "      <td>0.963710</td>\n",
       "    </tr>\n",
       "  </tbody>\n",
       "</table>\n",
       "</div>"
      ],
      "text/plain": [
       "         Accuracy  Precision    Recall  F1-score\n",
       "Model                                           \n",
       "RoBERTa  0.975806   0.975865  0.975806  0.975820\n",
       "ELECTRA  0.973790   0.973803  0.973790  0.973760\n",
       "BERT     0.963710   0.963927  0.963710  0.963754\n",
       "BART     0.963710   0.963710  0.963710  0.963710"
      ]
     },
     "execution_count": 8,
     "metadata": {},
     "output_type": "execute_result"
    }
   ],
   "source": [
    "log_models = log_models.set_index('Model')\n",
    "log_models = log_models.sort_values(by=\"F1-score\",ascending=False)\n",
    "log_models"
   ]
  },
  {
   "cell_type": "markdown",
   "id": "008be6c4-48ff-4f66-b5b7-d9c7964590bb",
   "metadata": {},
   "source": [
    "##### Metrics scores"
   ]
  },
  {
   "cell_type": "code",
   "execution_count": 9,
   "id": "2bfed41a-563d-46fe-922a-fdf4f1896616",
   "metadata": {},
   "outputs": [
    {
     "data": {
      "text/plain": [
       "<Figure size 700x600 with 0 Axes>"
      ]
     },
     "metadata": {},
     "output_type": "display_data"
    },
    {
     "data": {
      "image/png": "[encoded data removed]",
      "text/plain": [
       "<Figure size 640x480 with 1 Axes>"
      ]
     },
     "metadata": {},
     "output_type": "display_data"
    }
   ],
   "source": [
    "plt.figure(figsize=(7, 6))\n",
    "log_models[['Accuracy','Precision','Recall','F1-score']].T.plot.barh()\n",
    "plt.title('Classifier evaluation')\n",
    "plt.legend(title='Model', bbox_to_anchor=(1, 1))\n",
    "plt.xlabel('Score')\n",
    "plt.xlim((0.90,0.99))\n",
    "plt.show()"
   ]
  },
  {
   "cell_type": "markdown",
   "id": "e4948332-ef00-45b7-ac7b-dd6f004afda2",
   "metadata": {},
   "source": [
    "Based on the performance metrics shown, the RoBERTa and ELECTRA models performed the best, followed by BERT with a slightly lower score, and BART with the lowest score. However, there is no significant difference between the models.\n",
    "\n",
    "Compared to our previous project where we explored deep learning models, the pre-trained language models examined in this project have shown to outperform the models we used previously. However, it should be noted that the performance can vary depending on the characteristics of the dataset, and further testing may be required to evaluate the performance of the models on different datasets."
   ]
  }
 ],
 "metadata": {
  "kernelspec": {
   "display_name": "project1",
   "language": "python",
   "name": "project1"
  },
  "language_info": {
   "codemirror_mode": {
    "name": "ipython",
    "version": 3
   },
   "file_extension": ".py",
   "mimetype": "text/x-python",
   "name": "python",
   "nbconvert_exporter": "python",
   "pygments_lexer": "ipython3",
   "version": "3.9.13"
  }
 },
 "nbformat": 4,
 "nbformat_minor": 5
}
