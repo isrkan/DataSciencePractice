{
 "cells": [
  {
   "cell_type": "markdown",
   "id": "61310cf8",
   "metadata": {
    "id": "61310cf8"
   },
   "source": [
    "\n",
    "# Parallelization pattern\n",
    "\n",
    "Language models are powerful, but many tasks require more than a single response from a single prompt. In many AI workflows, especially content generation or creative tasks, it can be more effective to run multiple prompts in parallel and then combine their results. This is known as the parallelization pattern.\n",
    "\n",
    "Rather than chaining prompts sequentially - where one step waits on the result of the previous - we launch independent LLM calls at the same time. Each parallel step performs its task using the same input (e.g., a topic), and their outputs are then merged into a final result.\n",
    "\n",
    "In this notebook, we will implement a parallel prompt workflow using a simple topic as input, with three outputs created in parallel and aggregated into one result."
   ]
  },
  {
   "cell_type": "code",
   "execution_count": 1,
   "id": "0ef04844",
   "metadata": {
    "id": "0ef04844"
   },
   "outputs": [],
   "source": [
    "import os\n",
    "from typing_extensions import TypedDict\n",
    "from langgraph.graph import StateGraph, START, END\n",
    "from langchain_openai import ChatOpenAI\n",
    "from IPython.display import Image, display\n",
    "from langchain_core.runnables.graph import MermaidDrawMethod\n",
    "\n",
    "from dotenv import load_dotenv\n",
    "\n",
    "# Load environment variables from .env file\n",
    "load_dotenv()\n",
    "\n",
    "# Configure OpenAI API key for AI model access\n",
    "os.environ[\"OPENAI_API_KEY\"] = os.getenv('OPENAI_API_KEY')"
   ]
  },
  {
   "cell_type": "markdown",
   "id": "54_KmqYQdQTw",
   "metadata": {
    "id": "54_KmqYQdQTw"
   },
   "source": [
    "### Initialize the language model\n",
    "The language model serves as the core intelligence of our conversational agent. Here we will configure the AI model with specific parameters that balance response quality, cost and performance."
   ]
  },
  {
   "cell_type": "code",
   "execution_count": 2,
   "id": "v5qpTEJpdWvx",
   "metadata": {
    "id": "v5qpTEJpdWvx"
   },
   "outputs": [],
   "source": [
    "# Initialize the OpenAI LLM\n",
    "llm = ChatOpenAI(\n",
    "    model=\"gpt-4o-mini-2024-07-18\",\n",
    "    temperature=0.7  # balanced creativity\n",
    ")"
   ]
  },
  {
   "cell_type": "markdown",
   "id": "jwz02ySldYrB",
   "metadata": {
    "id": "jwz02ySldYrB"
   },
   "source": [
    "This configuration creates our AI model instance using OpenAI's GPT model."
   ]
  },
  {
   "cell_type": "code",
   "execution_count": 3,
   "id": "nO9c3BKmdHMP",
   "metadata": {
    "id": "nO9c3BKmdHMP"
   },
   "outputs": [],
   "source": [
    "# Helper to extract plain text from LLM responses\n",
    "def to_text(msg):\n",
    "    return msg.content if hasattr(msg, \"content\") else str(msg)"
   ]
  },
  {
   "cell_type": "markdown",
   "id": "aCgcGD1pdGz-",
   "metadata": {
    "id": "aCgcGD1pdGz-"
   },
   "source": [
    "### Defining the graph state\n",
    "Before we define the graph itself, we need to be explicit about the structure of the data that flows through it. LangGraph uses a shared mutable state that each node can read from and write to. This state needs to be clearly defined upfront so that nodes know what fields to expect and what they are allowed to modify.\n",
    "\n",
    "In our case, all nodes work off the same input topic, but each one is responsible for generating a different type of content: a joke, a story, or a poem. These outputs will then be combined later in the pipeline.\n",
    "\n",
    "To capture this, we define a Python `TypedDict` that serves as the schema for the state. It's a clean, type-safe way to specify the fields that make up the shared memory of the workflow.\n",
    "\n"
   ]
  },
  {
   "cell_type": "code",
   "execution_count": 4,
   "id": "E7jY7Otpd90A",
   "metadata": {
    "id": "E7jY7Otpd90A"
   },
   "outputs": [],
   "source": [
    "# Define the workflow state\n",
    "class State(TypedDict):\n",
    "    topic: str  # User-provided topic\n",
    "    joke: str  # Output from joke generator\n",
    "    story: str  # Output from story generator\n",
    "    poem: str  # Output from poem generator\n",
    "    combined_output: str  # Final combined output"
   ]
  },
  {
   "cell_type": "markdown",
   "id": "FoKvXaMLeUib",
   "metadata": {
    "id": "FoKvXaMLeUib"
   },
   "source": [
    "This `State` acts like a schema for the data flowing through the LangGraph.\n",
    "\n",
    "Each generation node will:\n",
    "- Read from the `topic` field\n",
    "- Write its specific output field (`joke`, `story`, or `poem`)\n",
    "\n",
    "These operations are entirely independent, which is what makes them suitable for parallel execution.\n",
    "\n",
    "The final `aggregator` will combine all outputs into `combined_output`.\n",
    "\n",
    "### Creating prompt nodes\n",
    "Now we define each LLM node in the graph. These are the actual calls to the OpenAI model. Each function receives the shared `state`, uses the topic, and returns a dictionary with one new key (e.g., joke, story, poem).\n",
    "\n",
    "#### Node 1: Generate a joke"
   ]
  },
  {
   "cell_type": "code",
   "execution_count": 5,
   "id": "83gtqvwPgHNt",
   "metadata": {
    "id": "83gtqvwPgHNt"
   },
   "outputs": [],
   "source": [
    "def call_llm_1(state: State):\n",
    "    \"\"\"Generates a joke about the given topic.\"\"\"\n",
    "    msg = llm.invoke(f\"Write a joke about {state['topic']}\")\n",
    "    return {\"joke\": to_text(msg)}"
   ]
  },
  {
   "cell_type": "markdown",
   "id": "gHgqRZjigH6H",
   "metadata": {
    "id": "gHgqRZjigH6H"
   },
   "source": [
    "#### Node 2: Generate a story"
   ]
  },
  {
   "cell_type": "code",
   "execution_count": 6,
   "id": "JXsRBIFngIuU",
   "metadata": {
    "id": "JXsRBIFngIuU"
   },
   "outputs": [],
   "source": [
    "def call_llm_2(state: State):\n",
    "    \"\"\"Generate a short story about the topic.\"\"\"\n",
    "    msg = llm.invoke(f\"Write a short story about {state['topic']}.\")\n",
    "    return {\"story\": to_text(msg)}"
   ]
  },
  {
   "cell_type": "markdown",
   "id": "-9Pdi1r5gpOU",
   "metadata": {
    "id": "-9Pdi1r5gpOU"
   },
   "source": [
    "#### Node 3: Generate a poem"
   ]
  },
  {
   "cell_type": "code",
   "execution_count": 7,
   "id": "vm9yIWcqgjVb",
   "metadata": {
    "id": "vm9yIWcqgjVb"
   },
   "outputs": [],
   "source": [
    "def call_llm_3(state: State):\n",
    "    \"\"\"Generate a poem about the topic.\"\"\"\n",
    "    msg = llm.invoke(f\"Write a short poem about {state['topic']}.\")\n",
    "    return {\"poem\": to_text(msg)}"
   ]
  },
  {
   "cell_type": "markdown",
   "id": "e3cWuHx0gzVy",
   "metadata": {
    "id": "e3cWuHx0gzVy"
   },
   "source": [
    "Each of these nodes:\n",
    "- Takes in the current state (including the topic),\n",
    "- Sends a prompt to the model,\n",
    "- Returns a new field to update the state with its generated result.\n",
    "\n",
    "These can run in parallel since they are independent of each other.\n",
    "\n",
    "### Node 4: Aggregator node\n",
    "Once all generation is complete, we need a node to merge the outputs into a readable format. This node expects all 3 fields (`joke`, `story`, `poem`) to be available in the state.\n"
   ]
  },
  {
   "cell_type": "code",
   "execution_count": 8,
   "id": "b41e131f",
   "metadata": {
    "id": "b41e131f"
   },
   "outputs": [],
   "source": [
    "def aggregator(state: State):\n",
    "    \"\"\"Combine joke, story, and poem into a single output string.\"\"\"\n",
    "    combined = f\"Here's a story, joke, and poem about {state['topic']}!\\n\\n\"\n",
    "    combined += f\"📝 STORY:\\n{state['story']}\\n\\n\"\n",
    "    combined += f\"😂 JOKE:\\n{state['joke']}\\n\\n\"\n",
    "    combined += f\"🎵 POEM:\\n{state['poem']}\"\n",
    "    return {\"combined_output\": combined}"
   ]
  },
  {
   "cell_type": "markdown",
   "id": "3f5a8ca4",
   "metadata": {
    "id": "3f5a8ca4"
   },
   "source": [
    "This node is purely formatting — it does no generation. It assumes all previous steps have been completed and the relevant fields are populated. It outputs a new field `combined_output` that we will use to present the final result to the user."
   ]
  },
  {
   "cell_type": "markdown",
   "id": "03de10fb",
   "metadata": {
    "id": "03de10fb"
   },
   "source": [
    "### Building the workflow graph\n",
    "Now that we have defined the nodes and the structure of the state, it is time to assemble everything into an executable workflow. LangGraph lets us define workflows as graphs - a flexible way of modeling prompt logic where nodes represent LLM calls (or other logic), and edges represent control flow between them.\n",
    "\n",
    "In this case, we want a parallel fan-out → fan-in pattern:\n",
    "- The graph begins at a `START` node.\n",
    "- From there, we branch into three independent generation tasks: joke, story, and poem.\n",
    "- Once all three are complete, their outputs are passed into a single `aggregator` node.\n",
    "- The workflow ends after the aggregator has run.\n",
    "\n",
    "Importantly, the aggregator will only execute once all three parent nodes have completed. LangGraph automatically manages this synchronization."
   ]
  },
  {
   "cell_type": "code",
   "execution_count": 9,
   "id": "6660a219",
   "metadata": {
    "id": "6660a219"
   },
   "outputs": [],
   "source": [
    "# Build workflow graph\n",
    "builder = StateGraph(State)\n",
    "\n",
    "# Register nodes\n",
    "builder.add_node(\"call_llm_1\", call_llm_1)\n",
    "builder.add_node(\"call_llm_2\", call_llm_2)\n",
    "builder.add_node(\"call_llm_3\", call_llm_3)\n",
    "builder.add_node(\"aggregator\", aggregator)\n",
    "\n",
    "# Wire edges: all three tasks start from START\n",
    "builder.add_edge(START, \"call_llm_1\")\n",
    "builder.add_edge(START, \"call_llm_2\")\n",
    "builder.add_edge(START, \"call_llm_3\")\n",
    "\n",
    "# Merge into aggregator\n",
    "builder.add_edge(\"call_llm_1\", \"aggregator\")\n",
    "builder.add_edge(\"call_llm_2\", \"aggregator\")\n",
    "builder.add_edge(\"call_llm_3\", \"aggregator\")\n",
    "\n",
    "# Aggregator leads to END\n",
    "builder.add_edge(\"aggregator\", END)\n",
    "\n",
    "# Compile the workflow to a runnable chain\n",
    "workflow = builder.compile()"
   ]
  },
  {
   "cell_type": "markdown",
   "id": "790f03f4",
   "metadata": {
    "id": "790f03f4"
   },
   "source": [
    "- We start by initializing the `StateGraph` with our previously defined `State` schema.\n",
    "- Each of the three LLM call functions is added as a node. These nodes are independent and can run concurrently.\n",
    "- All three nodes are wired to begin execution directly from `START`. This is what enables parallel execution - they don't depend on each other.\n",
    "- Once each of the generation tasks finishes, the output is passed to the `aggregator`. LangGraph handles synchronization here - the `aggregator` will wait until all three upstream nodes have completed and updated the state.\n",
    "- After aggregation is complete, we connect it to the `END` node, marking the conclusion of the workflow.\n",
    "- Finally, we compile the graph into a runnable chain. This gives us a clean abstraction to invoke the full process using just an input state.\n",
    "\n",
    "#### Visualizing the Workflow\n",
    "Let’s display the graph visually to better understand the chain."
   ]
  },
  {
   "cell_type": "code",
   "execution_count": 10,
   "id": "4162a5fe",
   "metadata": {
    "id": "4162a5fe"
   },
   "outputs": [
    {
     "data": {
      "image/png": "[encoded data removed]",
      "text/plain": [
       "<IPython.core.display.Image object>"
      ]
     },
     "metadata": {},
     "output_type": "display_data"
    }
   ],
   "source": [
    "# Visualize the graph\n",
    "display(\n",
    "    Image(\n",
    "        workflow.get_graph().draw_mermaid_png(\n",
    "            draw_method=MermaidDrawMethod.API,\n",
    "        )\n",
    "    )\n",
    ")"
   ]
  },
  {
   "cell_type": "markdown",
   "id": "1e20801f",
   "metadata": {
    "id": "1e20801f"
   },
   "source": [
    "### Running the workflow\n",
    "Let’s invoke the chain with a sample input topic and see how it will generate a joke, a story, and a poem in parallel, and then combine them.\n"
   ]
  },
  {
   "cell_type": "code",
   "execution_count": 11,
   "id": "01530380",
   "metadata": {
    "id": "01530380"
   },
   "outputs": [
    {
     "name": "stdout",
     "output_type": "stream",
     "text": [
      "Here's a story, joke, and poem about cats!\n",
      "\n",
      "📝 STORY:\n",
      "In a quaint little town nestled between rolling hills, there was a cozy bookstore called \"Whiskers & Words.\" The store was known not just for its vast collection of books but also for its charming feline residents: a trio of cats named Oliver, Luna, and Jasper. Each cat had a distinct personality that matched their unique appearances.\n",
      "\n",
      "Oliver was a portly tabby with a penchant for napping in the sunniest spots of the store. He would often be found sprawled atop a pile of hardcover novels, his purring vibrating softly through the shelves. Luna, a sleek black cat with mesmerizing green eyes, was the store’s guardian, always alert and watching over the customers with a mysterious air. Jasper, the youngest of the three, was a fluffy ginger ball of energy, constantly darting around, chasing dust motes and pouncing on unsuspecting customers’ shoelaces.\n",
      "\n",
      "One rainy afternoon, as the pitter-patter of raindrops danced on the roof, the bookstore was unusually quiet. The townsfolk preferred to stay indoors, wrapped in blankets with their favorite reads. Luna perched on the counter, her gaze fixed on the door, while Oliver snoozed lazily in his sunbeam. Jasper, however, was restless. He wanted adventure.\n",
      "\n",
      "With a flick of his tail, Jasper decided to explore the back room, a place filled with old boxes and forgotten treasures. As he squeezed through a slightly ajar door, his eyes widened at the sight of dusty tomes and mysterious artifacts. Among the clutter, he stumbled upon an ancient-looking book bound in faded leather. Curiosity piqued, he nudged it open with his paw.\n",
      "\n",
      "To his astonishment, the pages shimmered with a soft, golden light, and the words began to swirl around like fireflies. Suddenly, a soft voice echoed through the room. \"You have awakened the Book of Whiskers,\" it said, \"a magical tome that grants one wish to the pure-hearted.\"\n",
      "\n",
      "Jasper’s heart raced. A wish! What should he wish for? He thought of his friends, Oliver and Luna, and how much he loved their cozy life in the bookstore. But deep down, he felt a longing for adventure beyond the walls of the shop.\n",
      "\n",
      "“I wish for a grand adventure!” he declared, his voice echoing through the room. The book glowed brighter, and in an instant, Jasper found himself standing in a vibrant forest, the smell of pine and wildflowers filling the air. \n",
      "\n",
      "Excited, he raced through the woods, leaping over streams and climbing trees, feeling the thrill of freedom. But as the sun began to set, he realized that he missed his friends terribly. The laughter they shared, the warmth of the bookstore—it was all he truly wanted.\n",
      "\n",
      "With newfound determination, he returned to the spot where he had arrived, calling out, “I wish to go home!” The Book of Whiskers glimmered once more, and in a heartbeat, Jasper was back in the cozy back room of Whiskers & Words.\n",
      "\n",
      "Oliver was stretched out lazily, and Luna was perched on the counter, both looking up with curious eyes. Jasper bounded over to them, nuzzling against their fur, relieved to be home. \n",
      "\n",
      "From that day on, Jasper would often share tales of his adventure, but he never forgot the lesson he learned: that the greatest adventures were the ones shared with those he loved. And so, the three cats continued their days at the bookstore, basking in the warmth of friendship and the magic of stories, knowing that every day held the promise of a new adventure within the pages of a book.\n",
      "\n",
      "😂 JOKE:\n",
      "Why did the cat sit on the computer?\n",
      "\n",
      "Because it wanted to keep an eye on the mouse!\n",
      "\n",
      "🎵 POEM:\n",
      "In sunlit patches, tails held high,  \n",
      "With graceful leaps, they touch the sky.  \n",
      "Whiskers twitching, eyes aglow,  \n",
      "Silent hunters, soft and slow.  \n",
      "\n",
      "Paws like whispers, shadows dance,  \n",
      "In every corner, they find their chance.  \n",
      "A purring symphony, a gentle song,  \n",
      "In the heart of a home, where they belong.  \n",
      "\n",
      "Curled in warmth, they dream and play,  \n",
      "Mystical creatures, in their own way.  \n",
      "Oh, feline friends, so wise and free,  \n",
      "Life is richer with your company.  \n"
     ]
    }
   ],
   "source": [
    "# Run the parallel workflow with a sample topic\n",
    "state = workflow.invoke({\"topic\": \"cats\"})\n",
    "\n",
    "# Print the final result\n",
    "print(state[\"combined_output\"])"
   ]
  },
  {
   "cell_type": "markdown",
   "id": "6695530c",
   "metadata": {
    "id": "6695530c"
   },
   "source": [
    "We now have a single output that merges the three parallel generations."
   ]
  }
 ],
 "metadata": {
  "colab": {
   "provenance": []
  },
  "kernelspec": {
   "display_name": "Python (langgraph-env)",
   "language": "python",
   "name": "langgraph-env"
  },
  "language_info": {
   "codemirror_mode": {
    "name": "ipython",
    "version": 3
   },
   "file_extension": ".py",
   "mimetype": "text/x-python",
   "name": "python",
   "nbconvert_exporter": "python",
   "pygments_lexer": "ipython3",
   "version": "3.9.23"
  }
 },
 "nbformat": 4,
 "nbformat_minor": 5
}
