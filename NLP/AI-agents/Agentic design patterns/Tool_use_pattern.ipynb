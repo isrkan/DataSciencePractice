{
 "cells": [
  {
   "cell_type": "markdown",
   "metadata": {
    "id": "W-YGE7y-aQnG"
   },
   "source": [
    "# Tool use pattern\n",
    "\n",
    "Modern AI systems often need to do things beyond pure text generation: fetch facts, compute values, convert units, or call business APIs - they must interact with external tools to access up-to-date information or perform computations. This ability to call tools is the tool use pattern.\n",
    "\n",
    "The tool use pattern is a foundational approach in agentic system design where an LLM can invoke external tools—APIs, functions or services — to augment its reasoning and actions. These tools allow the model to fetch up-to-date facts, perform calculations, retrieve structured data, call business logic, or interact with the outside world.\n",
    "\n",
    "Instead of relying solely on its internal knowledge, the LLM becomes a coordinator: it interprets user intent, decides what tools it needs, and incorporates tool outputs into its final response.\n",
    "\n",
    "In this notebook, we will implement a single-pass tool-use workflow:\n",
    "1. The model receives a user request.\n",
    "2. If the model decides it needs tools, it calls a tool once.\n",
    "3. We execute the tool, capture their outputs, and hand them back to the model.\n",
    "4. The model finalizes the answer using those results.\n",
    "\n",
    "Unlike more advanced patterns (e.g., multi-turn reasoning/acting loops), here we keep it to one tool-use phase then finalization—simple, reliable, and easy to productionize."
   ]
  },
  {
   "cell_type": "code",
   "execution_count": 1,
   "metadata": {
    "id": "9pdR_g16ZDNr"
   },
   "outputs": [],
   "source": [
    "import os\n",
    "from typing import TypedDict, Sequence, Annotated\n",
    "from langchain_openai import ChatOpenAI\n",
    "from langgraph.graph import StateGraph, START, END\n",
    "from langchain_core.messages import BaseMessage, SystemMessage, ToolMessage, HumanMessage\n",
    "from langgraph.graph.message import add_messages\n",
    "from langchain_core.tools import tool\n",
    "from langchain_core.runnables.graph import MermaidDrawMethod\n",
    "from IPython.display import Image, display\n",
    "import wikipedia\n",
    "import math\n",
    "import json\n",
    "\n",
    "from dotenv import load_dotenv\n",
    "\n",
    "# Load environment variables from .env file\n",
    "load_dotenv()\n",
    "\n",
    "# Configure OpenAI API key for AI model access\n",
    "os.environ[\"OPENAI_API_KEY\"] = os.getenv('OPENAI_API_KEY')"
   ]
  },
  {
   "cell_type": "markdown",
   "metadata": {
    "id": "cl3y8J-mekpT"
   },
   "source": [
    "### Initialize the language model\n",
    "The language model serves as the core intelligence of our conversational agent. Here we will configure the AI model with specific parameters that balance response quality, cost and performance."
   ]
  },
  {
   "cell_type": "code",
   "execution_count": 2,
   "metadata": {
    "id": "gLeYsJ9Jend6"
   },
   "outputs": [],
   "source": [
    "# Initialize the OpenAI language model\n",
    "llm = ChatOpenAI(model=\"gpt-4o-mini-2024-07-18\", temperature=0.7)"
   ]
  },
  {
   "cell_type": "markdown",
   "metadata": {
    "id": "vXGMD73JetKW"
   },
   "source": [
    "This configuration creates our AI model instance using OpenAI's GPT model.\n",
    "\n",
    "### Define the agent state\n",
    "To build a working tool-use system, we need to keep track of what has happened during the interaction: what the user asked, what the model said or requested, and what the tools returned. We do this by defining a simple state object that holds the conversation history. This lets us pass all the relevant context between steps in the workflow.\n",
    "\n",
    "In LangGraph, this is done using a custom state dictionary. Each node in the graph returns new messages (model output or tool result), and the framework automatically appends these to the evolving state under the hood.\n",
    "\n",
    "To define this state, we use Python's `TypedDict` and LangGraph’s message reducer utility `add_messages`. The key idea is to keep a list of `BaseMessage` objects representing the evolving conversation, which will be passed from one node to the next as the loop executes."
   ]
  },
  {
   "cell_type": "code",
   "execution_count": 3,
   "metadata": {
    "id": "uoNdW3ejgwV5"
   },
   "outputs": [],
   "source": [
    "# Define a dictionary structure for the agent's evolving state\n",
    "class AgentState(TypedDict):\n",
    "    \"\"\"State of the agent for one turn or conversation.\"\"\"\n",
    "    # The `messages` field stores the entire chat history (LLM thoughts, tool responses, user input, etc.)\n",
    "    messages: Annotated[Sequence[BaseMessage], add_messages]"
   ]
  },
  {
   "cell_type": "markdown",
   "metadata": {
    "id": "xQsr5dnAh3iq"
   },
   "source": [
    "This defines the `AgentState` class, a dictionary used to represent the current state of the agent at any point in the workflow.\n",
    "* The `messages` field tracks all messages in the interaction. Each message is a `BaseMessage` objects from LangChain. These can include:\n",
    "  * `HumanMessage` (user input)\n",
    "  * `AIMessage` (LLM output)\n",
    "  * `ToolMessage` (tool result)\n",
    "  * `SystemMessage` (system prompt or internal instruction)\n",
    "* The `Annotated[..., add_messages]` part instructs LangGraph how to merge or update the `messages` field when nodes return additional messages. Specifically, `add_messages` means new messages are appended to the existing list instead of replacing it.\n",
    "\n",
    "This pattern gives us a clean and structured way to maintain a full memory of each interaction cycle inside the ReAct loop.\n",
    "\n",
    "### Define tools\n",
    "In the tool use pattern, the most important step is to make external capabilities accessible to the LLM. Tools extend the model’s functionality beyond language - allowing it to fetch data, perform calculations, or interact with external systems. In this pattern, the model only has one chance to call tools before producing a final answer, so we define all tools it might need up front.\n",
    "\n",
    "\n",
    "#### Wikipedia search tool\n",
    "This tool uses the `wikipedia` Python package to fetch a short summary based on a query."
   ]
  },
  {
   "cell_type": "code",
   "execution_count": 4,
   "metadata": {
    "id": "oNfKt6ZOjeYW"
   },
   "outputs": [],
   "source": [
    "@tool\n",
    "def wiki_search(query: str) -> str:\n",
    "    \"\"\"Search Wikipedia for the query and return a brief summary of the top result.\"\"\"\n",
    "    try:\n",
    "        # Fetches summary from Wikipedia for the given query (limited to 5 sentences)\n",
    "        summary = wikipedia.summary(query, sentences=5)\n",
    "        return summary\n",
    "    except Exception as e:\n",
    "        # Return error if the query fails (e.g., disambiguation, page not found)\n",
    "        return f\"Error: {e}\""
   ]
  },
  {
   "cell_type": "markdown",
   "metadata": {
    "id": "XlUnZagkjfCM"
   },
   "source": [
    "This function is decorated with `@tool`, making it callable from an LLM within a LangGraph flow. If the model decides it needs to \"look something up,\" it can trigger this tool. The function’s docstring becomes the tool’s description exposed to the LLM. This is how the model knows what each tool does and how to use it properly.\n",
    "\n",
    "#### Calculator tool\n",
    "Next, we provide a tool for computing mathematical expressions. This is especially useful when the model wants to offload calculation to a deterministic backend."
   ]
  },
  {
   "cell_type": "code",
   "execution_count": 5,
   "metadata": {
    "id": "ul84kAx7jgPR"
   },
   "outputs": [],
   "source": [
    "@tool\n",
    "def calculator(expression: str) -> str:\n",
    "    \"\"\"Safely evaluate a basic mathematical expression (e.g., '2 + 2 * 5').\"\"\"\n",
    "    try:\n",
    "        # Use eval in a restricted environment — no access to Python built-ins\n",
    "        result = eval(expression, {\"__builtins__\": {}}, {\"math\": math})\n",
    "        return str(result)\n",
    "    except Exception as e:\n",
    "        # Return error message if evaluation fails\n",
    "        return f\"Error: {e}\""
   ]
  },
  {
   "cell_type": "markdown",
   "metadata": {
    "id": "rrKqXPWPhAV5"
   },
   "source": [
    "This tool is also marked with `@tool` and leverages `eval()` securely. We explicitly disable Python built-ins to prevent dangerous evaluations, allowing only access to the `math` module.\n",
    "\n",
    "These are intentionally minimal tools to illustrate the flow. In production we could add HTTP fetchers, databases, environment controls, or proprietary APIs.\n",
    "\n",
    "#### Expose tools to the model\n",
    "The agent's LLM needs to \"know\" about tools (names and signatures). Many LLM wrappers allow binding tools so that the model can emit structured tool-call messages that the runtime interprets. After defining our tools, we expose them to the model in two steps:\n",
    "- First, create a mapping of tool names to actual tool functions. This will be used later to execute tool calls emitted by the model.\n",
    "- Then, use `llm.bind_tools()` to let the LLM know which tools are available. This enables it to request tools by name and argument structure in its output."
   ]
  },
  {
   "cell_type": "code",
   "execution_count": 6,
   "metadata": {
    "id": "0_JbjE6vkYmL"
   },
   "outputs": [],
   "source": [
    "# Collect tools into a list\n",
    "tools = [wiki_search, calculator]\n",
    "# Build a name → tool dictionary for runtime use\n",
    "tools_by_name = {tool.name: tool for tool in tools}\n",
    "\n",
    "# Bind tools to the LLM (so it knows what it can call)\n",
    "llm = llm.bind_tools(tools)"
   ]
  },
  {
   "cell_type": "markdown",
   "metadata": {
    "id": "V-auWejUk07D"
   },
   "source": [
    "- The `tools_by_name` dictionary is key when interpreting tool calls during graph execution.\n",
    "- `bind_tools()` effectively informs the LLM: \"You can call these tools during your reasoning — here is what they are, what they do, and what arguments they need.\"\n",
    "\n",
    "With these pieces in place, the agent is now capable of reasoning about a user query, deciding when it needs help, and using external tools to get it. This is the operational core of the tool use pattern.\n",
    "\n",
    "### Crate nodes\n",
    "In this part, we’re setting up the key components (nodes) that define how the agent behaves in the tool-use workflow. This is where the agent thinks what to do, acts by calling tools, and then wraps things up with a final, user-friendly answer.\n",
    "\n",
    "#### Planning node\n",
    "The planning step is where the LLM decides what to do next. The LLM receives the entire conversation history plus a system prompt that clearly states the agent’s role and the tools it has at its disposal. The goal here is for the LLM to either answer the user’s query directly or to decide that a tool (or multiple tools) need to be called to fetch information or perform calculations. This step represents the agent’s core reasoning phase, where it plans how to respond intelligently based on available resources."
   ]
  },
  {
   "cell_type": "code",
   "execution_count": 7,
   "metadata": {
    "id": "c5fHNEbjvAem"
   },
   "outputs": [],
   "source": [
    "def call_model(state: AgentState):\n",
    "    \"\"\"Planner node: LLM decides if tools are needed or if it can answer directly.\"\"\"\n",
    "\n",
    "    # System prompt helps the agent knows its role and available tools\n",
    "    system_prompt = SystemMessage(\n",
    "        content=\"You are a helpful AI assistant. You can use wiki_search or calculator tools if needed.\"\n",
    "    )\n",
    "\n",
    "    # Pass system + history messages (user, assistant, tool) to LLM\n",
    "    response = llm.invoke([system_prompt] + list(state[\"messages\"]))\n",
    "\n",
    "    # Append the model's response to the state messages\n",
    "    return {\"messages\": [response]}"
   ]
  },
  {
   "cell_type": "markdown",
   "metadata": {
    "id": "tU5XOlTMvA--"
   },
   "source": [
    "- A `SystemMessage` sets the behavior and tool awareness of the agent.\n",
    "- The model is called with a list of prior messages including that system message and all user/model/tool messages so far.\n",
    "- The return value is a dictionary with a single new assistant message, which will be appended to the state by the graph runtime.\n",
    "\n",
    "This is the core thinking step of the agent.\n",
    "\n",
    "#### Tool execution node\n",
    "Once the planner has decided which tools are needed and has issued tool calls, this node is responsible for actually executing those tools. The agent can handle multiple tool requests at once, running each and collecting their results. This execution step bridges the gap between abstract reasoning (what to do) and concrete action (actually doing it). It ensures tool outputs are returned in a consistent format, ready to be incorporated into the agent’s ongoing dialogue."
   ]
  },
  {
   "cell_type": "code",
   "execution_count": 8,
   "metadata": {
    "id": "VLmIXSkuvBkE"
   },
   "outputs": [],
   "source": [
    "def tool_node(state: AgentState):\n",
    "    \"\"\"Tool execution node: executes all tools requested by the planner.\"\"\"\n",
    "\n",
    "    outputs = []  # Store results of tool calls\n",
    "    last_message = state[\"messages\"][-1]  # The most recent model message\n",
    "\n",
    "    # Check for tool calls and iterate through each\n",
    "    if hasattr(last_message, \"tool_calls\") and last_message.tool_calls:\n",
    "        for tool_call in last_message.tool_calls:\n",
    "            tool_name = tool_call[\"name\"]  # Name of the tool requested\n",
    "            tool_args = tool_call[\"args\"]  # Arguments passed to the tool\n",
    "\n",
    "            # Run the tool if found\n",
    "            if tool_name in tools_by_name:\n",
    "                result = tools_by_name[tool_name].invoke(tool_args)\n",
    "            else:\n",
    "                result = f\"Tool '{tool_name}' not found.\"\n",
    "\n",
    "            # Package result as ToolMessage\n",
    "            outputs.append(\n",
    "                ToolMessage(\n",
    "                    content=json.dumps(result),  # Serialize output to JSON string\n",
    "                    name=tool_name,  # Name for identification in history\n",
    "                    tool_call_id=tool_call.get(\"id\")  # Map output to specific tool call\n",
    "                )\n",
    "            )\n",
    "\n",
    "    # Return the list of tool responses to be appended to message history\n",
    "    return {\"messages\": outputs}"
   ]
  },
  {
   "cell_type": "markdown",
   "metadata": {
    "id": "ChuE1b9U7-8t"
   },
   "source": [
    "- The function inspects the most recent message from the LLM. If it includes tool calls (structured requests emitted by the model), we parse and execute them.\n",
    "- We look up the correct tool function using its name via `tools_by_name`.\n",
    "- The results are wrapped in `ToolMessage` objects, including the tool name and optional ID - this makes it easy for the LLM to resolve tool outputs to the original requests.\n",
    "- These results are returned as new messages, added to the conversation timeline for the next reasoning step.\n",
    "\n",
    "This is the execution engine of the agent - it performs real-world operations on the model’s behalf.\n",
    "\n",
    "### Finalization node\n",
    "Once all tools have been executed, the finalizer prompts the LLM to synthesize a final, user-friendly answer. This is where everything comes together: the original user input, the model's reasoning, and the tool results."
   ]
  },
  {
   "cell_type": "code",
   "execution_count": 9,
   "metadata": {
    "id": "pIPyo0bCwqs_"
   },
   "outputs": [],
   "source": [
    "def summarize_node(state: AgentState):\n",
    "    \"\"\"Finalizer node: LLM produces the final answer using tool outputs.\"\"\"\n",
    "\n",
    "    # Prompt the model to produce a summary based on tool results\n",
    "    system_prompt = SystemMessage(\n",
    "        content=\"You are a helpful assistant. Summarize results from the tools into a final user-friendly answer.\"\n",
    "    )\n",
    "\n",
    "    # Invoke model with full message history, including tool outputs\n",
    "    response = llm.invoke([system_prompt] + list(state[\"messages\"]))\n",
    "\n",
    "    # Return the assistant's final message\n",
    "    return {\"messages\": [response]}"
   ]
  },
  {
   "cell_type": "markdown",
   "metadata": {
    "id": "UILdPEqywz2Y"
   },
   "source": [
    "This step transforms raw data from tool calls into natural, helpful output.\n",
    "- Like the planner, this node receives the full conversation history (including `ToolMessages`), giving the LLM full context.\n",
    "- The return is a single assistant message containing the agent's final response to the user - this concludes the workflow.\n",
    "\n",
    "\n",
    "### Define loop continuation logic\n",
    "Before we define how the flow of control moves through the graph, we need a mechanism to determine what should happen after the planner runs. Depending on what the LLM decides, we either go directly to the final response, or we need to run external tools first. That decision depends on whether the model made any tool calls.\n",
    "\n",
    "We now add conditional edges from the planner, to decide whether the agent should keep going (e.g., because a tool was requested) or stop (because the agent has given a final answer)."
   ]
  },
  {
   "cell_type": "code",
   "execution_count": 10,
   "metadata": {
    "id": "76FoTvoZ1VPd"
   },
   "outputs": [],
   "source": [
    "def needs_tools(state: AgentState) -> str:\n",
    "    \"\"\"Check if the planner requested tools or not.\"\"\"\n",
    "    # Get the most recent message from the assistant\n",
    "    last_message = state[\"messages\"][-1]\n",
    "\n",
    "    # If there are tool calls, continue to tool executor\n",
    "    if hasattr(last_message, \"tool_calls\") and last_message.tool_calls:\n",
    "        return \"tools\"\n",
    "    else:\n",
    "        # No tool calls -> go directly to finalizer\n",
    "        return \"direct\""
   ]
  },
  {
   "cell_type": "markdown",
   "metadata": {
    "id": "4mCuh1yF1uty"
   },
   "source": [
    "- This function inspects the last message in the agent's message history - which is the planner’s output.\n",
    "- It checks if that message includes any tool_calls, which are structured indicators that the LLM wants to invoke a tool.\n",
    "  - If tool calls exist, the function returns \"tools\", instructing the graph to move to the tool execution node.\n",
    "  - If not, it returns \"direct\", skipping the tool phase and routing to the summarization node instead.\n",
    "\n",
    "This function is used as a conditional edge in the graph to decide the next step after the planning node runs.\n",
    "\n",
    "### Build the agent graph\n",
    "Now we wire the workflow together. This is where we assemble the graph that defines the agent’s logic. We are using LangGraph to construct this as a stateful, directed computation graph. Each node represents a phase in the agent’s reasoning process, and edges define how data (i.e., the agent’s state) flows between those nodes.\n",
    "\n",
    "The control flow will always start with planning. From there, it will branch conditionally: if the model has called tools, we route to the tool executor; if not, we go directly to finalization. After tool use, we also finalize the response. The graph ends there — one tool-use round, then done."
   ]
  },
  {
   "cell_type": "code",
   "execution_count": 11,
   "metadata": {
    "id": "AtXcrEIL3vn_"
   },
   "outputs": [],
   "source": [
    "# Build the ReAct workflow graph\n",
    "graph = StateGraph(AgentState)\n",
    "\n",
    "# Register the nodes (steps)\n",
    "graph.add_node(\"planner\", call_model)  # Planning step\n",
    "graph.add_node(\"tool_executor\", tool_node)  # Tool execution\n",
    "graph.add_node(\"finalizer\", summarize_node)  # Summarization\n",
    "\n",
    "# Define edges\n",
    "graph.add_edge(START, \"planner\")  # Set the entry point of the graph — where execution begins\n",
    "graph.add_conditional_edges(  # Add conditional routing from the planner node\n",
    "    \"planner\",  # After the planner runs\n",
    "    needs_tools,  # Run this function to decide where to go next\n",
    "    {\n",
    "        \"tools\": \"tool_executor\",  # If tools were requested, go to tool executor\n",
    "        \"direct\": END,  # If not, skip to the end\n",
    "    },\n",
    ")\n",
    "\n",
    "graph.add_edge(\"tool_executor\", \"finalizer\")  # After tools are run, always proceed to finalizer\n",
    "graph.add_edge(\"finalizer\", END)  # Once final answer is generated, we're done\n",
    "\n",
    "# Compile the graph\n",
    "agent = graph.compile()"
   ]
  },
  {
   "cell_type": "markdown",
   "metadata": {
    "id": "1Ki-x8S96z_6"
   },
   "source": [
    "- `StateGraph(AgentState)` creates a new LangGraph state machine that tracks the full conversation state throughout the workflow.\n",
    "- Each `add_node(...)` call registers a function that handles a specific part of the agent’s logic.\n",
    "- `add_edge(START, \"planner\")` defines the graph’s entry point — the planner node always runs first.\n",
    "- `add_conditional_edges(...)` attaches conditional logic that routes execution to different nodes depending on whether tool calls were made. The branching logic is handled by the previously defined `needs_tools` function.\n",
    "- `compile()` turns this structure into a runnable agent - ready to process user questions and dynamically decide what tools to use.\n",
    "\n",
    "\n",
    "#### Visualizing the workflow\n",
    "Let’s display the graph visually to better understand the chain."
   ]
  },
  {
   "cell_type": "code",
   "execution_count": 12,
   "metadata": {
    "id": "XutdcMUx7bWw"
   },
   "outputs": [
    {
     "data": {
      "image/png": "[encoded data removed]",
      "text/plain": [
       "<IPython.core.display.Image object>"
      ]
     },
     "metadata": {},
     "output_type": "display_data"
    }
   ],
   "source": [
    "# Visualize the graph\n",
    "display(\n",
    "    Image(\n",
    "        agent.get_graph().draw_mermaid_png(\n",
    "            draw_method=MermaidDrawMethod.API,\n",
    "        )\n",
    "    )\n",
    ")"
   ]
  },
  {
   "cell_type": "markdown",
   "metadata": {
    "id": "BmLlwwpu7amP"
   },
   "source": [
    "### Run examples\n",
    "Let’s see the tool-use agent in action. The examples below test various scenarios. Some require tool use, others only simple answers. This demonstrates how the agent dynamically decides when to invoke external tools versus when to answer directly."
   ]
  },
  {
   "cell_type": "code",
   "execution_count": 13,
   "metadata": {
    "id": "a2fB8LJx710m"
   },
   "outputs": [
    {
     "name": "stdout",
     "output_type": "stream",
     "text": [
      "=== Example 1 ===\n",
      "HUMAN: What is the population of Spain in 2025?\n",
      "AI: \n",
      "TOOL: \"As of 1 July 2025, Spain had a total population of 49,315,949. The modern Kingdom of Spain arose from the accretion of several independent Iberian realms, including the Kingdoms of Le\\u00f3n, Castile, Navarre, the Crown of Aragon and Granada,  all of which, together with the modern state of Portugal, were successor states to the late antique Christian Visigothic Kingdom after the Reconquista.\\nSpain's population surpassed 49 million inhabitants for the first time in history in 2025, with a total population of 49,315,949 people living in Spain. Its population density, at 97 inhabitants per square kilometre (250/sq mi), is much lower than other Western European countries, yet, with the exception of microstates, it has the highest real density population in Europe, based on density of inhabited areas. With the notable exception of Madrid, Spain's capital city, the most densely populated areas lie around the coast.\"\n",
      "AI: As of July 1, 2025, the population of Spain is projected to be 49,315,949. This marks the first time in history that Spain's population has surpassed 49 million inhabitants.\n",
      "\n",
      "=== Example 2 ===\n",
      "HUMAN: What is (125 * 4) + 99?\n",
      "AI: \n",
      "TOOL: \"599\"\n",
      "AI: The result of (125 * 4) + 99 is 599.\n",
      "\n",
      "=== Example 3 ===\n",
      "HUMAN: What is the population of Spain in 2025? And what is (125 * 4) + 99?\n",
      "AI: \n",
      "TOOL: \"As of 1 July 2025, Spain had a total population of 49,315,949. The modern Kingdom of Spain arose from the accretion of several independent Iberian realms, including the Kingdoms of Le\\u00f3n, Castile, Navarre, the Crown of Aragon and Granada,  all of which, together with the modern state of Portugal, were successor states to the late antique Christian Visigothic Kingdom after the Reconquista.\\nSpain's population surpassed 49 million inhabitants for the first time in history in 2025, with a total population of 49,315,949 people living in Spain. Its population density, at 97 inhabitants per square kilometre (250/sq mi), is much lower than other Western European countries, yet, with the exception of microstates, it has the highest real density population in Europe, based on density of inhabited areas. With the notable exception of Madrid, Spain's capital city, the most densely populated areas lie around the coast.\"\n",
      "TOOL: \"599\"\n",
      "AI: As of July 1, 2025, the population of Spain is projected to be approximately **49,315,949** people. \n",
      "\n",
      "Additionally, the result of the calculation \\((125 * 4) + 99\\) is **599**.\n",
      "\n",
      "=== Example 4 ===\n",
      "HUMAN: How are you?\n",
      "AI: I'm just a computer program, so I don't have feelings, but I'm here and ready to help you! How can I assist you today?\n"
     ]
    }
   ],
   "source": [
    "# Example 1: Wikipedia tool use\n",
    "user_question = \"What is the population of Spain in 2025?\"  # Example user query\n",
    "state = AgentState(messages=[HumanMessage(content=user_question)])  # Initial state: conversation starts with user message\n",
    "result = agent.invoke(state) # Run the agent\n",
    "print(\"=== Example 1 ===\")  # Print the conversation history\n",
    "for msg in result[\"messages\"]:\n",
    "    print(f\"{msg.type.upper()}: {msg.content}\")\n",
    "\n",
    "# Example 2: Calculator tool use\n",
    "user_question_2 = \"What is (125 * 4) + 99?\"\n",
    "state = AgentState(messages=[HumanMessage(content=user_question_2)])\n",
    "result = agent.invoke(state)\n",
    "print(\"\\n=== Example 2 ===\")\n",
    "for msg in result[\"messages\"]:\n",
    "    print(f\"{msg.type.upper()}: {msg.content}\")\n",
    "\n",
    "# Example 3: Combined Wikipedia and calculator\n",
    "user_question_3 = \"What is the population of Spain in 2025? And what is (125 * 4) + 99?\"\n",
    "state = AgentState(messages=[HumanMessage(content=user_question_3)])\n",
    "result = agent.invoke(state)\n",
    "print(\"\\n=== Example 3 ===\")\n",
    "for msg in result[\"messages\"]:\n",
    "    print(f\"{msg.type.upper()}: {msg.content}\")\n",
    "\n",
    "# Example 4: Direct answer, no tool needed\n",
    "user_question_4 = \"How are you?\"\n",
    "state = AgentState(messages=[HumanMessage(content=user_question_4)])\n",
    "result = agent.invoke(state)\n",
    "print(\"\\n=== Example 4 ===\")\n",
    "for msg in result[\"messages\"]:\n",
    "    print(f\"{msg.type.upper()}: {msg.content}\")"
   ]
  },
  {
   "cell_type": "markdown",
   "metadata": {
    "id": "rBwRrnIG8T2D"
   },
   "source": [
    "These examples show how the agent dynamically reacts based on the question type - and make full use of the reasoning + tool use pattern."
   ]
  }
 ],
 "metadata": {
  "colab": {
   "provenance": []
  },
  "kernelspec": {
   "display_name": "Python (langgraph-env)",
   "language": "python",
   "name": "langgraph-env"
  },
  "language_info": {
   "codemirror_mode": {
    "name": "ipython",
    "version": 3
   },
   "file_extension": ".py",
   "mimetype": "text/x-python",
   "name": "python",
   "nbconvert_exporter": "python",
   "pygments_lexer": "ipython3",
   "version": "3.9.23"
  }
 },
 "nbformat": 4,
 "nbformat_minor": 4
}
