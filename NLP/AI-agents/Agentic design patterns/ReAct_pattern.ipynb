{
 "cells": [
  {
   "cell_type": "markdown",
   "metadata": {
    "id": "W-YGE7y-aQnG"
   },
   "source": [
    "# ReAct pattern\n",
    "\n",
    "In many real-world problems, an AI system needs more than just text generation. It must reason about a user request, decide if external information or computation is required, and then act by using tools (APIs, databases, calculators, search engines, etc.). This is where the ReAct (Reason + Act) pattern comes in.\n",
    "\n",
    "ReAct is a simple, powerful way to build agents that alternate between reasoning (thinking / planning, using the LLM) and acting (calling tools, APIs, or environment functions), then using the tool outputs to continue reasoning.\n",
    "- Reason: The LLM reasons about what it needs to do.\n",
    "- Act: If needed, it calls a tool (e.g., Wikipedia, calculator).\n",
    "- Loop: It may continue reasoning with new knowledge from tools until it’s ready to give the final answer.\n",
    "\n",
    "The pattern suits open-ended QA, tool-enabled search, multi-step reasoning that requires external data and many agentic workflows.\n",
    "\n",
    "In this notebook, we will implement a ReAct pattern, giving our agent access to both:\n",
    "- A Wikipedia search tool for factual knowledge.\n",
    "- A Calculator tool for math.\n",
    "\n",
    "This design helps us understand how reasoning and acting can be orchestrated systematically in agentic workflows."
   ]
  },
  {
   "cell_type": "code",
   "execution_count": 1,
   "metadata": {
    "id": "9pdR_g16ZDNr"
   },
   "outputs": [],
   "source": [
    "import os\n",
    "from typing import TypedDict, Sequence, Annotated\n",
    "from langchain_openai import ChatOpenAI\n",
    "from langgraph.graph import StateGraph, START, END\n",
    "from langchain_core.messages import BaseMessage, SystemMessage, ToolMessage, HumanMessage\n",
    "from langgraph.graph.message import add_messages\n",
    "from langchain_core.tools import tool\n",
    "from langchain_core.runnables.graph import MermaidDrawMethod\n",
    "from IPython.display import Image, display\n",
    "import wikipedia\n",
    "import math\n",
    "import json\n",
    "\n",
    "from dotenv import load_dotenv\n",
    "\n",
    "# Load environment variables from .env file\n",
    "load_dotenv()\n",
    "\n",
    "# Configure OpenAI API key for AI model access\n",
    "os.environ[\"OPENAI_API_KEY\"] = os.getenv('OPENAI_API_KEY')"
   ]
  },
  {
   "cell_type": "markdown",
   "metadata": {
    "id": "cl3y8J-mekpT"
   },
   "source": [
    "### Initialize the language model\n",
    "The language model serves as the core intelligence of our conversational agent. Here we will configure the AI model with specific parameters that balance response quality, cost and performance."
   ]
  },
  {
   "cell_type": "code",
   "execution_count": 2,
   "metadata": {
    "id": "gLeYsJ9Jend6"
   },
   "outputs": [],
   "source": [
    "# Initialize the OpenAI language model\n",
    "llm = ChatOpenAI(model=\"gpt-4o-mini-2024-07-18\", temperature=0.0)"
   ]
  },
  {
   "cell_type": "markdown",
   "metadata": {
    "id": "vXGMD73JetKW"
   },
   "source": [
    "This configuration creates our AI model instance using OpenAI's GPT model. Using `temperature=0.0` encourages consistent reasoning behavior across loop iterations (helpful for reproducibility in agent loops).\n",
    "\n",
    "### Define the agent state\n",
    "Before we can run a ReAct-style loop, we need a way to track the full message history between the agent (LLM), user, and tools. Since the ReAct pattern involves multiple back-and-forth interactions - including the model's reasoning steps and tool calls - we must persist all intermediate messages across the workflow.\n",
    "\n",
    "In LangGraph, this is done using a custom state dictionary. Each node in the graph returns new messages (model output or tool result), and the framework automatically appends these to the evolving state under the hood.\n",
    "\n",
    "To define this state, we use Python's `TypedDict` and LangGraph’s message reducer utility `add_messages`. The key idea is to keep a list of `BaseMessage` objects representing the evolving conversation, which will be passed from one node to the next as the loop executes."
   ]
  },
  {
   "cell_type": "code",
   "execution_count": 3,
   "metadata": {
    "id": "uoNdW3ejgwV5"
   },
   "outputs": [],
   "source": [
    "# Define a dictionary structure for the agent's evolving state\n",
    "class AgentState(TypedDict):\n",
    "    \"\"\"State of the agent for one turn or conversation.\"\"\"\n",
    "    # The `messages` field stores the entire chat history (LLM thoughts, tool responses, user input, etc.)\n",
    "    messages: Annotated[Sequence[BaseMessage], add_messages]"
   ]
  },
  {
   "cell_type": "markdown",
   "metadata": {
    "id": "xQsr5dnAh3iq"
   },
   "source": [
    "This defines the `AgentState` class, a dictionary used to represent the current state of the agent at any point in the workflow.\n",
    "* The `messages` field is a list of `BaseMessage` objects from LangChain. These can include:\n",
    "  * `HumanMessage` (user input)\n",
    "  * `AIMessage` (LLM output)\n",
    "  * `ToolMessage` (tool result)\n",
    "  * `SystemMessage` (system prompt or internal instruction)\n",
    "* The `Annotated[..., add_messages]` part instructs LangGraph how to merge or update the `messages` field when nodes return additional messages. Specifically, `add_messages` means new messages are appended to the existing list instead of replacing it.\n",
    "\n",
    "This pattern gives us a clean and structured way to maintain a full memory of each interaction cycle inside the ReAct loop.\n",
    "\n",
    "### Define tools\n",
    "ReAct shines when the LLM can request tools. It enables LLMs to alternate between reasoning steps and external tool use. Tools are core to this pattern - they allow the model to act in the world, rather than merely respond. We define two external tools that the LLM can call to demonstrate this capability.\n",
    "\n",
    "#### Wikipedia search tool\n",
    "This tool uses the `wikipedia` Python package to fetch a short summary based on a query."
   ]
  },
  {
   "cell_type": "code",
   "execution_count": 4,
   "metadata": {
    "id": "oNfKt6ZOjeYW"
   },
   "outputs": [],
   "source": [
    "@tool\n",
    "def wiki_search(query: str) -> str:\n",
    "    \"\"\"Search Wikipedia for the query and return a brief summary of the top result.\"\"\"\n",
    "    try:\n",
    "        # Fetches summary from Wikipedia for the given query (limited to 5 sentences)\n",
    "        summary = wikipedia.summary(query, sentences=5)\n",
    "        return summary\n",
    "    except Exception as e:\n",
    "        # Return error if the query fails (e.g., disambiguation, page not found)\n",
    "        return f\"Error: {e}\""
   ]
  },
  {
   "cell_type": "markdown",
   "metadata": {
    "id": "XlUnZagkjfCM"
   },
   "source": [
    "This function is decorated with `@tool`, making it callable from an LLM within a LangGraph flow. If the model decides it needs to \"look something up,\" it can trigger this tool. The function’s docstring becomes the tool’s description exposed to the LLM. This is how the model knows what each tool does and how to use it properly.\n",
    "\n",
    "#### Calculator tool\n",
    "Next, we provide a tool for computing mathematical expressions. This is especially useful when the model wants to offload calculation to a deterministic backend."
   ]
  },
  {
   "cell_type": "code",
   "execution_count": 5,
   "metadata": {
    "id": "ul84kAx7jgPR"
   },
   "outputs": [],
   "source": [
    "@tool\n",
    "def calculator(expression: str) -> str:\n",
    "    \"\"\"Safely evaluate a basic mathematical expression (e.g., '2 + 2 * 5').\"\"\"\n",
    "    try:\n",
    "        # Use eval in a restricted environment — no access to Python built-ins\n",
    "        result = eval(expression, {\"__builtins__\": {}}, {\"math\": math})\n",
    "        return str(result)\n",
    "    except Exception as e:\n",
    "        # Return error message if evaluation fails\n",
    "        return f\"Error: {e}\""
   ]
  },
  {
   "cell_type": "markdown",
   "metadata": {
    "id": "rrKqXPWPhAV5"
   },
   "source": [
    "This tool is also marked with `@tool` and leverages `eval()` securely. We explicitly disable Python built-ins to prevent dangerous evaluations, allowing only access to the `math` module.\n",
    "\n",
    "These are intentionally minimal tools to illustrate the flow. In production we could add HTTP fetchers, databases, environment controls, or proprietary APIs.\n",
    "\n",
    "#### Expose tools to the model\n",
    "The agent's LLM needs to \"know\" about tools (names and signatures). Many LLM wrappers allow binding tools so that the model can emit structured tool-call messages that the runtime interprets. After defining our tools, we expose them to the model in two steps:\n",
    "- First, create a mapping of tool names to actual tool functions. This will be used later to execute tool calls emitted by the model.\n",
    "- Then, use `llm.bind_tools()` to let the LLM know which tools are available. This enables it to request tools by name and argument structure in its output."
   ]
  },
  {
   "cell_type": "code",
   "execution_count": 6,
   "metadata": {
    "id": "0_JbjE6vkYmL"
   },
   "outputs": [],
   "source": [
    "# Collect tools into a list\n",
    "tools = [wiki_search, calculator]\n",
    "# Build a name → tool dictionary for runtime use\n",
    "tools_by_name = {tool.name: tool for tool in tools}\n",
    "\n",
    "# Bind tools to the LLM (so it knows what it can call)\n",
    "llm = llm.bind_tools(tools)"
   ]
  },
  {
   "cell_type": "markdown",
   "metadata": {
    "id": "V-auWejUk07D"
   },
   "source": [
    "- The `tools_by_name` dictionary is key when interpreting tool calls during graph execution.\n",
    "- `bind_tools()` effectively informs the LLM: \"You can call these tools during your reasoning — here is what they are, what they do, and what arguments they need.\"\n",
    "\n",
    "With these pieces in place, the agent is now capable of reasoning about a user query, deciding when it needs help, and using external tools to get it. This is the operational core of the ReAct pattern.\n",
    "\n",
    "### Crate nodes\n",
    "The ReAct pattern stands for Reasoning + Acting. In this section, we implement two key nodes in our agent's loop. This two-node loop allows the model to iteratively reason, act, observe, and reason again - mimicking how a human would interact with external tools while solving a problem.\n",
    "\n",
    "#### Model call node (reason step)\n",
    "This node represents the reason step. It’s where the language model processes the current state (i.e., the full history of the conversation), and decides what to do next — either generate a direct answer or request an external tool. The node should send the system prompt describing tool capabilities plus the current conversation. The node returns the new assistant message(s), which will be appended to the state."
   ]
  },
  {
   "cell_type": "code",
   "execution_count": 7,
   "metadata": {
    "id": "c5fHNEbjvAem"
   },
   "outputs": [],
   "source": [
    "def call_model(state: AgentState):\n",
    "    \"\"\"LLM reasoning node: call the chat model with system prompt + conversation.\"\"\"\n",
    "\n",
    "    # System prompt helps the agent knows its role and available tools\n",
    "    system_prompt = SystemMessage(\n",
    "        content=\"You are a helpful AI assistant. You can use wiki_search or calculator if needed.\"\n",
    "    )\n",
    "\n",
    "    # Pass system + history messages (user, assistant, tool) to LLM\n",
    "    response = llm.invoke([system_prompt] + list(state[\"messages\"]))\n",
    "\n",
    "    # Append the model's response to the state messages\n",
    "    return {\"messages\": [response]}"
   ]
  },
  {
   "cell_type": "markdown",
   "metadata": {
    "id": "tU5XOlTMvA--"
   },
   "source": [
    "- A `SystemMessage` sets the behavior and tool awareness of the agent.\n",
    "- The model is called with a list of prior messages including that system message and all user/model/tool messages so far.\n",
    "- The return value is a dictionary with a single new assistant message, which will be appended to the state by the graph runtime.\n",
    "\n",
    "This is the core thinking step of the agent.\n",
    "\n",
    "#### Tool execution node (act step)\n",
    "This node represents the act step. It checks if the LLM to use one or more tools and executes the tool(s). Then, it converts their results into `ToolMessage` objects, which are then appended back into the messages stream so the LLM can read tool outputs in the next reasoning step."
   ]
  },
  {
   "cell_type": "code",
   "execution_count": 8,
   "metadata": {
    "id": "VLmIXSkuvBkE"
   },
   "outputs": [],
   "source": [
    "def tool_node(state: AgentState):\n",
    "    \"\"\"Tool execution node: run any tools the LLM requested.\"\"\"\n",
    "\n",
    "    outputs = []  # Store results of tool calls\n",
    "    last_message = state[\"messages\"][-1]  # The most recent model message\n",
    "\n",
    "    # Check if the model made any tool calls\n",
    "    if hasattr(last_message, \"tool_calls\") and last_message.tool_calls:\n",
    "        for tool_call in last_message.tool_calls:\n",
    "            tool_name = tool_call[\"name\"]  # Name of the tool\n",
    "            tool_args = tool_call[\"args\"]  # Arguments for the tool\n",
    "\n",
    "            # Execute tool if available\n",
    "            if tool_name in tools_by_name:\n",
    "                result = tools_by_name[tool_name].invoke(tool_args)\n",
    "            else:\n",
    "                result = f\"Tool '{tool_name}' not found.\"\n",
    "\n",
    "            # Wrap tool output into a ToolMessage so the LLM can read it\n",
    "            outputs.append(\n",
    "                ToolMessage(\n",
    "                    content=json.dumps(result),\n",
    "                    name=tool_name,\n",
    "                    tool_call_id=tool_call.get(\"id\")  # ID lets model link result to request\n",
    "                )\n",
    "            )\n",
    "\n",
    "    # Return the list of tool responses to be appended to message history\n",
    "    return {\"messages\": outputs}"
   ]
  },
  {
   "cell_type": "markdown",
   "metadata": {
    "id": "UILdPEqywz2Y"
   },
   "source": [
    "- The function inspects the most recent message from the LLM. If it includes tool calls (structured requests emitted by the model), we parse and execute them.\n",
    "- We look up the correct tool function using its name via `tools_by_name`.\n",
    "- The results are wrapped in `ToolMessage` objects, including the tool name and optional ID - this makes it easy for the LLM to resolve tool outputs to the original requests.\n",
    "- These results are returned as new messages, added to the conversation timeline for the next reasoning step.\n",
    "\n",
    "This is the execution engine of the agent - it performs real-world operations on the model’s behalf.\n",
    "\n",
    "\n",
    "### Define loop continuation logic\n",
    "Now that we’ve implemented the reasoning and acting steps, we need a way to control the loop — that is, to decide whether the agent should keep going (e.g., because a tool was requested) or stop (because the agent has given a final answer).\n",
    "\n",
    "This logic is critical in the ReAct pattern. It inspects the most recent assistant message to check if the model is requesting tool execution. If so, we continue the loop by calling the tool node again. If not, the model must consider the response final — so we terminate the workflow."
   ]
  },
  {
   "cell_type": "code",
   "execution_count": 9,
   "metadata": {
    "id": "76FoTvoZ1VPd"
   },
   "outputs": [],
   "source": [
    "def should_continue(state: AgentState) -> str:\n",
    "    \"\"\"Decide whether to continue the ReAct loop or stop.\"\"\"\n",
    "    # Inspect the most recent assistant message\n",
    "    last_message = state[\"messages\"][-1]\n",
    "\n",
    "    # If no tool calls are requested, we end the loop\n",
    "    if not (hasattr(last_message, \"tool_calls\") and last_message.tool_calls):\n",
    "        return \"end\"\n",
    "    else:\n",
    "        return \"continue\""
   ]
  },
  {
   "cell_type": "markdown",
   "metadata": {
    "id": "4mCuh1yF1uty"
   },
   "source": [
    "- It takes in the current workflow `state`, which includes the full conversation history.\n",
    "- It fetches the last assistant message - typically this is either a direct answer or a message that includes tool requests.\n",
    "- If the message includes one or more `tool_calls`, we return `\"continue\"` to re-enter the `tool_node` (Act step).\n",
    "- If no tool calls are present, we assume the model has completed its reasoning and return `\"end\"` to stop the graph.\n",
    "\n",
    "This function enables dynamic control flow — allowing the agent to flexibly determine when more action is needed, and when it's confident enough to respond definitively.\n",
    "\n",
    "### Build the agent graph\n",
    "Now it’s time to connect everything into a working agentic workflow graph using LangGraph. The graph captures the iterative process of reason → act (if needed) → back to reason → until done.\n",
    "\n",
    "The workflow is represented as a stateful graph, where each node is a function and edges determine the flow of execution."
   ]
  },
  {
   "cell_type": "code",
   "execution_count": 10,
   "metadata": {
    "id": "AtXcrEIL3vn_"
   },
   "outputs": [],
   "source": [
    "# Build the ReAct workflow graph\n",
    "graph = StateGraph(AgentState)\n",
    "\n",
    "# Register the nodes (steps)\n",
    "graph.add_node(\"llm\", call_model)  # Reasoning step\n",
    "graph.add_node(\"tools\", tool_node)  # Acting step (tool use)\n",
    "\n",
    "# Define edges\n",
    "graph.add_edge(START, \"llm\")   # Set the entry point of the graph — where execution begins\n",
    "graph.add_conditional_edges(  # Add conditional routing from the LLM node\n",
    "    \"llm\",  # After the LLM runs\n",
    "    should_continue,  # Run this function to decide where to go next\n",
    "    {\n",
    "        \"continue\": \"tools\",  # If tools were requested → go to tools\n",
    "        \"end\": END,           # If done → terminate the workflow\n",
    "    },\n",
    ")\n",
    "\n",
    "graph.add_edge(\"tools\", \"llm\")  # Add normal edge: After tools are used, go back to the LLM for reasoning\n",
    "\n",
    "# Compile the graph\n",
    "agent = graph.compile()"
   ]
  },
  {
   "cell_type": "markdown",
   "metadata": {
    "id": "1Ki-x8S96z_6"
   },
   "source": [
    "- `graph.add_edge(START, \"llm\")` declares the first node of execution.\n",
    "- `add_conditional_edges(...)` handles branching logic based on model output. It lets us decide at runtime whether to loop or exit.\n",
    "- The edge `\"tools\" → \"llm\"` ensures that once tools are used, the agent gets a chance to reason again — a core part of the ReAct (Reason → Act → Reason) cycle.\n",
    "- Finally, we compile the graph into a runnable object using `compile()`.\n",
    "\n",
    "#### Visualizing the workflow\n",
    "Let’s display the graph visually to better understand the chain."
   ]
  },
  {
   "cell_type": "code",
   "execution_count": 11,
   "metadata": {
    "id": "XutdcMUx7bWw"
   },
   "outputs": [
    {
     "data": {
      "image/png": "[encoded data removed]",
      "text/plain": [
       "<IPython.core.display.Image object>"
      ]
     },
     "metadata": {},
     "output_type": "display_data"
    }
   ],
   "source": [
    "# Visualize the graph\n",
    "display(\n",
    "    Image(\n",
    "        agent.get_graph().draw_mermaid_png(\n",
    "            draw_method=MermaidDrawMethod.API,\n",
    "        )\n",
    "    )\n",
    ")"
   ]
  },
  {
   "cell_type": "markdown",
   "metadata": {
    "id": "BmLlwwpu7amP"
   },
   "source": [
    "### Run an Example\n",
    "Let’s see the ReAct agent in action. We ask a composite question requiring both Wikipedia (population) and calculator (division)."
   ]
  },
  {
   "cell_type": "code",
   "execution_count": 12,
   "metadata": {
    "id": "a2fB8LJx710m"
   },
   "outputs": [
    {
     "name": "stdout",
     "output_type": "stream",
     "text": [
      "HUMAN: What is the population of Spain in 2025 divided by 2?\n",
      "AI: \n",
      "TOOL: \"As of 1 July 2025, Spain had a total population of 49,315,949. The modern Kingdom of Spain arose from the accretion of several independent Iberian realms, including the Kingdoms of Le\\u00f3n, Castile, Navarre, the Crown of Aragon and Granada,  all of which, together with the modern state of Portugal, were successor states to the late antique Christian Visigothic Kingdom after the Reconquista.\\nSpain's population surpassed 49 million inhabitants for the first time in history in 2025, with a total population of 49,315,949 people living in Spain. Its population density, at 97 inhabitants per square kilometre (250/sq mi), is much lower than other Western European countries, yet, with the exception of microstates, it has the highest real density population in Europe, based on density of inhabited areas. With the notable exception of Madrid, Spain's capital city, the most densely populated areas lie around the coast.\"\n",
      "AI: \n",
      "TOOL: \"24657974.5\"\n",
      "AI: The population of Spain in 2025 is projected to be 49,315,949. When divided by 2, that results in 24,657,974.5.\n"
     ]
    }
   ],
   "source": [
    "# Example user query\n",
    "user_question = \"What is the population of Spain in 2025 divided by 2?\"\n",
    "\n",
    "# Initial state: conversation starts with user message\n",
    "state = AgentState(messages=[HumanMessage(content=user_question)])\n",
    "\n",
    "# Run the ReAct agent\n",
    "result = agent.invoke(state)\n",
    "\n",
    "# Print the conversation history\n",
    "for msg in result[\"messages\"]:\n",
    "    print(f\"{msg.type.upper()}: {msg.content}\")"
   ]
  },
  {
   "cell_type": "markdown",
   "metadata": {
    "id": "rBwRrnIG8T2D"
   },
   "source": [
    "The LLM should:\n",
    "- Reason: Identify it needs population → use Wikipedia.\n",
    "- Act: Call `wiki_search`.\n",
    "- Reason again: Take result, realize it needs math.\n",
    "- Act: Call `calculator`.\n",
    "- Reason finally: Give the user the answer."
   ]
  }
 ],
 "metadata": {
  "colab": {
   "provenance": []
  },
  "kernelspec": {
   "display_name": "Python (langgraph-env)",
   "language": "python",
   "name": "langgraph-env"
  },
  "language_info": {
   "codemirror_mode": {
    "name": "ipython",
    "version": 3
   },
   "file_extension": ".py",
   "mimetype": "text/x-python",
   "name": "python",
   "nbconvert_exporter": "python",
   "pygments_lexer": "ipython3",
   "version": "3.9.23"
  }
 },
 "nbformat": 4,
 "nbformat_minor": 4
}
