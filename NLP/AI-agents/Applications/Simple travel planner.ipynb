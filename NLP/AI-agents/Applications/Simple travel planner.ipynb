{
 "cells": [
  {
   "cell_type": "markdown",
   "metadata": {
    "id": "tA2FLLR1Lhi5"
   },
   "source": [
    "# Simple travel planner system\n",
    "\n",
    "Planning a personalized day trip involves multiple steps of information gathering and synthesis - understanding the destination, learning about traveler preferences, and creating a tailored itinerary that matches those interests. We are going to build an interactive AI agent that guides users through a natural conversation to gather requirements and generate personalized travel recommendations.\n",
    "\n",
    "This notebook demonstrates how to create a conversational AI agent that maintains context across multiple interactions. This travel planner needs to actively engage with users, remember their responses, and build upon that information to create meaningful outputs.\n",
    "\n",
    "The key challenge we're solving is stateful conversation management - how to maintain continuity across multiple user interactions while ensuring each step builds logically on the previous ones. Our agent will demonstrate three essential capabilities of conversational AI: information gathering, context retention, and personalized generation."
   ]
  },
  {
   "cell_type": "code",
   "execution_count": 1,
   "metadata": {
    "id": "hOH9Y6VILdY6"
   },
   "outputs": [],
   "source": [
    "import os\n",
    "from typing import TypedDict, Union, List\n",
    "from langgraph.graph import StateGraph, END\n",
    "from langchain_core.messages import HumanMessage, AIMessage\n",
    "from langchain_core.prompts import ChatPromptTemplate\n",
    "from langchain_openai import ChatOpenAI\n",
    "from langchain_core.runnables.graph import MermaidDrawMethod\n",
    "from IPython.display import display, Image\n",
    "from dotenv import load_dotenv\n",
    "\n",
    "# Load environment variables from .env file\n",
    "load_dotenv()\n",
    "\n",
    "# Configure OpenAI API key for AI model access\n",
    "os.environ[\"OPENAI_API_KEY\"] = os.getenv('OPENAI_API_KEY')"
   ]
  },
  {
   "cell_type": "markdown",
   "metadata": {
    "id": "ML3QxZPoMC3E"
   },
   "source": [
    "- The `HumanMessage` and `AIMessage` imports enable us to maintain a proper conversation history that distinguishes between user inputs and AI responses in our state management.\n",
    "\n",
    "## Define agent state\n",
    "To enable a meaningful, multi-turn conversation, our AI agent needs to remember and manage context across several steps. Unlike simple chatbots that treat every message independently, our travel planner requires the agent to accumulate user inputs and maintain a working memory of the session.\n",
    "\n",
    "The goal of this state definition is to:\n",
    "- **Track the full conversation history** so the agent can refer back to previous messages.\n",
    "- **Extract structured information** (such as the city and interests) as the conversation unfolds.\n",
    "- **Store and return the final output** (a generated itinerary) once all necessary details are collected.\n",
    "\n",
    "This serves as the agent's memory and context management system."
   ]
  },
  {
   "cell_type": "code",
   "execution_count": 2,
   "metadata": {
    "id": "_1u0BVevNF2K"
   },
   "outputs": [],
   "source": [
    "# Define the comprehensive state structure for our conversational AI agent\n",
    "class PlannerState(TypedDict):\n",
    "    messages: List[Union[HumanMessage, AIMessage]]  # Complete conversation history, including both user and AI messages\n",
    "    city: str  # Destination city extracted from user input\n",
    "    interests: List[str]  # User's travel interests parsed from conversation\n",
    "    itinerary: str  # Final generated travel plan"
   ]
  },
  {
   "cell_type": "markdown",
   "metadata": {
    "id": "4nMWhJbtMFzg"
   },
   "source": [
    "The `PlannerState` class defines our agent's conversational memory architecture.\n",
    "- We use `TypedDict` from Python’s typing module, which allows us to define dictionaries with specific fields and expected types, making our state structure both readable and type-safe. This is especially useful in larger applications or collaborative projects where clarity matters.\n",
    "- The `messages` field creates a chronological record of the entire conversation containing both `HumanMessage` and `AIMessage` objects, enabling our agent to reference previous exchanges and maintain context. Unlike simple request-response systems, this structure allows our agent to build understanding progressively.\n",
    "- The specific fields (`city`, `interests`, `itinerary`) represent extracted structured information that gets populated as the conversation progresses, transforming unstructured dialogue into actionable data for travel planning. When a node function returns a dictionary, LangGraph automatically merges it with the existing state, updating only the specified keys while preserving others.\n",
    "\n",
    "## Set up the language model\n",
    "Here we instantiate a chat model that will be used to understand context and generate the travel itinerary."
   ]
  },
  {
   "cell_type": "code",
   "execution_count": 3,
   "metadata": {
    "id": "6PL8GRLQMJkb"
   },
   "outputs": [],
   "source": [
    "# Initialize the language model\n",
    "llm = ChatOpenAI(model=\"gpt-4o-mini-2024-07-18\")"
   ]
  },
  {
   "cell_type": "markdown",
   "metadata": {
    "id": "V4-8CG9aMJLc"
   },
   "source": [
    "We are using `GPT-4o-mini` without temperature specification, allowing for natural conversational variability while maintaining relevance. This model choice provides strong contextual understanding necessary for multi-turn conversations while being cost-effective for interactive applications.\n",
    "\n",
    "## Set up prompt template for itinerary generation\n",
    "Before building our conversation flow, we need to design how our AI agent will generate the final travel itinerary. This template structures how the accumulated conversation context gets transformed into actionable travel recommendations. We create a instructional prompt template to be passed to the model when it is time to generate the itinerary."
   ]
  },
  {
   "cell_type": "code",
   "execution_count": 4,
   "metadata": {
    "id": "VnfCF1dNMI7P"
   },
   "outputs": [],
   "source": [
    "# Design the prompt template for itinerary generation\n",
    "itinerary_prompt = ChatPromptTemplate.from_messages([\n",
    "    # System message defines assistant's behavior and output format\n",
    "    (\"system\", \"You are a helpful travel assistant. Create a day trip itinerary for {city} based on the user's interests: {interests}. Provide a brief, bulleted itinerary.\"),\n",
    "    # Human message simulates the final instruction from the user\n",
    "    (\"human\", \"Create an itinerary for my day trip.\"),\n",
    "])"
   ]
  },
  {
   "cell_type": "markdown",
   "metadata": {
    "id": "VBkstDplMId7"
   },
   "source": [
    "- The `ChatPromptTemplate.from_messages` method accepts a sequence of roles and corresponding messages, mimicking the conversational format used by most chat-based language models (like GPT-4). LangChain’s `ChatPromptTemplate` makes it easy to define reusable, dynamic prompts. It separates system instructions (which shape the assistant’s behavior) from user queries (which simulate the final interaction). By defining both, we provide the model with a clear role and purpose, and we simulate a realistic context to ground the generation process. In this template:\n",
    "  - The system message plays a crucial role in defining behavior, tone, and structure. It tells the model what kind of assistant it is and exactly what kind of output is expected—concise, bulleted, and travel-specific. This ensures consistent generation across different inputs.\n",
    "  - The human message simulates the final request, creating a complete interaction context for the language model.\n",
    "- This prompt template demonstrates how conversational context gets transformed into structured output. The system message establishes the agent's role and output format, while the template variables `{city}` and `{interests}` represent information extracted from the conversation flow.\n",
    "\n",
    "This approach ensures consistent, well-formatted travel recommendations regardless of how the conversation unfolds.\n",
    "\n",
    "\n",
    "## Define agent functions\n",
    "Now, we will implement the core conversational behavior of our AI agent. LangGraph enables us to structure conversations as graphs of executable functions, where each node performs a well-defined operation on shared state. Each function represents a specific step in our guided conversation: get city, get interests, create itinerary."
   ]
  },
  {
   "cell_type": "code",
   "execution_count": 5,
   "metadata": {
    "id": "c3BjJSvlMXt1"
   },
   "outputs": [],
   "source": [
    "# Collect the user's desired travel destination\n",
    "def input_city(state: PlannerState) -> PlannerState:\n",
    "    print(\"Please enter the city you want to visit for your day trip:\")\n",
    "    user_message = input(\"Your input: \")  # Prompts user for travel destination\n",
    "\n",
    "    # Update agent state with new information and conversation history\n",
    "    return {\n",
    "        **state,  # Preserve existing conversation context\n",
    "        \"city\": user_message, # Save the city to the state\n",
    "        \"messages\": state['messages'] + [HumanMessage(content=user_message)],  # Append message to conversation history\n",
    "    }\n",
    "\n",
    "# Collect the user's travel interests for the chosen city\n",
    "def input_interests(state: PlannerState) -> PlannerState:\n",
    "    print(f\"Please enter your interests for the trip to {state['city']} (comma-separated):\")\n",
    "    user_message = input(\"Your input: \")  # Prompts user for travel interests\n",
    "\n",
    "    # Process and structure the user's interest input\n",
    "    return {\n",
    "        **state,  # Maintain conversation continuity\n",
    "        \"interests\": [interest.strip() for interest in user_message.split(',')],  # Parse interests into structured list\n",
    "        \"messages\": state['messages'] + [HumanMessage(content=user_message)],  # Update conversation history\n",
    "    }\n",
    "\n",
    "# Generate the itinerary based on collected user inputs\n",
    "def create_itinerary(state: PlannerState) -> PlannerState:\n",
    "    print(f\"Creating an itinerary for {state['city']} based on interests: {', '.join(state['interests'])}...\")\n",
    "\n",
    "    # Generate personalized itinerary using accumulated conversation context\n",
    "    response = llm.invoke(itinerary_prompt.format_messages(city=state['city'], interests=\", \".join(state['interests'])))\n",
    "\n",
    "    # Present the generated itinerary to the user\n",
    "    print(\"\\nFinal Itinerary:\")\n",
    "    print(response.content)\n",
    "\n",
    "    # Update conversation state with AI-generated response\n",
    "    return {\n",
    "        **state,  # Preserve complete conversation context\n",
    "        \"messages\": state['messages'] + [AIMessage(content=response.content)],  # Add AI response to history\n",
    "        \"itinerary\": response.content,  # Store structured itinerary output\n",
    "    }"
   ]
  },
  {
   "cell_type": "markdown",
   "metadata": {
    "id": "IKdZ3v03MXgA"
   },
   "source": [
    "These functions operate over the shared `PlannerState` data structure we defined earlier, ensuring context is maintained throughout the process. Importantly, each function appends new messages to the agent’s conversation history, which gives the model context for its responses.\n",
    "- The `input_city` function prompts the user for a destination and stores it in the state. It also appends the user input to the messages list, which is important for maintaining conversation continuity.\n",
    "- In `input_interests`, we ask for the user’s interests, parse them into a clean list format, and again update both the state and message history. This structured representation is essential for prompt templating later on.\n",
    "- Finally, `create_itinerary` calls the language model using the pre-defined prompt template. It formats the prompt with the collected city and interests, sends it to the model, and captures the AI-generated itinerary. The result is printed to the console and stored in the state for future access or logging.\n",
    "\n",
    "Those functions demonstrate LangGraph's state update mechanism.\n",
    "- The `input()` function pauses execution and waits for user input from the console.\n",
    "- The return statement uses dictionary unpacking (`**state`) to preserve all existing state keys while overriding specific ones. LangGraph's state management automatically merges this returned dictionary with the current state - any keys present in the return value update the state, while missing keys remain unchanged.\n",
    "- The `HumanMessage(content=user_message)` creates a typed message object that gets appended to the existing messages list.\n",
    "- The `state['messages'] + [new_message]` syntax creates a new list rather than modifying the existing one, which is important for LangGraph's state tracking.\n",
    "- `\", \".join(state['interests'])` converts the interests list back into a comma-separated string for prompt insertion.\n",
    "- The `itinerary_prompt.format_messages()` method substitutes the template variables with actual values and returns a list of formatted message objects.\n",
    "- `llm.invoke()` sends these messages to the OpenAI API and returns an `AIMessage` object.\n",
    "\n",
    "## Create and compile the graph\n",
    "With our individual conversation functions defined, we will now assemble them into a coherent conversational flow that guides users through our travel planning process naturally and efficiently."
   ]
  },
  {
   "cell_type": "code",
   "execution_count": 6,
   "metadata": {
    "id": "KzvIzsHqMXEy"
   },
   "outputs": [],
   "source": [
    "# Construct the conversational workflow using StateGraph\n",
    "workflow = StateGraph(PlannerState)\n",
    "\n",
    "# Add each conversational step as a node in our agent's workflow\n",
    "workflow.add_node(\"input_city\", input_city)\n",
    "workflow.add_node(\"input_interests\", input_interests)\n",
    "workflow.add_node(\"create_itinerary\", create_itinerary)\n",
    "\n",
    "# Define the conversational flow sequence\n",
    "workflow.set_entry_point(\"input_city\")\n",
    "workflow.add_edge(\"input_city\", \"input_interests\")\n",
    "workflow.add_edge(\"input_interests\", \"create_itinerary\")\n",
    "workflow.add_edge(\"create_itinerary\", END)\n",
    "\n",
    "# Compile the workflow into an executable conversational agent\n",
    "app = workflow.compile()"
   ]
  },
  {
   "cell_type": "markdown",
   "metadata": {
    "id": "5j_4r-UTMW1O"
   },
   "source": [
    "This code constructs a directed acyclic graph (DAG) representing our conversation flow.\n",
    "- `StateGraph(PlannerState)` creates a graph that will manage state objects of type `PlannerState`.\n",
    "- Each `add_node()` call registers a function with a string identifier - LangGraph will call these functions in sequence, passing the current state and expecting a partial state update in return.\n",
    "- `set_entry_point()` defines which node executes first when the graph runs.\n",
    "- The `add_edge()` calls create directed connections between nodes, forming a linear execution path.\n",
    "- `END` is a special LangGraph constant representing graph termination.\n",
    "- The `compile()` method validates the graph structure and returns an executable object with methods that can run the entire workflow.\n",
    "\n",
    "### Display the graph structure\n",
    "Let's visualize our conversational agent's internal structure to understand how information flows through the guided conversation process."
   ]
  },
  {
   "cell_type": "code",
   "execution_count": 7,
   "metadata": {
    "id": "OGrfiQK-MWWx"
   },
   "outputs": [
    {
     "data": {
      "image/png": "[encoded data removed]",
      "text/plain": [
       "<IPython.core.display.Image object>"
      ]
     },
     "metadata": {},
     "output_type": "display_data"
    }
   ],
   "source": [
    "# Generate visual representation of our conversational agent's workflow\n",
    "display(\n",
    "    Image(\n",
    "        app.get_graph().draw_mermaid_png(\n",
    "            draw_method=MermaidDrawMethod.API,\n",
    "        )\n",
    "    )\n",
    ")"
   ]
  },
  {
   "cell_type": "markdown",
   "metadata": {
    "id": "QGp4gnxoMtFl"
   },
   "source": [
    "- The `app.get_graph()` method returns a graph representation object that contains the node and edge structure we defined.\n",
    "- The `.draw_mermaid_png()` method generates a Mermaid diagram syntax and renders it as a PNG image using the specified API method.\n",
    "- `MermaidDrawMethod.API` tells LangGraph to use an external service to convert the Mermaid syntax to an image.\n",
    "- The `display()` and `Image()` functions are Jupyter notebook utilities that render the binary PNG data as an inline image in the notebook output.\n",
    "\n",
    "This visualization shows the nodes as boxes connected by arrows, making the linear flow clearly visible.\n",
    "\n",
    "### Define the function that runs the graph\n",
    "Now we will create the system that orchestrates complete conversation sessions, managing the flow from initial user intent through final itinerary delivery."
   ]
  },
  {
   "cell_type": "code",
   "execution_count": 8,
   "metadata": {
    "id": "qgmNWw5tMs3g"
   },
   "outputs": [],
   "source": [
    "# Define the function that orchestrates complete conversation sessions\n",
    "def run_travel_planner(user_request: str):\n",
    "    print(f\"Initial Request: {user_request}\\n\")\n",
    "\n",
    "    # Initialize conversation state with user's initial request\n",
    "    state = {\n",
    "        \"messages\": [HumanMessage(content=user_request)],  # Start conversation history\n",
    "        \"city\": \"\",  # Empty until gathered from user\n",
    "        \"interests\": [],  # Empty until gathered from user\n",
    "        \"itinerary\": \"\",  # Empty until generated by AI\n",
    "    }\n",
    "\n",
    "    # Execute the complete conversational workflow - each step will handle user interaction and state updates\n",
    "    for output in app.stream(state):\n",
    "        pass  # The individual nodes handle all user interaction and output"
   ]
  },
  {
   "cell_type": "markdown",
   "metadata": {
    "id": "is1xvRzcMsg0"
   },
   "source": [
    "This function initializes a complete state dictionary that conforms to the `PlannerState` structure.\n",
    "- The initial state contains the user's request as a `HumanMessage` in the messages list, while other fields are set to empty defaults.\n",
    "- The `app.stream(state)` method executes the graph iteratively, calling each node function in sequence and updating the state after each step.\n",
    "- The `stream()` method returns a generator that yields intermediate states, but since our node functions handle their own output via `print()` statements, we don't need to process these intermediate results.\n",
    "- The `for` loop simply iterates through all steps until the graph reaches the END node and terminates.\n",
    "\n",
    "## Use case example\n",
    "Finally, let's demonstrate our complete conversational AI agent by running through a typical travel planning session."
   ]
  },
  {
   "cell_type": "code",
   "execution_count": 9,
   "metadata": {
    "id": "hdbt05ZGMsRv"
   },
   "outputs": [
    {
     "name": "stdout",
     "output_type": "stream",
     "text": [
      "Initial Request: I want to plan a day trip.\n",
      "\n",
      "Please enter the city you want to visit for your day trip:\n"
     ]
    },
    {
     "name": "stdin",
     "output_type": "stream",
     "text": [
      "Your input:  New York City\n"
     ]
    },
    {
     "name": "stdout",
     "output_type": "stream",
     "text": [
      "Please enter your interests for the trip to New York City (comma-separated):\n"
     ]
    },
    {
     "name": "stdin",
     "output_type": "stream",
     "text": [
      "Your input:  food\n"
     ]
    },
    {
     "name": "stdout",
     "output_type": "stream",
     "text": [
      "Creating an itinerary for New York City based on interests: food...\n",
      "\n",
      "Final Itinerary:\n",
      "Sure! Here’s a food-focused day trip itinerary for New York City:\n",
      "\n",
      "### New York City Foodie Day Trip Itinerary\n",
      "\n",
      "**Morning: Brunch in the East Village**\n",
      "- **Time:** 9:00 AM - 10:30 AM\n",
      "- **Location:** *Cafe Mogador*\n",
      "  - Enjoy their famous Moroccan eggs or classic brunch options.\n",
      "- **Tip:** Don't forget their delicious coffee and fresh juice!\n",
      "\n",
      "**Mid-Morning: Bakery Stop**\n",
      "- **Time:** 10:45 AM - 11:15 AM\n",
      "- **Location:** *Dominique Ansel Bakery*\n",
      "  - Try the iconic Cronut or a cookie shot with milk.\n",
      "\n",
      "**Late Morning: Gourmet Food Hall**\n",
      "- **Time:** 11:30 AM - 1:00 PM\n",
      "- **Location:** *Chelsea Market*\n",
      "  - Explore a variety of food vendors and sample seafood, tacos, and artisan cheese. \n",
      "- **Tip:** Grab some items for later!\n",
      "\n",
      "**Afternoon: Iconic New York Lunch**\n",
      "- **Time:** 1:15 PM - 2:30 PM\n",
      "- **Location:** *Katz's Delicatessen*\n",
      "  - Indulge in a classic pastrami sandwich and a pickle. Don’t forget to try their famous matzo ball soup.\n",
      "\n",
      "**Mid-Afternoon: Dessert Stop**\n",
      "- **Time:** 2:45 PM - 3:15 PM\n",
      "- **Location:** *Milk Bar*\n",
      "  - Treat yourself to a slice of their famous Crack Pie or Cereal Milk Soft Serve.\n",
      "\n",
      "**Late Afternoon: Snack Break at a Food Truck**\n",
      "- **Time:** 3:30 PM - 4:00 PM\n",
      "- **Location:** *The Halal Guys Food Cart*\n",
      "  - Sample their popular chicken and rice platter or beef gyros.\n",
      "\n",
      "**Early Evening: Dinner in the West Village**\n",
      "- **Time:** 5:00 PM - 6:30 PM\n",
      "- **Location:** *L'Artusi*\n",
      "  - Enjoy modern Italian fare; try the ricotta gnocchi and seasonal vegetables.\n",
      "\n",
      "**Evening: Cocktails and Late-Night Treats**\n",
      "- **Time:** 7:00 PM - 9:00 PM\n",
      "- **Location:** *The Dead Rabbit*\n",
      "  - Sip on expertly crafted cocktails. \n",
      "- **Optional:** Late-night snack at *Van Leeuwen Ice Cream* for artisanal ice cream flavors.\n",
      "\n",
      "### Additional Tips:\n",
      "- Make reservations where possible, especially for lunch and dinner.\n",
      "- Wear comfortable shoes as you'll be exploring various neighborhoods!\n",
      "- Be sure to check the opening hours of each location as they may vary.\n",
      "\n",
      "Enjoy your delicious day in NYC! 🍽️\n"
     ]
    }
   ],
   "source": [
    "# Demonstrate our conversational AI agent with a typical use case\n",
    "user_request = \"I want to plan a day trip.\"\n",
    "run_travel_planner(user_request)"
   ]
  },
  {
   "cell_type": "markdown",
   "metadata": {
    "id": "Bmj6O86bMsBe"
   },
   "source": [
    "Here, we demonstrate the complete execution flow.\n",
    "- When `run_travel_planner()` is called, it creates the initial state with this request as the first message, then invokes `app.stream()` to begin graph execution. The graph will execute nodes in sequence: first `input_city()` will run and prompt for user input, updating the state with the city and new message; then `input_interests()` will execute with the updated state, prompting for interests and updating the state again; finally `create_itinerary()` will run with all collected information, generate the AI response, and update the state with the final itinerary. Each function call is blocking until user input is provided, creating the interactive conversation experience.\n",
    "\n",
    "\n",
    "The sequential conversation pattern we have implemented here is particularly valuable for applications requiring structured information gathering, making it applicable to domains beyond travel planning such as product recommendations, service configuration, or consultation workflows."
   ]
  }
 ],
 "metadata": {
  "colab": {
   "provenance": []
  },
  "kernelspec": {
   "display_name": "Python (langgraph-env)",
   "language": "python",
   "name": "langgraph-env"
  },
  "language_info": {
   "codemirror_mode": {
    "name": "ipython",
    "version": 3
   },
   "file_extension": ".py",
   "mimetype": "text/x-python",
   "name": "python",
   "nbconvert_exporter": "python",
   "pygments_lexer": "ipython3",
   "version": "3.9.23"
  }
 },
 "nbformat": 4,
 "nbformat_minor": 4
}
