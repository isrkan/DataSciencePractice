{
 "cells": [
  {
   "cell_type": "markdown",
   "metadata": {
    "id": "IxNmn9gWhR3K"
   },
   "source": [
    "# History and data analysis collaboration system\n",
    "\n",
    "### A multi-agent approach for complex historical questions\n",
    "\n",
    "Understanding historical events often requires both qualitative reasoning (context, causality, trends) and quantitative insights (data, statistics, measurements). Historians interpret narratives and contexts, while data analysts look for patterns and relationships within numbers.\n",
    "\n",
    "This notebook presents a multi-agent AI system where two AI agents—one skilled in history research and the other in data analysis—work together to tackle a complex historical question.\n",
    "\n",
    "The goal is to simulate how experts from different domains collaborate to arrive at a comprehensive, data-backed answer. Each agent contributes according to its domain of expertise, coordinated through a controlled task flow."
   ]
  },
  {
   "cell_type": "code",
   "execution_count": 1,
   "metadata": {
    "id": "W1XTNCl7hHeK"
   },
   "outputs": [],
   "source": [
    "import os\n",
    "import time\n",
    "\n",
    "from langchain_openai import ChatOpenAI\n",
    "from langchain.schema import HumanMessage, SystemMessage, AIMessage\n",
    "from typing import List, Dict\n",
    "from dotenv import load_dotenv\n",
    "\n",
    "# Load environment variables from .env file\n",
    "load_dotenv()\n",
    "\n",
    "# Configure OpenAI API key for AI model access\n",
    "os.environ[\"OPENAI_API_KEY\"] = os.getenv('OPENAI_API_KEY')"
   ]
  },
  {
   "cell_type": "markdown",
   "metadata": {
    "id": "m6urOJZ7hb5S"
   },
   "source": [
    "### Initialize the language model\n",
    "The language model serves as the core intelligence of our multi-agent system."
   ]
  },
  {
   "cell_type": "code",
   "execution_count": 2,
   "metadata": {
    "id": "43PECcv-hbtE"
   },
   "outputs": [],
   "source": [
    "# Initialize the language model that will power our agents\n",
    "llm = ChatOpenAI(model=\"gpt-4o-mini-2024-07-18\", max_tokens=1000, temperature=0.7)"
   ]
  },
  {
   "cell_type": "markdown",
   "metadata": {
    "id": "q_wr4An2hbcB"
   },
   "source": [
    "We configure the GPT-4 model with specific parameters: 1000 tokens for substantial responses and a temperature of 0.7 to balance creativity with consistency.\n",
    "\n",
    "### Define the base Agent class\n",
    "At the heart of our collaborative system is a general-purpose `Agent` class that can be specialized for different domains. Each agent is initialized with a `name`, `role`, and list of `skills`, which define its persona and capabilities. This design makes it easy to create specialized agents with distinct personalities, expertise areas, and communication styles while maintaining a consistent interface for collaboration.\n",
    "\n",
    "The key capability of an agent is its ability to \"process\" a task — interpreting it through its defined persona and (optionally) in the context of a prior multi-turn dialogue. This makes the interaction feel more intelligent and persistent, mimicking the way domain experts build on earlier discussions."
   ]
  },
  {
   "cell_type": "code",
   "execution_count": 3,
   "metadata": {
    "id": "o_WFbZsXhbBr"
   },
   "outputs": [],
   "source": [
    "# Initialize an AI agent with specific identity and capabilities\n",
    "class Agent:\n",
    "    def __init__(self, name: str, role: str, skills: List[str]):\n",
    "        self.name = name  # Agent's name (used for identification)\n",
    "        self.role = role  # Agent's role (defines their area of expertise)\n",
    "        self.skills = skills  # List of capabilities or areas the agent is proficient in\n",
    "        self.llm = llm  # Reference to the language model used for generating responses\n",
    "\n",
    "    # Process a given task within the context of previous conversation\n",
    "    def process(self, task: str, context: List[Dict] = None) -> str:\n",
    "        # Start the message history with a system message describing the agent's persona and competencies\n",
    "        messages = [\n",
    "            SystemMessage(content=f\"You are {self.name}, a {self.role}. Your skills include: {', '.join(self.skills)}. Respond to the task based on your role and skills.\")\n",
    "        ]\n",
    "\n",
    "        # Add previous conversation context if available\n",
    "        if context:\n",
    "            for msg in context:\n",
    "                if msg['role'] == 'human':\n",
    "                    messages.append(HumanMessage(content=msg['content']))\n",
    "                elif msg['role'] == 'ai':\n",
    "                    messages.append(AIMessage(content=msg['content']))\n",
    "\n",
    "        # Add the current task as a human message\n",
    "        messages.append(HumanMessage(content=task))\n",
    "\n",
    "        # Get response from the language model\n",
    "        response = self.llm.invoke(messages)\n",
    "        # Return the text content of the model's response\n",
    "        return response.content"
   ]
  },
  {
   "cell_type": "markdown",
   "metadata": {
    "id": "Nv4MGyZ4hazj"
   },
   "source": [
    "Here, we construct a reusable `Agent` class that standardizes how domain-specific agents interact with the language model. The class encapsulates identity information (like name, role, and skills) and uses this to frame its responses.\n",
    "* **Initialization**: When an `Agent` is created, it stores its name, role, and list of domain-specific skills. It also hooks into a language model (in this case, OpenAI’s GPT-4o-mini) which powers its responses. It initializes identity attributes that tailor the agent’s responses to its intended function.\n",
    "* **Task processing**: When the agent is asked to `process` a task:\n",
    "  * It starts by generating a system message — a behind-the-scenes instruction to the model telling it, “Pretend you are this kind of expert.” The `SystemMessage` at the beginning of the message list is critical. It anchors the model in the persona of the agent, ensuring that responses reflect that agent’s domain knowledge and communication style.\n",
    "  * Then, if there's any previous conversation, it gets replayed so the model understands the full context — which enables more coherent and context-aware responses — particularly useful in multi-step workflows.\n",
    "  * The new task is added at the end as a user question.\n",
    "  * This whole conversation (system prompt, previous context, and the current task) gets sent to the model, which generates a response from the agent’s point of view.\n",
    "* **Final output**: The model’s answer is returned as plain text, ready for the rest of the system to use.\n",
    "\n",
    "\n",
    "### Define specialized agents\n",
    "With our base architecture established, we can now create specialized agents for our two primary domains: historical research and data analysis. Each agent inherits the core functionality while defining their specific expertise areas."
   ]
  },
  {
   "cell_type": "code",
   "execution_count": 4,
   "metadata": {
    "id": "vN_SVXKohalr"
   },
   "outputs": [],
   "source": [
    "# Initialize a specialized agent for historical research\n",
    "class HistoryResearchAgent(Agent):\n",
    "    def __init__(self):\n",
    "        super().__init__(\n",
    "            name=\"Clio\",\n",
    "            role=\"History Research Specialist\",\n",
    "            skills=[\n",
    "                \"deep knowledge of historical events\",\n",
    "                \"understanding of historical contexts\",\n",
    "                \"identifying historical trends\"\n",
    "            ]\n",
    "        )\n",
    "\n",
    "# Initialize a specialized agent for data analysis\n",
    "class DataAnalysisAgent(Agent):\n",
    "    def __init__(self):\n",
    "        super().__init__(\n",
    "            name=\"Data\",\n",
    "            role=\"Data Analysis Expert\",\n",
    "            skills=[\n",
    "                \"interpreting numerical data\",\n",
    "                \"statistical analysis\",\n",
    "                \"data visualization description\"\n",
    "            ]\n",
    "        )"
   ]
  },
  {
   "cell_type": "markdown",
   "metadata": {
    "id": "OfHEVB9ghaW0"
   },
   "source": [
    "These classes inherit from the base `Agent` and predefine specific expertise. `Clio` specializes in historical context; `Data` excels at quantitative reasoning.\n",
    "\n",
    "The specialized agents demonstrate the power of role-based AI design. By giving each agent a distinct name and carefully curated skill set, we create AI personas that approach problems from different angles. This specialization isn't just cosmetic—it fundamentally shapes how each agent processes information and generates responses, leading to more focused and relevant contributions to the collaborative process.\n",
    "\n",
    "### Define the different functions for the collaboration system\n",
    "The heart of our system lies in the structured workflow that guides agent collaboration. Each function represents a specific phase in the research process, with agents taking turns to contribute their expertise while building upon previous insights.\n",
    "\n",
    "#### Research historical context\n",
    "The history agent provides background information for the task."
   ]
  },
  {
   "cell_type": "code",
   "execution_count": 5,
   "metadata": {
    "id": "X3R1GKo2haIa"
   },
   "outputs": [],
   "source": [
    "# Establish historical background and context\n",
    "def research_historical_context(history_agent, task: str, context: list) -> list:\n",
    "    print(\"🏛️ History Agent: Researching historical context...\")\n",
    "\n",
    "    # Formulate a task focused on historical context\n",
    "    history_task = f\"Provide relevant historical context and information for the following task: {task}\"\n",
    "\n",
    "    # Get historical context from the history agent\n",
    "    history_result = history_agent.process(history_task)\n",
    "\n",
    "    # Add the result to the ongoing conversation context\n",
    "    context.append({\"role\": \"ai\", \"content\": f\"History Agent: {history_result}\"})\n",
    "\n",
    "    # Provide user feedback on progress\n",
    "    print(f\"📜 Historical context provided: {history_result[:100]}...\\n\")\n",
    "    return context"
   ]
  },
  {
   "cell_type": "markdown",
   "metadata": {
    "id": "-PPolBNihZ51"
   },
   "source": [
    "This function creates a research-oriented prompt and captures the historical summary from the agent, appending it to the ongoing context.\n",
    "\n",
    "#### Identify data needs\n",
    "Now, the data agent interprets the historical background to determine what data is required."
   ]
  },
  {
   "cell_type": "code",
   "execution_count": 6,
   "metadata": {
    "id": "Uh20igw7hZse"
   },
   "outputs": [],
   "source": [
    "# Determine what quantitative data would be most valuable\n",
    "def identify_data_needs(data_agent, task: str, context: list) -> list:\n",
    "    print(\"📊 Data Agent: Identifying data needs based on historical context...\")\n",
    "\n",
    "    # Extract the most recent historical context\n",
    "    historical_context = context[-1][\"content\"]\n",
    "\n",
    "    # Task the data agent with identifying relevant data needs\n",
    "    data_need_task = f\"Based on the historical context, what specific data or statistical information would be helpful to answer the original question? Historical context: {historical_context}\"\n",
    "\n",
    "    # Get data requirements from the data agent\n",
    "    data_need_result = data_agent.process(data_need_task, context)\n",
    "\n",
    "    # Add to conversation context\n",
    "    context.append({\"role\": \"ai\", \"content\": f\"Data Agent: {data_need_result}\"})\n",
    "\n",
    "    # Provide user feedback on progress\n",
    "    print(f\"🔍 Data needs identified: {data_need_result[:100]}...\\n\")\n",
    "    return context"
   ]
  },
  {
   "cell_type": "markdown",
   "metadata": {
    "id": "vCmO3uzehZeg"
   },
   "source": [
    "This stage generates a data inquiry based on the historical input, determining relevant metrics (e.g., urbanization rates, population stats).\n",
    "\n",
    "#### Provide historical data\n",
    "The history agent now responds with data or numeric context based on the earlier data needs."
   ]
  },
  {
   "cell_type": "code",
   "execution_count": 7,
   "metadata": {
    "id": "LxxjTO5PhZRK"
   },
   "outputs": [],
   "source": [
    "# Supply relevant historical data based on identified needs\n",
    "def provide_historical_data(history_agent, task: str, context: list) -> list:\n",
    "    print(\"🏛️ History Agent: Providing relevant historical data...\")\n",
    "\n",
    "    # Extract the data needs from the previous step\n",
    "    data_needs = context[-1][\"content\"]\n",
    "\n",
    "    # Task the history agent with providing specific data\n",
    "    data_provision_task = f\"Based on the data needs identified, provide relevant historical data or statistics. Data needs: {data_needs}\"\n",
    "\n",
    "    # Get historical data from the history agent\n",
    "    data_provision_result = history_agent.process(data_provision_task, context)\n",
    "\n",
    "    # Add to conversation context\n",
    "    context.append({\"role\": \"ai\", \"content\": f\"History Agent: {data_provision_result}\"})\n",
    "\n",
    "    # Provide user feedback on progress\n",
    "    print(f\"📊 Historical data provided: {data_provision_result[:100]}...\\n\")\n",
    "    return context"
   ]
  },
  {
   "cell_type": "markdown",
   "metadata": {
    "id": "spzLGn-shZBG"
   },
   "source": [
    "This augments the analysis by returning real or approximated data aligned with the identified needs.\n",
    "\n",
    "#### Analyze data\n",
    "The data agent interprets the provided historical data, identifying patterns or correlations."
   ]
  },
  {
   "cell_type": "code",
   "execution_count": 8,
   "metadata": {
    "id": "lg7WvRQIh6xk"
   },
   "outputs": [],
   "source": [
    "# Analyze the provided historical data for patterns and insights\n",
    "def analyze_data(data_agent, task: str, context: list) -> list:\n",
    "    print(\"📈 Data Agent: Analyzing historical data...\")\n",
    "\n",
    "    # Extract the historical data from the previous step\n",
    "    historical_data = context[-1][\"content\"]\n",
    "\n",
    "    # Task the data agent with analyzing the provided data\n",
    "    analysis_task = f\"Analyze the historical data provided and describe any trends or insights relevant to the original task. Historical data: {historical_data}\"\n",
    "\n",
    "    # Get analysis from the data agent\n",
    "    analysis_result = data_agent.process(analysis_task, context)\n",
    "\n",
    "    # Add to conversation context\n",
    "    context.append({\"role\": \"ai\", \"content\": f\"Data Agent: {analysis_result}\"})\n",
    "\n",
    "    # Provide user feedback on progress\n",
    "    print(f\"💡 Data analysis results: {analysis_result[:100]}...\\n\")\n",
    "    return context"
   ]
  },
  {
   "cell_type": "markdown",
   "metadata": {
    "id": "OnDexyqHh8Lv"
   },
   "source": [
    "The data agent provides reasoning or statistical interpretation to support conclusions.\n",
    "\n",
    "#### Synthesize final answer\n",
    "Finally, the history agent synthesizes everything into a comprehensive answer."
   ]
  },
  {
   "cell_type": "code",
   "execution_count": 9,
   "metadata": {
    "id": "PNI_Mr1ah79s"
   },
   "outputs": [],
   "source": [
    "# Combine all insights into a comprehensive final answer\n",
    "def synthesize_final_answer(history_agent, task: str, context: list) -> str:\n",
    "    print(\"🏛️ History Agent: Synthesizing final answer...\")\n",
    "\n",
    "    # Task the history agent with creating a comprehensive synthesis\n",
    "    synthesis_task = \"Based on all the historical context, data, and analysis, provide a comprehensive answer to the original task.\"\n",
    "\n",
    "    # Get final synthesis from the history agent\n",
    "    final_result = history_agent.process(synthesis_task, context)\n",
    "    return final_result"
   ]
  },
  {
   "cell_type": "markdown",
   "metadata": {
    "id": "1Hpcc-KSh7sF"
   },
   "source": [
    "This aggregates all findings into a final, holistic response from the historical perspective.\n",
    "\n",
    "This five-phase workflow creates a natural progression from broad context to specific analysis. Each function serves a distinct purpose in the research process, and the sequential design ensures that each agent has the information they need to contribute effectively. The context parameter acts as a shared memory, allowing agents to build upon each other's work rather than operating in isolation. The alternating pattern between history and data agents creates a dialogue that mirrors real-world interdisciplinary collaboration, where different experts contribute their unique perspectives to gradually build understanding.\n",
    "\n",
    "### Orchestration system class\n",
    "The collaboration system brings together all components into a cohesive workflow that manages the entire research process from initial question to final synthesis.\n",
    "\n",
    "The key idea here is that each step builds upon the results of the previous one. This design follows a pipeline pattern, where the system maintains and evolves a shared `context`, which is passed through each agent. Additionally, the class includes basic safeguards, like a timeout mechanism to avoid long-running tasks and error handling for robustness."
   ]
  },
  {
   "cell_type": "code",
   "execution_count": 10,
   "metadata": {
    "id": "cIxIg1gXiEkf"
   },
   "outputs": [],
   "source": [
    "class HistoryDataCollaborationSystem:\n",
    "    # Initialize the collaboration system with specialized agents - creates instances of both history and data analysis agents\n",
    "    def __init__(self):\n",
    "        # Create specialized agents\n",
    "        self.history_agent = HistoryResearchAgent()\n",
    "        self.data_agent = DataAnalysisAgent()\n",
    "\n",
    "    # Execute the complete collaboration workflow to solve a complex question\n",
    "    def solve(self, task: str, timeout: int = 300) -> str:\n",
    "        print(f\"\\n👥 Starting collaboration to solve: {task}\\n\")\n",
    "\n",
    "        start_time = time.time()  # Record start time to track timeout\n",
    "        # Initialize context tracking\n",
    "        context = []\n",
    "\n",
    "        # Define the workflow steps with their corresponding agents\n",
    "        steps = [\n",
    "            (research_historical_context, self.history_agent),\n",
    "            (identify_data_needs, self.data_agent),\n",
    "            (provide_historical_data, self.history_agent),\n",
    "            (analyze_data, self.data_agent),\n",
    "            (synthesize_final_answer, self.history_agent)\n",
    "        ]\n",
    "\n",
    "        # Execute each step in sequence\n",
    "        for step_func, agent in steps:\n",
    "            # Check for timeout to prevent infinite execution\n",
    "            if time.time() - start_time > timeout:\n",
    "                return \"Operation timed out. The process took too long to complete.\"\n",
    "            try:\n",
    "                # Execute the current step\n",
    "                result = step_func(agent, task, context)\n",
    "                # Check if this is the final step (returns string instead of context)\n",
    "                if isinstance(result, str):\n",
    "                    return result  # This is the final answer\n",
    "                # Update context for next step\n",
    "                context = result\n",
    "\n",
    "            except Exception as e:\n",
    "                return f\"Error during collaboration: {str(e)}\"\n",
    "\n",
    "        print(\"\\n✅ Collaboration complete. Final answer synthesized.\\n\")\n",
    "        # Return the last response in the context\n",
    "        return context[-1][\"content\"]"
   ]
  },
  {
   "cell_type": "markdown",
   "metadata": {
    "id": "ptLC3HvviHT9"
   },
   "source": [
    "The orchestration system implements a pipeline pattern where each step depends on the output of the previous step. This class is the engine that drives the collaborative process. At a high level, it performs the following:\n",
    "- It starts by initializing two intelligent agents: one focused on historical research and the other on data analysis. These agents are built from the generic `Agent` class but are configured with their own names, roles, and skill sets.\n",
    "- The `solve` method is where the orchestration happens. It accepts a `task` — usually a complex historical question — and then runs through a series of predefined steps, each handled by the appropriate expert.\n",
    "- The `steps` list defines the workflow.\n",
    "- At every step, the shared `context` is updated with the latest output. Think of this like a shared notebook between the agents — each one reads what's already there, adds their own input, and passes it on.\n",
    "- The return value handling distinguishes between intermediate steps (which return updated context) and the final step (which returns the synthesized answer).\n",
    "- There’s a timeout guard to prevent the system from running too long, which is important when dealing with multiple steps and external model calls.\n",
    "- Lastly, there is error handling, so if any one step fails unexpectedly, the system doesn’t crash — it just returns a helpful error message instead.\n",
    "\n",
    "\n",
    "### Example usage\n",
    "Now we can see our collaboration system in action with a complex historical question that requires both contextual understanding and quantitative analysis."
   ]
  },
  {
   "cell_type": "code",
   "execution_count": 11,
   "metadata": {
    "id": "yiJznRIriHHS"
   },
   "outputs": [
    {
     "name": "stdout",
     "output_type": "stream",
     "text": [
      "\n",
      "👥 Starting collaboration to solve: How did urbanization rates in Europe compare to those in North America during the Industrial Revolution, and what were the main factors influencing these trends?\n",
      "\n",
      "🏛️ History Agent: Researching historical context...\n",
      "📜 Historical context provided: During the Industrial Revolution, which began in the late 18th century and extended into the 19th ce...\n",
      "\n",
      "📊 Data Agent: Identifying data needs based on historical context...\n",
      "🔍 Data needs identified: To provide a comprehensive analysis of urbanization trends during the Industrial Revolution in Europ...\n",
      "\n",
      "🏛️ History Agent: Providing relevant historical data...\n",
      "📊 Historical data provided: Here’s a compilation of relevant historical data and statistics that relate to the urbanization tren...\n",
      "\n",
      "📈 Data Agent: Analyzing historical data...\n",
      "💡 Data analysis results: Data Agent: Analyzing the historical data provided reveals several significant trends and insights r...\n",
      "\n",
      "🏛️ History Agent: Synthesizing final answer...\n",
      "Certainly! Here's a comprehensive analysis of the urbanization trends during the Industrial Revolution, focusing on the differences between Europe and North America based on historical context, data, and analysis.\n",
      "\n",
      "### Urbanization Trends During the Industrial Revolution: A Comparative Analysis of Europe and North America\n",
      "\n",
      "#### Overview\n",
      "\n",
      "The Industrial Revolution, spanning from the late 18th century to the 19th century, marked a transformative period characterized by significant economic, social, and technological changes. This era saw both Europe and North America undergo rapid urbanization, but the rates and underlying factors influencing these trends varied considerably.\n",
      "\n",
      "### Urbanization Rates\n",
      "\n",
      "1. **Europe:**\n",
      "   - Urbanization in Europe accelerated sharply, particularly in industrialized nations. By 1801, approximately 15% of England's population lived in urban areas; this grew to about 50% by 1851 and reached 75% by 1901.\n",
      "   - Major cities like Manchester saw their populations soar from 75,000 in 1801 to 700,000 by 1901, illustrating the massive migration from rural areas to urban centers.\n",
      "\n",
      "2. **North America:**\n",
      "   - In the United States, urbanization began at a slower rate but picked up momentum in the latter half of the 19th century. From 5% in 1800, urban dwellers increased to 15% by 1850 and approximately 40% by 1900.\n",
      "   - Cities like New York and Chicago experienced explosive growth, with New York's population jumping from 60,000 in 1800 to 3.4 million by 1900.\n",
      "\n",
      "### Economic Factors\n",
      "\n",
      "- **Economic Transformation:**\n",
      "  - In both regions, the transition from agrarian economies to industrial ones was a critical driver of urbanization. Factories and mechanized production attracted rural workers to urban areas seeking employment.\n",
      "  - In England, by 1851, 50% of workers were engaged in agriculture, while in the U.S. by 1900, the workforce was more evenly distributed, with 40% in agriculture and 40% in manufacturing.\n",
      "\n",
      "- **GDP Growth Rates:**\n",
      "  - England's economy grew at an approximate rate of 2.5% annually from 1820 to 1900, whereas the U.S. experienced a more robust growth of about 4% from 1865 to 1900, indicating a more dynamic industrial expansion that fueled urbanization.\n",
      "\n",
      "### Migration Patterns\n",
      "\n",
      "- **Internal and International Migration:**\n",
      "  - European cities witnessed significant internal migration as rural populations flocked to urban centers for jobs. The influx of immigrants from countries like Ireland and Germany in the U.S. (around 30 million between 1820-1900) also played a crucial role in urban growth.\n",
      "  - For example, Irish immigrants significantly swelled the urban population during the 1840s due to the Great Famine, while German immigrants added to the labor pool in cities.\n",
      "\n",
      "### Transportation and Infrastructure\n",
      "\n",
      "- **Railroad Expansion:**\n",
      "  - The development of railroads was pivotal in both regions, facilitating the movement of goods and people. The U.S. saw its railroad system expand from 30,000 miles in 1860 to over 200,000 miles by 1900.\n",
      "  - In Europe, the establishment of rail networks connected industrial hubs, enhancing urban accessibility and contributing to population growth in cities.\n",
      "\n",
      "### Social and Political Changes\n",
      "\n",
      "- **Labor Movements:**\n",
      "  - The rise of labor movements reflected the social challenges accompanying urbanization. In the U.S., the American Federation of Labor (AFL) formed in 1886, representing the interests of millions facing poor working conditions.\n",
      "  - Similarly, Europe saw the formation of organizations like the International Workingmen’s Association, highlighting the collective struggles of urban workers.\n",
      "\n",
      "### Cultural Factors\n",
      "\n",
      "- **Cultural Hub Development:**\n",
      "  - Urban centers became cultural hubs, with the establishment of theaters, museums, and universities that attracted individuals seeking education and social interaction. By 1900, cities had become vital centers for cultural development.\n",
      "- **Literacy Rates:**\n",
      "  - Literacy rates rose significantly in urban areas. In England, the literacy rate increased from about 50% in 1800 to approximately 90% by 1900, reflecting the educational advancements that accompanied urbanization.\n",
      "\n",
      "### Health and Living Conditions\n",
      "\n",
      "- **Public Health Challenges:**\n",
      "  - Rapid urban growth led to severe public health challenges, including overcrowding and inadequate sanitation. Cities like London faced cholera outbreaks, highlighting the struggles of urban populations with health crises.\n",
      "  - The average household size in urban areas often exceeded that of rural areas, contributing to health risks and poor living conditions.\n",
      "\n",
      "### Conclusion\n",
      "\n",
      "In conclusion, while both Europe and North America experienced significant urbanization during the Industrial Revolution, the rates and influencing factors differed markedly. Europe’s urbanization was characterized by rapid internal migration driven by industrialization, while North America saw a combination\n"
     ]
    }
   ],
   "source": [
    "# Create an instance of the collaboration system\n",
    "collaboration_system = HistoryDataCollaborationSystem()\n",
    "\n",
    "# Define a complex historical question that requires both historical knowledge and data analysis\n",
    "question = \"How did urbanization rates in Europe compare to those in North America during the Industrial Revolution, and what were the main factors influencing these trends?\"\n",
    "\n",
    "# Solve the question using the collaboration system\n",
    "result = collaboration_system.solve(question)\n",
    "\n",
    "# Print the result\n",
    "print(result)"
   ]
  },
  {
   "cell_type": "markdown",
   "metadata": {
    "id": "W-epEPI2iG5w"
   },
   "source": [
    "This example showcases the system's ability to handle multifaceted historical questions that require both broad contextual knowledge and specific data analysis. The question about urbanization during the Industrial Revolution is ideal because it demands understanding of historical processes, comparative analysis between regions, and interpretation of demographic data. The system's output will demonstrate how the collaborative approach can produce more comprehensive answers than either agent could provide independently."
   ]
  }
 ],
 "metadata": {
  "colab": {
   "provenance": []
  },
  "kernelspec": {
   "display_name": "Python 3 (ipykernel)",
   "language": "python",
   "name": "python3"
  },
  "language_info": {
   "codemirror_mode": {
    "name": "ipython",
    "version": 3
   },
   "file_extension": ".py",
   "mimetype": "text/x-python",
   "name": "python",
   "nbconvert_exporter": "python",
   "pygments_lexer": "ipython3",
   "version": "3.8.19"
  }
 },
 "nbformat": 4,
 "nbformat_minor": 4
}
