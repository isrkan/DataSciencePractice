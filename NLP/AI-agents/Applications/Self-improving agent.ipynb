{
 "cells": [
  {
   "cell_type": "markdown",
   "metadata": {
    "id": "XE6ZRvLDOwMo"
   },
   "source": [
    "# Self-improving agent\n",
    "\n",
    "Traditional AI chatbots operate with static knowledge - they respond based on their training data but don't evolve from conversations. This creates a fundamental limitation: they can't adapt to user preferences, learn from mistakes, or improve their responses over time.\n",
    "\n",
    "This notebook demonstrates how to build an AI agent that breaks this limitation by implementing a continuous learning loop. The agent doesn't just respond to queries; it actively reflects on its performance, identifies areas for improvement, and incorporates these insights into future interactions. Think of it as creating an AI that learns from experience, similar to how humans refine their communication skills through practice and feedback.\n",
    "\n",
    "We will build this using LangChain's framework, which provides the necessary tools for managing conversation history, chaining operations, and maintaining context across multiple interactions."
   ]
  },
  {
   "cell_type": "code",
   "execution_count": 1,
   "metadata": {
    "id": "lDXbAAo5Ou_8"
   },
   "outputs": [],
   "source": [
    "from langchain_openai import ChatOpenAI\n",
    "from langchain_core.runnables.history import RunnableWithMessageHistory\n",
    "from langchain.memory import ChatMessageHistory\n",
    "from langchain_core.prompts import ChatPromptTemplate, MessagesPlaceholder\n",
    "from dotenv import load_dotenv\n",
    "import os\n",
    "\n",
    "# Load environment variables from .env file\n",
    "load_dotenv()\n",
    "\n",
    "# Configure OpenAI API key for AI model access\n",
    "os.environ[\"OPENAI_API_KEY\"] = os.getenv('OPENAI_API_KEY')"
   ]
  },
  {
   "cell_type": "markdown",
   "metadata": {
    "id": "a3CktMjwO84j"
   },
   "source": [
    "- `RunnableWithMessageHistory` enables conversation persistence.\n",
    "- `ChatMessageHistory` manages individual chat sessions.\n",
    "\n",
    "## Helper functions\n",
    "Our self-improving agent relies on several core capabilities that we will implement as modular helper functions.\n",
    "\n",
    "### Chat history management\n",
    "The foundation of any conversational AI is the ability to maintain context across multiple exchanges. Without this, each interaction would be isolated, preventing meaningful dialogue. This function creates or retrieves chat history for a session."
   ]
  },
  {
   "cell_type": "code",
   "execution_count": 2,
   "metadata": {
    "id": "hxH5uCJ1O8ri"
   },
   "outputs": [],
   "source": [
    "def get_chat_history(store, session_id: str):\n",
    "    # Check if this session already exists in our store\n",
    "    if session_id not in store:\n",
    "        # Create new chat history for first-time sessions\n",
    "        store[session_id] = ChatMessageHistory()\n",
    "    # Return the existing or newly created chat history\n",
    "    return store[session_id]"
   ]
  },
  {
   "cell_type": "markdown",
   "metadata": {
    "id": "g1WT5s4tO8Nd"
   },
   "source": [
    "- This function implements a session management system using a dictionary-based store. Each session is identified by a unique ID, allowing multiple users or conversation threads to maintain separate contexts.\n",
    "- The `ChatMessageHistory` object automatically handles message formatting and chronological ordering, which is crucial for the language model to understand conversation flow.\n",
    "\n",
    "### Response generation\n",
    "This function orchestrates the actual conversation by combining user input with historical context and learned insights to generate contextually appropriate responses."
   ]
  },
  {
   "cell_type": "code",
   "execution_count": 3,
   "metadata": {
    "id": "WfMNdZXgO7_Z"
   },
   "outputs": [],
   "source": [
    "def generate_response(chain_with_history, human_input: str, session_id: str, insights: str):\n",
    "    # Invoke the language model chain with all available context\n",
    "    response = chain_with_history.invoke(\n",
    "        {\n",
    "            \"input\": human_input,  # Current user query\n",
    "            \"insights\": insights  # Accumulated learning from past interactions\n",
    "        },\n",
    "        config={\"configurable\": {\"session_id\": session_id}}  # Session context configuration\n",
    "    )\n",
    "    # Extract and return the text content from the response object\n",
    "    return response.content"
   ]
  },
  {
   "cell_type": "markdown",
   "metadata": {
    "id": "7EISnA7LO7xj"
   },
   "source": [
    "- The function utilizes LangChain's runnable interface to process the input through our configured prompt template and language model.\n",
    "- The `invoke` method handles the complex orchestration of injecting conversation history, current input, and learned insights into the model's context window.\n",
    "- The configuration parameter ensures the correct session history is retrieved and used.\n",
    "\n",
    "\n",
    "### Reflection\n",
    "Reflection is where the \"self-improving\" aspect begins. The agent analyzes its past interactions to identify patterns, missed opportunities, and potential improvements."
   ]
  },
  {
   "cell_type": "code",
   "execution_count": 4,
   "metadata": {
    "id": "QsniaZ-uO7kZ"
   },
   "outputs": [],
   "source": [
    "def reflect(llm, store, session_id: str):\n",
    "    # Define a specialized prompt for reflection analysis\n",
    "    reflection_prompt = ChatPromptTemplate.from_messages([\n",
    "        (\"system\", \"Based on the following conversation history, provide insights on how to improve responses:\"),\n",
    "        MessagesPlaceholder(variable_name=\"history\"),\n",
    "        (\"human\", \"Generate insights for improvement:\")\n",
    "    ])\n",
    "    # Create a processing chain for reflection\n",
    "    reflection_chain = reflection_prompt | llm\n",
    "\n",
    "    # Retrieve the conversation history for analysis\n",
    "    history = get_chat_history(store, session_id)\n",
    "\n",
    "    # Generate reflection insights based on conversation patterns\n",
    "    reflection_response = reflection_chain.invoke({\"history\": history.messages})\n",
    "    return reflection_response.content"
   ]
  },
  {
   "cell_type": "markdown",
   "metadata": {
    "id": "cy9qPNlmO7XD"
   },
   "source": [
    "- This function implements meta-cognition by having the language model analyze its own conversation history.\n",
    "- The `MessagesPlaceholder` dynamically inserts the entire conversation thread into the prompt, allowing the model to identify patterns in its responses, user reactions, and potential areas for improvement.\n",
    "- The reflection chain operates as a separate reasoning process focused specifically on performance analysis.\n",
    "- The result is a freeform text containing insights.\n",
    "\n",
    "### Learning\n",
    "The learning function takes insights from reflection and transforms them into actionable knowledge that influences future interactions."
   ]
  },
  {
   "cell_type": "code",
   "execution_count": 5,
   "metadata": {
    "id": "CSJfQLC8O7Ix"
   },
   "outputs": [],
   "source": [
    "def learn(llm, store, session_id: str, insights: str):\n",
    "    # Create a focused prompt for distilling insights into actionable learning\n",
    "    learning_prompt = ChatPromptTemplate.from_messages([\n",
    "        (\"system\", \"Based on these insights, update the agent's knowledge and behavior:\"),\n",
    "        (\"human\", \"{insights}\"),\n",
    "        (\"human\", \"Summarize the key points to remember:\")\n",
    "    ])\n",
    "    # Process insights through the learning chain\n",
    "    learning_chain = learning_prompt | llm\n",
    "    learned_points = learning_chain.invoke({\"insights\": insights}).content\n",
    "\n",
    "    # Persist learned knowledge in the conversation history as system knowledge\n",
    "    get_chat_history(store, session_id).add_ai_message(f\"[SYSTEM] Agent learned: {learned_points}\")\n",
    "    return learned_points"
   ]
  },
  {
   "cell_type": "markdown",
   "metadata": {
    "id": "qEhaSZEUO65p"
   },
   "source": [
    "This function implements knowledge consolidation by processing raw insights into concrete, actionable improvements. The learned points are stored directly in the conversation history with a special system tag, ensuring they become part of the agent's persistent context. This creates a growing knowledge base that accumulates across interactions within a session.\n",
    "\n",
    "## Self-improving agent class\n",
    "Now we will integrate all our helper functions into a cohesive agent class that orchestrates the complete self-improvement cycle."
   ]
  },
  {
   "cell_type": "code",
   "execution_count": 6,
   "metadata": {
    "id": "lyuSWcXSPQO1"
   },
   "outputs": [],
   "source": [
    "class SelfImprovingAgent:\n",
    "    def __init__(self):\n",
    "        \"\"\"Initialize the agent with core components and configurations.\"\"\"\n",
    "        # Configure the primary language model with balanced parameters\n",
    "        self.llm = ChatOpenAI(\n",
    "            model=\"gpt-4o-mini-2024-07-18\",\n",
    "            max_tokens=1000,        # Reasonable response length limit\n",
    "            temperature=0.7         # Balance between creativity and consistency\n",
    "        )\n",
    "        # Initialize session storage for maintaining multiple conversation contexts\n",
    "        self.store = {}\n",
    "        # Initialize insights accumulator for cross-interaction learning\n",
    "        self.insights = \"\"\n",
    "\n",
    "        # Define the main conversation prompt template\n",
    "        self.prompt = ChatPromptTemplate.from_messages([\n",
    "            (\"system\", \"You are a self-improving AI assistant. Learn from your interactions and improve your performance over time.\"),\n",
    "            MessagesPlaceholder(variable_name=\"history\"),  # Dynamic history injection\n",
    "            (\"human\", \"{input}\"),  # Current user input\n",
    "            (\"system\", \"Recent insights for improvement: {insights}\")  # Learning context\n",
    "        ])\n",
    "\n",
    "        # Create the processing chain linking prompt to language model\n",
    "        self.chain = self.prompt | self.llm\n",
    "        # Wrap the chain with history management capabilities\n",
    "        self.chain_with_history = RunnableWithMessageHistory(\n",
    "            self.chain,\n",
    "            lambda session_id: get_chat_history(self.store, session_id),  # History retrieval function\n",
    "            input_messages_key=\"input\",  # Key for user input in prompt template\n",
    "            history_messages_key=\"history\"  # Key for history in prompt template\n",
    "        )\n",
    "\n",
    "    def respond(self, human_input: str, session_id: str):\n",
    "        \"\"\"Generate a response to user input using current knowledge and insights.\"\"\"\n",
    "        return generate_response(self.chain_with_history, human_input, session_id, self.insights)\n",
    "\n",
    "    def reflect(self, session_id: str):\n",
    "        \"\"\"Analyze recent interactions to generate improvement insights.\"\"\"\n",
    "        # Update internal insights based on conversation analysis\n",
    "        self.insights = reflect(self.llm, self.store, session_id)\n",
    "        return self.insights\n",
    "\n",
    "    def learn(self, session_id: str):\n",
    "        \"\"\"Execute the complete learning cycle: reflect on interactions and integrate insights.\"\"\"\n",
    "        # First reflect on recent interactions\n",
    "        self.reflect(session_id)\n",
    "        # Then integrate insights into persistent knowledge\n",
    "        return learn(self.llm, self.store, session_id, self.insights)"
   ]
  },
  {
   "cell_type": "markdown",
   "metadata": {
    "id": "4Aqs6OcfPV7F"
   },
   "source": [
    "- The constructor initializes all necessary resources:\n",
    "  - A language model for interactive use.\n",
    "  - Session-aware history tracking for managing multiple users.\n",
    "  - The structured prompt template structure ensures that conversation history, current input, and learned insights are all available to the model during response generation.\n",
    "  - The `RunnableWithMessageHistory` wrapper automatically manages the complex task of injecting and updating conversation context.\n",
    "- When `.respond()` is called, the agent generates a message that considers both the ongoing dialogue and what it has \"learned\" previously.\n",
    "- The `.reflect()` method allows the agent to critique its own past behavior by asking the LLM to analyze the session history.\n",
    "- `.learn()` wraps the reflection into an actionable summary that gets reintegrated back into the memory stream—essentially simulating growth.\n",
    "\n",
    "\n",
    "## Example usage\n",
    "Let's create an instance of our agent and observe how it evolves through a series of interactions, demonstrating the self-improvement mechanism in action."
   ]
  },
  {
   "cell_type": "code",
   "execution_count": 7,
   "metadata": {
    "id": "euvqTEk5PVRT"
   },
   "outputs": [
    {
     "name": "stdout",
     "output_type": "stream",
     "text": [
      "=== Initial Interactions ===\n",
      "Human: What's the capital of France?\n",
      "\n",
      "AI: The capital of France is Paris.\n",
      "\n",
      "Human: Can you tell me more about its history?\n",
      "\n",
      "AI: Certainly! Paris has a rich and complex history that spans over 2,000 years. Here are some key points:\n",
      "\n",
      "1. **Foundation**: Paris was originally a small Gallic settlement called Lutetia, founded around the 3rd century BC by the Parisii tribe. It was situated on the Île de la Cité, an island in the Seine River.\n",
      "\n",
      "2. **Roman Period**: The city became an important Roman city during the 1st century AD. It was known as Lutetia and featured typical Roman architecture, including baths, temples, and an amphitheater.\n",
      "\n",
      "3. **Middle Ages**: After the fall of the Roman Empire, Paris grew in importance, becoming the capital of the Frankish kingdom. The construction of Notre-Dame Cathedral began in the 12th century, symbolizing the city's growing power. By the 13th century, Paris was a major cultural and intellectual center in Europe.\n",
      "\n",
      "4. **Renaissance and Enlightenment**: The 16th and 17th centuries saw Paris flourish as a center for art, literature, and philosophy. This period included the construction of the Louvre and the rise of influential thinkers like Descartes and Voltaire.\n",
      "\n",
      "5. **French Revolution**: In 1789, Paris was the epicenter of the French Revolution, leading to significant political and social changes in France. The storming of the Bastille is one of the most famous events associated with this period.\n",
      "\n",
      "6. **19th Century**: The city underwent extensive modernization under Baron Haussmann in the mid-19th century, resulting in wide boulevards and new public spaces. This period also saw the rise of the Eiffel Tower, which was completed in 1889 for the Exposition Universelle.\n",
      "\n",
      "7. **World Wars**: Paris was occupied by German forces during World War I and again during World War II. After the liberation of Paris in 1944, the city rebuilt and emerged as a symbol of resilience.\n",
      "\n",
      "8. **Modern Era**: Today, Paris is known for its cultural significance, iconic landmarks, and as a global center for fashion, art, and cuisine. It continues to attract millions of visitors each year.\n",
      "\n",
      "This is just a brief overview, and there are many more layers to the history of Paris. If you're interested in a specific period or aspect, let me know!\n",
      "\n",
      "=== Learning Phase ===\n",
      "Agent is now reflecting and learning from the conversation...\n",
      "Learned: Here are the key points to remember for improving responses:\n",
      "\n",
      "1. **Encourage Engagement**: Prompt users for follow-up questions or specific interests.\n",
      "2. **Segment Information**: Use bullet points for readability and quick comprehension.\n",
      "3. **Contextual Relevance**: Connect historical facts to contemporary culture or politics.\n",
      "4. **Visual Aids**: Suggest resources like maps or images to enhance understanding.\n",
      "5. **Personalization**: Tailor responses based on user interests.\n",
      "6. **Encourage Discussion**: Invite user opinions or thoughts on shared information.\n",
      "7. **Summarize and Conclude**: Offer concise summaries to reinforce key points.\n",
      "8. **Provide Sources for Further Reading**: Suggest additional materials for independent exploration.\n",
      "\n",
      "=== Post-Learning Interactions ===\n",
      "Human: What's a famous landmark in this city?\n",
      "\n",
      "AI: One of the most famous landmarks in Paris is the **Eiffel Tower**. Here are some key points about it:\n",
      "\n",
      "- **Construction**: Designed by engineer Gustave Eiffel, the tower was completed in 1889 for the Exposition Universelle (World's Fair) to celebrate the 100th anniversary of the French Revolution.\n",
      "- **Height**: Originally standing at 300 meters (984 feet), it was the tallest man-made structure in the world until the completion of the Chrysler Building in New York City in 1930. Today, including antennas, it reaches about 330 meters (1,083 feet).\n",
      "- **Design**: The Eiffel Tower is made of iron and consists of three levels, with restaurants and observation decks offering stunning views of the city.\n",
      "- **Cultural Significance**: It is not only a symbol of Paris but also of France as a whole, attracting millions of visitors each year.\n",
      "\n",
      "Would you like to know more about the Eiffel Tower or another landmark in Paris?\n",
      "Human: What's another interesting fact about this city?\n",
      "\n",
      "AI: Another interesting fact about Paris is that it is home to the **Louvre Museum**, the world's largest art museum and a historic monument. Here are some key points about the Louvre:\n",
      "\n",
      "- **History**: Originally built as a fortress in the late 12th century under King Philip II, it was transformed into a royal palace before becoming a public museum during the French Revolution in 1793.\n",
      "- **Collections**: The Louvre houses over 380,000 objects, including some of the most famous artworks in history, such as Leonardo da Vinci's **Mona Lisa** and the ancient Greek statue **Venus de Milo**.\n",
      "- **Architecture**: The museum is known for its iconic glass pyramid entrance, designed by architect I. M. Pei, which was completed in 1989 and has become a symbol of the museum.\n",
      "- **Cultural Impact**: The Louvre attracts millions of visitors each year, making it one of the most visited museums in the world, and it plays a significant role in the cultural life of Paris.\n",
      "\n",
      "Would you like to learn more about the Louvre, its collections, or perhaps another aspect of Paris?\n"
     ]
    }
   ],
   "source": [
    "# Instantiate our self-improving agent\n",
    "agent = SelfImprovingAgent()\n",
    "# Create a unique session identifier for this demonstration\n",
    "session_id = \"user_123\"\n",
    "\n",
    "print(\"=== Initial Interactions ===\")\n",
    "\n",
    "# Interaction 1 - establishing baseline performance\n",
    "print(\"Human: What's the capital of France?\")\n",
    "print(\"\\nAI:\", agent.respond(\"What's the capital of France?\", session_id))\n",
    "\n",
    "print()\n",
    "\n",
    "# Interaction 2 - testing contextual understanding\n",
    "print(\"Human: Can you tell me more about its history?\")\n",
    "print(\"\\nAI:\", agent.respond(\"Can you tell me more about its history?\", session_id))\n",
    "\n",
    "print(\"\\n=== Learning Phase ===\")\n",
    "\n",
    "# Learn and improve - trigger the self-improvement cycle\n",
    "print(\"Agent is now reflecting and learning from the conversation...\")\n",
    "learned = agent.learn(session_id)\n",
    "print(\"Learned:\", learned)\n",
    "\n",
    "print(\"\\n=== Post-Learning Interactions ===\")\n",
    "\n",
    "# Interaction 3 (potentially improved based on learning)\n",
    "print(\"Human: What's a famous landmark in this city?\")\n",
    "print(\"\\nAI:\", agent.respond(\"What's a famous landmark in this city?\", session_id))\n",
    "\n",
    "# Interaction 4 (to demonstrate continued improvement)\n",
    "print(\"Human: What's another interesting fact about this city?\")\n",
    "print(\"\\nAI:\", agent.respond(\"What's another interesting fact about this city?\", session_id))"
   ]
  },
  {
   "cell_type": "markdown",
   "metadata": {
    "id": "liHMnCGlPU5x"
   },
   "source": [
    "This demonstration sequence illustrates the complete self-improvement cycle in practice.\n",
    "- The initial interactions establish a conversation context about Paris and its history.\n",
    "- The learning phase triggers reflection on these interactions, identifying patterns and potential improvements.\n",
    "- The post-learning interactions should demonstrate enhanced performance, such as more detailed responses, better contextual awareness, or improved conversational flow.\n",
    "\n",
    "The agent's internal insights accumulator now contains knowledge that will influence all subsequent responses in this session."
   ]
  }
 ],
 "metadata": {
  "colab": {
   "provenance": []
  },
  "kernelspec": {
   "display_name": "Python 3 (ipykernel)",
   "language": "python",
   "name": "python3"
  },
  "language_info": {
   "codemirror_mode": {
    "name": "ipython",
    "version": 3
   },
   "file_extension": ".py",
   "mimetype": "text/x-python",
   "name": "python",
   "nbconvert_exporter": "python",
   "pygments_lexer": "ipython3",
   "version": "3.8.19"
  }
 },
 "nbformat": 4,
 "nbformat_minor": 4
}
