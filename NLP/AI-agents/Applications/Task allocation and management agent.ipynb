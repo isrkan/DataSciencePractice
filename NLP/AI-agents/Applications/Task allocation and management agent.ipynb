{
 "cells": [
  {
   "cell_type": "markdown",
   "metadata": {
    "id": "4n2Dq4j45jqz"
   },
   "source": [
    "# Intelligent task allocation and management agent\n",
    "\n",
    "Task management remains one of the most persistent challenges in professional and academic environments. When faced with complex projects, individuals often struggle with where to begin, how to prioritize subtasks, and what approach aligns best with their working style. This uncertainty frequently leads to procrastination and inefficient workflows.\n",
    "\n",
    "This notebook presents an intelligent agent that addresses these challenges by analyzing user work patterns and generating personalized task execution plans. By combining behavioral analysis with external knowledge retrieval, the system creates customized workflows that match individual preferences and optimize productivity.\n",
    "\n",
    "The core innovation lies in the agent's ability to understand how users naturally approach tasks - whether they prefer detailed planning phases, iterative development, or systematic step-by-step execution - and then tailoring recommendations accordingly. This personalization transforms vague project requirements into actionable, structured plans that feel intuitive to execute."
   ]
  },
  {
   "cell_type": "code",
   "execution_count": 1,
   "metadata": {
    "id": "-egcNUra5UEm"
   },
   "outputs": [],
   "source": [
    "import os\n",
    "from typing import TypedDict, Annotated, List\n",
    "from langgraph.graph import START, StateGraph, END\n",
    "from langchain_core.messages import BaseMessage, HumanMessage, ToolMessage\n",
    "from langchain_core.prompts import ChatPromptTemplate, MessagesPlaceholder\n",
    "from langchain_openai import ChatOpenAI\n",
    "from langchain_core.runnables.graph import MermaidDrawMethod\n",
    "from IPython.display import display, Image, Markdown\n",
    "from dotenv import load_dotenv\n",
    "\n",
    "from tavily import TavilyClient\n",
    "\n",
    "# Load environment variables\n",
    "load_dotenv()\n",
    "\n",
    "# Set OpenAI API key\n",
    "os.environ[\"OPENAI_API_KEY\"] = os.getenv('OPENAI_API_KEY')"
   ]
  },
  {
   "cell_type": "markdown",
   "metadata": {
    "id": "85aStdurE4B4"
   },
   "source": [
    "* `TypedDict`, `Annotated`, `List`: These are part of Python’s `typing` module and help define structured data types with better code clarity and type safety.\n",
    "  * `TypedDict` lets us define a dictionary with specific field names and expected types — crucial for defining the agent's evolving state.\n",
    "  * `Annotated` is used in some LangChain use-cases to enrich types with metadata (though not directly used here).\n",
    "* `StateGraph`, `START`, `END`: These come from LangGraph and allow us to define a directed graph where each node represents a processing step in the agent.\n",
    "  * `START` and `END` help declare the entry and exit points of the workflow pipeline.\n",
    "* `BaseMessage`, `HumanMessage`, `ToolMessage`: These are internal message formats used by LangChain to simulate conversations or prompt exchanges:\n",
    "    * `BaseMessage`: The abstract parent for all message types.\n",
    "    * `HumanMessage`: Represents natural language input from the user.\n",
    "    * `ToolMessage`: Represents structured outputs from tools (e.g., retrieval results or agent actions).\n",
    "  * These abstractions make it easier to pass inputs/outputs consistently through tools and LLMs.\n",
    "* `ChatPromptTemplate`: Allows for clean, modular prompt design — like defining a message template with variables (`{task}`, `{style}`, etc.) to be filled in dynamically.\n",
    "* `MessagesPlaceholder`: Used when a prompt needs to inject an entire message history (useful in chat-based interactions).\n",
    "* `MermaidDrawMethod`: Used to visualize LangGraph workflows in Mermaid.js syntax.\n",
    "* `TavilyClient`: This client allows the agent to perform real-time internet searches. It is essential for enriching the agent’s knowledge beyond the static training of the LLM — particularly useful when task details are domain-specific or time-sensitive.\n",
    "\n",
    "\n",
    "### State management architecture\n",
    "The workflow state serves as the central data structure that flows through our processing pipeline. We define a structured state that captures all necessary information at each stage of the analysis."
   ]
  },
  {
   "cell_type": "code",
   "execution_count": 2,
   "metadata": {
    "id": "oUdYqu0Q6Bpc"
   },
   "outputs": [],
   "source": [
    "class ApproachState(TypedDict):\n",
    "    plan: str  # Generated workflow with detailed execution steps\n",
    "    style: str  # Analyzed working style preferences from historical data\n",
    "    task: str  # Original user input describing the desired task\n",
    "    details: str # internet retrieval about task requirements\n",
    "    history: str # description of history approaches"
   ]
  },
  {
   "cell_type": "markdown",
   "metadata": {
    "id": "-t81zGIT6A6K"
   },
   "source": [
    "This TypedDict structure ensures type safety while providing a clear contract for data flow between processing nodes. Each field serves a specific purpose in building toward the final personalized recommendation, with the state evolving as it moves through our analysis pipeline.\n",
    "\n",
    "### LLM & web search service initialization\n",
    "We establish connections to two key back-end services that our intelligent agent depends on:\n",
    "- A language model from OpenAI, which powers reasoning, analysis, and response generation.\n",
    "- A web search API via Tavily, which enables the agent to access real-time information from the internet — essential for tailoring responses to current knowledge or domain-specific tasks.\n",
    "\n",
    "Together, these tools form the cognitive engine and external knowledge interface of our system. Initializing them properly ensures the pipeline has access to both reasoning capabilities and up-to-date information, allowing it to craft personalized and well-informed task plans."
   ]
  },
  {
   "cell_type": "code",
   "execution_count": 3,
   "metadata": {
    "id": "XvR_OFvs6AqD"
   },
   "outputs": [],
   "source": [
    "# Initialize the ChatOpenAI model\n",
    "llm = ChatOpenAI(model=\"gpt-4o-mini-2024-07-18\")\n",
    "\n",
    "# Initialize Tavily client for performing real-time web searches\n",
    "tavily_client = TavilyClient(api_key=os.environ[\"TAVILY_API_KEY\"])"
   ]
  },
  {
   "cell_type": "markdown",
   "metadata": {
    "id": "Z58sZB0c6Abh"
   },
   "source": [
    "- The `ChatOpenAI` object sets up a chat-oriented interface to OpenAI’s GPT model. This object allows us to easily invoke the model with prompts, enabling the agent to generate analyses, custom plans, and summaries based on provided inputs.\n",
    "- The `TavilyClient` is initialized with an API key and provides a simple interface for performing web searches. This will later allow the system to enrich tasks with external data — such as technical steps, background research, or contextual best practices — all fetched dynamically from the web.\n",
    "\n",
    "### Component functions\n",
    "To build an intelligent task allocation system that is adaptive and context-aware, we decompose the logic into modular stages. Let's understand the three-stage pipeline that powers our intelligent task allocation system:\n",
    "- Behavioral analysis: Examines historical work patterns to identify user preferences.\n",
    "- Knowledge retrieval: Gathers external information about task requirements and best practices.\n",
    "- Personalized planning: Synthesizes insights to generate customized execution strategies.\n",
    "\n",
    "#### Behavioral analysis engine\n",
    "The goal here is to understand how the user tends to approach work — are they a step-by-step planner? Do they dive into action early? Are they cautious, analytical, or spontaneous?\n",
    "\n",
    "This component achieves that by analyzing past task descriptions or reflections stored in text files. It aggregates that historical data and feeds it to a language model, which then extracts behavioral traits. These traits will later be used to guide how future plans are structured — making the entire system more personalized."
   ]
  },
  {
   "cell_type": "code",
   "execution_count": 4,
   "metadata": {
    "id": "bLfxcMPNIOsZ"
   },
   "outputs": [],
   "source": [
    "# Function 1: Behavioral pattern analysis - analyze historical work patterns to identify user's preferred working style\n",
    "def approach_analysis(approach: ApproachState) -> ApproachState:\n",
    "    \"\"\"Retrieve history approach and let LLM do a qualitative analysis on user approach preference.\"\"\"\n",
    "    history = \"\"\n",
    "    # Read all historical work records from the history directory\n",
    "    for h in os.listdir(f\"{os.getcwd()}/history\"):\n",
    "        if (h[-4:] == \".txt\"):  # Process only text files\n",
    "            with open(os.path.join(os.getcwd(), f\"history/{h}\")) as f:\n",
    "                content = f.readlines()\n",
    "            history = f\"{history}\\n{content[0]}\"  # Append the first line from each file to our history string\n",
    "\n",
    "    # Store combined history into the agent's internal state\n",
    "    approach['history'] = history\n",
    "\n",
    "    # Create prompt template for style analysis\n",
    "    prompt = ChatPromptTemplate.from_template(\n",
    "        \"Analyze the work style the following summary of work history portrays. \"\n",
    "        \"Provide a brief summary the preference in work style.\"\n",
    "        \"\\n\\nWork History: {history}\"\n",
    "    )\n",
    "\n",
    "    # Generate style analysis using LLM\n",
    "    style = llm.invoke(prompt.format(history=approach['history']))\n",
    "\n",
    "    # Store the inferred style back into the shared state\n",
    "    approach['style'] = style\n",
    "    return approach"
   ]
  },
  {
   "cell_type": "markdown",
   "metadata": {
    "id": "jh_ySeQ6IPLx"
   },
   "source": [
    "- This function reads historical user task descriptions from a local folder (`/history`). These might be journaled task logs, summaries, or feedback reflections from previous work.\n",
    "- It compiles the text from these files into a single string that serves as the dataset for behavior inference.\n",
    "- It then constructs a prompt dynamically, injecting this history into a templated question asking the LLM to identify behavioral tendencies.\n",
    "- The model’s output — a summary of the user’s work style — is then stored in the workflow’s state dictionary under the key `'style'` of the `ApproachState` object.\n",
    "\n",
    "This makes it possible for the next stages of the pipeline to adapt to how a person likes to work, not just what needs to be done. By learning from past behavior, the system builds a soft behavioral fingerprint that guides decision-making in later planning.\n",
    "\n",
    "\n",
    "#### External knowledge retrieval system\n",
    "The second phase of our intelligent task planning pipeline focuses on information gathering. No matter how clear our workflow style is, it's nearly impossible to plan effectively without context on what the task entails.\n",
    "\n",
    "This component taps into the Tavily web search API, which provides intelligent, curated web search results for a given query. We use it to retrieve task-relevant steps, best practices, and background knowledge — helping the AI generate practical and grounded plans.\n",
    "\n",
    "The function builds a tailored search query from the user’s task, submits it to Tavily, and then aggregates the responses into a textual knowledge base. This context is stored in the task state and passed forward to inform the final planning stage."
   ]
  },
  {
   "cell_type": "code",
   "execution_count": 5,
   "metadata": {
    "id": "JuX8tgioKdxq"
   },
   "outputs": [],
   "source": [
    "# Function 2: Task knowledge retrieval - Retrieve comprehensive information about the task using intelligent web search\n",
    "def task_manifest(approach: ApproachState) -> ApproachState:\n",
    "    \"\"\"use Tavily to look up information on the task.\"\"\"\n",
    "\n",
    "    # Construct a search query to retrieve best practices or standard procedures for task-specific information\n",
    "    search_foundation = \"What are the steps for the following task? {task}\"\n",
    "    search_query = search_foundation.format(task=approach[\"task\"])\n",
    "\n",
    "    # Query Tavily search engine with the constructed query\n",
    "    searches = tavily_client.search(search_query, max_results=10)\n",
    "\n",
    "    details = \"\"\n",
    "    # Iterate over results to build a composite knowledge string\n",
    "    for result in searches['results']:\n",
    "        if details == \"\":\n",
    "            details = result['content']\n",
    "        else:\n",
    "            details = f\"{details} {result['content']}\"  # Concatenate retrieved content\n",
    "\n",
    "    # Store the retrieved knowledge back in the task state\n",
    "    approach[\"details\"] = details\n",
    "\n",
    "    return approach"
   ]
  },
  {
   "cell_type": "markdown",
   "metadata": {
    "id": "f3yUhDg1KeZL"
   },
   "source": [
    "From a systems perspective, this function performs dynamic query generation and unstructured data aggregation:\n",
    "- It creates a natural-language question tailored to the user’s input — something like “What are the steps for building a smoke detector?”\n",
    "- This query is submitted to the Tavily client, which returns up to 10 highly relevant search results (each result being a snippet of content).\n",
    "- These snippets are concatenated into a single document, forming a basic retrieved context window.\n",
    "- The compiled content is stored in the shared task state under the \"details\" key, and used later to guide the LLM in generating a concrete plan.\n",
    "\n",
    "This ensures that the agent is not working in a vacuum. Instead, it has immediate access to publicly available knowledge that is specific to the task, helping it bridge the gap between personalized workflows and real-world feasibility.\n",
    "\n",
    "#### Personalized plan generation\n",
    "This final component is where all our upstream efforts come together. Having understood the user's preferred working style and retrieved task-specific domain knowledge, we now synthesize these insights into a custom execution plan.\n",
    "\n",
    "The idea is simple but powerful: tailor a step-by-step workflow that not only logically solves the task at hand, but also aligns with how the user tends to approach work. This improves engagement, reduces friction, and promotes productivity — especially for tasks that are complex or unfamiliar.\n",
    "\n",
    "To do this, we construct a prompt that feeds the LLM all relevant context (task definition, retrieved knowledge, and work style insights), and ask it to produce an annotated sequence of steps. Each step is explained and explicitly shaped around the user's behavior."
   ]
  },
  {
   "cell_type": "code",
   "execution_count": 6,
   "metadata": {
    "id": "RnY8omtc6AO3"
   },
   "outputs": [],
   "source": [
    "# Function 3: Customized approach generation - generate personalized task execution plan by combining user work style\n",
    "def result_approach(approach: ApproachState) -> ApproachState:\n",
    "    # Create comprehensive prompt that integrates all gathered insights\n",
    "    prompt = ChatPromptTemplate.from_template(\n",
    "        \"Give me a plan of steps to carry out the following task with custom work styles specified.\"\n",
    "        \"You have to pay extra attention to Work Style mentioned below and adjust the plan accordingly.\"\n",
    "        \"\\n\\nTask: {task}\\n\\nDetails: {details}\\n\\nWork Style: {style}\\n\\n\"\n",
    "        \"The output must be a numbered list of steps with explanation of why it is needed, what to do and how it considers the Work Style.\"\n",
    "    )\n",
    "\n",
    "    # Generate personalized plan using integrated prompt\n",
    "    suggestion = llm.invoke(prompt.format(task=approach[\"task\"], details=approach[\"details\"], style=approach[\"style\"]))\n",
    "\n",
    "    # Store the output plan back in the agent state\n",
    "    approach['plan'] = suggestion\n",
    "\n",
    "    return approach"
   ]
  },
  {
   "cell_type": "markdown",
   "metadata": {
    "id": "OMTWJeHt6AB7"
   },
   "source": [
    "At this point, the function acts as the planning layer of the pipeline:\n",
    "- It uses a structured prompt template to combine all prior knowledge: the user’s natural work tendencies, detailed information about the task, and the task's original intent.\n",
    "- The prompt explicitly asks the LLM to pay attention to the work style and explain why each suggested step matters — not just what to do.\n",
    "- This helps ensure the output feels human-aligned, not robotic — more like advice from a productivity coach than a rigid checklist.\n",
    "- The output (a rich, numbered plan with contextual reasoning) is written into the shared agent state under the `\"plan\"` key.\n",
    "\n",
    "This component is the heart of the system — turning introspection and research into real, actionable structure. The result is a task plan that’s both smart and deeply personalized.\n",
    "\n",
    "### Graph workflow building\n",
    "Now we construct the state graph that orchestrates our three-stage pipeline, defining the flow of information and ensuring proper sequencing of analysis components."
   ]
  },
  {
   "cell_type": "code",
   "execution_count": 7,
   "metadata": {
    "id": "p0nE5WwM5_za"
   },
   "outputs": [],
   "source": [
    "# Initialize the StateGraph\n",
    "workflow = StateGraph(ApproachState)\n",
    "\n",
    "# Add nodes to the graph\n",
    "workflow.add_node(\"approach_analysis\", approach_analysis)\n",
    "workflow.add_node(\"task_knowledge_retrieval\", task_manifest)\n",
    "workflow.add_node(\"customized_approach_generation\", result_approach)\n",
    "\n",
    "# Define and add conditional edges\n",
    "workflow.add_edge(\"approach_analysis\", \"task_knowledge_retrieval\")\n",
    "workflow.add_edge(\"task_knowledge_retrieval\", \"customized_approach_generation\")\n",
    "\n",
    "# Set the entry point\n",
    "workflow.set_entry_point(\"approach_analysis\")\n",
    "\n",
    "# Set the exit point\n",
    "workflow.add_edge(\"customized_approach_generation\", END)\n",
    "\n",
    "# Compile the graph\n",
    "app = workflow.compile()"
   ]
  },
  {
   "cell_type": "markdown",
   "metadata": {
    "id": "NOi00xaw6169"
   },
   "source": [
    "This graph structure ensures proper data flow and maintains state consistency throughout the processing pipeline. Each node transforms the state in specific ways, building toward the final personalized recommendation through a logical sequence of analysis and synthesis steps.\n",
    "\n",
    "#### Workflow visualization\n",
    "Understanding complex workflows becomes easier with visual representation. Let's generate a diagram that illustrates our processing pipeline."
   ]
  },
  {
   "cell_type": "code",
   "execution_count": 8,
   "metadata": {
    "id": "4Ssmtvuw65D4"
   },
   "outputs": [
    {
     "data": {
      "image/png": "[encoded data removed]",
      "text/plain": [
       "<IPython.core.display.Image object>"
      ]
     },
     "metadata": {},
     "output_type": "display_data"
    }
   ],
   "source": [
    "# Generate and display workflow diagram\n",
    "display(\n",
    "    Image(\n",
    "        app.get_graph().draw_mermaid_png(\n",
    "            draw_method=MermaidDrawMethod.API,\n",
    "        )\n",
    "    )\n",
    ")"
   ]
  },
  {
   "cell_type": "markdown",
   "metadata": {
    "id": "sIKVEwQy5_mO"
   },
   "source": [
    "This visualization creates a clear representation of how information flows through our system, making it easier to understand the relationships between different processing stages and identify potential optimization opportunities.\n",
    "\n",
    "### Agent calling function\n",
    "We create a clean interface that abstracts the complexity of our workflow system and provides a simple entry point for users to generate personalized task plans."
   ]
  },
  {
   "cell_type": "code",
   "execution_count": 9,
   "metadata": {
    "id": "wKBrM2DD5_Yt"
   },
   "outputs": [],
   "source": [
    "# Main interface function that orchestrates the complete workflow - takes a task description and returns a comprehensive personalized plan\n",
    "def approach(task: str) -> ApproachState:\n",
    "    # Initialize empty state structure\n",
    "    init_approach = ApproachState(\n",
    "        task=task,\n",
    "        plan=\"\",\n",
    "        style=\"\",\n",
    "        history=\"\",\n",
    "        details=\"\"\n",
    "    )\n",
    "\n",
    "    # Execute the complete workflow pipeline\n",
    "    response = app.invoke(init_approach)\n",
    "    return response"
   ]
  },
  {
   "cell_type": "markdown",
   "metadata": {
    "id": "sjZXf6IV5_F-"
   },
   "source": [
    "This interface function encapsulates the entire workflow of our multi-stage analysis system into a single, intuitive function call. Users can simply provide their task description and receive a comprehensive, personalized execution plan without needing to understand the underlying workflow mechanics.\n",
    "\n",
    "### Example\n",
    "Let's demonstrate our system with a real-world example that showcases how the agent transforms a broad project vision into a structured, actionable plan. This is an example where the user hopes to build a smoke detector that is futuristic in design and accessible for installation."
   ]
  },
  {
   "cell_type": "code",
   "execution_count": 10,
   "metadata": {
    "id": "nVqN0HwL6xKA"
   },
   "outputs": [
    {
     "name": "stdout",
     "output_type": "stream",
     "text": [
      "Task:\n",
      "\n",
      "\n",
      "    I want to build a smoke detector device! I am visioning it with futuristic design and hope to maximize the ability to install it anywhere. Perhaps keep it small and energy efficient for that purpose!\n",
      "    \n",
      "\n",
      "Style:\n",
      "\n",
      "content='The work style presented in the summary indicates a pragmatic and action-oriented approach, coupled with a preference for straightforward tasks over complex ones. The individual exhibits a tendency to prioritize efficiency in job applications by avoiding lengthy responses, suggesting a preference for simplicity and a direct approach to tasks. Their strategy for solving problem sets highlights a methodical pattern: starting with easier problems to build confidence and familiarity before tackling more complex challenges. \\n\\nAdditionally, the proactive decision to address regulatory challenges with the FDA and EMA at the outset of a medical IT venture indicates a forward-thinking mindset, focusing on preventing long-term obstacles rather than just immediate tasks. \\n\\nOverall, the work style can be summarized as pragmatic, efficiency-driven, and strategically proactive, with a clear preference for structured and manageable tasks while seeking to mitigate future challenges early on.' additional_kwargs={'refusal': None} response_metadata={'token_usage': {'completion_tokens': 159, 'prompt_tokens': 211, 'total_tokens': 370, 'completion_tokens_details': {'accepted_prediction_tokens': 0, 'audio_tokens': 0, 'reasoning_tokens': 0, 'rejected_prediction_tokens': 0}, 'prompt_tokens_details': {'audio_tokens': 0, 'cached_tokens': 0}}, 'model_name': 'gpt-4o-mini-2024-07-18', 'system_fingerprint': 'fp_34a54ae93c', 'id': 'chatcmpl-Bn6poFSx1VVqJvyGWa9BLttMdlYgH', 'service_tier': 'default', 'finish_reason': 'stop', 'logprobs': None} id='run--45319639-4c8d-4b59-8e7c-5f008d2e40d5-0' usage_metadata={'input_tokens': 211, 'output_tokens': 159, 'total_tokens': 370, 'input_token_details': {'audio': 0, 'cache_read': 0}, 'output_token_details': {'audio': 0, 'reasoning': 0}}\n",
      "\n",
      "Steps:\n",
      "\n",
      "==================================\u001b[1m Ai Message \u001b[0m==================================\n",
      "\n",
      "Here's a pragmatic and structured plan to build your futuristic smoke detector device, tailored to your action-oriented work style. Each step is concise, focused on efficiency, and aims to mitigate future challenges.\n",
      "\n",
      "### Step 1: Define Requirements\n",
      "**Why Needed**: To pinpoint the essential features and specifications of the smoke detector.\n",
      "**What to Do**: Gather requirements such as smoke detection method, alarm type, energy efficiency, and design parameters.\n",
      "**How It Aligns with Work Style**: Establishing clear goals avoids unnecessary complications later and adheres to your preference for straightforward tasks.\n",
      "\n",
      "### Step 2: Research Components\n",
      "**Why Needed**: To ensure the most efficient and effective parts are selected for your project.\n",
      "**What to Do**: Identify and list required components such as the STM32C8T6 microcontroller, MQ-2 sensor, LED lights, buzzer, and power management systems.\n",
      "**How It Aligns with Work Style**: By focusing on widely available and proven components, it simplifies procurement and minimizes technical risks.\n",
      "\n",
      "### Step 3: Create Schematic Diagram\n",
      "**Why Needed**: To visualize the connections and functionality of the device.\n",
      "**What to Do**: Use software like Fritzing to develop a schematic that links the microcontroller to the sensors and alarm systems.\n",
      "**How It Aligns with Work Style**: A visual layout provides clarity for assembly, keeps tasks manageable, and prevents complexity.\n",
      "\n",
      "### Step 4: Develop Firmware\n",
      "**Why Needed**: This is the operational software that governs how the detector will function.\n",
      "**What to Do**: Write code for the microcontroller to read signals from the smoke sensors and trigger alarms. Use libraries for efficiency.\n",
      "**How It Aligns with Work Style**: Since this step involves defining systematic functions, it allows you to tackle simpler coding tasks progressively, building confidence as you go.\n",
      "\n",
      "### Step 5: Assemble Prototype\n",
      "**Why Needed**: To bring together hardware and software in a practical form.\n",
      "**What to Do**: Follow your schematic to physically construct the smoke detector, ensuring all connections are secure.\n",
      "**How It Aligns with Work Style**: Hands-on assembly is a straightforward task that allows for immediate troubleshooting and verification.\n",
      "\n",
      "### Step 6: Testing and Iteration\n",
      "**Why Needed**: To ensure the smoke detector operates as intended and meets safety standards.\n",
      "**What to Do**: Run tests to detect smoke and check the response of LEDs and buzzer. Record results and make necessary adjustments.\n",
      "**How It Aligns with Work Style**: This organized testing ensures that any issues can be resolved immediately, preventing long-term complications.\n",
      "\n",
      "### Step 7: Design for Installability\n",
      "**Why Needed**: To meet your goal of maximizing installation versatility.\n",
      "**What to Do**: Consider size, weight, and mounting options; perhaps design a bracket or magnetic base for easy installation.\n",
      "**How It Aligns with Work Style**: Keeping the design considerations practical and straightforward ensures that the final product can be installed by anyone.\n",
      "\n",
      "### Step 8: Documentation\n",
      "**Why Needed**: To provide clear instructions and illustrate the functionality and installation process.\n",
      "**What to Do**: Create user manuals, assembly instructions, and technical specifications that can guide end-users.\n",
      "**How It Aligns with Work Style**: This step reinforces clarity and simplicity, aiding in future troubleshooting and minimizing support requests.\n",
      "\n",
      "### Step 9: Plan for Future Enhancements\n",
      "**Why Needed**: To ensure the device remains relevant and adaptable as technology advances.\n",
      "**What to Do**: Consider incorporating features such as wireless connectivity or mobile alerts for the next iteration.\n",
      "**How It Aligns with Work Style**: A proactive approach to development mitigates future challenges and demonstrates strategic foresight.\n",
      "\n",
      "### Step 10: Gather Feedback\n",
      "**Why Needed**: To assess the effectiveness and marketability of your smoke detector.\n",
      "**What to Do**: Share prototypes with potential users to gather opinions and suggestions.\n",
      "**How It Aligns with Work Style**: This feedback loop is essential for continuous improvement and aligns with pragmatic decision-making.\n",
      "\n",
      "By following this structured, efficient, and practical plan, you'll ensure the successful development of your futuristic smoke detector while addressing potential challenges upfront.\n"
     ]
    }
   ],
   "source": [
    "# Define a task that requires both technical and design considerations\n",
    "query = \"\"\"\n",
    "    I want to build a smoke detector device! I am visioning it with futuristic design and hope to maximize the ability to install it anywhere. Perhaps keep it small and energy efficient for that purpose!\n",
    "    \"\"\"\n",
    "\n",
    "# Execute the workflow and generate personalized recommendations\n",
    "## Some history is being fed into the Agent. It helps the agent understand users' approach preferences\n",
    "generated_plan = approach(task=query)\n",
    "\n",
    "# Display results\n",
    "print(f\"Task:\\n\")\n",
    "print(f\"{generated_plan['task']}\\n\")\n",
    "print(f\"Style:\\n\")\n",
    "print(f\"{generated_plan['style']}\\n\")\n",
    "print(f\"Steps:\\n\")\n",
    "generated_plan['plan'].pretty_print()"
   ]
  },
  {
   "cell_type": "markdown",
   "metadata": {
    "id": "hnkPXhM3RfWw"
   },
   "source": [
    "This example demonstrates how our system handles complex, multi-dimensional tasks that involve technical implementation, design considerations, and practical constraints. The generated plan will reflect not only best practices in hardware development but also the user's specific preferences for approaching such projects."
   ]
  }
 ],
 "metadata": {
  "colab": {
   "provenance": []
  },
  "kernelspec": {
   "display_name": "Python (langgraph-env)",
   "language": "python",
   "name": "langgraph-env"
  },
  "language_info": {
   "codemirror_mode": {
    "name": "ipython",
    "version": 3
   },
   "file_extension": ".py",
   "mimetype": "text/x-python",
   "name": "python",
   "nbconvert_exporter": "python",
   "pygments_lexer": "ipython3",
   "version": "3.9.23"
  }
 },
 "nbformat": 4,
 "nbformat_minor": 4
}
