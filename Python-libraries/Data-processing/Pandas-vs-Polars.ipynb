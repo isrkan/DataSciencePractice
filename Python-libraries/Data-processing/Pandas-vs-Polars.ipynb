{
  "nbformat": 4,
  "nbformat_minor": 0,
  "metadata": {
    "colab": {
      "provenance": []
    },
    "kernelspec": {
      "name": "python3",
      "display_name": "Python 3"
    },
    "language_info": {
      "name": "python"
    }
  },
  "cells": [
    {
      "cell_type": "markdown",
      "source": [
        "# Pandas vs Polars: A comparison\n",
        "\n",
        "This notebook provides a practical comparison between **pandas** and **polars** - two powerful libraries for data processing in Python. We will examine how they differ in design, performance, and usability through side-by-side code examples and benchmarks.\n",
        "\n",
        "**Pandas** is the de facto standard for data manipulation and analysis in Python. It provides high-level data structures (DataFrame and Series) and data analysis tools built on top of NumPy.\n",
        "\n",
        "**Polars** is a relatively new, blazingly fast DataFrame library implemented in Rust with Python bindings. It is designed from the ground up for performance, with features like lazy evaluation, automatic parallelization, and efficient memory usage.\n",
        "\n",
        "As data volumes continue to grow, performance becomes increasingly critical. While pandas remains the most popular choice, polars offers compelling advantages in speed and memory efficiency. This comparison exmine about which tool to use for different scenarios.\n",
        "\n",
        "**Pandas design philosophy:**\n",
        "- Ease of use and intuitive API\n",
        "- Comprehensive functionality\n",
        "- Strong ecosystem integration\n",
        "- Eager evaluation by default\n",
        "- Single-threaded execution\n",
        "\n",
        "**Polars design philosophy:**\n",
        "- Performance-first approach\n",
        "- Memory efficiency\n",
        "- Lazy evaluation capabilities\n",
        "- Automatic parallelization\n",
        "- Type safety and null handling\n",
        "- Rust-powered backend for speed"
      ],
      "metadata": {
        "id": "8vwTvyG_a_22"
      }
    },
    {
      "cell_type": "code",
      "execution_count": null,
      "metadata": {
        "id": "PplgB40Ga-zw"
      },
      "outputs": [],
      "source": [
        "import pandas as pd\n",
        "import polars as pl\n",
        "import numpy as np\n",
        "import time\n",
        "import matplotlib.pyplot as plt\n",
        "import seaborn as sns\n",
        "from memory_profiler import profile\n",
        "\n",
        "import warnings\n",
        "warnings.filterwarnings('ignore')"
      ]
    },
    {
      "cell_type": "markdown",
      "source": [
        "#### Configuring display options\n",
        "Before diving into data manipulation and benchmarks, it is helpful to configure how data frames are displayed in the notebook. This ensures outputs are easy to read and not truncated, especially when working with wide datasets."
      ],
      "metadata": {
        "id": "hMl_zb3SnU2D"
      }
    },
    {
      "cell_type": "code",
      "source": [
        "# Set display options\n",
        "\n",
        "# Pandas display configuration\n",
        "pd.set_option('display.max_columns', None)  # Show all columns in the DataFrame output\n",
        "pd.set_option('display.width', None)\n",
        "\n",
        "# Polars display configuration\n",
        "pl.Config.set_tbl_rows(10)  # Limit the number of printed rows in Polars tables\n",
        "\n",
        "print(f\"Pandas version: {pd.__version__}\")\n",
        "print(f\"Polars version: {pl.__version__}\")"
      ],
      "metadata": {
        "colab": {
          "base_uri": "https://localhost:8080/"
        },
        "id": "oLcgfHJgcSTo",
        "outputId": "2bcd9bd1-e3f3-40e4-f5ac-df581c3ead01"
      },
      "execution_count": null,
      "outputs": [
        {
          "output_type": "stream",
          "name": "stdout",
          "text": [
            "Pandas version: 2.2.2\n",
            "Polars version: 1.21.0\n"
          ]
        }
      ]
    },
    {
      "cell_type": "markdown",
      "source": [
        "- For Pandas, we adjust the output display to ensure that all columns are shown and line wrapping doesn’t cut off wide tables.\n",
        "- For Polars, we set the number of rows shown in the table output. Polars has a built-in configuration interface (`pl.Config`) that controls display and other global behaviors.\n",
        "\n",
        "### Generating a sample dataset\n",
        "In the following code block, we generate a dataset with 100,000 rows, several data types, and intentional missing values, then export it to a CSV file. This CSV file will be used by both Pandas and Polars in the next sections for loading, filtering, aggregating, and more."
      ],
      "metadata": {
        "id": "sU3D9fLjpLl0"
      }
    },
    {
      "cell_type": "code",
      "source": [
        "# Create sample dataset for demonstration\n",
        "np.random.seed(42)\n",
        "n_rows = 100000\n",
        "\n",
        "# Generate sample data\n",
        "data = {\n",
        "    'id': range(n_rows),  # Unique integer IDs\n",
        "    'name': [f'Person_{i}' for i in range(n_rows)],  # Simulated names\n",
        "    'age': np.random.randint(18, 80, n_rows),  # Random ages between 18 and 79\n",
        "    'salary': np.random.normal(50000, 15000, n_rows),  # Normally distributed salaries\n",
        "    'department': np.random.choice(['Engineering', 'Sales', 'Marketing', 'HR', 'Finance'], n_rows),  # Random departments\n",
        "    'join_date': pd.date_range('2020-01-01', periods=n_rows, freq='H'),  # Hourly timestamps\n",
        "    'performance_score': np.random.uniform(1, 5, n_rows),  # Continuous scores between 1.0 and 5.0\n",
        "    'is_remote': np.random.choice([True, False], n_rows)  # Boolean flag\n",
        "}\n",
        "\n",
        "# Add some missing values\n",
        "missing_indices = np.random.choice(n_rows, size=int(n_rows * 0.05), replace=False)  # 5% missing\n",
        "data['salary'] = np.array(data['salary'])  # Ensure mutable NumPy array\n",
        "data['salary'][missing_indices] = np.nan  # Inject NaNs\n",
        "\n",
        "# Save to CSV for loading demonstration\n",
        "temp_df = pd.DataFrame(data)\n",
        "temp_df.to_csv('sample_data.csv', index=False)\n",
        "print(f\"Sample dataset created with {n_rows:,} rows\")"
      ],
      "metadata": {
        "colab": {
          "base_uri": "https://localhost:8080/"
        },
        "id": "2qpP1A-Cco1p",
        "outputId": "61371532-8e7c-4b87-80d1-8d80fb885520"
      },
      "execution_count": null,
      "outputs": [
        {
          "output_type": "stream",
          "name": "stdout",
          "text": [
            "Sample dataset created with 100,000 rows\n"
          ]
        }
      ]
    },
    {
      "cell_type": "markdown",
      "source": [
        "Roughly 5% of the `salary` values are intentionally replaced with `NaN` values. This will allow us to evaluate how each library handles missing data during computation and aggregation.\n",
        "\n",
        "## 1. Basic operations comparison\n",
        "\n",
        "### 1.1 Reading data\n",
        "We begin our side-by-side comparison with one of the most common and fundamental tasks in any data workflow: reading data from a CSV file. We will read the same CSV file using Pandas and Polars, time how long each library takes, and compare the results."
      ],
      "metadata": {
        "id": "oZbipXsZc6g9"
      }
    },
    {
      "cell_type": "code",
      "source": [
        "# Reading CSV files\n",
        "print(\"=== Reading CSV Files ===\")\n",
        "\n",
        "# Pandas\n",
        "start_time = time.time()\n",
        "df_pandas = pd.read_csv('sample_data.csv')\n",
        "pandas_read_time = time.time() - start_time\n",
        "\n",
        "# Polars\n",
        "start_time = time.time()\n",
        "df_polars = pl.read_csv('sample_data.csv')\n",
        "polars_read_time = time.time() - start_time\n",
        "\n",
        "print(f\"Pandas read time: {pandas_read_time:.4f} seconds\")\n",
        "print(f\"Polars read time: {polars_read_time:.4f} seconds\")\n",
        "print(f\"Polars is {pandas_read_time/polars_read_time:.2f}x faster at reading CSV\")"
      ],
      "metadata": {
        "colab": {
          "base_uri": "https://localhost:8080/"
        },
        "id": "K0NkyqsmdF9c",
        "outputId": "4e405eb9-c618-4f5a-a864-8251e87f8e48"
      },
      "execution_count": null,
      "outputs": [
        {
          "output_type": "stream",
          "name": "stdout",
          "text": [
            "=== Reading CSV Files ===\n",
            "Pandas read time: 0.4266 seconds\n",
            "Polars read time: 0.1663 seconds\n",
            "Polars is 2.57x faster at reading CSV\n"
          ]
        }
      ]
    },
    {
      "cell_type": "markdown",
      "source": [
        "The `time` module is used to measure how long it takes each library to load the same dataset.\n",
        "- `pd.read_csv()` performs eager reading, loading the entire CSV into memory in a single thread. It is well-optimized, but may become slower with very large files due to Python’s I/O and memory limitations.\n",
        "- `pl.read_csv()` also reads eagerly by default but is implemented in Rust and uses parallelism by default, making it significantly faster for large files. It supports streaming and chunked reading under the hood, contributing to its speed and lower memory footprint.\n",
        "\n",
        "### 1.2 Basic data exploration\n",
        "Once the data is loaded, the next step in any workflow is to explore the structure and characteristics of the dataset. This helps us understand its size, schema, memory usage, and how the data types are interpreted by each library."
      ],
      "metadata": {
        "id": "NS1FkCfAD8Ln"
      }
    },
    {
      "cell_type": "code",
      "source": [
        "print(\"=== Data Exploration ===\")\n",
        "\n",
        "# Shape comparison\n",
        "print(f\"Pandas shape: {df_pandas.shape}\")\n",
        "print(f\"Polars shape: {df_polars.shape}\")\n",
        "\n",
        "print(\"\\n--- Pandas Info ---\")\n",
        "print(df_pandas.dtypes)\n",
        "print(f\"Memory usage: {df_pandas.memory_usage(deep=True).sum() / 1024**2:.2f} MB\")\n",
        "\n",
        "print(\"\\n--- Polars Info ---\")\n",
        "print(df_polars.dtypes)\n",
        "print(f\"Estimated memory usage: {df_polars.estimated_size('mb'):.2f} MB\")"
      ],
      "metadata": {
        "colab": {
          "base_uri": "https://localhost:8080/"
        },
        "id": "6KzwsQo8dk_6",
        "outputId": "e442892e-0914-4863-c530-c976395dcd68"
      },
      "execution_count": null,
      "outputs": [
        {
          "output_type": "stream",
          "name": "stdout",
          "text": [
            "=== Data Exploration ===\n",
            "Pandas shape: (100000, 8)\n",
            "Polars shape: (100000, 8)\n",
            "\n",
            "--- Pandas Info ---\n",
            "id                     int64\n",
            "name                  object\n",
            "age                    int64\n",
            "salary               float64\n",
            "department            object\n",
            "join_date             object\n",
            "performance_score    float64\n",
            "is_remote               bool\n",
            "dtype: object\n",
            "Memory usage: 23.05 MB\n",
            "\n",
            "--- Polars Info ---\n",
            "[Int64, String, Int64, Float64, String, String, Float64, Boolean]\n",
            "Estimated memory usage: 6.67 MB\n"
          ]
        }
      ]
    },
    {
      "cell_type": "markdown",
      "source": [
        "Both Pandas and Polars support `.shape` to return a tuple with the number of rows and columns. Polars enforces stricter typing, which helps with optimization and memory efficiency. This comparison highlights one of Polars’ key advantages: lower memory consumption, especially for large or string-heavy datasets.\n",
        "\n",
        "#### Previewing the data\n",
        "Here, we display the first few rows of the dataset using both Pandas and Polars to compare output formats and ease of previewing."
      ],
      "metadata": {
        "id": "XYvwbQOkGF91"
      }
    },
    {
      "cell_type": "code",
      "source": [
        "# Head and tail operations\n",
        "print(\"=== Head/Tail Operations ===\")\n",
        "\n",
        "print(\"--- Pandas Head ---\")\n",
        "print(df_pandas.head())\n",
        "\n",
        "print(\"\\n--- Polars Head ---\")\n",
        "print(df_polars.head())"
      ],
      "metadata": {
        "colab": {
          "base_uri": "https://localhost:8080/"
        },
        "id": "x4tk07RTdmRp",
        "outputId": "2e7c4fe7-2222-4b8e-ed9c-abf4c2e12c09"
      },
      "execution_count": null,
      "outputs": [
        {
          "output_type": "stream",
          "name": "stdout",
          "text": [
            "=== Head/Tail Operations ===\n",
            "--- Pandas Head ---\n",
            "   id      name  age        salary   department            join_date  \\\n",
            "0   0  Person_0   56  26717.935854  Engineering  2020-01-01 00:00:00   \n",
            "1   1  Person_1   69  45119.920495    Marketing  2020-01-01 01:00:00   \n",
            "2   2  Person_2   46  53093.519523  Engineering  2020-01-01 02:00:00   \n",
            "3   3  Person_3   32  70781.669290  Engineering  2020-01-01 03:00:00   \n",
            "4   4  Person_4   60  47784.444156        Sales  2020-01-01 04:00:00   \n",
            "\n",
            "   performance_score  is_remote  \n",
            "0           1.933542      False  \n",
            "1           4.203622       True  \n",
            "2           2.916424       True  \n",
            "3           1.779217      False  \n",
            "4           2.062532      False  \n",
            "\n",
            "--- Polars Head ---\n",
            "shape: (5, 8)\n",
            "┌─────┬──────────┬─────┬──────────────┬─────────────┬────────────┬─────────────────────┬───────────┐\n",
            "│ id  ┆ name     ┆ age ┆ salary       ┆ department  ┆ join_date  ┆ performance_score   ┆ is_remote │\n",
            "│ --- ┆ ---      ┆ --- ┆ ---          ┆ ---         ┆ ---        ┆ ---                 ┆ ---       │\n",
            "│ i64 ┆ str      ┆ i64 ┆ f64          ┆ str         ┆ str        ┆ f64                 ┆ bool      │\n",
            "╞═════╪══════════╪═════╪══════════════╪═════════════╪════════════╪═════════════════════╪═══════════╡\n",
            "│ 0   ┆ Person_0 ┆ 56  ┆ 26717.935854 ┆ Engineering ┆ 2020-01-01 ┆ 1.933542            ┆ false     │\n",
            "│     ┆          ┆     ┆              ┆             ┆ 00:00:00   ┆                     ┆           │\n",
            "│ 1   ┆ Person_1 ┆ 69  ┆ 45119.920495 ┆ Marketing   ┆ 2020-01-01 ┆ 4.203622            ┆ true      │\n",
            "│     ┆          ┆     ┆              ┆             ┆ 01:00:00   ┆                     ┆           │\n",
            "│ 2   ┆ Person_2 ┆ 46  ┆ 53093.519523 ┆ Engineering ┆ 2020-01-01 ┆ 2.916424            ┆ true      │\n",
            "│     ┆          ┆     ┆              ┆             ┆ 02:00:00   ┆                     ┆           │\n",
            "│ 3   ┆ Person_3 ┆ 32  ┆ 70781.66929  ┆ Engineering ┆ 2020-01-01 ┆ 1.779217            ┆ false     │\n",
            "│     ┆          ┆     ┆              ┆             ┆ 03:00:00   ┆                     ┆           │\n",
            "│ 4   ┆ Person_4 ┆ 60  ┆ 47784.444156 ┆ Sales       ┆ 2020-01-01 ┆ 2.062532            ┆ false     │\n",
            "│     ┆          ┆     ┆              ┆             ┆ 04:00:00   ┆                     ┆           │\n",
            "└─────┴──────────┴─────┴──────────────┴─────────────┴────────────┴─────────────────────┴───────────┘\n"
          ]
        }
      ]
    },
    {
      "cell_type": "markdown",
      "source": [
        "While both libraries offer similar interfaces, Polars’ output can be more compact or neatly formatted, especially in environments like Jupyter.\n",
        "\n",
        "### 1.3 Column operations\n",
        "Column-wise operations form the backbone of most data processing pipelines. Whether we are extracting features, creating derived columns, or reshaping the dataset, these tasks should be efficient, expressive, and intuitive."
      ],
      "metadata": {
        "id": "tfxYKp0nd0Mm"
      }
    },
    {
      "cell_type": "code",
      "source": [
        "print(\"=== Column Operations ===\")\n",
        "\n",
        "# Column selection\n",
        "print(\"--- Column Selection ---\")\n",
        "\n",
        "# Pandas\n",
        "pandas_cols = df_pandas[['name', 'age', 'salary']]\n",
        "print(\"Pandas selected columns:\", pandas_cols.columns.tolist())\n",
        "\n",
        "# Polars\n",
        "polars_cols = df_polars.select(['name', 'age', 'salary'])\n",
        "print(\"Polars selected columns:\", polars_cols.columns)\n",
        "\n",
        "# Adding new columns\n",
        "print(\"\\n--- Adding New Columns ---\")\n",
        "\n",
        "# Pandas: add an age group column using pd.cut (binning continuous data into categories)\n",
        "df_pandas_copy = df_pandas.copy()\n",
        "df_pandas_copy['age_group'] = pd.cut(df_pandas_copy['age'],\n",
        "                                   bins=[0, 30, 50, 100],\n",
        "                                   labels=['Young', 'Middle', 'Senior'])\n",
        "\n",
        "# Polars: use with_columns + conditional logic with .when().then().otherwise()\n",
        "df_polars_copy = df_polars.with_columns([\n",
        "    pl.when(pl.col('age') <= 30).then(pl.lit('Young'))\n",
        "    .when(pl.col('age') <= 50).then(pl.lit('Middle'))\n",
        "    .otherwise(pl.lit('Senior'))\n",
        "    .alias('age_group')\n",
        "])\n",
        "\n",
        "print(\"New column added successfully to both DataFrames\")\n",
        "\n",
        "# Renaming columns\n",
        "print(\"\\n--- Renaming Columns ---\")\n",
        "\n",
        "# Pandas\n",
        "df_pandas_renamed = df_pandas.rename(columns={'performance_score': 'perf_score'})\n",
        "print(\"Pandas renamed columns:\", df_pandas_renamed.columns.tolist()[:5])\n",
        "\n",
        "# Polars\n",
        "df_polars_renamed = df_polars.rename({'performance_score': 'perf_score'})\n",
        "print(\"Polars renamed columns:\", df_polars_renamed.columns[:5])"
      ],
      "metadata": {
        "colab": {
          "base_uri": "https://localhost:8080/"
        },
        "id": "FdR7SR7vdvnm",
        "outputId": "19f07771-371b-477e-9824-a865adaa3395"
      },
      "execution_count": null,
      "outputs": [
        {
          "output_type": "stream",
          "name": "stdout",
          "text": [
            "=== Column Operations ===\n",
            "--- Column Selection ---\n",
            "Pandas selected columns: ['name', 'age', 'salary']\n",
            "Polars selected columns: ['name', 'age', 'salary']\n",
            "\n",
            "--- Adding New Columns ---\n",
            "New column added successfully to both DataFrames\n",
            "\n",
            "--- Renaming Columns ---\n",
            "Pandas renamed columns: ['id', 'name', 'age', 'salary', 'department']\n",
            "Polars renamed columns: ['id', 'name', 'age', 'salary', 'department']\n"
          ]
        }
      ]
    },
    {
      "cell_type": "markdown",
      "source": [
        "1. Column selection:\n",
        "  * In Pandas, selecting columns is done via bracket notation (`df[['col1', 'col2']]`).\n",
        "  * Polars uses `.select()`, which is more expressive in pipelines and supports expressions directly (e.g., transformations on selection).\n",
        "2. Adding columns:\n",
        "   * Pandas uses `pd.cut()` for binning, a high-level utility for categorizing continuous values into intervals.\n",
        "   * Polars uses `with_columns()` and conditional expressions like `.when().then().otherwise()`, which compile down to fast native code and support chaining.\n",
        "   * Importantly, Polars avoids modifying the original DataFrame, staying true to its immutable, expression-driven model.\n",
        "\n",
        "Polars operations are typically more functional and declarative, whereas Pandas favors an imperative, Pythonic style. The former is better suited to optimization and parallelization in large workflows.\n",
        "\n",
        "### 1.4 Filtering operations\n",
        "Now, we will compare how Pandas and Polars handle both simple and compound filtering conditions."
      ],
      "metadata": {
        "id": "Kty-1I68eGWo"
      }
    },
    {
      "cell_type": "code",
      "source": [
        "print(\"=== Filtering Operations ===\")\n",
        "\n",
        "# Simple filtering\n",
        "print(\"--- Simple Filtering ---\")\n",
        "\n",
        "# Pandas\n",
        "pandas_filtered = df_pandas[df_pandas['age'] > 30]\n",
        "print(f\"Pandas filtered rows: {len(pandas_filtered):,}\")\n",
        "\n",
        "# Polars\n",
        "polars_filtered = df_polars.filter(pl.col('age') > 30)\n",
        "print(f\"Polars filtered rows: {len(polars_filtered):,}\")\n",
        "\n",
        "# Complex filtering\n",
        "print(\"\\n--- Complex Filtering ---\")\n",
        "\n",
        "# Pandas\n",
        "pandas_complex = df_pandas[\n",
        "    (df_pandas['age'] > 30) &\n",
        "    (df_pandas['salary'] > 50000) &\n",
        "    (df_pandas['department'].isin(['Engineering', 'Sales']))\n",
        "]\n",
        "\n",
        "# Polars\n",
        "polars_complex = df_polars.filter(\n",
        "    (pl.col('age') > 30) &\n",
        "    (pl.col('salary') > 50000) &\n",
        "    (pl.col('department').is_in(['Engineering', 'Sales']))\n",
        ")\n",
        "\n",
        "print(f\"Pandas complex filter result: {len(pandas_complex):,} rows\")\n",
        "print(f\"Polars complex filter result: {len(polars_complex):,} rows\")"
      ],
      "metadata": {
        "colab": {
          "base_uri": "https://localhost:8080/"
        },
        "id": "1mdOzyrzeBXK",
        "outputId": "5356e9e6-82af-49a5-e507-2864e9364cd3"
      },
      "execution_count": null,
      "outputs": [
        {
          "output_type": "stream",
          "name": "stdout",
          "text": [
            "=== Filtering Operations ===\n",
            "--- Simple Filtering ---\n",
            "Pandas filtered rows: 79,199\n",
            "Polars filtered rows: 79,199\n",
            "\n",
            "--- Complex Filtering ---\n",
            "Pandas complex filter result: 15,126 rows\n",
            "Polars complex filter result: 15,126 rows\n"
          ]
        }
      ]
    },
    {
      "cell_type": "markdown",
      "source": [
        "1. Simple filtering (One condition):\n",
        "  * Pandas uses boolean indexing with NumPy-style syntax: the condition returns a Series of booleans, which is then used to subset the DataFrame.\n",
        "  * Polars uses `.filter()` and evaluates the expression internally using expression trees, which enables lazy evaluation and query optimization in some contexts.\n",
        "2. Complex filtering (Multiple conditions): Both libraries support logical operators (`&`, `|`, `~`) for combining conditions, but:\n",
        "  * In Pandas, all expressions must be wrapped in parentheses due to Python’s operator precedence.\n",
        "  * In Polars, each condition is built as a Polars expression using `.col()`, and operations are vectorized under the hood. Polars also supports `.is_in()` for efficient set-based filtering, equivalent to Pandas’ `.isin()`.\n",
        "\n",
        "### 1.5 Sorting operations\n",
        "Here, we compare how Pandas and Polars perform both single-column and multi-column sorting, and we measure the execution time to highlight performance differences."
      ],
      "metadata": {
        "id": "R7bYZ9R5gtxU"
      }
    },
    {
      "cell_type": "code",
      "source": [
        "print(\"=== Sorting Operations ===\")\n",
        "\n",
        "# Single column sorting\n",
        "start_time = time.time()\n",
        "pandas_sorted = df_pandas.sort_values('salary', ascending=False)\n",
        "pandas_sort_time = time.time() - start_time\n",
        "\n",
        "start_time = time.time()\n",
        "polars_sorted = df_polars.sort('salary', descending=True)\n",
        "polars_sort_time = time.time() - start_time\n",
        "\n",
        "print(f\"Pandas sort time: {pandas_sort_time:.4f} seconds\")\n",
        "print(f\"Polars sort time: {polars_sort_time:.4f} seconds\")\n",
        "print(f\"Polars is {pandas_sort_time/polars_sort_time:.2f}x faster at sorting\")\n",
        "\n",
        "# Multiple column sorting\n",
        "pandas_multi_sort = df_pandas.sort_values(['department', 'salary'], ascending=[True, False])\n",
        "polars_multi_sort = df_polars.sort(['department', 'salary'], descending=[False, True])\n",
        "\n",
        "print(\"\\nMultiple column sorting completed successfully\")"
      ],
      "metadata": {
        "colab": {
          "base_uri": "https://localhost:8080/"
        },
        "id": "l-lIITRneNlj",
        "outputId": "7e1520ce-e941-4392-e215-379881516acf"
      },
      "execution_count": null,
      "outputs": [
        {
          "output_type": "stream",
          "name": "stdout",
          "text": [
            "=== Sorting Operations ===\n",
            "Pandas sort time: 0.0321 seconds\n",
            "Polars sort time: 0.0282 seconds\n",
            "Polars is 1.14x faster at sorting\n",
            "\n",
            "Multiple column sorting completed successfully\n"
          ]
        }
      ]
    },
    {
      "cell_type": "markdown",
      "source": [
        "1. Single-column sorting:\n",
        "  * In Pandas, `.sort_values()` is used, which performs an eager, single-threaded sort. Sorting is relatively straightforward but can be slower for large datasets.\n",
        "  * In Polars, `.sort()` is optimized with multi-threaded execution, providing significant speed improvements, especially with large numeric columns.\n",
        "2. Multi-column sorting: Both libraries allow sorting by multiple columns, with control over ascending/descending order per column:\n",
        "  * Pandas uses two parallel lists: one for column names and another for sort order flags.\n",
        "  * Polars mirrors this behavior with its own `.sort()` method, using the `descending` parameter for each corresponding column.\n",
        "\n",
        "The time comparison printed in this section allows users to see how Polars typically outperforms Pandas in sort operations.\n",
        "\n",
        "### 1.6 Aggregations and GroupBy\n",
        "In this section, we compare how Pandas and Polars handle basic aggregation operations and GroupBy aggregations, and we measure performance differences between the two libraries."
      ],
      "metadata": {
        "id": "rhtZClvbg3lf"
      }
    },
    {
      "cell_type": "code",
      "source": [
        "print(\"=== Aggregations and GroupBy ===\")\n",
        "\n",
        "# Basic aggregations\n",
        "print(\"--- Basic Aggregations ---\")\n",
        "\n",
        "# Pandas\n",
        "pandas_agg = {\n",
        "    'avg_salary': df_pandas['salary'].mean(),\n",
        "    'max_age': df_pandas['age'].max(),\n",
        "    'min_age': df_pandas['age'].min(),\n",
        "    'total_employees': len(df_pandas)\n",
        "}\n",
        "\n",
        "# Polars\n",
        "polars_agg = df_polars.select([\n",
        "    pl.col('salary').mean().alias('avg_salary'),\n",
        "    pl.col('age').max().alias('max_age'),\n",
        "    pl.col('age').min().alias('min_age'),\n",
        "    pl.count().alias('total_employees')\n",
        "])\n",
        "\n",
        "print(\"Pandas aggregations:\", pandas_agg)\n",
        "print(\"Polars aggregations:\")\n",
        "print(polars_agg)\n",
        "\n",
        "# GroupBy operations\n",
        "print(\"\\n--- GroupBy Operations ---\")\n",
        "\n",
        "# Pandas\n",
        "start_time = time.time()\n",
        "pandas_grouped = df_pandas.groupby('department').agg({\n",
        "    'salary': ['mean', 'std', 'count'],\n",
        "    'age': 'mean',\n",
        "    'performance_score': 'mean'\n",
        "}).round(2)\n",
        "pandas_groupby_time = time.time() - start_time\n",
        "\n",
        "# Polars\n",
        "start_time = time.time()\n",
        "polars_grouped = df_polars.group_by('department').agg([\n",
        "    pl.col('salary').mean().alias('avg_salary'),\n",
        "    pl.col('salary').std().alias('std_salary'),\n",
        "    pl.col('salary').count().alias('count_salary'),\n",
        "    pl.col('age').mean().alias('avg_age'),\n",
        "    pl.col('performance_score').mean().alias('avg_performance')\n",
        "]).sort('department')\n",
        "polars_groupby_time = time.time() - start_time\n",
        "\n",
        "print(f\"Pandas GroupBy time: {pandas_groupby_time:.4f} seconds\")\n",
        "print(f\"Polars GroupBy time: {polars_groupby_time:.4f} seconds\")\n",
        "print(f\"Polars is {pandas_groupby_time/polars_groupby_time:.2f}x faster at GroupBy\")\n",
        "\n",
        "print(\"\\nPandas GroupBy result:\")\n",
        "print(pandas_grouped)\n",
        "print(\"\\nPolars GroupBy result:\")\n",
        "print(polars_grouped)"
      ],
      "metadata": {
        "colab": {
          "base_uri": "https://localhost:8080/"
        },
        "id": "5ollalEQgzVu",
        "outputId": "e00be452-eda4-4a17-d363-3df8696eb4e0"
      },
      "execution_count": null,
      "outputs": [
        {
          "output_type": "stream",
          "name": "stdout",
          "text": [
            "=== Aggregations and GroupBy ===\n",
            "--- Basic Aggregations ---\n",
            "Pandas aggregations: {'avg_salary': np.float64(50015.05679612282), 'max_age': 79, 'min_age': 18, 'total_employees': 100000}\n",
            "Polars aggregations:\n",
            "shape: (1, 4)\n",
            "┌──────────────┬─────────┬─────────┬─────────────────┐\n",
            "│ avg_salary   ┆ max_age ┆ min_age ┆ total_employees │\n",
            "│ ---          ┆ ---     ┆ ---     ┆ ---             │\n",
            "│ f64          ┆ i64     ┆ i64     ┆ u32             │\n",
            "╞══════════════╪═════════╪═════════╪═════════════════╡\n",
            "│ 50015.056796 ┆ 79      ┆ 18      ┆ 100000          │\n",
            "└──────────────┴─────────┴─────────┴─────────────────┘\n",
            "\n",
            "--- GroupBy Operations ---\n",
            "Pandas GroupBy time: 0.0587 seconds\n",
            "Polars GroupBy time: 0.0852 seconds\n",
            "Polars is 0.69x faster at GroupBy\n",
            "\n",
            "Pandas GroupBy result:\n",
            "               salary                     age performance_score\n",
            "                 mean       std  count   mean              mean\n",
            "department                                                     \n",
            "Engineering  50164.95  15079.21  19089  48.74              3.00\n",
            "Finance      50151.32  15002.99  19000  48.47              2.99\n",
            "HR           50097.27  15038.52  18904  48.56              2.99\n",
            "Marketing    49844.71  15086.36  19091  48.42              3.00\n",
            "Sales        49816.68  15060.01  18916  48.44              3.01\n",
            "\n",
            "Polars GroupBy result:\n",
            "shape: (5, 6)\n",
            "┌─────────────┬──────────────┬──────────────┬──────────────┬───────────┬─────────────────┐\n",
            "│ department  ┆ avg_salary   ┆ std_salary   ┆ count_salary ┆ avg_age   ┆ avg_performance │\n",
            "│ ---         ┆ ---          ┆ ---          ┆ ---          ┆ ---       ┆ ---             │\n",
            "│ str         ┆ f64          ┆ f64          ┆ u32          ┆ f64       ┆ f64             │\n",
            "╞═════════════╪══════════════╪══════════════╪══════════════╪═══════════╪═════════════════╡\n",
            "│ Engineering ┆ 50164.945789 ┆ 15079.214596 ┆ 19089        ┆ 48.740203 ┆ 2.998472        │\n",
            "│ Finance     ┆ 50151.320159 ┆ 15002.994136 ┆ 19000        ┆ 48.467429 ┆ 2.991247        │\n",
            "│ HR          ┆ 50097.27465  ┆ 15038.522649 ┆ 18904        ┆ 48.560939 ┆ 2.985564        │\n",
            "│ Marketing   ┆ 49844.711881 ┆ 15086.364902 ┆ 19091        ┆ 48.423878 ┆ 2.998309        │\n",
            "│ Sales       ┆ 49816.683651 ┆ 15060.00585  ┆ 18916        ┆ 48.436783 ┆ 3.006356        │\n",
            "└─────────────┴──────────────┴──────────────┴──────────────┴───────────┴─────────────────┘\n"
          ]
        }
      ]
    },
    {
      "cell_type": "markdown",
      "source": [
        "1. Basic aggregations (Non-grouped):\n",
        "  * Pandas uses column-wise methods to compute statistics such as `mean`, `min`, and `max`. The total number of rows is computed using `len()`.\n",
        "  * Polars performs all aggregations inside a single `.select()` call. This is highly optimized due to Polars' expression-based API, enabling internal query planning and parallel execution.\n",
        "2. GroupBy Aggregations: Both libraries perform aggregations grouped by the `department` column.\n",
        "  * Pandas uses `.groupby().agg()` with a dictionary of column-aggregation mappings. The result is a multi-indexed DataFrame with grouped columns.\n",
        "  * Polars uses `.group_by().agg()` with a list of expressions. Each aggregated metric is explicitly aliased, producing a flat and readable output table. Sorting the result makes comparisons cleaner.\n",
        "\n",
        "\n",
        "### 1.7 Handling missing values\n",
        "Now, we compare how Pandas and Polars handle missing values through detection, imputation (filling), and deletion."
      ],
      "metadata": {
        "id": "9MGAB4mxhH6n"
      }
    },
    {
      "cell_type": "code",
      "source": [
        "print(\"=== Handling Missing Values ===\")\n",
        "\n",
        "# Check missing values\n",
        "print(\"--- Missing Values Count ---\")\n",
        "\n",
        "# Pandas\n",
        "pandas_missing = df_pandas.isnull().sum()\n",
        "print(\"Pandas missing values:\")\n",
        "print(pandas_missing[pandas_missing > 0])\n",
        "\n",
        "# Polars\n",
        "polars_missing = df_polars.null_count()\n",
        "print(\"\\nPolars missing values:\")\n",
        "print(polars_missing)\n",
        "\n",
        "# Fill missing values\n",
        "print(\"\\n--- Filling Missing Values ---\")\n",
        "\n",
        "# Pandas\n",
        "df_pandas_filled = df_pandas.fillna({'salary': df_pandas['salary'].mean()})\n",
        "\n",
        "# Polars\n",
        "df_polars_filled = df_polars.with_columns([\n",
        "    pl.col('salary').fill_null(pl.col('salary').mean())\n",
        "])\n",
        "\n",
        "print(\"Missing values filled successfully in both libraries\")\n",
        "\n",
        "# Drop missing values\n",
        "pandas_dropped = df_pandas.dropna(subset=['salary'])\n",
        "polars_dropped = df_polars.drop_nulls(subset=['salary'])\n",
        "\n",
        "print(f\"Pandas rows after dropping nulls: {len(pandas_dropped):,}\")\n",
        "print(f\"Polars rows after dropping nulls: {len(polars_dropped):,}\")"
      ],
      "metadata": {
        "colab": {
          "base_uri": "https://localhost:8080/"
        },
        "id": "FpQYZUTdg_cg",
        "outputId": "9f60af38-92fd-4d6d-ef43-5338d733955e"
      },
      "execution_count": null,
      "outputs": [
        {
          "output_type": "stream",
          "name": "stdout",
          "text": [
            "=== Handling Missing Values ===\n",
            "--- Missing Values Count ---\n",
            "Pandas missing values:\n",
            "salary    5000\n",
            "dtype: int64\n",
            "\n",
            "Polars missing values:\n",
            "shape: (1, 8)\n",
            "┌─────┬──────┬─────┬────────┬────────────┬───────────┬───────────────────┬───────────┐\n",
            "│ id  ┆ name ┆ age ┆ salary ┆ department ┆ join_date ┆ performance_score ┆ is_remote │\n",
            "│ --- ┆ ---  ┆ --- ┆ ---    ┆ ---        ┆ ---       ┆ ---               ┆ ---       │\n",
            "│ u32 ┆ u32  ┆ u32 ┆ u32    ┆ u32        ┆ u32       ┆ u32               ┆ u32       │\n",
            "╞═════╪══════╪═════╪════════╪════════════╪═══════════╪═══════════════════╪═══════════╡\n",
            "│ 0   ┆ 0    ┆ 0   ┆ 5000   ┆ 0          ┆ 0         ┆ 0                 ┆ 0         │\n",
            "└─────┴──────┴─────┴────────┴────────────┴───────────┴───────────────────┴───────────┘\n",
            "\n",
            "--- Filling Missing Values ---\n",
            "Missing values filled successfully in both libraries\n",
            "Pandas rows after dropping nulls: 95,000\n",
            "Polars rows after dropping nulls: 95,000\n"
          ]
        }
      ]
    },
    {
      "cell_type": "markdown",
      "source": [
        "1. Detecting missing values\n",
        "  * Pandas uses the combination of `.isnull()` and `.sum()` to count missing entries per column.\n",
        "  * Polars offers a more direct and optimized method via `.null_count()`, returning a compact summary without extra chaining.\n",
        "2. Filling Null values\n",
        "  * In Pandas, `fillna()` is used with a dictionary to specify which column to impute and with what value (in this case, the mean of `salary`).\n",
        "  * In Polars, null-filling is done using expressions inside `.with_columns()` combined with `.fill_null()`. The mean is computed and inserted as an expression, maintaining lazy/streaming capabilities if needed.\n",
        "\n",
        "\n",
        "## 2. Performance benchmarks\n",
        "This section sets up and runs timed benchmarks for several common workloads — including filtering, grouping, sorting, and column transformations."
      ],
      "metadata": {
        "id": "_fdBn7XBhVq-"
      }
    },
    {
      "cell_type": "code",
      "source": [
        "print(\"=== Performance Benchmarks ===\")\n",
        "\n",
        "def benchmark_operation(operation_name, pandas_func, polars_func, iterations=3):\n",
        "    \"\"\"Benchmark pandas vs polars operations\"\"\"\n",
        "    pandas_times = []\n",
        "    polars_times = []\n",
        "\n",
        "    for i in range(iterations):\n",
        "        # Pandas timing\n",
        "        start_time = time.time()\n",
        "        result_pandas = pandas_func()\n",
        "        pandas_time = time.time() - start_time\n",
        "        pandas_times.append(pandas_time)\n",
        "\n",
        "        # Polars timing\n",
        "        start_time = time.time()\n",
        "        result_polars = polars_func()\n",
        "        polars_time = time.time() - start_time\n",
        "        polars_times.append(polars_time)\n",
        "\n",
        "    avg_pandas = np.mean(pandas_times)\n",
        "    avg_polars = np.mean(polars_times)\n",
        "    speedup = avg_pandas / avg_polars\n",
        "\n",
        "    print(f\"\\n{operation_name}:\")\n",
        "    print(f\"  Pandas avg time: {avg_pandas:.4f}s\")\n",
        "    print(f\"  Polars avg time: {avg_polars:.4f}s\")\n",
        "    print(f\"  Speedup: {speedup:.2f}x\")\n",
        "\n",
        "    return avg_pandas, avg_polars, speedup\n",
        "\n",
        "# Benchmark different operations\n",
        "benchmarks = {}\n",
        "\n",
        "# 1. Filtering\n",
        "benchmarks['Filtering'] = benchmark_operation(\n",
        "    \"Large Filter Operation\",\n",
        "    lambda: df_pandas[(df_pandas['age'] > 25) & (df_pandas['salary'] > 40000)],\n",
        "    lambda: df_polars.filter((pl.col('age') > 25) & (pl.col('salary') > 40000))\n",
        ")\n",
        "\n",
        "# 2. GroupBy\n",
        "benchmarks['GroupBy'] = benchmark_operation(\n",
        "    \"GroupBy Aggregation\",\n",
        "    lambda: df_pandas.groupby('department')['salary'].agg(['mean', 'std', 'count']),\n",
        "    lambda: df_polars.group_by('department').agg([\n",
        "        pl.col('salary').mean().alias('salary_mean'),\n",
        "        pl.col('salary').std().alias('salary_std'),\n",
        "        pl.col('salary').count().alias('salary_count')\n",
        "    ])\n",
        ")\n",
        "\n",
        "# 3. Sorting\n",
        "benchmarks['Sorting'] = benchmark_operation(\n",
        "    \"Multi-column Sorting\",\n",
        "    lambda: df_pandas.sort_values(['department', 'salary'], ascending=[True, False]),\n",
        "    lambda: df_polars.sort(['department', 'salary'], descending=[False, True])\n",
        ")\n",
        "\n",
        "# 4. Column Operations\n",
        "benchmarks['Column_Ops'] = benchmark_operation(\n",
        "    \"Column Transformations\",\n",
        "    lambda: df_pandas.assign(\n",
        "        salary_normalized=(df_pandas['salary'] - df_pandas['salary'].mean()) / df_pandas['salary'].std(),\n",
        "        age_squared=df_pandas['age'] ** 2\n",
        "    ),\n",
        "    lambda: df_polars.with_columns([\n",
        "        ((pl.col('salary') - pl.col('salary').mean()) / pl.col('salary').std()).alias('salary_normalized'),\n",
        "        (pl.col('age') ** 2).alias('age_squared')\n",
        "    ])\n",
        ")"
      ],
      "metadata": {
        "colab": {
          "base_uri": "https://localhost:8080/"
        },
        "id": "U7O2I10ihQje",
        "outputId": "966c7eb3-61f8-4483-9f3a-d650d4849414"
      },
      "execution_count": null,
      "outputs": [
        {
          "output_type": "stream",
          "name": "stdout",
          "text": [
            "=== Performance Benchmarks ===\n",
            "\n",
            "Large Filter Operation:\n",
            "  Pandas avg time: 0.0081s\n",
            "  Polars avg time: 0.0031s\n",
            "  Speedup: 2.60x\n",
            "\n",
            "GroupBy Aggregation:\n",
            "  Pandas avg time: 0.0103s\n",
            "  Polars avg time: 0.0097s\n",
            "  Speedup: 1.06x\n",
            "\n",
            "Multi-column Sorting:\n",
            "  Pandas avg time: 0.0534s\n",
            "  Polars avg time: 0.0521s\n",
            "  Speedup: 1.02x\n",
            "\n",
            "Column Transformations:\n",
            "  Pandas avg time: 0.0112s\n",
            "  Polars avg time: 0.0051s\n",
            "  Speedup: 2.21x\n"
          ]
        }
      ]
    },
    {
      "cell_type": "markdown",
      "source": [
        "A reusable function `benchmark_operation()` is defined to time each operation for 3 iterations, calculate average durations, and determine speedup ratios.\n",
        "* Time is measured using `time.time()` and stored in separate lists for Pandas and Polars.\n",
        "* Speedup is calculated as the ratio of Pandas time over Polars time — higher means Polars is faster.\n",
        "\n",
        "#### Visualizing benchmark results\n",
        "These charts provide an at-a-glance understanding of where Polars excels and by how much — supporting data-driven decisions for library adoption in performance-critical tasks."
      ],
      "metadata": {
        "id": "Ljs1yOkcQdxc"
      }
    },
    {
      "cell_type": "code",
      "source": [
        "# Visualize benchmark results\n",
        "fig, (ax1, ax2) = plt.subplots(1, 2, figsize=(15, 6))\n",
        "\n",
        "# Performance comparison\n",
        "operations = list(benchmarks.keys())\n",
        "pandas_times = [benchmarks[op][0] for op in operations]\n",
        "polars_times = [benchmarks[op][1] for op in operations]\n",
        "speedups = [benchmarks[op][2] for op in operations]\n",
        "\n",
        "x = np.arange(len(operations))\n",
        "width = 0.35\n",
        "\n",
        "ax1.bar(x - width/2, pandas_times, width, label='Pandas', alpha=0.8)\n",
        "ax1.bar(x + width/2, polars_times, width, label='Polars', alpha=0.8)\n",
        "ax1.set_xlabel('Operations')\n",
        "ax1.set_ylabel('Time (seconds)')\n",
        "ax1.set_title('Execution Time Comparison')\n",
        "ax1.set_xticks(x)\n",
        "ax1.set_xticklabels(operations, rotation=45)\n",
        "ax1.legend()\n",
        "ax1.grid(True, alpha=0.3)\n",
        "\n",
        "# Speedup chart\n",
        "ax2.bar(operations, speedups, color='green', alpha=0.7)\n",
        "ax2.set_xlabel('Operations')\n",
        "ax2.set_ylabel('Speedup (x times faster)')\n",
        "ax2.set_title('Polars Speedup over Pandas')\n",
        "ax2.set_xticklabels(operations, rotation=45)\n",
        "ax2.grid(True, alpha=0.3)\n",
        "\n",
        "plt.tight_layout()\n",
        "plt.show()\n",
        "\n",
        "# Print summary\n",
        "print(\"\\n=== Performance Summary ===\")\n",
        "avg_speedup = np.mean(speedups)\n",
        "print(f\"Average speedup across all operations: {avg_speedup:.2f}x\")\n",
        "print(f\"Best performing operation: {operations[np.argmax(speedups)]} ({max(speedups):.2f}x speedup)\")"
      ],
      "metadata": {
        "colab": {
          "base_uri": "https://localhost:8080/",
          "height": 545
        },
        "id": "1Ta_OApohdFM",
        "outputId": "2e1faec9-7253-4da8-faf7-17ffffa27504"
      },
      "execution_count": null,
      "outputs": [
        {
          "output_type": "display_data",
          "data": {
            "text/plain": [
              "<Figure size 1500x600 with 2 Axes>"
            ],
            "image/png": "[encoded data removed]"
          },
          "metadata": {}
        },
        {
          "output_type": "stream",
          "name": "stdout",
          "text": [
            "\n",
            "=== Performance Summary ===\n",
            "Average speedup across all operations: 1.72x\n",
            "Best performing operation: Filtering (2.60x speedup)\n"
          ]
        }
      ]
    },
    {
      "cell_type": "markdown",
      "source": [
        "These visualizations clearly illustrate Polars' edge in performance-intensive workflows - especially in operations like sorting and group-by aggregations where its Rust-powered execution and lazy evaluation model shine.\n",
        "\n",
        "## 3. Advanced features\n",
        "\n",
        "### 3.1 Lazy vs eager evaluation\n",
        "Up to this point, all data transformations were executed immediately as they were written. This is known as eager evaluation, the default approach in most Python libraries, including Pandas. In contrast, Polars supports lazy evaluation, which defers execution and optimizes the entire transformation pipeline before running it."
      ],
      "metadata": {
        "id": "pqon9pFJiPJV"
      }
    },
    {
      "cell_type": "code",
      "source": [
        "print(\"=== Lazy vs Eager Evaluation ===\")\n",
        "\n",
        "# Eager evaluation in pandas (default)\n",
        "print(\"--- Eager Evaluation (Pandas) ---\")\n",
        "start_time = time.time()\n",
        "pandas_result = (df_pandas\n",
        "                .query('age > 30')\n",
        "                .groupby('department')['salary']\n",
        "                .mean()\n",
        "                .sort_values(ascending=False))\n",
        "pandas_eager_time = time.time() - start_time\n",
        "print(f\"Pandas eager execution time: {pandas_eager_time:.4f}s\")\n",
        "print(pandas_result)\n",
        "\n",
        "# Lazy evaluation in polars\n",
        "print(\"\\n--- Lazy Evaluation (Polars) ---\")\n",
        "start_time = time.time()\n",
        "polars_lazy = (df_polars\n",
        "               .lazy()\n",
        "               .filter(pl.col('age') > 30)\n",
        "               .group_by('department')\n",
        "               .agg(pl.col('salary').mean())\n",
        "               .sort('salary', descending=True))\n",
        "\n",
        "# Query is not executed yet - just planned\n",
        "query_plan_time = time.time() - start_time\n",
        "print(f\"Query planning time: {query_plan_time:.6f}s\")\n",
        "\n",
        "# Execute the lazy query\n",
        "start_time = time.time()\n",
        "polars_result = polars_lazy.collect()\n",
        "polars_execution_time = time.time() - start_time\n",
        "print(f\"Polars lazy execution time: {polars_execution_time:.4f}s\")\n",
        "print(polars_result)\n",
        "\n",
        "# Show query plan\n",
        "print(\"\\n--- Query Plan Optimization ---\")\n",
        "print(\"Polars query plan:\")\n",
        "print(polars_lazy.explain())"
      ],
      "metadata": {
        "colab": {
          "base_uri": "https://localhost:8080/"
        },
        "id": "XZQv_ndUiFVb",
        "outputId": "72de92ed-7630-4ec9-b4a9-3da8ed1054a6"
      },
      "execution_count": null,
      "outputs": [
        {
          "output_type": "stream",
          "name": "stdout",
          "text": [
            "=== Lazy vs Eager Evaluation ===\n",
            "--- Eager Evaluation (Pandas) ---\n",
            "Pandas eager execution time: 0.0267s\n",
            "department\n",
            "Finance        50114.401802\n",
            "Engineering    50108.400526\n",
            "HR             50007.266181\n",
            "Sales          49839.807327\n",
            "Marketing      49810.926621\n",
            "Name: salary, dtype: float64\n",
            "\n",
            "--- Lazy Evaluation (Polars) ---\n",
            "Query planning time: 0.000384s\n",
            "Polars lazy execution time: 0.0080s\n",
            "shape: (5, 2)\n",
            "┌─────────────┬──────────────┐\n",
            "│ department  ┆ salary       │\n",
            "│ ---         ┆ ---          │\n",
            "│ str         ┆ f64          │\n",
            "╞═════════════╪══════════════╡\n",
            "│ Finance     ┆ 50114.401802 │\n",
            "│ Engineering ┆ 50108.400526 │\n",
            "│ HR          ┆ 50007.266181 │\n",
            "│ Sales       ┆ 49839.807327 │\n",
            "│ Marketing   ┆ 49810.926621 │\n",
            "└─────────────┴──────────────┘\n",
            "\n",
            "--- Query Plan Optimization ---\n",
            "Polars query plan:\n",
            "SORT BY [col(\"salary\")]\n",
            "  AGGREGATE\n",
            "  \t[col(\"salary\").mean()] BY [col(\"department\")] FROM\n",
            "    FILTER [(col(\"age\")) > (30)] FROM\n",
            "      DF [\"id\", \"name\", \"age\", \"salary\"]; PROJECT 3/8 COLUMNS\n"
          ]
        }
      ]
    },
    {
      "cell_type": "markdown",
      "source": [
        "* Eager (Pandas): Every operation (`query`, `groupby`, `mean`, `sort`) is computed immediately, consuming memory and CPU step-by-step. This approach is simple and predictable but often inefficient in complex pipelines.\n",
        "\n",
        "* Lazy (Polars): When `.lazy()` is invoked, no data is processed immediately. Instead, a query plan is constructed and held in memory. Only when `.collect()` is called is the pipeline executed — and only after Polars optimizes the entire plan, applying techniques like:\n",
        "  * Predicate pushdown\n",
        "  * Projection pruning\n",
        "  * Common sub-expression elimination\n",
        "\n",
        "By separating query planning and execution, Polars avoids unnecessary computation and data movement, often achieving significant speedups, especially on large datasets.\n",
        "\n",
        "The `.explain()` method outputs the logical and physical plan, offering transparency into how Polars optimizes queries under the hood — a valuable feature for performance tuning.\n",
        "\n",
        "Lazy evaluation is a powerful feature in Polars that offers better control and performance. It is particularly beneficial for production pipelines, chained transformations, and large-scale datasets.\n",
        "\n",
        "### 3.2 Joins\n",
        "This section introduces join operations in both Pandas and Polars, measuring their performance and syntactic differences."
      ],
      "metadata": {
        "id": "-XSD3wCbiiv_"
      }
    },
    {
      "cell_type": "code",
      "source": [
        "print(\"=== Join Operations ===\")\n",
        "\n",
        "# Create secondary dataset for joins\n",
        "departments_data = {\n",
        "    'department': ['Engineering', 'Sales', 'Marketing', 'HR', 'Finance'],\n",
        "    'budget': [1000000, 750000, 500000, 300000, 800000],\n",
        "    'head_count': [50, 30, 20, 15, 25]\n",
        "}\n",
        "\n",
        "# Pandas\n",
        "dept_df_pandas = pd.DataFrame(departments_data)\n",
        "\n",
        "# Polars\n",
        "dept_df_polars = pl.DataFrame(departments_data)\n",
        "\n",
        "print(\"--- Inner Join ---\")\n",
        "\n",
        "# Pandas join\n",
        "start_time = time.time()\n",
        "pandas_join = df_pandas.merge(dept_df_pandas, on='department', how='inner')\n",
        "pandas_join_time = time.time() - start_time\n",
        "\n",
        "# Polars join\n",
        "start_time = time.time()\n",
        "polars_join = df_polars.join(dept_df_polars, on='department', how='inner')\n",
        "polars_join_time = time.time() - start_time\n",
        "\n",
        "print(f\"Pandas join time: {pandas_join_time:.4f}s\")\n",
        "print(f\"Polars join time: {polars_join_time:.4f}s\")\n",
        "print(f\"Polars is {pandas_join_time/polars_join_time:.2f}x faster at joins\")\n",
        "\n",
        "print(f\"Joined dataset shape - Pandas: {pandas_join.shape}, Polars: {polars_join.shape}\")\n",
        "\n",
        "# Left join example\n",
        "print(\"\\n--- Left Join with Aggregation ---\")\n",
        "pandas_left_join = (df_pandas\n",
        "                   .merge(dept_df_pandas, on='department', how='left')\n",
        "                   .groupby('department')\n",
        "                   .agg({'salary': 'mean', 'budget': 'first'})\n",
        "                   .reset_index())\n",
        "\n",
        "polars_left_join = (df_polars\n",
        "                   .join(dept_df_polars, on='department', how='left')\n",
        "                   .group_by('department')\n",
        "                   .agg([\n",
        "                       pl.col('salary').mean().alias('avg_salary'),\n",
        "                       pl.col('budget').first().alias('budget')\n",
        "                   ]))\n",
        "\n",
        "print(\"Left join with aggregation completed successfully\")"
      ],
      "metadata": {
        "colab": {
          "base_uri": "https://localhost:8080/"
        },
        "id": "maqn9Sm7iUhy",
        "outputId": "46653a52-7604-42fb-d53a-d76e6e4b07dd"
      },
      "execution_count": null,
      "outputs": [
        {
          "output_type": "stream",
          "name": "stdout",
          "text": [
            "=== Join Operations ===\n",
            "--- Inner Join ---\n",
            "Pandas join time: 0.0288s\n",
            "Polars join time: 0.0356s\n",
            "Polars is 0.81x faster at joins\n",
            "Joined dataset shape - Pandas: (100000, 10), Polars: (100000, 10)\n",
            "\n",
            "--- Left Join with Aggregation ---\n",
            "Left join with aggregation completed successfully\n"
          ]
        }
      ]
    },
    {
      "cell_type": "markdown",
      "source": [
        "* Inner join:\n",
        "  * In Pandas, `.merge()` with `how='inner'` performs a hash join internally, but doesn't optimize beyond that.\n",
        "  * Polars’ `.join()` is optimized under-the-hood using Rust's highly efficient memory model and can parallelize joins.\n",
        "  * Benchmark shows Polars is significantly faster for large datasets.\n",
        "* Left join + aggregation: After enriching the employee dataset with department-level metadata using a left join, we perform grouped aggregations.\n",
        "  * Pandas applies multiple operations in sequence — join, groupby, aggregate, and reset index.\n",
        "  * Polars efficiently pipelines the join and aggregation using `.agg()` in a grouped context. The use of `.first()` allows static values like budget to be retrieved per department.\n",
        "\n",
        "\n",
        "### 3.3 Window functions\n",
        "When analyzing grouped data, we often need to compute rankings, averages, or other statistics within specific groups, without collapsing the dataset. This is where window functions come in — they allow operations like ranking or mean computation within partitions, retaining the original row structure. In this section, we demonstrate how to perform common window operations using both Pandas and Polars.\n",
        "\n",
        "This complements earlier topics like groupby aggregations, but here the key distinction is row-wise enrichment rather than row reduction."
      ],
      "metadata": {
        "id": "aJGqaHsOiv6l"
      }
    },
    {
      "cell_type": "code",
      "source": [
        "print(\"=== Window Functions ===\")\n",
        "\n",
        "# Pandas window functions\n",
        "print(\"--- Pandas Window Functions ---\")\n",
        "start_time = time.time()\n",
        "# Create window functions separately to avoid index alignment issues\n",
        "df_temp = df_pandas.copy()\n",
        "df_temp['salary_rank'] = df_temp.groupby('department')['salary'].rank(ascending=False) # Compute descending salary rank within each department\n",
        "df_temp['salary_pct_rank'] = df_temp.groupby('department')['salary'].rank(pct=True) # Compute percentile rank (from 0 to 1) within each department\n",
        "df_temp['dept_avg_salary'] = df_temp.groupby('department')['salary'].transform('mean') # Add department average salary for each employee using transform\n",
        "pandas_window = df_temp.head()\n",
        "pandas_window_time = time.time() - start_time\n",
        "\n",
        "# Polars window functions\n",
        "print(\"--- Polars Window Functions ---\")\n",
        "start_time = time.time()\n",
        "# Use Polars' window API with `.over('department')` for grouped operations\n",
        "polars_window = (df_polars\n",
        "                .with_columns([\n",
        "                    pl.col('salary').rank(descending=True).over('department').alias('salary_rank'),\n",
        "                    pl.col('salary').rank(method='average').over('department').alias('salary_pct_rank'),\n",
        "                    pl.col('salary').mean().over('department').alias('dept_avg_salary')\n",
        "                ])\n",
        "                .head())\n",
        "polars_window_time = time.time() - start_time\n",
        "\n",
        "print(f\"Pandas window functions time: {pandas_window_time:.4f}s\")\n",
        "print(f\"Polars window functions time: {polars_window_time:.4f}s\")\n",
        "\n",
        "print(\"\\nPandas window result:\")\n",
        "print(pandas_window[['name', 'department', 'salary', 'salary_rank']].head())\n",
        "\n",
        "print(\"\\nPolars window result:\")\n",
        "print(polars_window.select(['name', 'department', 'salary', 'salary_rank']))"
      ],
      "metadata": {
        "colab": {
          "base_uri": "https://localhost:8080/"
        },
        "id": "0LnvH48siqN2",
        "outputId": "4d507063-2f2b-437a-83b2-64ba18da90be"
      },
      "execution_count": null,
      "outputs": [
        {
          "output_type": "stream",
          "name": "stdout",
          "text": [
            "=== Window Functions ===\n",
            "--- Pandas Window Functions ---\n",
            "--- Polars Window Functions ---\n",
            "Pandas window functions time: 0.1280s\n",
            "Polars window functions time: 0.0848s\n",
            "\n",
            "Pandas window result:\n",
            "       name   department        salary  salary_rank\n",
            "0  Person_0  Engineering  26717.935854      17936.0\n",
            "1  Person_1    Marketing  45119.920495      11951.0\n",
            "2  Person_2  Engineering  53093.519523       8098.0\n",
            "3  Person_3  Engineering  70781.669290       1613.0\n",
            "4  Person_4        Sales  47784.444156      10433.0\n",
            "\n",
            "Polars window result:\n",
            "shape: (5, 4)\n",
            "┌──────────┬─────────────┬──────────────┬─────────────┐\n",
            "│ name     ┆ department  ┆ salary       ┆ salary_rank │\n",
            "│ ---      ┆ ---         ┆ ---          ┆ ---         │\n",
            "│ str      ┆ str         ┆ f64          ┆ f64         │\n",
            "╞══════════╪═════════════╪══════════════╪═════════════╡\n",
            "│ Person_0 ┆ Engineering ┆ 26717.935854 ┆ 17936.0     │\n",
            "│ Person_1 ┆ Marketing   ┆ 45119.920495 ┆ 11951.0     │\n",
            "│ Person_2 ┆ Engineering ┆ 53093.519523 ┆ 8098.0      │\n",
            "│ Person_3 ┆ Engineering ┆ 70781.66929  ┆ 1613.0      │\n",
            "│ Person_4 ┆ Sales       ┆ 47784.444156 ┆ 10433.0     │\n",
            "└──────────┴─────────────┴──────────────┴─────────────┘\n"
          ]
        }
      ]
    },
    {
      "cell_type": "markdown",
      "source": [
        "* In Pandas:\n",
        "  * Window functions are achieved using `.groupby()` in combination with `.rank()` or `.transform()`.\n",
        "  * The `rank()` method is used to assign numeric positions within groups.\n",
        "  * The `transform()` method ensures that the resulting values retain the original row structure (as opposed to `agg()`, which reduces it).\n",
        "  * While flexible, Pandas window functions can be slower due to their Python-layer overhead.\n",
        "* In Polars:\n",
        "  * Polars offers concise and expressive windowing using `.over(\"column\")` directly within `.with_columns()`.\n",
        "  * The `rank()` function supports customization like descending order or different ranking methods (e.g., \"average\").\n",
        "  * Aggregations like `.mean().over(...)` are vectorized and executed in parallel, making them significantly faster and more scalable.\n",
        "  * Importantly, Polars window functions retain full columnar semantics and avoid index alignment concerns typical in Pandas.\n",
        "\n",
        "Polars' native support for window functions through `.over()` syntax is both elegant and performant, especially at scale. It also avoids many of the common edge cases that make similar operations in Pandas more error-prone.\n",
        "\n",
        "### 3.4 Date/time operations\n",
        "Both Pandas and Polars provide extensive functionality for handling `datetime` objects, but their internal representations and APIs differ."
      ],
      "metadata": {
        "id": "Sf-h1MtTjZlR"
      }
    },
    {
      "cell_type": "code",
      "source": [
        "print(\"=== Date/Time Operations ===\")\n",
        "\n",
        "# First, ensure datetime columns are properly converted\n",
        "print(\"Converting join_date to datetime format...\")\n",
        "\n",
        "# Check current data types\n",
        "print(f\"Pandas join_date dtype: {df_pandas['join_date'].dtype}\")\n",
        "print(f\"Polars join_date dtype: {df_polars['join_date'].dtype}\")\n",
        "\n",
        "# Convert pandas datetime column if needed\n",
        "if not pd.api.types.is_datetime64_any_dtype(df_pandas['join_date']):\n",
        "    df_pandas['join_date'] = pd.to_datetime(df_pandas['join_date'])\n",
        "\n",
        "# Convert polars datetime column if needed\n",
        "if df_polars['join_date'].dtype != pl.Datetime:\n",
        "    if df_polars['join_date'].dtype == pl.Utf8:\n",
        "        # Convert string column to datetime using string parser\n",
        "        df_polars = df_polars.with_columns([\n",
        "            pl.col('join_date').str.to_datetime()\n",
        "        ])\n",
        "    else:\n",
        "        # Direct type cast if not a string\n",
        "        df_polars = df_polars.with_columns([\n",
        "            pl.col('join_date').cast(pl.Datetime)\n",
        "        ])\n",
        "\n",
        "# Pandas datetime operations\n",
        "print(\"--- Pandas DateTime Operations ---\")\n",
        "start_time = time.time()\n",
        "pandas_dt = (df_pandas\n",
        "            .assign(\n",
        "                year=df_pandas['join_date'].dt.year,  # Extract year from join_date\n",
        "                month=df_pandas['join_date'].dt.month,  # Extract numeric month\n",
        "                weekday=df_pandas['join_date'].dt.day_name(),  # Get weekday name (e.g., Monday)\n",
        "                days_employed=(pd.Timestamp.now() - df_pandas['join_date']).dt.days  # Calculate days since joining\n",
        "            ))\n",
        "pandas_dt_time = time.time() - start_time\n",
        "\n",
        "# Polars datetime operations\n",
        "print(\"--- Polars DateTime Operations ---\")\n",
        "start_time = time.time()\n",
        "# Get current datetime for comparison\n",
        "current_time = pl.lit(pd.Timestamp.now())\n",
        "polars_dt = (df_polars\n",
        "            .with_columns([\n",
        "                pl.col('join_date').dt.year().alias('year'),  # Extract year component\n",
        "                pl.col('join_date').dt.month().alias('month'),  # Extract month components\n",
        "                pl.col('join_date').dt.strftime('%A').alias('weekday'),  # Format date to return full weekday name\n",
        "                (current_time - pl.col('join_date')).dt.total_days().alias('days_employed')  # Compute days employed by subtracting join_date from now\n",
        "            ]))\n",
        "polars_dt_time = time.time() - start_time\n",
        "\n",
        "print(f\"Pandas datetime operations time: {pandas_dt_time:.4f}s\")\n",
        "print(f\"Polars datetime operations time: {polars_dt_time:.4f}s\")\n",
        "\n",
        "# Show results\n",
        "print(\"\\nDatetime operations results:\")\n",
        "print(\"Pandas:\")\n",
        "print(pandas_dt[['join_date', 'year', 'month', 'weekday', 'days_employed']].head())\n",
        "\n",
        "print(\"\\nPolars:\")\n",
        "print(polars_dt.select(['join_date', 'year', 'month', 'weekday', 'days_employed']).head())"
      ],
      "metadata": {
        "colab": {
          "base_uri": "https://localhost:8080/"
        },
        "id": "wU098UOoi22t",
        "outputId": "43e7d7f4-e195-45c3-cb20-4a7e33cc9e9b"
      },
      "execution_count": null,
      "outputs": [
        {
          "output_type": "stream",
          "name": "stdout",
          "text": [
            "=== Date/Time Operations ===\n",
            "Converting join_date to datetime format...\n",
            "Pandas join_date dtype: datetime64[ns]\n",
            "Polars join_date dtype: Datetime(time_unit='us', time_zone=None)\n",
            "--- Pandas DateTime Operations ---\n",
            "--- Polars DateTime Operations ---\n",
            "Pandas datetime operations time: 0.0658s\n",
            "Polars datetime operations time: 0.0301s\n",
            "\n",
            "Datetime operations results:\n",
            "Pandas:\n",
            "            join_date  year  month    weekday  days_employed\n",
            "0 2020-01-01 00:00:00  2020      1  Wednesday           2009\n",
            "1 2020-01-01 01:00:00  2020      1  Wednesday           2009\n",
            "2 2020-01-01 02:00:00  2020      1  Wednesday           2009\n",
            "3 2020-01-01 03:00:00  2020      1  Wednesday           2009\n",
            "4 2020-01-01 04:00:00  2020      1  Wednesday           2009\n",
            "\n",
            "Polars:\n",
            "shape: (5, 5)\n",
            "┌─────────────────────┬──────┬───────┬───────────┬───────────────┐\n",
            "│ join_date           ┆ year ┆ month ┆ weekday   ┆ days_employed │\n",
            "│ ---                 ┆ ---  ┆ ---   ┆ ---       ┆ ---           │\n",
            "│ datetime[μs]        ┆ i32  ┆ i8    ┆ str       ┆ i64           │\n",
            "╞═════════════════════╪══════╪═══════╪═══════════╪═══════════════╡\n",
            "│ 2020-01-01 00:00:00 ┆ 2020 ┆ 1     ┆ Wednesday ┆ 2009          │\n",
            "│ 2020-01-01 01:00:00 ┆ 2020 ┆ 1     ┆ Wednesday ┆ 2009          │\n",
            "│ 2020-01-01 02:00:00 ┆ 2020 ┆ 1     ┆ Wednesday ┆ 2009          │\n",
            "│ 2020-01-01 03:00:00 ┆ 2020 ┆ 1     ┆ Wednesday ┆ 2009          │\n",
            "│ 2020-01-01 04:00:00 ┆ 2020 ┆ 1     ┆ Wednesday ┆ 2009          │\n",
            "└─────────────────────┴──────┴───────┴───────────┴───────────────┘\n"
          ]
        }
      ]
    },
    {
      "cell_type": "markdown",
      "source": [
        "* Datetime conversion:\n",
        "  * Pandas often stores dates in `datetime64[ns]`, and conversion is done with `pd.to_datetime()`.\n",
        "  * Polars can store datetime values as either strings (`Utf8`) or true `Datetime` types, and provides convenient methods like `.str.to_datetime()` or `.cast()` to handle conversions efficiently.\n",
        "* Date component extraction:\n",
        "  * Pandas uses the `.dt` accessor to extract components such as `year`, `month`, or `day_name()`.\n",
        "  * Polars uses its `.dt` namespace with methods like `.year()`, `.month()`, and `.strftime('%A')` for weekday formatting — with strong performance and concise syntax.\n",
        "\n",
        "Polars typically outperforms Pandas in date/time operations on large datasets due to its native support for temporal types and lazy evaluation potential.\n",
        "\n",
        "\n",
        "## 4. Compatibility & ecosystem\n",
        "So far, we have focused on data manipulation and performance. But in real-world workflows, a library’s integration with the broader Python ecosystem—such as visualization, machine learning, and interoperability—can be just as important."
      ],
      "metadata": {
        "id": "zKknxzjJk9Cx"
      }
    },
    {
      "cell_type": "code",
      "source": [
        "print(\"=== Ecosystem Integration ===\")\n",
        "\n",
        "# Visualization compatibility\n",
        "print(\"--- Visualization with Matplotlib/Seaborn ---\")\n",
        "\n",
        "# Pandas integrates seamlessly\n",
        "fig, axes = plt.subplots(2, 2, figsize=(15, 10))\n",
        "\n",
        "# Pandas plotting\n",
        "df_pandas.groupby('department')['salary'].mean().plot(kind='bar', ax=axes[0,0], title='Pandas - Avg Salary by Dept')\n",
        "df_pandas['age'].hist(bins=20, ax=axes[0,1])\n",
        "axes[0,1].set_title('Pandas - Age Distribution')\n",
        "\n",
        "# Polars requires conversion to pandas for most plotting libraries\n",
        "polars_for_plot = df_polars.to_pandas()  # Use df_polars instead of polars_join\n",
        "polars_for_plot.groupby('department')['salary'].mean().plot(kind='bar', ax=axes[1,0], title='Polars - Avg Salary by Dept')\n",
        "polars_for_plot['age'].hist(bins=20, ax=axes[1,1])\n",
        "axes[1,1].set_title('Polars - Age Distribution')\n",
        "\n",
        "plt.tight_layout()\n",
        "plt.show()\n",
        "\n",
        "print(\"✓ Both libraries can create visualizations (Polars via pandas conversion)\")\n",
        "\n",
        "# Machine Learning compatibility\n",
        "print(\"\\n--- Machine Learning Integration ---\")\n",
        "\n",
        "from sklearn.model_selection import train_test_split\n",
        "from sklearn.ensemble import RandomForestRegressor\n",
        "from sklearn.metrics import mean_squared_error\n",
        "\n",
        "# Prepare data for ML\n",
        "# Pandas approach\n",
        "X_pandas = pd.get_dummies(df_pandas[['age', 'department', 'performance_score', 'is_remote']])\n",
        "y_pandas = df_pandas['salary'].fillna(df_pandas['salary'].mean())\n",
        "\n",
        "# Polars approach (convert to pandas for sklearn)\n",
        "polars_ml_data = (df_polars\n",
        "                 .with_columns([\n",
        "                     pl.col('salary').fill_null(pl.col('salary').mean())\n",
        "                 ])\n",
        "                 .to_pandas())\n",
        "\n",
        "X_polars = pd.get_dummies(polars_ml_data[['age', 'department', 'performance_score', 'is_remote']])\n",
        "y_polars = polars_ml_data['salary']\n",
        "\n",
        "print(\"✓ Both datasets prepared for machine learning\")\n",
        "print(f\"Pandas ML features shape: {X_pandas.shape}\")\n",
        "print(f\"Polars ML features shape: {X_polars.shape}\")\n",
        "\n",
        "# Quick ML model comparison\n",
        "X_train, X_test, y_train, y_test = train_test_split(X_pandas, y_pandas, test_size=0.2, random_state=42)\n",
        "\n",
        "rf = RandomForestRegressor(n_estimators=50, random_state=42)\n",
        "rf.fit(X_train, y_train)\n",
        "predictions = rf.predict(X_test)\n",
        "mse = mean_squared_error(y_test, predictions)\n",
        "\n",
        "print(f\"✓ ML model trained successfully - MSE: {mse:.2f}\")"
      ],
      "metadata": {
        "colab": {
          "base_uri": "https://localhost:8080/",
          "height": 942
        },
        "id": "hUj9lsp_jfNM",
        "outputId": "5f824d17-20bc-40f2-eba5-1924b2916d2a"
      },
      "execution_count": null,
      "outputs": [
        {
          "output_type": "stream",
          "name": "stdout",
          "text": [
            "=== Ecosystem Integration ===\n",
            "--- Visualization with Matplotlib/Seaborn ---\n"
          ]
        },
        {
          "output_type": "display_data",
          "data": {
            "text/plain": [
              "<Figure size 1500x1000 with 4 Axes>"
            ],
            "image/png": "[encoded data removed]"
          },
          "metadata": {}
        },
        {
          "output_type": "stream",
          "name": "stdout",
          "text": [
            "✓ Both libraries can create visualizations (Polars via pandas conversion)\n",
            "\n",
            "--- Machine Learning Integration ---\n",
            "✓ Both datasets prepared for machine learning\n",
            "Pandas ML features shape: (100000, 8)\n",
            "Polars ML features shape: (100000, 8)\n",
            "✓ ML model trained successfully - MSE: 248177194.87\n"
          ]
        }
      ]
    },
    {
      "cell_type": "markdown",
      "source": [
        "* Visualization:\n",
        "  * Pandas integrates directly with `matplotlib` and `seaborn`, allowing intuitive visualizations without data conversion.\n",
        "  * Polars currently lacks native support for major plotting libraries. As a result, we must convert Polars DataFrames to Pandas for visualization, which is straightforward but adds overhead. We use `.to_pandas()` when plotting from Polars.\n",
        "\n",
        "* Machine learning integration\n",
        "  * Most ML frameworks in Python, like scikit-learn, expect input as `pandas.DataFrame` or NumPy arrays.\n",
        "  * While Pandas works out of the box, Polars requires conversion for compatibility.\n",
        "\n",
        "\n",
        "## 5. Converting between libraries\n",
        "While Pandas and Polars serve similar roles, they have different underlying architectures and APIs. In practice, we might need to convert data back and forth, for example, using Polars for fast processing and Pandas for visualization or modeling.\n",
        "\n"
      ],
      "metadata": {
        "id": "mdlNjE3dlqnL"
      }
    },
    {
      "cell_type": "code",
      "source": [
        "print(\"=== Converting Between Libraries ===\")\n",
        "\n",
        "# Pandas to Polars\n",
        "print(\"--- Pandas to Polars ---\")\n",
        "start_time = time.time()\n",
        "pandas_to_polars = pl.from_pandas(df_pandas)\n",
        "conversion_time_1 = time.time() - start_time\n",
        "\n",
        "print(f\"Conversion time (Pandas → Polars): {conversion_time_1:.4f}s\")\n",
        "print(f\"Original pandas shape: {df_pandas.shape}\")\n",
        "print(f\"Converted polars shape: {pandas_to_polars.shape}\")\n",
        "\n",
        "# Polars to Pandas\n",
        "print(\"\\n--- Polars to Pandas ---\")\n",
        "start_time = time.time()\n",
        "polars_to_pandas = df_polars.to_pandas()\n",
        "conversion_time_2 = time.time() - start_time\n",
        "\n",
        "print(f\"Conversion time (Polars → Pandas): {conversion_time_2:.4f}s\")\n",
        "print(f\"Original polars shape: {df_polars.shape}\")\n",
        "print(f\"Converted pandas shape: {polars_to_pandas.shape}\")"
      ],
      "metadata": {
        "colab": {
          "base_uri": "https://localhost:8080/"
        },
        "id": "Nhpuf5S_lEe9",
        "outputId": "bb43d5df-c34b-4779-c984-3a63b365159a"
      },
      "execution_count": null,
      "outputs": [
        {
          "output_type": "stream",
          "name": "stdout",
          "text": [
            "=== Converting Between Libraries ===\n",
            "--- Pandas to Polars ---\n",
            "Conversion time (Pandas → Polars): 0.0475s\n",
            "Original pandas shape: (100000, 8)\n",
            "Converted polars shape: (100000, 8)\n",
            "\n",
            "--- Polars to Pandas ---\n",
            "Conversion time (Polars → Pandas): 0.0304s\n",
            "Original polars shape: (100000, 8)\n",
            "Converted pandas shape: (100000, 8)\n"
          ]
        }
      ]
    },
    {
      "cell_type": "markdown",
      "source": [
        "* Pandas → Polars conversion is performed via `pl.from_pandas()`, a Polars function optimized to ingest Pandas DataFrames efficiently.\n",
        "* Polars → Pandas conversion uses the `.to_pandas()` method on a Polars DataFrame, returning a native Pandas DataFrame ready for any Pandas-based operation or third-party library expecting Pandas inputs.\n",
        "\n"
      ],
      "metadata": {
        "id": "RxLozztlbxRy"
      }
    }
  ]
}