{
 "cells": [
  {
   "cell_type": "markdown",
   "id": "2321b4dd-df54-4aea-8390-b3d5124cdeb9",
   "metadata": {},
   "source": [
    "# Introduction to SciPy\n",
    "\n",
    "SciPy, short for Scientific Python, is a library used for scientific and technical computing. Built on top of NumPy, it adds functionality for more advanced operations, such as optimization, integration, interpolation, signal processing, statistics and more.\n",
    "\n",
    "##### Why use SciPy?\n",
    "- Advanced functionality: SciPy provides a wide range of functions for more complex mathematical, scientific, and engineering tasks that go beyond NumPy’s basic capabilities.\n",
    "- Built on NumPy: Since SciPy extends NumPy, it integrates seamlessly with NumPy arrays and retains its speed and memory efficiency.\n",
    "- High performance: Written in optimized C and Fortran code for fast execution.\n",
    "- Interoperability: SciPy can easily integrate with other scientific libraries like NumPy, Matplotlib, Pandas, and SymPy."
   ]
  },
  {
   "cell_type": "code",
   "execution_count": 1,
   "id": "09d6e0c0-c25f-4fcc-bc7c-6694c695699d",
   "metadata": {
    "tags": []
   },
   "outputs": [],
   "source": [
    "# Importing SciPy\n",
    "import scipy"
   ]
  },
  {
   "cell_type": "markdown",
   "id": "13cdc7ea-21a5-4586-a92e-a44dfc9237c2",
   "metadata": {},
   "source": [
    "## Key modules\n",
    "SciPy includes several submodules to handle various tasks in scientific computing:\n",
    "\n",
    "### Optimization\n",
    "The `optimize` module helps find the minimum or maximum of a function, solve equations, and perform curve fitting.\n",
    "\n",
    "#### 1. Minimizing a function"
   ]
  },
  {
   "cell_type": "code",
   "execution_count": 2,
   "id": "9f32ab56-b1cf-4fe1-ac50-703fb7c7c121",
   "metadata": {
    "tags": []
   },
   "outputs": [
    {
     "name": "stdout",
     "output_type": "stream",
     "text": [
      "Minimum value of the function: 0.0\n",
      "Value of x at the minimum: [-2.00000002]\n",
      "\n",
      "The full results:\n",
      "   message: Optimization terminated successfully.\n",
      "  success: True\n",
      "   status: 0\n",
      "      fun: 0.0\n",
      "        x: [-2.000e+00]\n",
      "      nit: 2\n",
      "      jac: [ 0.000e+00]\n",
      " hess_inv: [[ 5.000e-01]]\n",
      "     nfev: 6\n",
      "     njev: 3\n"
     ]
    }
   ],
   "source": [
    "from scipy.optimize import minimize\n",
    "\n",
    "# Define a quadratic function\n",
    "def func(x):\n",
    "    return x**2 + 4*x + 4\n",
    "\n",
    "# Minimize the function\n",
    "result = minimize(func, x0=0)\n",
    "print(\"Minimum value of the function:\", result.fun)\n",
    "print(\"Value of x at the minimum:\", result.x)\n",
    "print()\n",
    "print(\"The full results:\\n\",result)"
   ]
  },
  {
   "cell_type": "markdown",
   "id": "80190252-890b-4515-8197-69810897d55b",
   "metadata": {},
   "source": [
    "Here’s a breakdown of the fields in the output:\n",
    "1. **message** ('Optimization terminated successfully'): This message indicates that the optimization process has completed successfully, and the algorithm has found a solution.\n",
    "2. **success** (True): This indicates that the optimization process was successful. If this were `False`, it would mean that the optimization did not converge to a solution.\n",
    "3. **status** (0): The status code `0` indicates that the optimization finished successfully without errors. A non-zero status could indicate an issue during the process.\n",
    "4. **fun** (0.0): This represents the value of the objective function (the function being minimized) at the optimal point. In this case, the function value is `0.0`, meaning the optimizer found a minimum where the function is 0.\n",
    "5. **x** ([-2.0]): This is the value of the variable(s) at the optimum, where the objective function reaches its minimum. In this case, the minimum occurs at `x = -2.0`.\n",
    "6. **nit** (2): This is the number of iterations the algorithm took to converge to the solution. Fewer iterations typically suggest a quicker convergence, while more iterations might indicate a more complex problem.\n",
    "7. **jac** ([0.0]): This is the value of the gradient (Jacobian) of the objective function at the optimum. Since the gradient is `0.0`, it confirms that we have reached a local minimum (where the derivative is zero).\n",
    "8. **hess_inv** ([[ 0.5]]): This is the inverse of the Hessian matrix at the optimum. The Hessian matrix contains second-order partial derivatives of the objective function. The inverse of the Hessian gives information about the curvature of the function and can be used for estimating the step size in optimization. In this case, it's `0.5`, which suggests the curvature is not too steep.\n",
    "9. **nfev** (6): This is the number of function evaluations performed during the optimization process. Each time the optimizer checks a potential solution, it evaluates the objective function. Here, the optimizer evaluated the function 6 times.\n",
    "10. **njev** (3): This is the number of Jacobian (gradient) evaluations performed during the optimization. The optimizer used the gradient to help guide the search for the minimum, and it evaluated the gradient 3 times.\n",
    "\n",
    "#### 2. Solving an equation"
   ]
  },
  {
   "cell_type": "code",
   "execution_count": 3,
   "id": "fe866ed5-d1fa-4c2e-bd58-3df0457c3d31",
   "metadata": {},
   "outputs": [
    {
     "name": "stdout",
     "output_type": "stream",
     "text": [
      "Solution of the equation:\n",
      "  message: The solution converged.\n",
      " success: True\n",
      "  status: 1\n",
      "     fun: [ 1.776e-15]\n",
      "       x: [ 2.000e+00]\n",
      "    nfev: 9\n",
      "    fjac: [[-1.000e+00]]\n",
      "       r: [-4.000e+00]\n",
      "     qtf: [ 1.530e-09]\n"
     ]
    }
   ],
   "source": [
    "from scipy.optimize import root\n",
    "\n",
    "# Define an equation\n",
    "def equation(x):\n",
    "    return x**2 - 4\n",
    "\n",
    "# Solve the equation\n",
    "solution = root(equation, x0=1)\n",
    "print(\"Solution of the equation:\\n\", solution)"
   ]
  },
  {
   "cell_type": "markdown",
   "id": "e9c6a676-762a-4e4e-bcab-48ba755857b8",
   "metadata": {},
   "source": [
    "Here’s a breakdown of the fields in the output:\n",
    "1. **message** ('The solution converged'): This message indicates that the root-finding algorithm successfully converged to a solution. In other words, the algorithm found a solution where the equation is approximately equal to zero.\n",
    "2. **success** (True): This indicates that the root-finding process was successful. If this were `False`, it would mean that the algorithm did not converge to a valid solution.\n",
    "3. **status** (1): The status code `1` means that the solver found a solution, and it indicates successful convergence. A status of `0` would indicate that the solver failed to converge, and other values might indicate specific issues during the process.\n",
    "4. **fun** ([1.776e-15]): This represents the value of the function at the computed root. Ideally, this value should be zero if the root was found exactly, but in practice, numerical methods can only get so close. The value `1.776e-15` is very close to zero, indicating that the solution is accurate to a very high degree (on the order of `10^-15`).\n",
    "5. **x** ([2.000e+00]): This is the value of `x` where the function was minimized (the root of the equation). In this case, the solver found that `x = 2.0` is the solution to the equation `x^2 - 4 = 0`. Therefore, the root of the equation is `x = 2.0`.\n",
    "6. **nfev** (9): This is the number of function evaluations performed during the root-finding process. Each time the algorithm checks a potential solution, it evaluates the equation. Here, the solver evaluated the function 9 times to find the root.\n",
    "7. **fjac** ([[-1.000e+00]]):This is  the Jacobian matrix of the function at the solution point. For a scalar equation, this is just the derivative of the function. In this case, `fjac` contains the value `-1.0`, which is the derivative of the function `x^2 - 4` evaluated at `x = 2.0`. This value indicates the slope of the function at the root.\n",
    "8. **r** ([-4.000e+00]): This array contains information related to the residuals, typically used for numerical stability. In this context, `r` represents a scaling factor. For the current solution, it shows `-4.0`, related to the function's behavior during the computation.\n",
    "9. **qtf** ([1.530e-09]): This is the QTF vector (Quasi-Newton Trust-Region Factorization). It represents a scaled residual in the algorithm’s final state. The value `1.530e-09` is very small, indicating that the optimization or root-finding process was very close to a solution. It confirms the precision of the solution is very high.\n",
    "\n",
    "### Integration\n",
    "The `integrate` module provides functions for numerical integration and solving differential equations.\n",
    "\n",
    "#### 1. Integrating a function"
   ]
  },
  {
   "cell_type": "code",
   "execution_count": 4,
   "id": "83e3208c-b7a8-4787-a6f9-fe6e310328d4",
   "metadata": {},
   "outputs": [
    {
     "name": "stdout",
     "output_type": "stream",
     "text": [
      "Integral of f(x) from 0 to 1: 0.33333333333333337\n"
     ]
    }
   ],
   "source": [
    "from scipy.integrate import quad\n",
    "\n",
    "# Define a function\n",
    "def f(x):\n",
    "    return x**2\n",
    "\n",
    "# Integrate the function from 0 to 1\n",
    "result, _ = quad(f, 0, 1)\n",
    "print(\"Integral of f(x) from 0 to 1:\", result)"
   ]
  },
  {
   "cell_type": "markdown",
   "id": "5f740463-7e14-4818-89d0-52f7e59b72b0",
   "metadata": {},
   "source": [
    "Here’s a breakdown of the fields in the result:\n",
    "1. **Result** (`0.33333333333333337`): This is the value of the integral of the function \\( f(x) = x^2 \\) from 0 to 1. The exact result is 1/3. The slight difference between the exact value (0.3333) and the computed value (0.33333333333333337) is due to floating-point precision in numerical computation, but it's very close to the correct answer.\n",
    "2. **Return value (`_`)**: The second return value from `quad` is an estimate of the error in the integration, which has been ignored here (denoted by `_`).\n",
    "\n",
    "#### 2. Solving an ordinary differential equation"
   ]
  },
  {
   "cell_type": "code",
   "execution_count": 5,
   "id": "06920bd8-abf7-4576-bac6-de022cfe54a2",
   "metadata": {},
   "outputs": [
    {
     "name": "stdout",
     "output_type": "stream",
     "text": [
      "Solution:\n",
      "   message: The solver successfully reached the end of the integration interval.\n",
      "  success: True\n",
      "   status: 0\n",
      "        t: [ 0.000e+00  7.580e-02 ...  4.651e+00  5.000e+00]\n",
      "        y: [[ 1.000e+00  8.593e-01 ...  9.185e-05  4.572e-05]]\n",
      "      sol: None\n",
      " t_events: None\n",
      " y_events: None\n",
      "     nfev: 74\n",
      "     njev: 0\n",
      "      nlu: 0\n"
     ]
    }
   ],
   "source": [
    "from scipy.integrate import solve_ivp\n",
    "\n",
    "# Define a differential equation dy/dx = -2y\n",
    "def dydx(t, y):\n",
    "    return -2 * y\n",
    "\n",
    "# Solve the equation with initial condition y(0) = 1\n",
    "solution = solve_ivp(dydx, [0, 5], [1])\n",
    "print(\"Solution:\\n\", solution)"
   ]
  },
  {
   "cell_type": "markdown",
   "id": "bbf90790-a345-48ea-9e4f-a2409ed9f2b6",
   "metadata": {},
   "source": [
    "Here’s a breakdown of the fields in the output:\n",
    "1. **message** ('The solver successfully reached the end of the integration interval'): This message indicates that the solver successfully completed the integration process and reached the end of the specified time interval.\n",
    "2. **success** (`True`): This indicates that the differential equation was solved successfully. If this were `False`, it would mean that the solver failed to find a solution within the given time interval or conditions.\n",
    "3. **status** (`0`): The status code `0` signifies successful completion of the integration process, which means the solver has successfully found the solution to the ODE.\n",
    "4. **t** (`[ 0.000e+00  7.580e-02 ...  4.651e+00  5.000e+00]`): This array represents the times (or independent variable values) at which the solver computed the solution. These are the points at which the ODE was solved within the time interval ([0, 5]).\n",
    "5. **y** (`[[ 1.000e+00  8.593e-01 ...  9.185e-05  4.572e-05]]`): This array represents the solution values ($y(t)$) at the corresponding times in `t`.\n",
    "6. **sol** (`None`): This field is `None` in this case because the solver did not return an additional object (such as an interpolated solution). Some solvers return an interpolated solution for better accuracy between time points, but this wasn't necessary in this case.\n",
    "7. **t_events** (`None`): This field would contain information about any events triggered during the integration (for example, if a specific condition on (t) or (y) was met during the solution). Since no events were defined, it is `None`.\n",
    "8. **y_events** (`None`): Similar to `t_events`, this would contain information about the state of the solution if any events related to (y) were triggered. Since no such events were specified, it is `None`.\n",
    "9. **nfev** (`74`): This is the number of **function evaluations** performed during the solution process. The solver evaluated the differential equation 74 times to compute the solution.\n",
    "10. **njev** (`0`): This is the number of **Jacobian evaluations** (if a Jacobian matrix was provided). Since it is `0`, this indicates that no Jacobian matrix was provided or needed.\n",
    "11. **nlu** (`0`): This is the number of **LU decompositions** performed during the solution process. This is relevant if the solver uses direct methods like LU decomposition. In this case, it’s `0`, meaning no LU decomposition was performed.\n",
    "\n",
    "### Linear algebra\n",
    "The `linalg` module provides advanced linear algebra functions like matrix decompositions, solving linear systems, and eigenvalue computations.\n",
    "\n",
    "#### 1. Solving a system of linear equations"
   ]
  },
  {
   "cell_type": "code",
   "execution_count": 6,
   "id": "87ecdaf6-fabf-43da-8160-70c475269371",
   "metadata": {},
   "outputs": [
    {
     "name": "stdout",
     "output_type": "stream",
     "text": [
      "Solution: [2. 3.]\n"
     ]
    }
   ],
   "source": [
    "from scipy.linalg import solve\n",
    "\n",
    "# Coefficient matrix\n",
    "A = [[3, 1], [1, 2]]\n",
    "# Right-hand side\n",
    "b = [9, 8]\n",
    "\n",
    "# Solve the linear system Ax = b\n",
    "x = solve(A, b)\n",
    "print(\"Solution:\", x)"
   ]
  },
  {
   "cell_type": "markdown",
   "id": "52af9d80-7159-435c-ba7b-7931e8957287",
   "metadata": {},
   "source": [
    "The output represents the solution vector $(\\mathbf{x})$ for the system of linear equations $(A \\cdot \\mathbf{x} = \\mathbf{b})$, where:\n",
    "$$\n",
    "A = \\begin{bmatrix} 3 & 1 \\\\ 1 & 2 \\end{bmatrix}, \\quad \\mathbf{b} = \\begin{bmatrix} 9 \\\\ 8 \\end{bmatrix}\n",
    "$$\n",
    "\n",
    "Solving the system:\n",
    "$$\n",
    "\\begin{bmatrix}\n",
    "3 & 1 \\\\\n",
    "1 & 2\n",
    "\\end{bmatrix}\n",
    "\\cdot\n",
    "\\begin{bmatrix}\n",
    "x_1 \\\\\n",
    "x_2\n",
    "\\end{bmatrix}\n",
    "=\n",
    "\\begin{bmatrix}\n",
    "9 \\\\\n",
    "8\n",
    "\\end{bmatrix}\n",
    "$$\n",
    "\n",
    "The solution to the system is ($x_1 = 2$) and ($x_2 = 3$), so the solution vector is:\n",
    "$$\n",
    "\\mathbf{x} = \\begin{bmatrix} 2 \\\\ 3 \\end{bmatrix}\n",
    "$$\n",
    "\n",
    "#### 2. Eigenvalues and eigenvectors"
   ]
  },
  {
   "cell_type": "code",
   "execution_count": 7,
   "id": "d445f905-f095-4c35-a623-fa0b1dd55c88",
   "metadata": {},
   "outputs": [
    {
     "name": "stdout",
     "output_type": "stream",
     "text": [
      "Eigenvalues: [2.+0.j 3.+0.j]\n",
      "Eigenvectors:\n",
      " [[1. 0.]\n",
      " [0. 1.]]\n"
     ]
    }
   ],
   "source": [
    "from scipy.linalg import eig\n",
    "\n",
    "# Define a square matrix\n",
    "matrix = [[2, 0], [0, 3]]\n",
    "\n",
    "# Compute eigenvalues and eigenvectors\n",
    "eigenvalues, eigenvectors = eig(matrix)\n",
    "print(\"Eigenvalues:\", eigenvalues)\n",
    "print(\"Eigenvectors:\\n\", eigenvectors)"
   ]
  },
  {
   "cell_type": "markdown",
   "id": "49df5f08-9584-4969-9cc8-c2ed70c77b3c",
   "metadata": {},
   "source": [
    "1. **Eigenvalues** (`[2.+0.j 3.+0.j]`): The output indicates the eigenvalues of the matrix ($A$):\n",
    "   $$\n",
    "   A = \\begin{bmatrix} 2 & 0 \\\\ 0 & 3 \\end{bmatrix}\n",
    "   $$\n",
    "   - The eigenvalues are ($\\lambda_1 = 2$) and ($\\lambda_2 = 3$), both of which are real numbers (the `+0.j` indicates no imaginary part).\n",
    "\n",
    "2. **Eigenvectors** (`[[1. 0.] [0. 1.]]`): The eigenvectors corresponding to the eigenvalues are:\n",
    "     - For eigenvalue ($\\lambda_1 = 2$), the eigenvector is $(\\mathbf{v}_1 = \\begin{bmatrix} 1 \\\\ 0 \\end{bmatrix})$.\n",
    "     - For eigenvalue ($\\lambda_2 = 3$), the eigenvector is $( \\mathbf{v}_2 = \\begin{bmatrix} 0 \\\\ 1 \\end{bmatrix})$.\n",
    "   - These eigenvectors correspond to the standard basis vectors, which are aligned with the axes, as expected for a diagonal matrix.\n",
    "  \n",
    "### Statistics\n",
    "The `stats` module provides functions for statistical analysis, probability distributions, hypothesis testing, and random sampling.\n",
    "\n",
    "#### 1. Descriptive statistics"
   ]
  },
  {
   "cell_type": "code",
   "execution_count": 8,
   "id": "dde0b677-d443-43ca-94dd-4ac3130d1fcf",
   "metadata": {},
   "outputs": [
    {
     "name": "stdout",
     "output_type": "stream",
     "text": [
      "Descriptive statistics: DescribeResult(nobs=5, minmax=(1, 5), mean=3.0, variance=2.5, skewness=0.0, kurtosis=-1.3)\n"
     ]
    }
   ],
   "source": [
    "from scipy.stats import describe\n",
    "\n",
    "# Sample data\n",
    "data = [1, 2, 3, 4, 5]\n",
    "\n",
    "# Compute descriptive statistics\n",
    "stats = describe(data)\n",
    "print(\"Descriptive statistics:\", stats)"
   ]
  },
  {
   "cell_type": "markdown",
   "id": "ce3d9057-aadf-4983-9059-95167af45abc",
   "metadata": {},
   "source": [
    "Here’s a breakdown of the fields in the output:\n",
    "1. **nobs (5)**: This indicates the number of observations (data points) in the dataset.\n",
    "2. **minmax (1, 5)**: This represents the minimum and maximum values of the data.\n",
    "3. **mean (3.0)**: The mean (average) of the data.\n",
    "4. **variance (2.5)**: The variance measures the spread of the data.\n",
    "5. **skewness (0.0)**: The skewness measures the asymmetry of the distribution. A skewness of 0.0 indicates that the distribution is perfectly symmetric.\n",
    "6. **kurtosis (-1.3)**: Kurtosis measures the \"tailedness\" of the distribution. A negative value indicates a distribution with lighter tails compared to a normal distribution. Here, the kurtosis is -1.3, indicating a platykurtic distribution (less peaked than a normal distribution).\n",
    "\n",
    "#### 2. Probability distributions"
   ]
  },
  {
   "cell_type": "code",
   "execution_count": 9,
   "id": "894459d8-5f37-40b5-ac5b-2748fb5de828",
   "metadata": {},
   "outputs": [
    {
     "name": "stdout",
     "output_type": "stream",
     "text": [
      "Random samples: [-0.85442717  1.17118089 -0.86405586  0.31054944 -0.48754633]\n",
      "PDF at 0: 0.3989422804014327\n",
      "CDF at 0: 0.5\n"
     ]
    }
   ],
   "source": [
    "from scipy.stats import norm\n",
    "\n",
    "# Generate random samples from a normal distribution\n",
    "samples = norm.rvs(size=5)\n",
    "print(\"Random samples:\", samples)\n",
    "\n",
    "# Compute the PDF and CDF at a given point\n",
    "pdf = norm.pdf(0)\n",
    "cdf = norm.cdf(0)\n",
    "print(\"PDF at 0:\", pdf)\n",
    "print(\"CDF at 0:\", cdf)"
   ]
  },
  {
   "cell_type": "markdown",
   "id": "35d20d9d-c923-4fcf-9566-5b1633177a87",
   "metadata": {},
   "source": [
    "Here’s a breakdown of the fields in the output:\n",
    "1. **PDF at 0** (`0.3989422804014327`): The Probability Density Function (PDF) of a normal distribution at a specific point gives the height of the distribution at that point. For the standard normal distribution, the PDF at ($x = 0$) is ($\\frac{1}{\\sqrt{2\\pi}} \\approx 0.3989422804$), as expected for the peak of the standard normal curve.\n",
    "2. **CDF at 0** (`0.5`): The Cumulative Distribution Function (CDF) gives the probability that a random variable is less than or equal to a given value.  For the standard normal distribution, the CDF at ($x = 0$) is ($0.5$), indicating that 50% of the values lie below 0 (since the normal distribution is symmetric around zero).\n",
    "\n",
    "The `norm.rvs` function generates random samples from a normal distribution. The `pdf` at ($x=0$) shows the density at the mean, and the `cdf` at ($x=0$) shows the probability that a random sample is less than or equal to 0.\n",
    "\n",
    "#### 3. Hypothesis testing"
   ]
  },
  {
   "cell_type": "code",
   "execution_count": 10,
   "id": "bf58abe1-0513-43d1-8dcc-dda611f67aac",
   "metadata": {},
   "outputs": [
    {
     "name": "stdout",
     "output_type": "stream",
     "text": [
      "Test statistic: -1.414213562373096\n",
      "p-value: 0.23019964108049848\n"
     ]
    }
   ],
   "source": [
    "from scipy.stats import ttest_1samp\n",
    "\n",
    "# Sample data\n",
    "data = [1.8, 1.9, 2.1, 2.0, 1.7]\n",
    "\n",
    "# Perform a one-sample t-test\n",
    "test_stat, p_value = ttest_1samp(data, 2)\n",
    "print(\"Test statistic:\", test_stat)\n",
    "print(\"p-value:\", p_value)"
   ]
  },
  {
   "cell_type": "markdown",
   "id": "4a6219f3-59ca-47a1-b32f-d6bcb086d4f0",
   "metadata": {},
   "source": [
    "Here’s a breakdown of the fields in the output:\n",
    "1. **Test Statistic** (`-1.414213562373096`): The test statistic is calculated based on the difference between the sample mean and the population mean.\n",
    "2. **p-value** (`0.23019964108049848`): The p-value indicates the probability of obtaining a test statistic as extreme as the observed value under the null hypothesis. A p-value of 0.230 suggests that there is a 23% probability of observing such a result if the true population mean is 2. Since this is greater than the typical significance level (e.g., ($\\alpha = 0.05$)), we fail to reject the null hypothesis. This means there is insufficient evidence to conclude that the sample mean is significantly different from the population mean."
   ]
  },
  {
   "cell_type": "markdown",
   "id": "0e187761-a558-4e36-a009-96cbec305a06",
   "metadata": {},
   "source": [
    "### Spatial analysis\n",
    "The `spatial` module provides tools for spatial data structures and algorithms, such as working with distance metrics, nearest neighbors, and triangulations.\n",
    "\n",
    "#### 1. Computing pairwise distances"
   ]
  },
  {
   "cell_type": "code",
   "execution_count": 11,
   "id": "cfc8f81f-a860-425e-9906-fff35d444470",
   "metadata": {},
   "outputs": [
    {
     "name": "stdout",
     "output_type": "stream",
     "text": [
      "Euclidean distance: 5.0\n"
     ]
    }
   ],
   "source": [
    "from scipy.spatial import distance\n",
    "\n",
    "# Define two points\n",
    "point1 = [0, 0]\n",
    "point2 = [3, 4]\n",
    "\n",
    "# Compute Euclidean distance\n",
    "dist = distance.euclidean(point1, point2)\n",
    "print(\"Euclidean distance:\", dist)"
   ]
  },
  {
   "cell_type": "markdown",
   "id": "3e8a4270-583c-45a1-bf55-1eca93010cd9",
   "metadata": {},
   "source": [
    "#### 2. Nearest neighbor search"
   ]
  },
  {
   "cell_type": "code",
   "execution_count": 12,
   "id": "07f3b776-2c9d-49dc-86b0-adb0ad277e8f",
   "metadata": {},
   "outputs": [
    {
     "name": "stdout",
     "output_type": "stream",
     "text": [
      "Nearest neighbor index: 1\n",
      "Distance to nearest neighbor: 0.14142135623730964\n"
     ]
    }
   ],
   "source": [
    "from scipy.spatial import KDTree\n",
    "\n",
    "# Create a 2D dataset\n",
    "points = [[1, 1], [2, 2], [3, 3], [4, 4]]\n",
    "\n",
    "# Build a KDTree\n",
    "tree = KDTree(points)\n",
    "\n",
    "# Query for the nearest neighbor of a given point\n",
    "dist, idx = tree.query([2.1, 2.1])\n",
    "print(\"Nearest neighbor index:\", idx)\n",
    "print(\"Distance to nearest neighbor:\", dist)"
   ]
  },
  {
   "cell_type": "markdown",
   "id": "ecc0726b-4cb3-41f0-b963-9a1a7814343e",
   "metadata": {},
   "source": [
    "1. **KDTree**: A KDTree (k-dimensional tree) is a data structure used to efficiently store and query multidimensional points (e.g., points in 2D or 3D space). It helps speed up nearest neighbor searches, especially when working with large datasets.\n",
    "2. **Dataset**: The input dataset consists of 4 2D points: These points represent positions in a 2D plane.\n",
    "3. **Query**: We query the KDTree for the nearest neighbor to the point `[2.1, 2.1]`, which is a point slightly to the right and above the point `[2, 2]`. The KDTree uses its structure to efficiently find the closest point in the dataset.\n",
    "4. **Output - nearest neighbor index**:\n",
    "   - `idx = 1`: The index `1` refers to the point `[2, 2]` in the dataset (second point, zero-based index). This is the closest point to `[2.1, 2.1]` in the dataset.\n",
    "\n",
    "5. **Output - distance**:\n",
    "   - `dist = 0.14142135623730964`: This is the Euclidean distance between the query point `[2.1, 2.1]` and its nearest neighbor `[2, 2]`. This tells us how far the point `[2.1, 2.1]` is from the nearest point `[2, 2]` in the dataset.\n",
    "\n",
    "#### 3. Delaunay triangulation\n",
    "Delaunay triangulation is a method of dividing a set of points into non-overlapping triangles such that no point lies inside the circumcircle of any triangle. This algorithm creates triangles that are as equiangular as possible, without any point being inside the circle formed by any triangle's vertices."
   ]
  },
  {
   "cell_type": "code",
   "execution_count": 13,
   "id": "8fd48c78-1ab1-41c7-bfd1-4bab864a3963",
   "metadata": {},
   "outputs": [
    {
     "data": {
      "image/png": "[encoded data removed]",
      "text/plain": [
       "<Figure size 640x480 with 1 Axes>"
      ]
     },
     "metadata": {},
     "output_type": "display_data"
    }
   ],
   "source": [
    "from scipy.spatial import Delaunay\n",
    "import matplotlib.pyplot as plt\n",
    "\n",
    "# Define points\n",
    "points = [[0, 0], [1, 0], [1, 1], [0, 1]]\n",
    "\n",
    "# Perform Delaunay triangulation\n",
    "tri = Delaunay(points)\n",
    "\n",
    "# Plot the triangulation\n",
    "plt.triplot([p[0] for p in points], [p[1] for p in points], tri.simplices)\n",
    "plt.scatter([p[0] for p in points], [p[1] for p in points], color='red')\n",
    "plt.show()"
   ]
  },
  {
   "cell_type": "markdown",
   "id": "1ecf9bb2-4512-4ce7-a6b0-d715370c4204",
   "metadata": {},
   "source": [
    "### Signal processing\n",
    "The `signal` module provides tools for signal processing, including filtering, Fourier transforms, and spectral analysis.\n",
    "\n",
    "#### 1. Filtering a signal"
   ]
  },
  {
   "cell_type": "code",
   "execution_count": 14,
   "id": "e5cc8b28-6282-4cd5-bbfa-5a9fda628c28",
   "metadata": {},
   "outputs": [
    {
     "name": "stdout",
     "output_type": "stream",
     "text": [
      "Filtered signal: [4.16546139e-04 3.20163919e-03 1.25907625e-02 3.47089774e-02\n",
      " 7.67694916e-02 1.45587090e-01 2.44820008e-01 3.73072242e-01\n",
      " 5.24384350e-01]\n"
     ]
    }
   ],
   "source": [
    "from scipy.signal import butter, lfilter\n",
    "\n",
    "# Generate a Butterworth filter\n",
    "b, a = butter(3, 0.05)  # 3rd-order low-pass filter with cutoff frequency 0.05\n",
    "\n",
    "# Apply the filter to a noisy signal\n",
    "signal = [1, 2, 3, 4, 5, 4, 3, 2, 1]  # Example signal\n",
    "filtered_signal = lfilter(b, a, signal)\n",
    "print(\"Filtered signal:\", filtered_signal)"
   ]
  },
  {
   "cell_type": "markdown",
   "id": "1008a7ff-5a4f-436b-8b4f-74fb1f5571c2",
   "metadata": {},
   "source": [
    "1. **Butterworth filter**: The `butter` function generates the coefficients for a 3rd-order low-pass Butterworth filter with a cutoff frequency of 0.05. This filter allows low-frequency components of the signal to pass through while attenuating high-frequency noise. \n",
    "2. **Applying the filter**: The `lfilter` function applies the filter to the given signal, smoothing out high-frequency fluctuations (noise) and passing the low-frequency components.\n",
    "3. **Filtered signal**: The output consists of the filtered signal values:\n",
    "     - At the beginning, the values are very small (close to 0), indicating the filter is smoothing out the sharp transitions in the original signal.\n",
    "     - As the signal progresses, the filtered values gradually increase, reflecting the signal’s trend after the high-frequency noise is removed.\n",
    "     - By the end of the sequence, the signal values are more stable and gradually increasing, showing that the filter has removed the sudden jumps from the original noisy signal.\n",
    "\n",
    "#### 2. Fourier transform"
   ]
  },
  {
   "cell_type": "code",
   "execution_count": 15,
   "id": "3df12cd3-e88e-453c-960d-0098544d71e2",
   "metadata": {},
   "outputs": [
    {
     "name": "stdout",
     "output_type": "stream",
     "text": [
      "Fourier transform: [15. -0.j         -2.5+3.4409548j  -2.5+0.81229924j -2.5-0.81229924j\n",
      " -2.5-3.4409548j ]\n"
     ]
    }
   ],
   "source": [
    "from scipy.fft import fft\n",
    "\n",
    "# Define a simple signal\n",
    "signal = [1, 2, 3, 4, 5]\n",
    "\n",
    "# Compute the Fourier Transform\n",
    "fft_result = fft(signal)\n",
    "print(\"Fourier transform:\", fft_result)"
   ]
  },
  {
   "cell_type": "markdown",
   "id": "aa73dfb4-6fff-4209-8e45-5737691525f2",
   "metadata": {},
   "source": [
    "1. **Fourier transform**: The `fft` (Fast Fourier Transform) function converts the time-domain signal (a sequence of values in the original signal) into its frequency-domain representation. The result is a list of complex numbers, each representing a frequency component of the signal.\n",
    "2. **Output breakdown**:\n",
    "   - **First value** (`15. - 0.j`): This is the DC component (the average value of the signal), which is a real number with no imaginary part. It represents the overall constant value of the signal.\n",
    "   - **Other values**: These are complex numbers, each consisting of a real part (e.g., `-2.5`) and an imaginary part (e.g., `+3.4409548j`). These values represent sinusoidal components of different frequencies in the signal. \n",
    "     - The magnitude of the complex numbers gives the amplitude of each frequency component.\n",
    "     - The imaginary part shows the phase shift of that frequency component.\n",
    "3. **Interpretation**: The Fourier transform breaks the signal down into its frequency components. The real parts represent the magnitude of each frequency, and the imaginary parts represent the phase shift. For this simple signal, the main frequency components are encoded in the second through fifth values, while the first value represents the signal's average or baseline (DC component).\n",
    "\n",
    "#### 3. Convolution"
   ]
  },
  {
   "cell_type": "code",
   "execution_count": 16,
   "id": "9346a0be-61ad-4f80-8d3a-cc2b4d73030e",
   "metadata": {},
   "outputs": [
    {
     "name": "stdout",
     "output_type": "stream",
     "text": [
      "Convolved signal: [0.2 0.9 1.8 1.9 0.6]\n"
     ]
    }
   ],
   "source": [
    "from scipy.signal import convolve\n",
    "\n",
    "# Define two signals\n",
    "signal1 = [1, 2, 3]\n",
    "signal2 = [0.2, 0.5, 0.2]\n",
    "\n",
    "# Perform convolution\n",
    "convolved_signal = convolve(signal1, signal2, mode='full')\n",
    "print(\"Convolved signal:\", convolved_signal)"
   ]
  },
  {
   "cell_type": "markdown",
   "id": "bdaddbd3-3aef-4bb1-9a92-32b560059f40",
   "metadata": {},
   "source": [
    "1. **Convolution process**: Convolution is a mathematical operation that combines two signals (or functions) to produce a third signal. It’s often used in signal processing to apply filters or detect features in signals. Here, `signal1` is the input signal `[1, 2, 3]` and `signal2` is a filter or kernel `[0.2, 0.5, 0.2]`. The convolution slides `signal2` over `signal1`, performing element-wise multiplication and summing the results at each step.\n",
    "\n",
    "2. **Convolution output**: The `mode='full'` argument ensures that the output includes all values from the full convolution (both the overlap and the parts where `signal2` is partially outside `signal1`).\n",
    "   - The values in the result array represent the combined effects of these signals at each step of the convolution.\n",
    "\n",
    "### Image processing\n",
    "The `ndimage` module is useful for image processing, such as filtering, measurements, and transformations.\n",
    "\n",
    "#### 1. Gaussian filtering"
   ]
  },
  {
   "cell_type": "code",
   "execution_count": 17,
   "id": "38195197-5662-4f58-ae41-bd906344c57b",
   "metadata": {},
   "outputs": [
    {
     "name": "stdout",
     "output_type": "stream",
     "text": [
      "Smoothed image:\n",
      " [[0.71130353 0.63198282 0.58213673 0.48498206 0.38732684]\n",
      " [0.66426054 0.58418332 0.55557521 0.51265358 0.48331071]\n",
      " [0.63107008 0.54158808 0.50175101 0.48653133 0.50784741]\n",
      " [0.65576879 0.54215094 0.46229811 0.46365829 0.49848693]\n",
      " [0.68828222 0.59051161 0.48307515 0.47165281 0.48717246]]\n"
     ]
    }
   ],
   "source": [
    "from scipy.ndimage import gaussian_filter\n",
    "import numpy as np\n",
    "\n",
    "# Create a 2D array (image)\n",
    "image = np.random.random((5, 5))\n",
    "\n",
    "# Apply Gaussian filter\n",
    "smoothed_image = gaussian_filter(image, sigma=1)\n",
    "print(\"Smoothed image:\\n\", smoothed_image)"
   ]
  },
  {
   "cell_type": "markdown",
   "id": "e9f2be0b-3642-42ab-8c9a-3aebbfe103e6",
   "metadata": {},
   "source": [
    "1. **Gaussian filter**: The `gaussian_filter` function applies a Gaussian filter to the 2D array (which in this case is treated like an image). A Gaussian filter is used to smooth or blur an image by averaging the pixel values within a local neighborhood, with the weights determined by a Gaussian function. This is especially useful for removing noise from images.\n",
    "2. **Sigma parameter**: The `sigma=1` parameter controls the amount of smoothing applied. A higher sigma results in more smoothing, while a lower sigma retains more of the original detail. Here, `sigma=1` gives a moderate amount of smoothing.\n",
    "3. **Smoothed image**: The output is the smoothed version of the original `5x5` image. Each value in the smoothed image is the result of averaging nearby values in the original image, with nearby values weighted more heavily based on the Gaussian distribution. For example, in the first row, the values have been smoothed to remove sharp transitions, creating a more gradual change from left to right.\n",
    "4. **Effect of gaussian filtering**: The filter reduces high-frequency components (rapid changes in pixel intensity) and retains low-frequency components (gradual changes), making the image appear more blurred or \"smoothed out.\" In the smoothed image, the pixel values are less variable compared to the original image, which indicates that the filter has successfully reduced noise and sharp edges.\n",
    "\n",
    "#### 2. Edge detection"
   ]
  },
  {
   "cell_type": "code",
   "execution_count": 18,
   "id": "9b1fa49c-2aae-4433-be99-5e4210b42285",
   "metadata": {},
   "outputs": [
    {
     "name": "stdout",
     "output_type": "stream",
     "text": [
      "Edge detection along x-axis:\n",
      " [[12 12 12]\n",
      " [24 24 24]\n",
      " [12 12 12]]\n",
      "Edge detection along y-axis:\n",
      " [[4 8 4]\n",
      " [4 8 4]\n",
      " [4 8 4]]\n"
     ]
    }
   ],
   "source": [
    "from scipy.ndimage import sobel\n",
    "\n",
    "# Create a 2D array (image)\n",
    "image = np.array([[1, 2, 3], [4, 5, 6], [7, 8, 9]])\n",
    "\n",
    "# Apply Sobel filter for edge detection\n",
    "edge_x = sobel(image, axis=0)  # Detect edges along the x-axis\n",
    "edge_y = sobel(image, axis=1)  # Detect edges along the y-axis\n",
    "print(\"Edge detection along x-axis:\\n\", edge_x)\n",
    "print(\"Edge detection along y-axis:\\n\", edge_y)"
   ]
  },
  {
   "cell_type": "markdown",
   "id": "c5751ce0-b918-487c-83f7-8ca6c6e05f32",
   "metadata": {},
   "source": [
    "1. **Sobel filter**: The Sobel filter is a popular edge detection algorithm used to highlight areas of rapid intensity change in an image, which are typically edges. It works by calculating the gradient (rate of change) of pixel values in different directions. The filter can be applied in two directions: along the x-axis (horizontal edges) and the y-axis (vertical edges).\n",
    "2. **Edge detection along the x-axis**: `edge_x = sobel(image, axis=0)` detects edges along the x-axis (horizontal direction). The result shows how much the pixel values change as you move horizontally across the image. The output `[[12 12 12], [24 24 24], [12 12 12]]` indicates strong edges where the pixel values change rapidly. In particular, the edges between columns 1-2 and 2-3 are more pronounced due to the transition in intensity values between `1, 2, 3` and `4, 5, 6`. The values are higher in the middle row because the change between `4, 5, 6` and `7, 8, 9` is more significant than at the top or bottom rows.\n",
    "3. **Edge detection along the y-axis**: `edge_y = sobel(image, axis=1)` detects edges along the y-axis (vertical direction). This shows how much the pixel values change as you move vertically down the image. The output `[[4 8 4], [4 8 4], [4 8 4]]` indicates the vertical edges. The central column (values `2, 5, 8`) has the strongest edge detection because the pixel values increase significantly from `1, 4, 7` (left side) to `3, 6, 9` (right side). The constant values in the first and last columns (where the edge is less noticeable) show weaker edge detection.\n",
    "\n",
    "#### 3. Rotating an image"
   ]
  },
  {
   "cell_type": "code",
   "execution_count": 19,
   "id": "6fffd691-6907-4296-aeb0-5c998ec12c6d",
   "metadata": {},
   "outputs": [
    {
     "name": "stdout",
     "output_type": "stream",
     "text": [
      "Rotated image:\n",
      " [[0 0 0]\n",
      " [0 2 0]\n",
      " [0 0 0]]\n"
     ]
    }
   ],
   "source": [
    "from scipy.ndimage import rotate\n",
    "\n",
    "# Create a simple 2D array (image)\n",
    "image = np.array([[0, 1], [2, 3]])\n",
    "\n",
    "# Rotate the image by 45 degrees\n",
    "rotated_image = rotate(image, 45, reshape=True)\n",
    "print(\"Rotated image:\\n\", rotated_image)"
   ]
  },
  {
   "cell_type": "markdown",
   "id": "a49779dc-276b-4581-aab2-71a2386549db",
   "metadata": {},
   "source": [
    "1. **rotate function**: The `rotate` function rotates an image (2D array) by a specified angle, in this case, 45 degrees.  The `reshape=True` parameter means the output array will be resized to fit the entire rotated image, so it doesn’t crop any parts.\n",
    "2. **Rotation by 45 degrees**: When the image is rotated by 45 degrees counterclockwise, the new image layout changes. Since the original matrix is very small and the rotation angle is not a multiple of 90 degrees, the rotated image is re-sized to fit the rotated content. This is where the `reshape=True` option comes in.\n",
    "3. **Result**: The rotated image is now a 3x3 matrix. The `2` from the original image is now placed in the middle of the new array, at position `[1, 1]`. This shift happens due to the 45-degree rotation. The values `0` fill in the surrounding areas because no original pixels overlap there after the rotation. The image has been rotated, but because the matrix has been resized to hold the entire rotated version, there are extra rows and columns of zeros.\n",
    "   - The center point of the original image has moved to the middle of the new matrix after the rotation."
   ]
  }
 ],
 "metadata": {
  "kernelspec": {
   "display_name": "Python 3 (ipykernel)",
   "language": "python",
   "name": "python3"
  },
  "language_info": {
   "codemirror_mode": {
    "name": "ipython",
    "version": 3
   },
   "file_extension": ".py",
   "mimetype": "text/x-python",
   "name": "python",
   "nbconvert_exporter": "python",
   "pygments_lexer": "ipython3",
   "version": "3.8.19"
  }
 },
 "nbformat": 4,
 "nbformat_minor": 5
}
