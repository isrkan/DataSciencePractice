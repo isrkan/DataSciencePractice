{
 "cells": [
  {
   "cell_type": "markdown",
   "id": "8e924e97-40f1-4d7a-b9cc-fc8778792f83",
   "metadata": {},
   "source": [
    "# Polynomials in NumPy\n",
    "\n",
    "NumPy provides a suite of functions for handling polynomials."
   ]
  },
  {
   "cell_type": "code",
   "execution_count": 1,
   "id": "63dbc53a-c29f-4aee-bcf5-4d2fe9ad3ae9",
   "metadata": {
    "tags": []
   },
   "outputs": [],
   "source": [
    "import numpy as np"
   ]
  },
  {
   "cell_type": "markdown",
   "id": "e2680463-91af-4d51-beea-adb34f8c30fb",
   "metadata": {},
   "source": [
    "### Creating a polynomial\n",
    "\n",
    "- The `numpy.polynomial.Polynomial` class is used to create polynomial objects that provide a convenient way to perform polynomial arithmetic.\n",
    "- We can create a polynomial from its roots using `np.polynomial.polynomial.polyfromroots`.\n",
    "- `Polynomial.basis(degree)` creates a polynomial that represents the basis polynomial of the specified degree. For degree 3, it represents $x^3$.\n",
    "- `Polynomial.identity()`: Creates a polynomial where $p(x)=x$."
   ]
  },
  {
   "cell_type": "code",
   "execution_count": 2,
   "id": "4dbe4b53-3ce8-4acc-aa77-bacb1ad66e59",
   "metadata": {
    "tags": []
   },
   "outputs": [
    {
     "name": "stdout",
     "output_type": "stream",
     "text": [
      "Polynomial: 2.0 + 3.0 x**1 + 1.0 x**2\n",
      "\n",
      "Polynomial coefficients from roots: [-6. 11. -6.  1.]\n",
      "Polynomial from roots: -6.0 + 11.0 x**1 - 6.0 x**2 + 1.0 x**3\n",
      "\n",
      "Basis polynomial of degree 2: 0.0 + 0.0 x**1 + 1.0 x**2\n",
      "Basis polynomial of degree 3: 0.0 + 0.0 x**1 + 0.0 x**2 + 1.0 x**3\n",
      "\n",
      "Identity polynomial: 0.0 + 1.0 x**1\n"
     ]
    }
   ],
   "source": [
    "# Create a polynomial p(x) = 2 + 3x + x^2 with coefficients\n",
    "p = np.polynomial.Polynomial([2, 3, 1])\n",
    "print(\"Polynomial:\", p)\n",
    "\n",
    "# Create a polynomial with roots at x = 1, 2, and 3\n",
    "p_coefficients_from_roots = np.polynomial.polynomial.polyfromroots([1, 2, 3])\n",
    "print(\"\\nPolynomial coefficients from roots:\", p_coefficients_from_roots)\n",
    "p_from_roots = np.polynomial.Polynomial(p_coefficients_from_roots)\n",
    "print(\"Polynomial from roots:\", p_from_roots)\n",
    "\n",
    "# Create a basis polynomial of degree 2 and 3\n",
    "basis_2_poly = np.polynomial.Polynomial.basis(2)\n",
    "print(\"\\nBasis polynomial of degree 2:\", basis_2_poly)\n",
    "basis_3_poly = np.polynomial.Polynomial.basis(3)\n",
    "print(\"Basis polynomial of degree 3:\", basis_3_poly)\n",
    "\n",
    "# Polynomial identity\n",
    "identity_poly = np.polynomial.Polynomial.identity()\n",
    "print(\"\\nIdentity polynomial:\", identity_poly)"
   ]
  },
  {
   "cell_type": "markdown",
   "id": "e0e3de87-1f53-4874-a9ec-eb8cc2902c4b",
   "metadata": {},
   "source": [
    "***Syntax***\n",
    "\n",
    "- Creating a polynomial with coefficients: `p = np.polynomial.Polynomial([coefficients])`\n",
    "- Creating a oolynomial from roots: `p = np.polynomial.polynomial.polyfromroots(roots)`\n",
    "\n",
    "#### Creating a linear polynomial\n",
    "\n",
    "The `np.polynomial.polynomial.polyline` function creates a linear polynomial based on a given slope and intercept."
   ]
  },
  {
   "cell_type": "code",
   "execution_count": 3,
   "id": "0d4d5735-ddf7-4d9d-a507-85140a787edf",
   "metadata": {
    "tags": []
   },
   "outputs": [
    {
     "name": "stdout",
     "output_type": "stream",
     "text": [
      "Linear polynomial intercept and slope: [2 3]\n",
      "Linear polynomial: 2.0 + 3.0 x**1\n"
     ]
    }
   ],
   "source": [
    "# Define a linear polynomial y = 2 + 3x with intercept 2 and slope 3\n",
    "pline = np.polynomial.polynomial.polyline(2, 3)\n",
    "print(\"Linear polynomial intercept and slope:\", pline)\n",
    "pline = np.polynomial.Polynomial(pline)\n",
    "print(\"Linear polynomial:\", pline)"
   ]
  },
  {
   "cell_type": "markdown",
   "id": "05fa8e7e-5e95-4ad6-841c-76c54532c463",
   "metadata": {},
   "source": [
    "***Syntax***\n",
    "\n",
    "- Creating a linear polynomial:: `pline = np.polynomial.polynomial.polyline(off, scl)`\n",
    "    - `off`: The y-intercept of the linear polynomial.\n",
    "    - `scl`: The slope of the linear polynomial.\n",
    "\n",
    "### Polynomial arithmetic operations\n",
    "\n",
    "NumPy allows us to perform various arithmetic operations on polynomials such as addition, subtraction, multiplication, and division."
   ]
  },
  {
   "cell_type": "code",
   "execution_count": 4,
   "id": "e7cc27c5-65ee-4fc8-b3e8-cb8cc82d27b3",
   "metadata": {
    "tags": []
   },
   "outputs": [
    {
     "name": "stdout",
     "output_type": "stream",
     "text": [
      "Polynomial p(x): 2.0 + 3.0 x**1 + 1.0 x**2\n",
      "Polynomial q(x): 1.0 - 1.0 x**1\n",
      "\n",
      "Addition: [3. 2. 1.]\n",
      "New polynomial: 3.0 + 2.0 x**1 + 1.0 x**2\n",
      "\n",
      "Subtraction: [1. 4. 1.]\n",
      "New polynomial: 1.0 + 4.0 x**1 + 1.0 x**2\n",
      "\n",
      "Multiplication: [ 2.  1. -2. -1.]\n",
      "New polynomial: 2.0 + 1.0 x**1 - 2.0 x**2 - 1.0 x**3\n",
      "\n",
      "Division: [-4. -1.]\n",
      "New polynomial (quotient): -4.0 - 1.0 x**1\n",
      "Remainder: [6.]\n",
      "\n",
      "Multiplication by x: [0. 2. 3. 1.]\n",
      "New polynomial: 0.0 + 2.0 x**1 + 3.0 x**2 + 1.0 x**3\n",
      "\n",
      "Polynomial raised to power 2: [ 4. 12. 13.  6.  1.]\n",
      "New polynomial: 4.0 + 12.0 x**1 + 13.0 x**2 + 6.0 x**3 + 1.0 x**4\n"
     ]
    }
   ],
   "source": [
    "# Create a polynomial p(x) = 2 + 3x + x^2\n",
    "p = np.polynomial.Polynomial([2, 3, 1])\n",
    "print(\"Polynomial p(x):\", p)\n",
    "# Create another polynomial q(x) = 1 - x\n",
    "q = np.polynomial.Polynomial([1, -1])\n",
    "print(\"Polynomial q(x):\", q)\n",
    "\n",
    "# Add two polynomials\n",
    "poly_add = np.polynomial.polynomial.polyadd(p.coef, q.coef)\n",
    "print(\"\\nAddition:\", poly_add)\n",
    "print(\"New polynomial:\", np.polynomial.Polynomial(poly_add))\n",
    "\n",
    "# Subtract two polynomials\n",
    "poly_sub = np.polynomial.polynomial.polysub(p.coef, q.coef)\n",
    "print(\"\\nSubtraction:\", poly_sub)\n",
    "print(\"New polynomial:\", np.polynomial.Polynomial(poly_sub))\n",
    "\n",
    "# Multiply two polynomials\n",
    "poly_mul = np.polynomial.polynomial.polymul(p.coef, q.coef)\n",
    "print(\"\\nMultiplication:\", poly_mul)\n",
    "print(\"New polynomial:\", np.polynomial.Polynomial(poly_mul))\n",
    "\n",
    "# Divide two polynomials\n",
    "poly_div, poly_rem = np.polynomial.polynomial.polydiv(p.coef, q.coef)\n",
    "print(\"\\nDivision:\", poly_div)\n",
    "print(\"New polynomial (quotient):\", np.polynomial.Polynomial(poly_div))\n",
    "print(\"Remainder:\", poly_rem)\n",
    "\n",
    "# Multiply polynomial p(x) by x (i.e., increase the degree by 1)\n",
    "poly_mulx = np.polynomial.polynomial.polymulx(p.coef)\n",
    "print(\"\\nMultiplication by x:\", poly_mulx)\n",
    "print(\"New polynomial:\", np.polynomial.Polynomial(poly_mulx))\n",
    "\n",
    "# Raise polynomial p(x) to the power of 2\n",
    "poly_pow = np.polynomial.polynomial.polypow(p.coef, 2)\n",
    "print(\"\\nPolynomial raised to power 2:\", poly_pow)\n",
    "print(\"New polynomial:\", np.polynomial.Polynomial(poly_pow))"
   ]
  },
  {
   "cell_type": "markdown",
   "id": "8a70a34e-5450-4b31-9375-9d787c88d11c",
   "metadata": {},
   "source": [
    "When performing polynomial division, the division operation provides both a quotient and a remainder. The quotient is the result of the division, and the remainder is what is left over after dividing.\n",
    "\n",
    "### Roots of polynomials\n",
    "Find the roots of a polynomial using the `roots` method."
   ]
  },
  {
   "cell_type": "code",
   "execution_count": 5,
   "id": "e565e743-170b-4b65-aece-bef519eefc67",
   "metadata": {
    "tags": []
   },
   "outputs": [
    {
     "name": "stdout",
     "output_type": "stream",
     "text": [
      "Roots: [-2. -1.]\n"
     ]
    }
   ],
   "source": [
    "# Find the roots of the polynomial\n",
    "roots = p.roots()\n",
    "print(\"Roots:\", roots)"
   ]
  },
  {
   "cell_type": "markdown",
   "id": "9e21b315-586f-4408-aa3e-5164ea552e89",
   "metadata": {},
   "source": [
    "### Polynomial fitting\n",
    "We can fit a polynomial to a set of data points using `np.polynomial.polynomial.polyfit`."
   ]
  },
  {
   "cell_type": "code",
   "execution_count": 6,
   "id": "e93847d2-a4fb-4d8a-a6b5-ded832d98199",
   "metadata": {
    "tags": []
   },
   "outputs": [
    {
     "name": "stdout",
     "output_type": "stream",
     "text": [
      "Fitted coefficients: [1. 1. 1.]\n",
      "Fitted polynomial: 1.0000000000000042 + 0.9999999999999982 x**1 + 1.0000000000000004 x**2\n"
     ]
    }
   ],
   "source": [
    "# Data points\n",
    "x = np.array([0, 1, 2, 3, 4])\n",
    "y = np.array([1, 3, 7, 13, 21])\n",
    "\n",
    "# Fit a polynomial of degree 2\n",
    "coefficients = np.polynomial.polynomial.polyfit(x, y, 2)\n",
    "print(\"Fitted coefficients:\", coefficients)\n",
    "\n",
    "# Create the fitted polynomial\n",
    "fitted_poly = np.polynomial.Polynomial(coefficients)\n",
    "print(\"Fitted polynomial:\", fitted_poly)"
   ]
  },
  {
   "cell_type": "markdown",
   "id": "4bb64635-4dfe-43ad-a7f7-3f504e8d649b",
   "metadata": {
    "tags": []
   },
   "source": [
    "### Polynomial evaluation\n",
    "We can evaluate polynomials at specific values using the `__call__` method or the `np.polynomial.Polynomial` instance."
   ]
  },
  {
   "cell_type": "code",
   "execution_count": 7,
   "id": "59115348-2614-4433-97a0-ed58d8046c1a",
   "metadata": {
    "tags": []
   },
   "outputs": [
    {
     "name": "stdout",
     "output_type": "stream",
     "text": [
      "Polynomial evaluated at x=5: 42.0\n",
      "Polynomial evaluated at [1, 2, 3]: [ 3.  7. 13.]\n"
     ]
    }
   ],
   "source": [
    "# Evaluate the polynomial at x = 5\n",
    "value = p(5)\n",
    "print(\"Polynomial evaluated at x=5:\", value)\n",
    "\n",
    "# Evaluate the polynomial at multiple points\n",
    "values = np.polynomial.polynomial.polyval([1, 2, 3], coefficients)\n",
    "print(\"Polynomial evaluated at [1, 2, 3]:\", values)"
   ]
  },
  {
   "cell_type": "markdown",
   "id": "82b5a002-0209-4664-a87a-76db32d019a2",
   "metadata": {},
   "source": [
    "### Polynomial differentiation and integration\n",
    "\n",
    "#### Differentiating Polynomials\n",
    "Differentiation of polynomials allows us to compute the rate of change of the polynomial function (derivatives). NumPy provides the `np.polynomial.polynomial.polyder` function to differentiate polynomials. We can specify the number of derivatives and scaling factor."
   ]
  },
  {
   "cell_type": "code",
   "execution_count": 8,
   "id": "ccd06749-f7c4-4906-9394-2ea65498f490",
   "metadata": {
    "tags": []
   },
   "outputs": [
    {
     "name": "stdout",
     "output_type": "stream",
     "text": [
      "Original polynomial p(x): 1.0 + 2.0 x**1 + 3.0 x**2\n",
      "First derivative: [2. 6.]\n",
      "Polynomial: 2.0 + 6.0 x**1\n",
      "Second derivative: [6.]\n",
      "Polynomial: 6.0\n"
     ]
    }
   ],
   "source": [
    "# Create a polynomial p(x) = 1 + 2x + 3x^2\n",
    "p = np.polynomial.Polynomial([1, 2, 3])\n",
    "print(\"Original polynomial p(x):\", p)\n",
    "\n",
    "# Differentiate the polynomial once\n",
    "p_deriv = np.polynomial.polynomial.polyder(p.coef)\n",
    "print(\"First derivative:\", p_deriv)\n",
    "print(\"Polynomial:\", np.polynomial.Polynomial(p_deriv))\n",
    "\n",
    "# Differentiate the polynomial twice\n",
    "p_deriv2 = np.polynomial.polynomial.polyder(p.coef, m=2)\n",
    "print(\"Second derivative:\", p_deriv2)\n",
    "print(\"Polynomial:\", np.polynomial.Polynomial(p_deriv2))"
   ]
  },
  {
   "cell_type": "markdown",
   "id": "baa2fe1f-e6bc-4ff6-9e99-c1e8600ba751",
   "metadata": {},
   "source": [
    "- **Syntax**: `np.polynomial.polynomial.polyder(c, m=1, scl=1, axis=0)`\n",
    "  - `c`: Array of polynomial coefficients. For example, `[1, 2, 3]` represents the polynomial $(1 + 2x + 3x^2)$.\n",
    "  - `m`: Number of derivatives to compute (must be non-negative). Default is `1`.\n",
    "  - `scl`: Each differentiation result is multiplied by `scl`. Default is `1`.\n",
    "  - `axis`: Axis over which the derivative is taken. Default is `0`.\n",
    "\n",
    "The result is a new set of coefficients representing the differentiated polynomial.\n",
    "  \n",
    "#### Integrating polynomials\n",
    "\n",
    "Integration of polynomials computes the area under the curve (integral) of the polynomial function. NumPy provides the `np.polynomial.polynomial.polyint` function to integrate polynomials. We can specify the number of integrations, integration constants, and scaling factor."
   ]
  },
  {
   "cell_type": "code",
   "execution_count": 9,
   "id": "a31cf20c-d84f-4878-8fba-7f7ba64e1f3e",
   "metadata": {
    "tags": []
   },
   "outputs": [
    {
     "name": "stdout",
     "output_type": "stream",
     "text": [
      "Original polynomial p(x): 1.0 + 2.0 x**1 + 3.0 x**2\n",
      "First integral: [0. 1. 1. 1.]\n",
      "Polynomial: 0.0 + 1.0 x**1 + 1.0 x**2 + 1.0 x**3\n",
      "Second integral: [0.         0.         0.5        0.33333333 0.25      ]\n",
      "Polynomial: 0.0 + 0.0 x**1 + 0.5 x**2 + 0.3333333333333333 x**3 + 0.25 x**4\n"
     ]
    }
   ],
   "source": [
    "# Create a polynomial p(x) = 1 + 2x + 3x^2\n",
    "p = np.polynomial.Polynomial([1, 2, 3])\n",
    "print(\"Original polynomial p(x):\", p)\n",
    "\n",
    "# Integrate the polynomial once\n",
    "p_integral = np.polynomial.polynomial.polyint(p.coef)\n",
    "print(\"First integral:\", p_integral)\n",
    "print(\"Polynomial:\", np.polynomial.Polynomial(p_integral))\n",
    "\n",
    "# Integrate the polynomial twice\n",
    "p_integral2 = np.polynomial.polynomial.polyint(p.coef, m=2)\n",
    "print(\"Second integral:\", p_integral2)\n",
    "print(\"Polynomial:\", np.polynomial.Polynomial(p_integral2))"
   ]
  },
  {
   "cell_type": "markdown",
   "id": "76af8ae8-5c1d-477d-9894-ddc41aa080d8",
   "metadata": {},
   "source": [
    "- **Syntax**: `np.polynomial.polynomial.polyint(c, m=1, k=[], lbnd=0, scl=1, axis=0)`\n",
    "  - `c`: Array of polynomial coefficients. For example, `[1, 2, 3]` represents the polynomial \\(1 + 2x + 3x^2\\).\n",
    "  - `m`: Order of integration (must be positive). Default is `1`.\n",
    "  - `k`: Integration constants. If `k` is empty, all constants are set to zero. Otherwise, provide the values for the constants.\n",
    "  - `lbnd`: Lower bound of the integral. Default is `0`.\n",
    "  - `scl`: Each integration result is multiplied by `scl`. Default is `1`.\n",
    "  - `axis`: Axis over which the integral is taken. Default is `0`.\n",
    "\n",
    "The result includes integration constants if provided, and the polynomial coefficients are adjusted accordingly.\n",
    "\n",
    "### Polynomial trimming\n",
    "\n",
    "Sometimes, polynomial coefficients may contain leading zeros, which do not affect the polynomial's behavior but can clutter its representation. The `np.polynomial.polynomial.polytrim` function can be used to remove these leading zeros."
   ]
  },
  {
   "cell_type": "code",
   "execution_count": 10,
   "id": "17cb96cc-0a1f-4b05-991f-1375ae9f4d9d",
   "metadata": {
    "tags": []
   },
   "outputs": [
    {
     "name": "stdout",
     "output_type": "stream",
     "text": [
      "Original polynomial p(x): 0.0 + 1.0 x**1 + 1.0 x**2 + 0.0 x**3 + 0.0 x**4\n",
      "Trimmed coefficients: [0. 1. 1.]\n",
      "Trimmed polynomial: 0.0 + 1.0 x**1 + 1.0 x**2\n"
     ]
    }
   ],
   "source": [
    "# Create a polynomial p(x) = 0 + x + x^2 + 0x^3 + 0x^4\n",
    "p = np.polynomial.Polynomial([0, 1, 1, 0, 0])\n",
    "print(\"Original polynomial p(x):\", p)\n",
    "\n",
    "# Trim trailing coefficients with a default tolerance of 0\n",
    "p_trimmed = np.polynomial.polynomial.polytrim(p.coef)\n",
    "print(\"Trimmed coefficients:\", p_trimmed)\n",
    "print(\"Trimmed polynomial:\", np.polynomial.Polynomial(p_trimmed))"
   ]
  },
  {
   "cell_type": "markdown",
   "id": "8a5f2066-825e-41ea-b7e9-55a5bbc097ec",
   "metadata": {},
   "source": [
    "### Polynomial truncation\n",
    "`p.cutdeg(degree)` truncates the polynomial to the specified degree."
   ]
  },
  {
   "cell_type": "code",
   "execution_count": 11,
   "id": "9d4b289f-4c9a-426b-8e6e-c4929f01e194",
   "metadata": {
    "tags": []
   },
   "outputs": [
    {
     "name": "stdout",
     "output_type": "stream",
     "text": [
      "Truncated polynomial: 0.0 + 1.0 x**1\n"
     ]
    }
   ],
   "source": [
    "# Truncate polynomial p(x) = 1 + 2x + 3x^2 to degree 1\n",
    "p_trunc = p.cutdeg(1)\n",
    "print(\"Truncated polynomial:\", p_trunc)"
   ]
  },
  {
   "cell_type": "markdown",
   "id": "b8ffe7d2-d7e9-473b-99ae-3ad9668632b3",
   "metadata": {},
   "source": [
    "### Polynomial validation"
   ]
  },
  {
   "cell_type": "code",
   "execution_count": 12,
   "id": "d599009d-39fe-4ed7-bc4e-15188715305d",
   "metadata": {
    "tags": []
   },
   "outputs": [
    {
     "name": "stdout",
     "output_type": "stream",
     "text": [
      "Do p1 and p2 have the same coefficients? True\n",
      "Do p1 and p3 have the same coefficients? False\n"
     ]
    }
   ],
   "source": [
    "# Create two polynomials\n",
    "p1 = np.polynomial.Polynomial([1, 2, 3])\n",
    "p2 = np.polynomial.Polynomial([1, 2, 3])\n",
    "p3 = np.polynomial.Polynomial([4, 5, 6])\n",
    "\n",
    "# Check if coefficients match\n",
    "print(\"Do p1 and p2 have the same coefficients?\", np.polynomial.Polynomial.has_samecoef(p1, p2))\n",
    "\n",
    "# Check if coefficients match with p3\n",
    "print(\"Do p1 and p3 have the same coefficients?\", np.polynomial.Polynomial.has_samecoef(p1, p3))"
   ]
  }
 ],
 "metadata": {
  "kernelspec": {
   "display_name": "Python 3 (ipykernel)",
   "language": "python",
   "name": "python3"
  },
  "language_info": {
   "codemirror_mode": {
    "name": "ipython",
    "version": 3
   },
   "file_extension": ".py",
   "mimetype": "text/x-python",
   "name": "python",
   "nbconvert_exporter": "python",
   "pygments_lexer": "ipython3",
   "version": "3.9.13"
  }
 },
 "nbformat": 4,
 "nbformat_minor": 5
}
