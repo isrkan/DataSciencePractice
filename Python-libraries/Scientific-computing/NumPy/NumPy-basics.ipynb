{
 "cells": [
  {
   "cell_type": "markdown",
   "id": "2321b4dd-df54-4aea-8390-b3d5124cdeb9",
   "metadata": {},
   "source": [
    "# Introduction to NumPy\n",
    "\n",
    "NumPy, short for Numerical Python, is a library for numerical computations in Python. It provides support for arrays, matrices, and many mathematical functions to operate on these data structures efficiently.\n",
    "\n",
    "##### Why use NumPy?\n",
    "- Performance: NumPy is highly optimized and implemented in C, making it much faster than using Python lists for numerical operations.\n",
    "- Memory efficiency: NumPy arrays are more compact and efficient in terms of memory usage compared to Python lists.\n",
    "- User-friendly: Provides convenient syntax and functions for mathematical operations on arrays and matrices.\n",
    "- Integration: Compatible with many other scientific computing and data analysis libraries like SciPy, Matplotlib, and Pandas."
   ]
  },
  {
   "cell_type": "code",
   "execution_count": 1,
   "id": "09d6e0c0-c25f-4fcc-bc7c-6694c695699d",
   "metadata": {
    "tags": []
   },
   "outputs": [],
   "source": [
    "# Importing NumPy\n",
    "import numpy as np"
   ]
  },
  {
   "cell_type": "markdown",
   "id": "13cdc7ea-21a5-4586-a92e-a44dfc9237c2",
   "metadata": {},
   "source": [
    "It is common to import NumPy with the alias `np`\n",
    "\n",
    "### Creating arrays\n",
    "NumPy's main feature is the `ndarray` (N-dimensional array) object. We can create arrays using several methods.\n",
    "\n",
    "#### 1. From a Python list"
   ]
  },
  {
   "cell_type": "code",
   "execution_count": 2,
   "id": "9f32ab56-b1cf-4fe1-ac50-703fb7c7c121",
   "metadata": {
    "tags": []
   },
   "outputs": [
    {
     "name": "stdout",
     "output_type": "stream",
     "text": [
      "1D array: [1 2 3 4 5]\n",
      "2D array:\n",
      " [[1 2 3]\n",
      " [4 5 6]]\n",
      "3D Array:\n",
      " [[[ 1  2  3]\n",
      "  [ 4  5  6]]\n",
      "\n",
      " [[ 7  8  9]\n",
      "  [10 11 12]]\n",
      "\n",
      " [[13 14 15]\n",
      "  [16 17 18]]]\n"
     ]
    }
   ],
   "source": [
    "# Creating a 1D array\n",
    "array_1d = np.array([1, 2, 3, 4, 5])\n",
    "print(\"1D array:\", array_1d)\n",
    "\n",
    "# Creating a 2D array\n",
    "array_2d = np.array([[1, 2, 3], [4, 5, 6]])\n",
    "print(\"2D array:\\n\", array_2d)\n",
    "\n",
    "# Creating a 3D array\n",
    "array_3d = np.array([[[1, 2, 3], [4, 5, 6]], \n",
    "                     [[7, 8, 9], [10, 11, 12]], \n",
    "                     [[13, 14, 15], [16, 17, 18]]])\n",
    "print(\"3D Array:\\n\", array_3d)"
   ]
  },
  {
   "cell_type": "markdown",
   "id": "1bf11542-2723-490f-89ed-3ea1173d36c7",
   "metadata": {},
   "source": [
    "In the example above:\n",
    "- The 1D array is a simple list of numbers.\n",
    "- The 2D array is a list of lists, where each inner list represents a row.\n",
    "- The 3D array is a list of lists of lists, where each innermost list represents a slice along the third dimension.\n",
    "\n",
    "#### 2. Using built-in functions\n",
    "\n",
    "NumPy provides functions to create arrays of zeros, ones, or empty arrays."
   ]
  },
  {
   "cell_type": "code",
   "execution_count": 3,
   "id": "018b2012-03a2-43d7-bad1-87a40119760c",
   "metadata": {
    "tags": []
   },
   "outputs": [
    {
     "name": "stdout",
     "output_type": "stream",
     "text": [
      "Array of zeros:\n",
      " [[0. 0. 0.]\n",
      " [0. 0. 0.]]\n",
      "Array of ones:\n",
      " [[1. 1. 1.]\n",
      " [1. 1. 1.]]\n",
      "Identity matrix:\n",
      " [[1. 0. 0.]\n",
      " [0. 1. 0.]\n",
      " [0. 0. 1.]]\n"
     ]
    }
   ],
   "source": [
    "# Array of zeros\n",
    "zeros = np.zeros((2, 3))\n",
    "print(\"Array of zeros:\\n\", zeros)\n",
    "\n",
    "# Array of ones\n",
    "ones = np.ones((2, 3))\n",
    "print(\"Array of ones:\\n\", ones)\n",
    "\n",
    "# Identity matrix\n",
    "identity = np.eye(3)\n",
    "print(\"Identity matrix:\\n\", identity)"
   ]
  },
  {
   "cell_type": "markdown",
   "id": "74f22db6-928e-4724-a982-d95e5ae14e9f",
   "metadata": {},
   "source": [
    "#### 3. Using random functions\n",
    "\n",
    "NumPy provides various functions to generate arrays with random numbers. These functions are useful for simulations, testing algorithms, and more."
   ]
  },
  {
   "cell_type": "code",
   "execution_count": 4,
   "id": "5eb5848f-64e5-4cd7-bc10-7ec0942ce10e",
   "metadata": {
    "tags": []
   },
   "outputs": [
    {
     "name": "stdout",
     "output_type": "stream",
     "text": [
      "Random array (uniform distribution):\n",
      " [[0.96223799 0.80311488 0.42143921]\n",
      " [0.82331669 0.14635052 0.52896655]\n",
      " [0.27448289 0.18760872 0.90412416]\n",
      " [0.83979563 0.08753925 0.484084  ]\n",
      " [0.79582075 0.37569574 0.91328805]]\n",
      "1D Array with random integers:\n",
      " [2 3 7 8 3]\n",
      "2D Array with random integers:\n",
      " [[2 9 4 8]\n",
      " [9 4 7 0]\n",
      " [7 2 1 9]]\n",
      "Seeded random array:\n",
      " [[0.37454012 0.95071431 0.73199394]\n",
      " [0.59865848 0.15601864 0.15599452]\n",
      " [0.05808361 0.86617615 0.60111501]]\n"
     ]
    }
   ],
   "source": [
    "# Creates a 5x3 array with random numbers between 0 and 1\n",
    "random_array = np.random.rand(5, 3)\n",
    "print(\"Random array (uniform distribution):\\n\", random_array)\n",
    "\n",
    "# Creates an array of 5 random integers between 0 and 10\n",
    "random_integers = np.random.randint(10, size=5)\n",
    "print(\"1D Array with random integers:\\n\", random_integers)\n",
    "# Generates a 2D array with shape (3, 4) filled with random integers between 0 and 10\n",
    "random_integers_2d = np.random.randint(10, size=(3, 4))\n",
    "print(\"2D Array with random integers:\\n\", random_integers_2d)\n",
    "\n",
    "\n",
    "# Set the seed for reproducibility\n",
    "np.random.seed(42)\n",
    "# Generate random numbers after setting the seed\n",
    "seeded_random_array = np.random.rand(3, 3)\n",
    "print(\"Seeded random array:\\n\", seeded_random_array)"
   ]
  },
  {
   "cell_type": "markdown",
   "id": "437a685d-993e-4dff-986f-3578e038c135",
   "metadata": {},
   "source": [
    "1. `np.random.rand` - Generates an array of random numbers from a uniform distribution over `[0, 1)`. The shape of the array is determined by the dimensions `d1, d2, ..., dn` we specify.\n",
    "    - **Syntax**: `np.random.rand(d1, d2, ..., dn)`\n",
    "\n",
    "2. `np.random.randint` - Generates an array of random integers from a discrete uniform distribution. We specify the range of values (`low` to `high`) and the shape of the array (`size`).\n",
    "    - **Syntax**: `np.random.randint(low, high=None, size=None, dtype=int)`\n",
    "      - `low`: Lowest integer to be included in the array.\n",
    "      - `high`: Upper bound (exclusive) for the random integers. If `None`, it defaults to `low`.\n",
    "      - `size`: Shape of the output array. Can be a single integer or a tuple.\n",
    "      - `dtype`: Desired data type of the result (default is `int`).\n",
    "\n",
    "3. `np.random.seed` - Initializes the random number generator to ensure reproducibility. A seed is an initial value used by a pseudo-random number generator (PRNG) to produce a sequence of numbers. These numbers are not truly random but are generated algorithmically to mimic randomness. The seed value acts as a starting point for the sequence. Given the same seed, a PRNG will always produce the same sequence of numbers, making it deterministic.\n",
    "    - **Syntax**: `np.random.seed(seed)`\n",
    "    \n",
    "    Setting the seed allows us to produce the same random numbers each time we run our code. If we use the same seed, we'll get the same sequence of random numbers every time, which is useful for debugging and testing. Setting the seed with `np.random.seed` affects all subsequent random number generation until the seed is changed again. It sets the seed globally for all NumPy random functions. If you need different sequences of random numbers in different parts of your code but still want reproducibility, you can reset the seed at various points using `np.random.seed`.\n",
    "\n",
    "#### 4. Creating arrays with a range of values\n",
    "\n",
    "NumPy provides functions that allow us to create arrays with a sequence of numbers easily. Two commonly used functions for this purpose are `arange` and `linspace`."
   ]
  },
  {
   "cell_type": "code",
   "execution_count": 5,
   "id": "c574b4c3-df00-4448-b7c1-0aa0d7f9af4d",
   "metadata": {
    "tags": []
   },
   "outputs": [
    {
     "name": "stdout",
     "output_type": "stream",
     "text": [
      "Range Array: [0 1 2 3 4 5 6 7 8 9]\n",
      "Linspace Array: [0.   0.25 0.5  0.75 1.  ]\n"
     ]
    }
   ],
   "source": [
    "# Using arange\n",
    "range_array = np.arange(10)\n",
    "print(\"Range Array:\", range_array)\n",
    "\n",
    "# Using linspace\n",
    "linspace_array = np.linspace(0, 1, 5)\n",
    "print(\"Linspace Array:\", linspace_array)"
   ]
  },
  {
   "cell_type": "markdown",
   "id": "e3be33d2-69da-4908-be1f-fe69dc1c4315",
   "metadata": {},
   "source": [
    "1. Using `arange` - The `arange` function generates an array with evenly spaced values within a specified range. The general syntax for `arange` is:\n",
    "    ```python\n",
    "    np.arange(start, stop, step)\n",
    "    ```\n",
    "\n",
    "    - `start`: The starting value of the sequence (inclusive). If not specified, it defaults to 0.\n",
    "    - `stop`: The end value of the sequence (exclusive). The sequence stops before this value.\n",
    "    - `step`: The spacing between values. (optional, default is 1)\n",
    "\n",
    "2. Using `linspace` - The `linspace` function generates an array with a specified number of evenly spaced values over a given range. The general syntax for `linspace` is:\n",
    "    ```python\n",
    "    np.linspace(start, stop, num)\n",
    "    ```\n",
    "\n",
    "    - `start`: The starting value of the sequence (inclusive).\n",
    "    - `stop`: The end value of the sequence (inclusive).\n",
    "    - `num`: The number of values to generate. The spacing between values will be automatically calculated to evenly distribute the numbers between `start` and `stop`.\n",
    "\n",
    "Unlike `arange`, which defines the spacing between values, `linspace` defines the total number of values and automatically calculates the spacing. This is particularly useful when we want to create an array with a specific number of points between two values.\n",
    "\n",
    "\n",
    "## Array operations\n",
    "\n",
    "NumPy supports a variety of operations on arrays. These operations can be broadly categorized into element-wise operations, universal functions, and statistical functions.\n",
    "\n",
    "### Element-wise operations\n",
    "Element-wise operations are performed on corresponding elements of arrays."
   ]
  },
  {
   "cell_type": "code",
   "execution_count": 6,
   "id": "76225635-24d8-45af-a6c0-7710f357ba23",
   "metadata": {
    "tags": []
   },
   "outputs": [
    {
     "name": "stdout",
     "output_type": "stream",
     "text": [
      "Addition: [5 7 9]\n",
      "Subtraction: [-3 -3 -3]\n",
      "Multiplication: [ 4 10 18]\n",
      "Division: [0.25 0.4  0.5 ]\n",
      "Power: [1 4 9]\n"
     ]
    }
   ],
   "source": [
    "a = np.array([1, 2, 3])\n",
    "b = np.array([4, 5, 6])\n",
    "\n",
    "print(\"Addition:\", a + b)\n",
    "print(\"Subtraction:\", a - b)\n",
    "print(\"Multiplication:\", a * b)\n",
    "print(\"Division:\", a / b)\n",
    "print(\"Power:\", a ** 2)"
   ]
  },
  {
   "cell_type": "markdown",
   "id": "798522b8-8fc3-475a-951c-f1d391fb3502",
   "metadata": {
    "tags": []
   },
   "source": [
    "### Universal functions\n",
    "\n",
    "Universal functions (ufuncs) perform mathematical operations on each element of an array independently. They are highly optimized for performance and can handle arrays of any shape.\n",
    "- **Syntax**: `result = np.<function>(array)`\n",
    "  - `<function>` can be `sqrt`, `exp`, `sin`, etc.\n",
    "\n",
    "#### Mathematical functions\n",
    "\n",
    "##### Exponential and logarithmic functions\n",
    "\n",
    "These functions include exponentials and logarithms, which are widely used in scientific calculations."
   ]
  },
  {
   "cell_type": "code",
   "execution_count": 7,
   "id": "1a05f7e4-9f39-4cec-ba17-8cd407391878",
   "metadata": {
    "tags": []
   },
   "outputs": [
    {
     "name": "stdout",
     "output_type": "stream",
     "text": [
      "Exponential: [ 2.71828183  7.3890561  20.08553692]\n",
      "Exponential minus 1: [ 1.71828183  6.3890561  19.08553692]\n",
      "Exponential base 2: [2. 4. 8.]\n",
      "Natural logarithm: [0.         0.69314718 1.09861229]\n",
      "Base 10 logarithm: [0.         0.30103    0.47712125]\n",
      "Base 2 logarithm: [0.        1.        1.5849625]\n",
      "Logarithm of 1 plus value: [0.69314718 1.09861229 1.38629436]\n"
     ]
    }
   ],
   "source": [
    "# Exponential and logarithmic functions\n",
    "a = np.array([1, 2, 3])\n",
    "\n",
    "print(\"Exponential:\", np.exp(a))\n",
    "print(\"Exponential minus 1:\", np.expm1(a))\n",
    "print(\"Exponential base 2:\", np.exp2(a))\n",
    "print(\"Natural logarithm:\", np.log(a)) # natural log\n",
    "print(\"Base 10 logarithm:\", np.log10(a)) # base 10 log (common logarithm)\n",
    "print(\"Base 2 logarithm:\", np.log2(a)) # base 2 log (binary logarithm)\n",
    "print(\"Logarithm of 1 plus value:\", np.log1p(a))"
   ]
  },
  {
   "cell_type": "markdown",
   "id": "2754b3a5-c5d9-40cc-9673-4f69a24f0e74",
   "metadata": {},
   "source": [
    "##### Arithmetic operations\n",
    "NumPy supports basic arithmetic operations that can be applied element-wise on arrays."
   ]
  },
  {
   "cell_type": "code",
   "execution_count": 8,
   "id": "32fe4b39-2601-4307-9288-5420f9a37cdb",
   "metadata": {
    "tags": []
   },
   "outputs": [
    {
     "name": "stdout",
     "output_type": "stream",
     "text": [
      "Addition: [5 7 9]\n",
      "Subtraction: [-3 -3 -3]\n",
      "Multiplication: [ 4 10 18]\n",
      "Division: [0.25 0.4  0.5 ]\n",
      "Remainder: [0 1 0]\n",
      "Power: [1 4 9]\n",
      "Positive: [1 2 3]\n",
      "Negative: [-1 -2 -3]\n",
      "Difference: [1 1]\n",
      "Gradient: [1. 1. 1.]\n"
     ]
    }
   ],
   "source": [
    "# Arithmetic operations\n",
    "a = np.array([1, 2, 3])\n",
    "b = np.array([4, 5, 6])\n",
    "\n",
    "print(\"Addition:\", np.add(a, b))\n",
    "print(\"Subtraction:\", np.subtract(a, b))\n",
    "print(\"Multiplication:\", np.multiply(a, b))\n",
    "print(\"Division:\", np.divide(a, b))\n",
    "print(\"Remainder:\", np.remainder(b, a))\n",
    "print(\"Power:\", np.power(a, 2))\n",
    "print(\"Positive:\", np.positive(a))\n",
    "print(\"Negative:\", np.negative(a))\n",
    "print(\"Difference:\", np.diff(a))\n",
    "print(\"Gradient:\", np.gradient(a)) # Computes the rate of change of the values in the array"
   ]
  },
  {
   "cell_type": "markdown",
   "id": "15a01e7e-bd8b-4592-b300-cf8d28538b91",
   "metadata": {},
   "source": [
    "##### Aggregation functions\n",
    "Aggregation functions compute a single result from an array or along an axis."
   ]
  },
  {
   "cell_type": "code",
   "execution_count": 9,
   "id": "ccf9cd4b-b948-4120-a3aa-78dda3090f9f",
   "metadata": {
    "tags": []
   },
   "outputs": [
    {
     "name": "stdout",
     "output_type": "stream",
     "text": [
      "Sum: 15\n",
      "Product: 120\n",
      "Cumulative sum: [ 1  3  6 10 15]\n",
      "Cumulative product: [  1   2   6  24 120]\n"
     ]
    }
   ],
   "source": [
    "# Aggregation functions\n",
    "data = np.array([1, 2, 3, 4, 5])\n",
    "\n",
    "print(\"Sum:\", np.sum(data))\n",
    "print(\"Product:\", np.prod(data))\n",
    "print(\"Cumulative sum:\", np.cumsum(data))\n",
    "print(\"Cumulative product:\", np.cumprod(data))"
   ]
  },
  {
   "cell_type": "markdown",
   "id": "ce2907df-d0d2-4396-9a95-5a0ec2f83919",
   "metadata": {},
   "source": [
    "##### Rounding functions\n",
    "Rounding functions are used to round numbers to the nearest integer or to a specified number of decimal places."
   ]
  },
  {
   "cell_type": "code",
   "execution_count": 10,
   "id": "de31414d-f24d-4b9d-afbd-4089f1e25056",
   "metadata": {
    "tags": []
   },
   "outputs": [
    {
     "name": "stdout",
     "output_type": "stream",
     "text": [
      "Rounded: [ 2.  2. -2. -2.]\n",
      "Floored: [ 1.  2. -2. -3.]\n",
      "Ceiled: [ 2.  3. -1. -2.]\n",
      "Truncated: [ 1.  2. -1. -2.]\n"
     ]
    }
   ],
   "source": [
    "# Rounding functions\n",
    "array = np.array([1.5, 2.3, -1.7, -2.5])\n",
    "\n",
    "print(\"Rounded:\", np.round(array))\n",
    "print(\"Floored:\", np.floor(array))\n",
    "print(\"Ceiled:\", np.ceil(array))\n",
    "print(\"Truncated:\", np.trunc(array))"
   ]
  },
  {
   "cell_type": "markdown",
   "id": "dfd5cfb6-833f-4e54-9d55-7489207616d8",
   "metadata": {},
   "source": [
    "##### Trigonometric functions\n",
    "\n",
    "NumPy provides trigonometric functions that are useful for performing operations involving angles. These functions expect angles in radians."
   ]
  },
  {
   "cell_type": "code",
   "execution_count": 11,
   "id": "0f79f3ad-db60-47cb-b69a-69f3f86ba2bd",
   "metadata": {
    "tags": []
   },
   "outputs": [
    {
     "name": "stdout",
     "output_type": "stream",
     "text": [
      "Sine values: [0.         0.5        0.70710678 0.8660254  1.        ]\n",
      "Cosine values: [1.00000000e+00 8.66025404e-01 7.07106781e-01 5.00000000e-01\n",
      " 6.12323400e-17]\n",
      "Tangent values: [0.00000000e+00 5.77350269e-01 1.00000000e+00 1.73205081e+00\n",
      " 1.63312394e+16]\n",
      "\n",
      "Arcsine values: [0.         0.52359878 1.57079633]\n",
      "Arccosine values: [0.         1.04719755 1.57079633]\n",
      "Arctangent values: [0.         0.78539816 1.57079633]\n",
      "\n",
      "Degrees from radians: [ 0. 30. 45. 60. 90.]\n",
      "Radians from degrees: [0.         1.57079633 3.14159265]\n"
     ]
    }
   ],
   "source": [
    "# Trigonometric functions\n",
    "angles_rad = np.array([0, np.pi / 6, np.pi / 4, np.pi / 3, np.pi / 2])  # Array of angles in radians\n",
    "angles_deg = np.array([0, 90, 180])\n",
    "\n",
    "print(\"Sine values:\", np.sin(angles_rad))\n",
    "print(\"Cosine values:\", np.cos(angles_rad))\n",
    "print(\"Tangent values:\", np.tan(angles_rad))\n",
    "print(\"\\nArcsine values:\", np.arcsin([0, 0.5, 1])) # Returns angles whose sine is given\n",
    "print(\"Arccosine values:\", np.arccos([1, 0.5, 0])) # Returns angles whose cosine is given\n",
    "print(\"Arctangent values:\", np.arctan([0, 1, np.inf])) # Returns angles whose tangent is given\n",
    "print(\"\\nDegrees from radians:\", np.rad2deg(angles_rad)) # Convert angles from radians to degrees\n",
    "print(\"Radians from degrees:\", np.deg2rad(angles_deg)) # Convert angles from degrees to radians"
   ]
  },
  {
   "cell_type": "markdown",
   "id": "646c17c8-2219-4e47-84db-179b15320b7d",
   "metadata": {},
   "source": [
    "##### Hyperbolic functions\n",
    "\n",
    "Hyperbolic functions are analogs of trigonometric functions for hyperbolic angles."
   ]
  },
  {
   "cell_type": "code",
   "execution_count": 12,
   "id": "2efcf5cc-6300-4846-adf4-f028d071db98",
   "metadata": {
    "tags": []
   },
   "outputs": [
    {
     "name": "stdout",
     "output_type": "stream",
     "text": [
      "Hyperbolic sine values: [-1.17520119  0.          1.17520119  3.62686041]\n",
      "Hyperbolic cosine values: [1.54308063 1.         1.54308063 3.76219569]\n",
      "Hyperbolic tangent values: [-0.76159416  0.          0.76159416  0.96402758]\n",
      "\n",
      "Inverse hyperbolic sine values: [-0.88137359  0.          0.88137359  1.44363548]\n",
      "Inverse hyperbolic cosine values: [0.         0.96242365 1.3169579 ]\n",
      "Inverse hyperbolic tangent values: [0.         0.54930614 1.47221949]\n"
     ]
    }
   ],
   "source": [
    "# Hyperbolic functions\n",
    "values = np.array([-1.0, 0.0, 1.0, 2.0]) \n",
    "\n",
    "print(\"Hyperbolic sine values:\", np.sinh(values))\n",
    "print(\"Hyperbolic cosine values:\", np.cosh(values))\n",
    "print(\"Hyperbolic tangent values:\", np.tanh(values))\n",
    "print(\"\\nInverse hyperbolic sine values:\", np.arcsinh(values))\n",
    "print(\"Inverse hyperbolic cosine values:\", np.arccosh([1.0, 1.5, 2.0]))  # Note: input values must be >= 1 for arccosh\n",
    "print(\"Inverse hyperbolic tangent values:\", np.arctanh([0.0, 0.5, 0.9]))  # Note: input values must be between -1 and 1 for arctanh"
   ]
  },
  {
   "cell_type": "markdown",
   "id": "de2b0f79-aad3-43e3-a8cb-94692d93be11",
   "metadata": {},
   "source": [
    "##### Miscellaneous functions\n",
    "Some other useful mathematical functions provided by NumPy."
   ]
  },
  {
   "cell_type": "code",
   "execution_count": 13,
   "id": "c3834520-3170-48ad-bced-80f8a4874d2d",
   "metadata": {
    "tags": []
   },
   "outputs": [
    {
     "name": "stdout",
     "output_type": "stream",
     "text": [
      "Absolute value: [1 2 3 4]\n",
      "Square root: [1.         1.41421356 1.73205081 2.        ]\n",
      "Square: [ 1  4  9 16]\n",
      "Sign: [-1 -1  1  1]\n"
     ]
    }
   ],
   "source": [
    "# Miscellaneous functions\n",
    "array = np.array([-1, -2, 3, 4])\n",
    "\n",
    "print(\"Absolute value:\", np.abs(array))\n",
    "print(\"Square root:\", np.sqrt(np.abs(array)))\n",
    "print(\"Square:\", np.square(array))\n",
    "print(\"Sign:\", np.sign(array))"
   ]
  },
  {
   "cell_type": "markdown",
   "id": "4c1835d5-c985-4104-a6dc-f2ffb047d8b1",
   "metadata": {},
   "source": [
    "##### Linear interpolation\n",
    "\n",
    "The `np.interp` function performs linear interpolation on one-dimensional data."
   ]
  },
  {
   "cell_type": "code",
   "execution_count": 14,
   "id": "30061717-c1ba-4b8d-a5d1-6b6ac91a7c02",
   "metadata": {
    "tags": []
   },
   "outputs": [
    {
     "name": "stdout",
     "output_type": "stream",
     "text": [
      "Interpolated Values: [ 0.   0.5  6.5 16. ]\n",
      "Interpolated Values with Left and Right: [-1.   0.5  6.5 20. ]\n"
     ]
    }
   ],
   "source": [
    "# Known data points\n",
    "xp = np.array([0, 1, 2, 3, 4])\n",
    "fp = np.array([0, 1, 4, 9, 16])\n",
    "\n",
    "# Points where we want to interpolate\n",
    "x = np.array([-1, 0.5, 2.5, 5])\n",
    "\n",
    "# Linear interpolation\n",
    "interp_values = np.interp(x, xp, fp)\n",
    "print(\"Interpolated Values:\", interp_values)\n",
    "\n",
    "# Using left and right parameters\n",
    "interp_left_right = np.interp(x, xp, fp, left=-1, right=20)\n",
    "print(\"Interpolated Values with Left and Right:\", interp_left_right)"
   ]
  },
  {
   "cell_type": "markdown",
   "id": "0ef85d73-2eaa-4cb9-ae06-76e115d9ee8b",
   "metadata": {},
   "source": [
    "***Syntax:***\n",
    "```python\n",
    "np.interp(x, xp, fp, left=None, right=None, period=None)\n",
    "```\n",
    "\n",
    "- **`x`**: Array of x-coordinates where interpolation is to be performed.\n",
    "- **`xp`**: Array of x-coordinates of known data points (must be monotonically increasing).\n",
    "- **`fp`**: Array of y-coordinates of known data points corresponding to `xp`.\n",
    "- **`left`** (optional): Value to return for `x < xp[0]`. If not specified, `np.interp` uses `fp[0]`.\n",
    "- **`right`** (optional): Value to return for `x > xp[-1]`. If not specified, `np.interp` uses `fp[-1]`.\n",
    "- **`period`** (optional): Period for periodic boundary conditions (not commonly used in simple interpolation).\n",
    "\n",
    "***Explanation***\n",
    "\n",
    "1. Basic linear interpolation:\n",
    "   - `np.interp(x, xp, fp)` computes the interpolated values of `x` based on the known data points `xp` and `fp`.\n",
    "   - For example, if `x = 0.5`, it interpolates between `xp[0] = 0` and `xp[1] = 1` to find the corresponding `fp` value, which is between `fp[0] = 0` and `fp[1] = 1`.\n",
    "   - If a value in `x` is outside the bounds of `xp`, `np.interp` handles it by using the closest boundary value from `fp`:\n",
    "        - Below minimum `xp`: If a point in `x` is less than the smallest value in `xp`, `np.interp` returns the first value in `fp`.\n",
    "        - Above maximum `xp`: If a point in `x` is greater than the largest value in `xp`, `np.interp` returns the last value in `fp`.\n",
    "\n",
    "2. Handling out-of-bounds values:\n",
    "   - The `left` and `right` parameters control how values outside the range of `xp` are handled.\n",
    "   - `left` specifies the value to return for `x < xp[0]`. In the example, `x = -1` is less than `xp[0] = 0`, so the interpolation returns `-1` instead of extrapolating.\n",
    "   - `right` specifies the value to return for `x > xp[-1]`. Here, `x = 5` is greater than `xp[-1] = 4`, so the interpolation returns `20` instead of extrapolating."
   ]
  },
  {
   "cell_type": "markdown",
   "id": "bd098c77-3e8c-4da9-9527-5b9910043976",
   "metadata": {},
   "source": [
    "#### Statistical functions\n",
    "\n",
    "NumPy provides various functions to perform statistical operations on arrays."
   ]
  },
  {
   "cell_type": "code",
   "execution_count": 15,
   "id": "87771270-b710-4d85-8a47-ba5dc1cc85f8",
   "metadata": {
    "tags": []
   },
   "outputs": [
    {
     "name": "stdout",
     "output_type": "stream",
     "text": [
      "Mean: 3.0\n",
      "Weighted average: 3.2\n",
      "Median: 3.0\n",
      "Minimum: 1\n",
      "25th percentile: 2.0\n",
      "Quantiles (25%, 50%, 75%): [2. 3. 4.]\n",
      "Maximum: 5\n",
      "Index of minimum: 0\n",
      "Index of maximum: 4\n",
      "Range: 4\n",
      "Count non-zero: 5\n",
      "Standard deviation: 1.4142135623730951\n",
      "Variance: 2.0\n"
     ]
    }
   ],
   "source": [
    "array = np.array([1, 2, 3, 4, 5])\n",
    "weights = np.array([0.1, 0.2, 0.3, 0.2, 0.2])\n",
    "\n",
    "print(\"Mean:\", np.mean(array))\n",
    "print(\"Weighted average:\", np.average(array, weights=weights))\n",
    "print(\"Median:\", np.median(array))\n",
    "print(\"Minimum:\", np.min(array))\n",
    "print(\"25th percentile:\", np.percentile(array, 25))\n",
    "print(\"Quantiles (25%, 50%, 75%):\", np.quantile(array, [0.25, 0.5, 0.75]))\n",
    "print(\"Maximum:\", np.max(array))\n",
    "print(\"Index of minimum:\", np.argmin(array))\n",
    "print(\"Index of maximum:\", np.argmax(array))\n",
    "print(\"Range:\", np.ptp(array))\n",
    "print(\"Count non-zero:\", np.count_nonzero(array))\n",
    "print(\"Standard deviation:\", np.std(array))\n",
    "print(\"Variance:\", np.var(array))"
   ]
  },
  {
   "cell_type": "markdown",
   "id": "02fd8c9f-58b8-41c5-bab4-3f59b8f39d89",
   "metadata": {},
   "source": [
    "Statistical functions in NumPy operate on the entire array or along a specified axis.\n",
    "- **Syntax**: `result = np.<stat_function>(array, axis=None)`\n",
    "  - `<stat_function>` can be `mean`, `median`, `std`, `sum`, etc.\n",
    "  - If no `axis` is specified, it returns the computed value of the flattened array.\n",
    "  \n",
    "##### Statistical functions for two arrays\n",
    "The correlation coefficient and covariance matrix functions in NumPy are used to analyze the relationship between two arrays."
   ]
  },
  {
   "cell_type": "code",
   "execution_count": 16,
   "id": "1c65c29b-48a0-420e-a6ef-4ac1ca1489e5",
   "metadata": {
    "tags": []
   },
   "outputs": [
    {
     "name": "stdout",
     "output_type": "stream",
     "text": [
      "Correlation coefficient:\n",
      " [[1. 1.]\n",
      " [1. 1.]]\n",
      "Covariance matrix:\n",
      " [[1. 1.]\n",
      " [1. 1.]]\n"
     ]
    }
   ],
   "source": [
    "array1 = np.array([1, 2, 3])\n",
    "array2 = np.array([4, 5, 6])\n",
    "\n",
    "print(\"Correlation coefficient:\\n\", np.corrcoef(array1, array2))\n",
    "print(\"Covariance matrix:\\n\", np.cov(array1, array2))"
   ]
  },
  {
   "cell_type": "markdown",
   "id": "a4dbfd79-a487-45c7-9971-7514024f9d99",
   "metadata": {
    "tags": []
   },
   "source": [
    "Statistical functions that operate on two arrays help determine the relationship between them.\n",
    "\n",
    "- **Syntax**: `result = np.<function>(array1, array2)`\n",
    "  - `<function>` can be `corrcoef`, `cov`, etc.\n",
    "  - Both `array1` and `array2` must have the same length along the specified axis.\n",
    "\n",
    "##### Histograms\n",
    "\n",
    "Histograms are useful for visualizing the distribution of data values in an array."
   ]
  },
  {
   "cell_type": "code",
   "execution_count": 17,
   "id": "6e292655-78fc-4104-a20a-1d1fdd2e67ee",
   "metadata": {
    "tags": []
   },
   "outputs": [
    {
     "name": "stdout",
     "output_type": "stream",
     "text": [
      "Histogram counts: [1 2 1 3 4]\n",
      "Bin edges: [1.  1.8 2.6 3.4 4.2 5. ]\n",
      "Bin indices: [1 2 2 3 4 4 4 6 6 6 6]\n",
      "Bin counts: [0 1 2 1 3 4]\n"
     ]
    }
   ],
   "source": [
    "# Sample data\n",
    "data = np.array([1, 2, 2, 3, 4, 4, 4, 5, 5, 5, 5])\n",
    "\n",
    "# Calculate histogram\n",
    "hist, bin_edges = np.histogram(data, bins=5, range=(1, 5))\n",
    "\n",
    "print(\"Histogram counts:\", hist)\n",
    "print(\"Bin edges:\", bin_edges)\n",
    "\n",
    "# Digitize data\n",
    "indices = np.digitize(data, bin_edges)\n",
    "print(\"Bin indices:\", indices)\n",
    "\n",
    "# Counting occurrences\n",
    "counts = np.bincount(data)\n",
    "print(\"Bin counts:\", counts)"
   ]
  },
  {
   "cell_type": "markdown",
   "id": "b917a1f4-e613-47e7-84be-b6bf43273b61",
   "metadata": {},
   "source": [
    "- **`np.histogram`** calculates the frequency of data values in specified bins. The `hist` array represents the counts for each bin, and `bin_edges` defines the intervals. It's syntax:\n",
    "    ```python\n",
    "    np.histogram(data, bins=10, range=None, density=False)\n",
    "    ```\n",
    "    - `data`: Input array containing the data.\n",
    "    - `bins`: Number of equal-width bins or specific bin edges.\n",
    "    - `range`: The lower and upper range of the bins.\n",
    "    - `density`: If `True`, the result is the probability density function (PDF). It returns the frequency count of each integer value in the array. Useful for non-negative integer arrays to see how often each number occurs.\n",
    "\n",
    "- **`np.digitize`** finds the indices of the bins to which each value in an input array belongs. It categorizes the data based on the provided bin edges. We can use it when we need to segment continuous data into discrete categories.\n",
    "    - It returns an array where each element is the index of the bin to which the corresponding element in `data` belongs. For example, `1` belongs to the first bin, so its index is `1`.\n",
    "    - If a data point is less than the first bin edge or greater than the last, `np.digitize` assigns indices such that they fall outside the normal range.\n",
    "\n",
    "- **`np.bincount`**: Counts the number of occurrences of each value in an array of non-negative integers.\n",
    "\n",
    "### Array attributes\n",
    "\n",
    "NumPy arrays have several attributes that provide useful information about their structure and data."
   ]
  },
  {
   "cell_type": "code",
   "execution_count": 18,
   "id": "09ebd07f-065f-492f-a99e-56dcf76a2ff8",
   "metadata": {
    "tags": []
   },
   "outputs": [
    {
     "name": "stdout",
     "output_type": "stream",
     "text": [
      "Array:\n",
      " [[1 2 3]\n",
      " [4 5 6]]\n",
      "Shape: (2, 3)\n",
      "Number of dimensions: 2\n",
      "Data type of elements: int32\n",
      "Type of array object: <class 'numpy.ndarray'>\n",
      "Size: 6\n"
     ]
    }
   ],
   "source": [
    "array = np.array([[1, 2, 3], [4, 5, 6]])\n",
    "\n",
    "print(\"Array:\\n\", array)\n",
    "print(\"Shape:\", array.shape)\n",
    "print(\"Number of dimensions:\", array.ndim)\n",
    "print(\"Data type of elements:\", array.dtype)\n",
    "print(\"Type of array object:\", type(array))\n",
    "print(\"Size:\", array.size)"
   ]
  },
  {
   "cell_type": "markdown",
   "id": "1e03ebe2-5750-4978-8091-d267a9b82522",
   "metadata": {},
   "source": [
    "1. `shape` - Returns a tuple representing the dimensions of the array. Each value in the tuple corresponds to the size of the array along that dimension. For a 2D array, it tells you the number of rows and columns. For a 3D array, it tells you the number of layers, rows, and columns.\n",
    "    - **Syntax**: `array.shape`\n",
    "\n",
    "2. `ndim` - Returns the number of dimensions (axes) of the array. It tells us how many levels of indexing we need to access an element in the array. For example, a 2D array has rows and columns (2 dimensions), while a 3D array has layers, rows, and columns (3 dimensions).\n",
    "    - **Syntax**: `array.ndim`\n",
    "\n",
    "3. `dtype` - Returns the data type of the elements in the array. This could be integers, floats, or other types. It ensures that we understand what type of data operations are safe to perform on the array.\n",
    "    - **Syntax**: `array.dtype`\n",
    "\n",
    "4. `type(array)` - Returns the type of the array object itself. This is usually `numpy.ndarray`.\n",
    "    - **Syntax**: `type(array)`\n",
    "    \n",
    "5. `size` - Returns the total number of elements in the array. It gives us the count of all items in the array, irrespective of its shape. It’s simply the product of all dimensions.\n",
    "    - **Syntax**: `array.size`\n",
    "\n",
    "\n",
    "### Indexing and slicing\n",
    "\n",
    "NumPy arrays can be indexed and sliced similarly to Python lists."
   ]
  },
  {
   "cell_type": "code",
   "execution_count": 19,
   "id": "85188d7f-0f72-41bc-ac84-aabf31885108",
   "metadata": {
    "tags": []
   },
   "outputs": [
    {
     "name": "stdout",
     "output_type": "stream",
     "text": [
      "First element: 10\n",
      "Last element: 80\n",
      "Element at (0, 0): 1\n",
      "Element at (1, 2): 6\n",
      "Elements greater than 25: [30 40 50 60 70 80]\n",
      "Selected elements: [10 30 50]\n",
      "Modified array: [10 10 30 40 50 60 70 80]\n",
      "Modified array with condition: [ 10  10  30  40  50 100 100 100]\n",
      "Elements from index 1 to 3: [10 30 40]\n",
      "Every second element: [ 10  30  50 100]\n",
      "Second row: [4 5 6]\n",
      "Last column: [3 6 9]\n",
      "Middle column: [[2]\n",
      " [5]\n",
      " [8]]\n"
     ]
    }
   ],
   "source": [
    "array = np.array([10, 20, 30, 40, 50, 60, 70, 80])\n",
    "\n",
    "# Indexing\n",
    "print(\"First element:\", array[0])\n",
    "print(\"Last element:\", array[-1])\n",
    "\n",
    "# Indexing in 2D arrays\n",
    "print(\"Element at (0, 0):\", array_2d[0, 0])\n",
    "print(\"Element at (1, 2):\", array_2d[1, 2])\n",
    "\n",
    "# Boolean indexing\n",
    "bool_index = array > 25\n",
    "print(\"Elements greater than 25:\", array[bool_index])\n",
    "\n",
    "# Fancy indexing\n",
    "indices = [0, 2, 4]\n",
    "print(\"Selected elements:\", array[indices])\n",
    "\n",
    "# Modifying elements\n",
    "array[1] = 10\n",
    "print(\"Modified array:\", array)\n",
    "\n",
    "# Conditional assignment\n",
    "array[array > 55] = 100\n",
    "print(\"Modified array with condition:\", array)\n",
    "\n",
    "# Slicing\n",
    "print(\"Elements from index 1 to 3:\", array[1:4])\n",
    "print(\"Every second element:\", array[::2])\n",
    "\n",
    "# Slicing in 2D arrays\n",
    "array_2d = np.array([[1, 2, 3], [4, 5, 6], [7, 8, 9]])\n",
    "print(\"Second row:\", array_2d[1, :])\n",
    "print(\"Last column:\", array_2d[:, -1])\n",
    "print(\"Middle column:\", array_2d[:, 1:-1])"
   ]
  },
  {
   "cell_type": "markdown",
   "id": "b88cf005-9d80-4fdf-9fb6-f36d06ff22d5",
   "metadata": {},
   "source": [
    "1. Indexing - Indexing in NumPy arrays allows us to access specific elements based on their position in the array.\n",
    "- **Syntax**: `array[index]`\n",
    "  - Accesses the element at the specified `index`.\n",
    "  - Indexing starts at 0, and negative indices access elements from the end of the array.\n",
    "\n",
    "    1.1 Accessing elements in 2D arrays - We can access specific elements in a 2D array using two indices.\n",
    "    - **Syntax**: `array_2d[row_index, col_index]`\n",
    "    \n",
    "    1.2 Boolean indexing - Select elements based on a condition.\n",
    "    1.3 Fancy indexing - Select elements using an array of indices.\n",
    "    1.4. Modifying elements - We can modify elements in a NumPy array by assigning new values using indexing.\n",
    "\n",
    "2. Slicing - Slicing allows us to access a range of elements within an array.\n",
    "- **Syntax**: `array[start:stop:step]`\n",
    "  - `start`: The starting index (inclusive).\n",
    "  - `stop`: The ending index (exclusive).\n",
    "  - `step`: The interval between elements (default is 1).\n",
    "  \n",
    "    2.1. Slicing in 2D arrays - For 2D arrays, we can slice rows and columns using a similar syntax, but with a comma to separate row and column indices.\n",
    "    - **Syntax**: `array_2d[row_start:row_stop, col_start:col_stop]`\n",
    "    \n",
    "### Broadcasting\n",
    "Broadcasting describes how NumPy handles arithmetic operations between arrays of different shapes. When performing operations like addition, subtraction, multiplication, or division, NumPy automatically expands the smaller array to match the shape of the larger array so that the operation can be performed element-wise. The smaller array is \"broadcast\" across the larger array so that they have compatible shapes.\n",
    "\n",
    "**Broadcasting rules** - The following rules determine how broadcasting works:\n",
    "\n",
    "   - **Rule 1**: If the arrays differ in their number of dimensions, the shape of the smaller-dimensional array is padded with ones on its left side until both shapes have the same length.\n",
    "\n",
    "   - **Rule 2**: Arrays with a dimension of size 1 can be stretched to match the other array's dimension. If the corresponding dimension sizes are equal, or one of them is 1, they are compatible.\n",
    "\n",
    "   - **Rule 3**: If there are still incompatible dimensions after applying rules 1 and 2, broadcasting cannot occur, and an error is raised."
   ]
  },
  {
   "cell_type": "code",
   "execution_count": 20,
   "id": "dbaa22aa-487e-4981-91ec-ec48856f7b7c",
   "metadata": {
    "tags": []
   },
   "outputs": [
    {
     "name": "stdout",
     "output_type": "stream",
     "text": [
      "Broadcasted addition:\n",
      " [[2 3 4]\n",
      " [3 4 5]\n",
      " [4 5 6]]\n",
      "Broadcasted addition with scalar:\n",
      " [11 12 13 14]\n",
      "Broadcasted subtraction:\n",
      " [[ -9 -18 -27]\n",
      " [ -6 -15 -24]]\n",
      "Error: operands could not be broadcast together with shapes (3,) (3,2) \n"
     ]
    }
   ],
   "source": [
    "# Broadcasting addition\n",
    "a = np.array([1, 2, 3])\n",
    "b = np.array([[1], [2], [3]])\n",
    "print(\"Broadcasted addition:\\n\", a + b)\n",
    "\n",
    "# Broadcasting scalar\n",
    "c = np.array([1, 2, 3, 4])\n",
    "result = c + 10\n",
    "print(\"Broadcasted addition with scalar:\\n\", result)\n",
    "\n",
    "# Broadcasting subtraction\n",
    "x = np.array([[1, 2, 3], [4, 5, 6]])\n",
    "y = np.array([10, 20, 30])\n",
    "result = x - y\n",
    "print(\"Broadcasted subtraction:\\n\", result)\n",
    "\n",
    "# Attempting incompatible broadcasting\n",
    "try:\n",
    "    z = np.array([1, 2, 3])\n",
    "    w = np.array([[1, 2], [3, 4], [5, 6]])\n",
    "    result = z + w\n",
    "except ValueError as e:\n",
    "    print(\"Error:\", e)"
   ]
  },
  {
   "cell_type": "markdown",
   "id": "b984cb15-dbd4-42e3-826e-75301f4f82e0",
   "metadata": {},
   "source": [
    "**Explanation**:\n",
    "\n",
    "1. Broadcasting addition -\n",
    "   - **Shape of `a`**: `(3,)` (1D array)\n",
    "   - **Shape of `b`**: `(3, 1)` (2D array)\n",
    "\n",
    "   Here, `a` is broadcast to become a `(3, 3)` array by replicating its values along a new axis:\n",
    "   ```\n",
    "   [[1, 2, 3],\n",
    "    [1, 2, 3],\n",
    "    [1, 2, 3]]\n",
    "   ```\n",
    "\n",
    "   The addition is performed element-wise, resulting in:\n",
    "   ```\n",
    "   [[2, 3, 4],\n",
    "    [3, 4, 5],\n",
    "    [4, 5, 6]]\n",
    "   ```\n",
    "\n",
    "2. Broadcasting with scalars -\n",
    "   - **Shape of `c`**: `(4,)`\n",
    "   - **Shape of scalar `10`**: `()` (a scalar, treated as `(1,)`)\n",
    "\n",
    "   The scalar `10` is broadcast to become a `(4,)` array `[10, 10, 10, 10]`, and the addition is performed element-wise:\n",
    "   ```\n",
    "   [11, 12, 13, 14]\n",
    "   ```\n",
    "\n",
    "3. Multi-dimensional broadcasting -\n",
    "   - **Shape of `x`**: `(2, 3)`\n",
    "   - **Shape of `y`**: `(3,)`\n",
    "\n",
    "   The array `y` is broadcast to match the shape `(2, 3)` by replicating across the new axis:\n",
    "   ```\n",
    "   [[10, 20, 30],\n",
    "    [10, 20, 30]]\n",
    "   ```\n",
    "\n",
    "   Subtraction is performed element-wise:\n",
    "   ```\n",
    "   [[-9, -18, -27],\n",
    "    [-6, -15, -24]]\n",
    "   ```\n",
    "\n",
    "4. Incompatible shapes - Here’s why this fails:\n",
    "\n",
    "    1. Initial shapes:\n",
    "       - **Shape of `z`**: `(3,)`\n",
    "       - **Shape of `w`**: `(3, 2)`\n",
    "\n",
    "    2. Padding with ones:\n",
    "       - NumPy treats `z` as if it has shape `(1, 3)`.\n",
    "\n",
    "    3. Attempt to stretch:\n",
    "       - NumPy tries to stretch the shape `(1, 3)` to match `(3, 2)`.\n",
    "\n",
    "    4. Checking compatibility:\n",
    "       - For `z`'s shape `(1, 3)`:\n",
    "         - The first dimension (1) can be stretched to 3 (okay).\n",
    "         - The second dimension (3) cannot be stretched to 2 (incompatible).\n",
    "\n",
    "    Because the dimensions cannot be aligned to make the shapes compatible (since 3 ≠ 2 and neither dimension is 1 that can be stretched), NumPy raises a `ValueError`. Here, the dimensions are incompatible for broadcasting because they cannot be made to align under the broadcasting rules, resulting in an error."
   ]
  },
  {
   "cell_type": "markdown",
   "id": "d89301f1-148c-4a7f-8341-0a316e6239c0",
   "metadata": {},
   "source": [
    "### Reshaping arrays\n",
    "\n",
    "Reshaping refers to changing the dimensions of an array while keeping its data unchanged. We might want to reshape an array to suit the requirements of a particular operation or algorithm, like feeding data into a machine learning model that expects inputs in a specific shape. Reshaping means changing the way the data is organized within an array. When we reshape an array, we simply reorganize its elements to fit a new shape, but the total number of elements and the order of elements remain unchanged.\n",
    "\n",
    "For reshaping to be possible, the total number of elements in the array must remain constant. This means the product of the dimensions in the new shape must equal the product of the dimensions in the original shape."
   ]
  },
  {
   "cell_type": "code",
   "execution_count": 21,
   "id": "3c043763-e6e6-4bef-b774-75525bd782a6",
   "metadata": {
    "tags": []
   },
   "outputs": [
    {
     "name": "stdout",
     "output_type": "stream",
     "text": [
      "Original array: [ 0  1  2  3  4  5  6  7  8  9 10 11]\n",
      "Reshaped array:\n",
      " [[ 0  1  2  3]\n",
      " [ 4  5  6  7]\n",
      " [ 8  9 10 11]]\n",
      "Reshaped array with -1:\n",
      " [[ 0  1  2  3]\n",
      " [ 4  5  6  7]\n",
      " [ 8  9 10 11]]\n",
      "Reshaped back to 1D:\n",
      " [ 0  1  2  3  4  5  6  7  8  9 10 11]\n",
      "3D Reshaped Array:\n",
      " [[[ 0  1  2]\n",
      "  [ 3  4  5]]\n",
      "\n",
      " [[ 6  7  8]\n",
      "  [ 9 10 11]]]\n"
     ]
    }
   ],
   "source": [
    "# Reshaping a 1D array to a 2D array\n",
    "array = np.arange(12) # Creates an array with 12 elements\n",
    "print(\"Original array:\", array)\n",
    "reshaped_array = array.reshape(3, 4) # Reshapes to a 3x4 array\n",
    "print(\"Reshaped array:\\n\", reshaped_array)\n",
    "\n",
    "# Reshape with one dimension calculated automatically\n",
    "reshaped_array_auto = array.reshape(3, -1)\n",
    "print(\"Reshaped array with -1:\\n\", reshaped_array_auto)\n",
    "\n",
    "# Reshape back to a 1D array\n",
    "one_d_array = reshaped_array.reshape(-1)\n",
    "print(\"Reshaped back to 1D:\\n\", one_d_array)\n",
    "\n",
    "# Creating a 3D array from a 1D array\n",
    "three_d_array = array.reshape(2, 2, 3)\n",
    "print(\"3D Reshaped Array:\\n\", three_d_array)"
   ]
  },
  {
   "cell_type": "markdown",
   "id": "bbfd7b9d-63be-460f-bc1e-efa580c6ce3c",
   "metadata": {},
   "source": [
    "**Using `reshape` method**\n",
    "- **Syntax**: `reshaped_array = original_array.reshape(new_shape)`\n",
    "- `new_shape` is a tuple representing the desired shape. It can have as many dimensions as we need, provided that the total number of elements matches.\n",
    "- Using `-1` as one of the dimensions in the tuple `new_shape` tells NumPy to automatically calculate that dimension to make the total number of elements match.\n",
    "- `reshape(-1)` flattens the array back to a one-dimensional array.\n",
    "\n",
    "#### Transpose\n",
    "The transpose of an array is obtained by swapping its rows and columns. This operation is often used in linear algebra."
   ]
  },
  {
   "cell_type": "code",
   "execution_count": 22,
   "id": "ffa5dcf0-344e-4c8a-a346-6000c6458528",
   "metadata": {
    "tags": []
   },
   "outputs": [
    {
     "name": "stdout",
     "output_type": "stream",
     "text": [
      "Original matrix:\n",
      " [[1 2 3]\n",
      " [4 5 6]]\n",
      "Transposed matrix:\n",
      " [[1 4]\n",
      " [2 5]\n",
      " [3 6]]\n",
      "\n",
      "Original 3D array:\n",
      " [[[1 2]\n",
      "  [3 4]]\n",
      "\n",
      " [[5 6]\n",
      "  [7 8]]]\n",
      "Transposed 3D array:\n",
      " [[[1 2]\n",
      "  [5 6]]\n",
      "\n",
      " [[3 4]\n",
      "  [7 8]]]\n"
     ]
    }
   ],
   "source": [
    "# 2D array transpose\n",
    "matrix = np.array([[1, 2, 3], [4, 5, 6]])\n",
    "print(\"Original matrix:\\n\", matrix)\n",
    "transposed_matrix = matrix.T\n",
    "print(\"Transposed matrix:\\n\", transposed_matrix)\n",
    "\n",
    "# Higher-dimensional array transpose\n",
    "array_3d = np.array([[[1, 2], [3, 4]], [[5, 6], [7, 8]]])\n",
    "print(\"\\nOriginal 3D array:\\n\", array_3d)\n",
    "transposed_3d = array_3d.transpose(1, 0, 2)\n",
    "print(\"Transposed 3D array:\\n\", transposed_3d)"
   ]
  },
  {
   "cell_type": "markdown",
   "id": "2a20c05a-867b-49f7-b55d-9705a188619b",
   "metadata": {},
   "source": [
    "For a 2D array (matrix), transposing switches its rows and columns. If you have a matrix where the element at position `(i, j)` is `matrix[i][j]`, after transposing, this element will be at position `(j, i)` in the transposed matrix.\n",
    "- **Syntax**: `transposed_array = array.T`\n",
    "- Each row of the original matrix becomes a column in the transposed matrix, and vice versa.\n",
    "\n",
    "For higher-dimensional arrays, transposing can involve swapping any of the axes. NumPy provides the `transpose()` method, which allows us to specify the order of the axes.\n",
    "- **Syntax**: `transposed_array = array.transpose(axes_order)`\n",
    "- The function `array.transpose(axes_order)` rearranges the array dimensions according to the specified axes order. Each index represents the position of the original axes.\n",
    "- For example, if we have an array of shape `(a, b, c)`, using `transpose(1, 0, 2)` will change it to `(b, a, c)`.\n",
    "\n",
    "### Dot product\n",
    "The dot product is used to compute the product of two arrays. It is often used in vector and matrix multiplication."
   ]
  },
  {
   "cell_type": "code",
   "execution_count": 23,
   "id": "90059a00-f4f9-42f5-93c0-a85d062577e7",
   "metadata": {
    "tags": []
   },
   "outputs": [
    {
     "name": "stdout",
     "output_type": "stream",
     "text": [
      "Dot product of vectors: 32\n",
      "Dot product of matrices:\n",
      " [[19 22]\n",
      " [43 50]]\n"
     ]
    }
   ],
   "source": [
    "vector1 = np.array([1, 2, 3])\n",
    "vector2 = np.array([4, 5, 6])\n",
    "\n",
    "dot_product = np.dot(vector1, vector2)\n",
    "print(\"Dot product of vectors:\", dot_product)\n",
    "\n",
    "matrix1 = np.array([[1, 2], [3, 4]])\n",
    "matrix2 = np.array([[5, 6], [7, 8]])\n",
    "\n",
    "dot_product_matrices = np.dot(matrix1, matrix2)\n",
    "print(\"Dot product of matrices:\\n\", dot_product_matrices)"
   ]
  },
  {
   "cell_type": "markdown",
   "id": "1c492ff1-b5e1-4997-ba31-4ed99b90afe0",
   "metadata": {},
   "source": [
    "### Sorting arrays"
   ]
  },
  {
   "cell_type": "code",
   "execution_count": 24,
   "id": "6feb9675-f32c-4aaa-b0e5-32ae31a04cd0",
   "metadata": {
    "tags": []
   },
   "outputs": [
    {
     "name": "stdout",
     "output_type": "stream",
     "text": [
      "Sorted array: [1 2 4 5 8]\n",
      "Indices that would sort the array: [3 1 4 0 2]\n",
      "In-place sorted array: [1 2 4 5 8]\n",
      "\n",
      "Column-wise sorted 2D array:\n",
      " [[3 2 1]\n",
      " [6 5 4]]\n",
      "Row-wise sorted 2D array:\n",
      " [[1 3 5]\n",
      " [2 4 6]]\n"
     ]
    }
   ],
   "source": [
    "### Sorting a 1D array\n",
    "array = np.array([5, 2, 8, 1, 4])\n",
    "print(\"Sorted array:\", np.sort(array))\n",
    "# Get indices that would sort the array\n",
    "print(\"Indices that would sort the array:\", np.argsort(array))\n",
    "# In-place sorting\n",
    "array.sort()\n",
    "print(\"In-place sorted array:\", array)\n",
    "\n",
    "### Sorting a 2D array\n",
    "array_2d = np.array([[3, 5, 1], [6, 2, 4]])\n",
    "print(\"\\nColumn-wise sorted 2D array:\\n\", np.sort(array_2d, axis=0)) # Sort each column\n",
    "print(\"Row-wise sorted 2D array:\\n\", np.sort(array_2d, axis=1)) # Sort each row"
   ]
  },
  {
   "cell_type": "markdown",
   "id": "74fb1090-c0ba-420e-bf5c-b23167a1372a",
   "metadata": {},
   "source": [
    "### Comparison operators and filtering"
   ]
  },
  {
   "cell_type": "code",
   "execution_count": 25,
   "id": "07b2381a-81e9-469d-8c95-a1dfd0d82b72",
   "metadata": {
    "tags": []
   },
   "outputs": [
    {
     "name": "stdout",
     "output_type": "stream",
     "text": [
      "a < b: [ True  True False False False]\n",
      "a == b: [False False  True False False]\n",
      "a > b: [False False False  True  True]\n",
      "Filtered array (a > 3): [4 5]\n",
      "Element-wise minimum: [1 2 3 2 1]\n",
      "Unique elements: [6]\n"
     ]
    }
   ],
   "source": [
    "a = np.array([1, 2, 3, 4, 5])\n",
    "b = np.array([5, 4, 3, 2, 1])\n",
    "\n",
    "# Element-wise comparison\n",
    "print(\"a < b:\", a < b)\n",
    "print(\"a == b:\", a == b)\n",
    "print(\"a > b:\", a > b)\n",
    "\n",
    "# Using comparison to filter arrays\n",
    "filtered_array = a[a > 3]\n",
    "print(\"Filtered array (a > 3):\", filtered_array)\n",
    "\n",
    "# Using np.where for conditional logic\n",
    "condition = np.where(a < b, a, b)\n",
    "print(\"Element-wise minimum:\", condition)\n",
    "\n",
    "# Find unique elements\n",
    "unique_elements = np.unique(a+b)\n",
    "print(\"Unique elements:\", unique_elements)"
   ]
  },
  {
   "cell_type": "markdown",
   "id": "ebbfc0b7-2ec7-434b-8b19-d878caea41a6",
   "metadata": {},
   "source": [
    "- Filtering arrays using comparison - We can use comparison operators to filter arrays, selecting only elements that meet a certain condition.\n",
    "    - **Syntax**: `filtered_array = array[condition]`\n",
    "    \n",
    "- Identifying unique elements with `np.unique` function.\n",
    "    - **Syntax**: `unique_elements = np.unique(array, return_index=False, return_inverse=False, return_counts=False, axis=None)`\n",
    "        - `return_index`: If `True`, returns the indices of the first occurrences of the unique values in the original array.\n",
    "        - `return_inverse`: If `True`, returns the indices to reconstruct the original array from the unique array.\n",
    "        - `return_counts`: If `True`, returns the number of times each unique item appears in the array.\n",
    "        - `axis`: The axis to apply the uniqueness check. If `None`, the array is flattened.\n",
    "\n",
    "- Conditional logic with `np.where` - NumPy's `np.where` function is used to apply conditional logic across arrays. It selects elements from two arrays based on a specified condition.\n",
    "    - **Syntax**: `result = np.where(condition, x, y)`\n",
    "    - If `True`, it selects the element from `x`; otherwise, it selects from `y`.\n",
    "    \n",
    "### Logic functions\n",
    "\n",
    "##### 1. Logical AND, OR, NOT\n",
    "These functions perform element-wise logical operations."
   ]
  },
  {
   "cell_type": "code",
   "execution_count": 26,
   "id": "398bce9d-7b19-4e0a-8b58-ccf61be54e9e",
   "metadata": {
    "tags": []
   },
   "outputs": [
    {
     "name": "stdout",
     "output_type": "stream",
     "text": [
      "Logical AND: [False False  True]\n",
      "Logical OR: [ True False  True]\n",
      "Logical NOT: [False  True False]\n"
     ]
    }
   ],
   "source": [
    "# Define two arrays\n",
    "array1 = np.array([True, False, True])\n",
    "array2 = np.array([False, False, True])\n",
    "\n",
    "print(\"Logical AND:\", np.logical_and(array1, array2))\n",
    "print(\"Logical OR:\", np.logical_or(array1, array2))\n",
    "print(\"Logical NOT:\", np.logical_not(array1))"
   ]
  },
  {
   "cell_type": "markdown",
   "id": "e6d27355-9ace-4845-a896-90550aa52cc0",
   "metadata": {},
   "source": [
    "- **`np.logical_and`**: Returns `True` only if both elements are `True`.\n",
    "- **`np.logical_or`**: Returns `True` if at least one element is `True`.\n",
    "- **`np.logical_not`**: Inverts the boolean value of each element.\n",
    "\n",
    "##### 2. Comparison functions\n",
    "These functions compare elements of arrays and return boolean arrays."
   ]
  },
  {
   "cell_type": "code",
   "execution_count": 27,
   "id": "766b44ba-1251-4f6a-b37a-935a83123b4c",
   "metadata": {
    "tags": []
   },
   "outputs": [
    {
     "name": "stdout",
     "output_type": "stream",
     "text": [
      "Equal: [False  True False]\n",
      "Not equal: [ True False  True]\n",
      "Greater: [False False  True]\n",
      "Less: [ True False False]\n"
     ]
    }
   ],
   "source": [
    "# Arrays for comparison\n",
    "array1 = np.array([1, 2, 3])\n",
    "array2 = np.array([3, 2, 1])\n",
    "\n",
    "print(\"Equal:\", np.equal(array1, array2))\n",
    "print(\"Not equal:\", np.not_equal(array1, array2))\n",
    "print(\"Greater:\", np.greater(array1, array2))\n",
    "print(\"Less:\", np.less(array1, array2))"
   ]
  },
  {
   "cell_type": "markdown",
   "id": "c9ac1a59-a98f-4605-9254-209cfaa02a19",
   "metadata": {},
   "source": [
    "##### 3. Array comparison functions\n",
    "These functions compare arrays and check if they are equal within some tolerance or exactly."
   ]
  },
  {
   "cell_type": "code",
   "execution_count": 28,
   "id": "1ac54034-155c-4f52-a498-7af0439a9546",
   "metadata": {
    "tags": []
   },
   "outputs": [
    {
     "name": "stdout",
     "output_type": "stream",
     "text": [
      "All close: True\n",
      "Element-wise close: [ True  True  True]\n",
      "Array equal: False\n"
     ]
    }
   ],
   "source": [
    "# Define arrays\n",
    "array1 = np.array([1.0, 2.0, 3.0001])\n",
    "array2 = np.array([1.0, 2.0, 3.0002])\n",
    "\n",
    "# Check if arrays are close\n",
    "close_result = np.allclose(array1, array2, rtol=1e-03)\n",
    "print(\"All close:\", close_result)\n",
    "\n",
    "# Check element-wise closeness\n",
    "isclose_result = np.isclose(array1, array2, rtol=1e-03)\n",
    "print(\"Element-wise close:\", isclose_result)\n",
    "\n",
    "# Check if arrays are exactly equal\n",
    "equal_result = np.array_equal(array1, array2)\n",
    "print(\"Array equal:\", equal_result)"
   ]
  },
  {
   "cell_type": "markdown",
   "id": "8da66bc0-8014-4990-a472-02d73400eb27",
   "metadata": {},
   "source": [
    "- `np.allclose`: Returns `True` if all elements are approximately equal, considering specified tolerances. Useful for floating-point comparisons.\n",
    "- `np.isclose`: Returns an array of booleans where each element indicates if the corresponding elements in the input arrays are close.\n",
    "- `np.array_equal`: Returns `True` if arrays are exactly equal in shape and element values.\n",
    "\n",
    "##### 4. Truth value testing\n",
    "These functions test whether any or all elements in an array meet a condition."
   ]
  },
  {
   "cell_type": "code",
   "execution_count": 29,
   "id": "cd7d8d9c-0bed-492c-b762-da5d0d8a98de",
   "metadata": {
    "tags": []
   },
   "outputs": [
    {
     "name": "stdout",
     "output_type": "stream",
     "text": [
      "All elements True: False\n",
      "Any element True: True\n"
     ]
    }
   ],
   "source": [
    "array = np.array([True, True, False])\n",
    " \n",
    "print(\"All elements True:\", np.all(array))\n",
    "print(\"Any element True:\", np.any(array))"
   ]
  }
 ],
 "metadata": {
  "kernelspec": {
   "display_name": "Python 3 (ipykernel)",
   "language": "python",
   "name": "python3"
  },
  "language_info": {
   "codemirror_mode": {
    "name": "ipython",
    "version": 3
   },
   "file_extension": ".py",
   "mimetype": "text/x-python",
   "name": "python",
   "nbconvert_exporter": "python",
   "pygments_lexer": "ipython3",
   "version": "3.9.13"
  }
 },
 "nbformat": 4,
 "nbformat_minor": 5
}
