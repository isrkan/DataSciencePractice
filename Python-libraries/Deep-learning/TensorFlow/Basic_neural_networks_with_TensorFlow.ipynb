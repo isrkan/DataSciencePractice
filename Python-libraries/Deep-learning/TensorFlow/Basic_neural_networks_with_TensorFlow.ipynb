{
 "cells": [
  {
   "cell_type": "markdown",
   "id": "17ff4e6a-028b-4cbb-b968-3ce17bd23c24",
   "metadata": {},
   "source": [
    "# Neural networks for regression and classification tasks with TensorFlow\n",
    "\n",
    "ANNs are used for a wide range of tasks, including regression and classification. In this guide, we eill explore how to build and train ANNs using TensorFlow.\n",
    "\n",
    "Neural networks consist of layers of interconnected nodes, or neurons, which transform input data into output predictions. The main components of a neural network include:\n",
    "\n",
    "- **Input layer**: The layer that receives the input data.\n",
    "- **Hidden layers**: Intermediate layers that transform inputs through learned weights and biases.\n",
    "- **Output layer**: The final layer that outputs predictions.\n",
    "\n",
    "#### Steps in building neural networks with TensorFlow\n",
    "1. Define the model architecture: Choose the number of layers and neurons.\n",
    "2. Compile the model: Specify the optimizer, loss function, and metrics.\n",
    "3. Train the model: Use training data to learn weights.\n",
    "4. Evaluate the model: Assess performance on test data.\n",
    "5. Make predictions: Use the model to predict new data.\n",
    "6. Saving the model\n",
    "7. Loading the model\n",
    "\n",
    "In this guide, we will build of neural networks (FFNN) for two types of tasks:\n",
    "1. **Regression**: Used for predicting continuous values.\n",
    "2. **Classification**: Used for classifying data into discrete categories.\n",
    "\n",
    "A feedforward neural network (FFNN) is a type of artificial neural networks. It consists of layers of neurons, where each layer is connected only to the next one, and there are no loops or cycles."
   ]
  },
  {
   "cell_type": "code",
   "execution_count": 1,
   "id": "9917352c-0fee-45ea-b281-bd8c1d40a8ef",
   "metadata": {
    "tags": []
   },
   "outputs": [],
   "source": [
    "import tensorflow as tf\n",
    "from tensorflow.keras.models import Sequential, load_model\n",
    "from tensorflow.keras.layers import InputLayer, Dense\n",
    "from tensorflow.keras.optimizers import Adam, SGD\n",
    "import numpy as np\n",
    "from sklearn.preprocessing import StandardScaler, OneHotEncoder\n",
    "from sklearn.datasets import fetch_california_housing, load_iris\n",
    "from sklearn.model_selection import train_test_split\n",
    "from sklearn.preprocessing import StandardScaler\n",
    "import matplotlib.pyplot as plt"
   ]
  },
  {
   "cell_type": "markdown",
   "id": "f9180066-adc1-4f83-a525-305b875f63f6",
   "metadata": {
    "tags": []
   },
   "source": [
    "## 1. Neural network for regression\n",
    "In this section, we'll build a neural network to predict house prices using the California housing dataset. This dataset contains features related to housing prices in California. It includes attributes like median income, housing age, and average rooms per household, among others."
   ]
  },
  {
   "cell_type": "code",
   "execution_count": 2,
   "id": "a8a6e3c2-1fc4-489a-8083-4666de8adf5a",
   "metadata": {
    "tags": []
   },
   "outputs": [],
   "source": [
    "# Load the Boston housing dataset\n",
    "housing = fetch_california_housing()\n",
    "X = housing.data\n",
    "y = housing.target\n",
    "\n",
    "# Split the dataset into training and test sets\n",
    "X_train, X_test, y_train, y_test = train_test_split(X, y, test_size=0.2, random_state=42)\n",
    "\n",
    "# Standardize the features\n",
    "scaler = StandardScaler()\n",
    "X_train = scaler.fit_transform(X_train)\n",
    "X_test = scaler.transform(X_test)"
   ]
  },
  {
   "cell_type": "markdown",
   "id": "bf563cf3-3726-41ef-8dba-d2128e46b043",
   "metadata": {},
   "source": [
    "### Step 1.1: Define the model architecture"
   ]
  },
  {
   "cell_type": "code",
   "execution_count": 3,
   "id": "b279055d-736b-4da9-9d64-7785782591ab",
   "metadata": {
    "tags": []
   },
   "outputs": [],
   "source": [
    "# Define a simple feedforward neural network model for regression\n",
    "model = Sequential()\n",
    "model.add(InputLayer(input_shape=(X_train.shape[1],)))\n",
    "model.add(Dense(64, activation='relu'))  # Hidden layer with 64 neurons\n",
    "model.add(Dense(32, activation='relu'))  # Another hidden layer with 32 neurons\n",
    "model.add(Dense(1, activation='linear'))  # Output layer with 1 neuron (for regression)"
   ]
  },
  {
   "cell_type": "markdown",
   "id": "ca3214d4-3381-4be3-bd7a-cb846998377e",
   "metadata": {
    "tags": []
   },
   "source": [
    "**Explanation:**\n",
    "- **Initializing the sequential model**\n",
    "    - **`Sequential()`**: This creates a linear stack of layers, meaning each layer has one input tensor and one output tensor. We can add layers one by one, and the output of each layer will be the input to the next layer.\n",
    "    - While not covered here, these are alternative methods for more complex models where layers can have multiple inputs and outputs.\n",
    "\n",
    "- **Input layer**: The input layer is where the data enters the neural network.\n",
    "    - Syntax: `InputLayer(input_shape=(number_of_features,))`\n",
    "    - The `input_shape` parameter is typically a tuple specifying the number of features in the input data. For tabular data, it corresponds to the number of features (columns) in the dataset.\n",
    "    - The input layer doesn’t contain trainable parameters such as weights or biases; it just defines the shape of the input data.\n",
    "    - In our example:\n",
    "        - **`InputLayer(input_shape=(X_train.shape[1],))`**: This specifies the shape of the input data. `X_train.shape[1]` refers to the number of features in our input data. For instance, if `X_train` has 10 features, the input layer shape will be `(10,)`. \n",
    "\n",
    "- **Hidden layers**: Hidden layers are used to learn and represent complex patterns in the data.\n",
    "    - Syntax: `Dense(units, activation='activation_function')`\n",
    "    - Dense layers: The most common type of layer in FFNNs, where each neuron in a dense (fully connected) layer receives input from all neurons in the previous layer. Each layer transforms the input data through a set of weights and biases.\n",
    "    - `units`: Number of neurons in the layer.\n",
    "    - `activation`: An activation function in a neural network defines how the weighted sum of the input is transformed into an output from a node or nodes in a layer of the network. Typically, a differentiable nonlinear activation function is used in the hidden layers of a neural network. This allows the model to learn more complex functions than a network trained using a linear activation function.\n",
    "    - In our example:\n",
    "        - **`Dense(64, activation='relu')`**: This adds a dense (fully connected) layer with 64 neurons. Each neuron in this layer will apply a ReLU activation function, which introduces non-linearity and helps the network learn complex patterns.\n",
    "        - **`Dense(32, activation='relu')`**: Another dense layer with 32 neurons and ReLU activation. Adding more hidden layers can help the model learn more complex representations of the data.\n",
    "\n",
    "- **Output layer**: The output layer provides the final predictions of the network.\n",
    "    - Syntax for regression: `Dense(1, activation='activation_function')` (single neuron without activation function)\n",
    "    - 1 neuron: For regression tasks, the output layer typically has a single neuron to predict a continuous value.\n",
    "    - If activation function is not specified, a linear activation used by default.\n",
    "    - In our example:\n",
    "        - **`Dense(1, activation='linear')`**: The final output layer with a single neuron. Since this is a regression task, this layer has linear activation function (or can use a linear activation by default) which means the output is a linear combination of inputs. This is suitable for predicting continuous values.\n",
    "\n",
    "**Hyperparameters in this step:**\n",
    "- **Number of layers and neurons**: The number of hidden layers and the number of neurons per layer are crucial hyperparameters. More neurons and layers allow the network to learn more complex patterns but also increase computational complexity and risk of overfitting. These are chosen based on the complexity of the problem and can be adjusted based on experimentation.\n",
    "- **Activation function for hidden layer**: We usually will use non-linear activation function in hidden layers since it helps extracting complex relationships. Common activation functions in hidden layers include:\n",
    "    - ReLU ('`relu`'): Often used in hidden layers. It helps to mitigate the vanishing gradient problem by allowing only positive values to pass through. It helps introduce non-linearity into the model, allowing it to learn complex relationships.\n",
    "- **Activation function for output layer**:\n",
    "    - Linear activation ('`linear`' - default): For regression tasks, where we want to predict continuous values.\n",
    "    - Softmax ('`softmax`'- logistic function): For multi-class classification tasks, where we want to output a probability distribution over classes.\n",
    "    - Sigmoid ('`sigmoid`'): Used primarily for binary classification.\n",
    "    - Tanh ('`tanh`'): Similar to sigmoid but output is zero-centered.\n",
    "\n",
    "### Step 1.2: Compile the model\n",
    "Compiling a model is a crucial step in defining how a neural network will learn from the data. It involves specifying the optimizer, loss function, and metrics, which together determine the model's training behavior.\n",
    "\n",
    "**General syntax:** `model.compile(optimizer='optimizer_name', loss='loss_function', metrics=['list_of_metrics'])`"
   ]
  },
  {
   "cell_type": "code",
   "execution_count": 4,
   "id": "b2d6441b-bd74-4ba0-87b8-94537c3d026b",
   "metadata": {
    "tags": []
   },
   "outputs": [],
   "source": [
    "# Compile the model\n",
    "model.compile(optimizer=Adam(learning_rate=0.001), loss='mean_squared_error', metrics=['mae'])"
   ]
  },
  {
   "cell_type": "markdown",
   "id": "42ad3ca5-5694-4780-81be-9ca4bbc0e986",
   "metadata": {
    "tags": []
   },
   "source": [
    "**Hyperparameters in this step:**\n",
    "- **Optimizer**: The optimizer determines how the model's weights are updated based on the loss function's output. Each optimizer has hyperparameters like the learning rate and momentum, which can be tuned for better performance. Common Optimizers:\n",
    "    - `SGD`': A traditional optimization algorithm that updates the model parameters based on the gradient of the loss function with respect to each parameter. SGD might be preferable if we need more control over the optimization process or are fine-tuning a model.\n",
    "        - Syntax with parameters: `SGD(learning_rate=0.01, momentum=0.9)`\n",
    "            - Learning rate: Determines the step size at each iteration while moving toward a minimum of the loss function.\n",
    "            - Momentum: Used to accelerate SGD in the relevant direction and dampen oscillations.\n",
    "    - `Adam`': A popular optimizer that adapts the learning rate for each parameter, combining the benefits of AdaGrad and RMSProp.\n",
    "        - Syntax with parameters: `Adam(learning_rate=0.001)`\n",
    "- **Loss function**: The loss function measures how well the model's predictions match the target values. The goal during training is to minimize this loss. Common loss functions for regression:\n",
    "    - Mean squared error ('mean_squared_error'): Measures the average of the squares of the errors, suitable for regression tasks. It penalizes larger errors more than smaller ones.\n",
    "    - Mean absolute error ('mean_absolute_error'): Measures the average magnitude of errors without considering their direction, providing a more robust metric to outliers.\n",
    "    - Huber loss: Combines the properties of MSE and MAE, less sensitive to outliers than MSE.\n",
    "- **Metrics**: Metrics are used to evaluate the performance of the model during training and testing. Metrics provide a means to evaluate the model’s performance beyond the loss function. For regression tasks, MAE or MSE are commonly used.\n",
    "\n",
    "### Step 1.3: Train the model\n",
    "Training a neural network involves feeding data into the model, adjusting the model's weights through backpropagation, and iteratively minimizing the loss function. This is done using the `model.fit()` method in Keras.\n",
    "\n",
    "**General syntax:**\n",
    "\n",
    "`model.fit(X_train, y_train, epochs=number_of_epochs, batch_size=batch_size_value, validation_split=validation_split_ratio)`"
   ]
  },
  {
   "cell_type": "code",
   "execution_count": 5,
   "id": "382ccfa4-09c2-43a5-9751-373f27fd6998",
   "metadata": {
    "tags": []
   },
   "outputs": [
    {
     "name": "stdout",
     "output_type": "stream",
     "text": [
      "Epoch 1/20\n",
      "413/413 [==============================] - 3s 4ms/step - loss: 0.8040 - mae: 0.6201 - val_loss: 0.5208 - val_mae: 0.4947\n",
      "Epoch 2/20\n",
      "413/413 [==============================] - 1s 3ms/step - loss: 0.4621 - mae: 0.4610 - val_loss: 0.4153 - val_mae: 0.4570\n",
      "Epoch 3/20\n",
      "413/413 [==============================] - 1s 3ms/step - loss: 0.3765 - mae: 0.4370 - val_loss: 0.4009 - val_mae: 0.4429\n",
      "Epoch 4/20\n",
      "413/413 [==============================] - 1s 3ms/step - loss: 0.3648 - mae: 0.4257 - val_loss: 0.4207 - val_mae: 0.4445\n",
      "Epoch 5/20\n",
      "413/413 [==============================] - 1s 2ms/step - loss: 0.3473 - mae: 0.4177 - val_loss: 0.3802 - val_mae: 0.4393\n",
      "Epoch 6/20\n",
      "413/413 [==============================] - 1s 3ms/step - loss: 0.3346 - mae: 0.4090 - val_loss: 0.3670 - val_mae: 0.4236\n",
      "Epoch 7/20\n",
      "413/413 [==============================] - 1s 3ms/step - loss: 0.3314 - mae: 0.4025 - val_loss: 0.3646 - val_mae: 0.4235\n",
      "Epoch 8/20\n",
      "413/413 [==============================] - 1s 3ms/step - loss: 0.3343 - mae: 0.4026 - val_loss: 0.3634 - val_mae: 0.4315\n",
      "Epoch 9/20\n",
      "413/413 [==============================] - 1s 3ms/step - loss: 0.3156 - mae: 0.3944 - val_loss: 0.3806 - val_mae: 0.4044\n",
      "Epoch 10/20\n",
      "413/413 [==============================] - 1s 2ms/step - loss: 0.3473 - mae: 0.3951 - val_loss: 0.3496 - val_mae: 0.4056\n",
      "Epoch 11/20\n",
      "413/413 [==============================] - 1s 2ms/step - loss: 0.3217 - mae: 0.3880 - val_loss: 0.3363 - val_mae: 0.3933\n",
      "Epoch 12/20\n",
      "413/413 [==============================] - 1s 3ms/step - loss: 0.2981 - mae: 0.3811 - val_loss: 0.3257 - val_mae: 0.3945\n",
      "Epoch 13/20\n",
      "413/413 [==============================] - 1s 3ms/step - loss: 0.2959 - mae: 0.3804 - val_loss: 0.3430 - val_mae: 0.3977\n",
      "Epoch 14/20\n",
      "413/413 [==============================] - 1s 3ms/step - loss: 0.2930 - mae: 0.3761 - val_loss: 0.3214 - val_mae: 0.3935\n",
      "Epoch 15/20\n",
      "413/413 [==============================] - 2s 4ms/step - loss: 0.2910 - mae: 0.3739 - val_loss: 0.3260 - val_mae: 0.3878\n",
      "Epoch 16/20\n",
      "413/413 [==============================] - 1s 3ms/step - loss: 0.2851 - mae: 0.3711 - val_loss: 0.3199 - val_mae: 0.3907\n",
      "Epoch 17/20\n",
      "413/413 [==============================] - 1s 2ms/step - loss: 0.2836 - mae: 0.3696 - val_loss: 0.3331 - val_mae: 0.3948\n",
      "Epoch 18/20\n",
      "413/413 [==============================] - 1s 2ms/step - loss: 0.2867 - mae: 0.3712 - val_loss: 0.3173 - val_mae: 0.3772\n",
      "Epoch 19/20\n",
      "413/413 [==============================] - 1s 2ms/step - loss: 0.2805 - mae: 0.3672 - val_loss: 0.3201 - val_mae: 0.3845\n",
      "Epoch 20/20\n",
      "413/413 [==============================] - 1s 2ms/step - loss: 0.2836 - mae: 0.3690 - val_loss: 0.3151 - val_mae: 0.3819\n"
     ]
    }
   ],
   "source": [
    "# Train the model\n",
    "history = model.fit(X_train, y_train, epochs=20, batch_size=32, validation_split=0.2)"
   ]
  },
  {
   "cell_type": "markdown",
   "id": "2d1c53f1-f5e0-4a7e-8d60-8ee1168f5b02",
   "metadata": {
    "tags": []
   },
   "source": [
    "**Components and hyperparameters in this step:**\n",
    "\n",
    "- **Input data**: These inputs are required for training the model to learn the mapping from inputs to outputs.\n",
    "   - `X_train`: The feature matrix for training data.\n",
    "   - `y_train`: The target vector for training data.\n",
    "- **Epochs**: The number of times the entire training dataset is passed through the model. More epochs allow the model to learn better representations from the data but can also lead to overfitting if too high. Commonly used values range from 10 to 100 or more, depending on the problem complexity and dataset size.\n",
    "    - In our example, the model will go through the entire dataset 20 times (`epochs=20`).\n",
    "- **Batch size**: The number of samples processed before the model's internal parameters are updated. Smaller batch sizes offer a regularization effect and lower generalization error but can increase training time. Larger batch sizes lead to faster computation but might result in worse generalization. Common batch sizes include 16, 32, 64, and 128.\n",
    "    - In our example, the model will update its weights after every 32 samples (`batch_size=32`).\n",
    "- **Validation split**: Fraction of the training data to be used as validation data. It allows the model to be evaluated on unseen data after each epoch, providing a measure of how well the model generalizes. Common values range from 0.1 to 0.3. A higher split gives a more accurate picture but reduces the amount of data available for training.\n",
    "    - In our example, 20% of the training data will be used for validation to monitor the model's performance on unseen data (`validation_split=0.2`).\n",
    "- **Additional parameters**:\n",
    "    - **Shuffling**: Whether to shuffle the training data before each epoch. Shuffling helps improve model generalization by preventing the model from learning any unintended order from the dataset.\n",
    "         - Syntax: `shuffle=True` (default)\n",
    "   - **Callbacks**: List of callback instances applied during training. They are custom functions or objects that we can pass to the method to perform specific actions at different stages of the training process. They offer a flexible way to monitor, control, and modify the training behavior.\n",
    "     - Syntax: `callbacks=[list_of_callbacks]`\n",
    "     - TensorFlow provides several built-in callbacks to cover common use cases:\n",
    "        - `ModelCheckpoint`: Save the model at specified intervals.\n",
    "        - `EarlyStopping`: Stop training if validation loss doesn't improve.\n",
    "        - `ReduceLROnPlateau`: Reduce learning rate when validation loss plateaus.\n",
    "        - `TensorBoard`: Write logs to TensorBoard for visualization.\n",
    "        - `LearningRateScheduler`: Schedule learning rate according to a function.\n",
    "    - **Verbose** (int): Controls the verbosity of the training process. 0 for silent, 1 for progress bar, and 2 for one line per epoch.\n",
    "\n",
    "##### Plot training metrics\n",
    "When we train a model with `model.fit()`, it returns a `history` object, which contains a `history` attribute. This attribute is a dictionary where the keys are the names of the metrics specified during compilation and the values are lists of metric values recorded at the end of each epoch."
   ]
  },
  {
   "cell_type": "code",
   "execution_count": 6,
   "id": "515214ce-02e7-4483-974b-b5ffaba463c7",
   "metadata": {
    "tags": []
   },
   "outputs": [
    {
     "data": {
      "image/png": "[encoded data removed]",
      "text/plain": [
       "<Figure size 1200x400 with 2 Axes>"
      ]
     },
     "metadata": {},
     "output_type": "display_data"
    }
   ],
   "source": [
    "# Plot training & validation accuracy values\n",
    "plt.figure(figsize=(12, 4))\n",
    "plt.subplot(1, 2, 1)\n",
    "plt.plot(history.history['mae'])\n",
    "plt.plot(history.history['val_mae'])\n",
    "plt.title('Model MAE')\n",
    "plt.ylabel('MAE')\n",
    "plt.xlabel('Epoch')\n",
    "plt.legend(['Train', 'Validation'], loc='upper left')\n",
    "\n",
    "# Plot training & validation loss values\n",
    "plt.subplot(1, 2, 2)\n",
    "plt.plot(history.history['loss'])\n",
    "plt.plot(history.history['val_loss'])\n",
    "plt.title('Model Loss')\n",
    "plt.ylabel('Loss')\n",
    "plt.xlabel('Epoch')\n",
    "plt.legend(['Train', 'Validation'], loc='upper left')\n",
    "\n",
    "plt.show()"
   ]
  },
  {
   "cell_type": "markdown",
   "id": "fb8f1bc0-cc58-46d5-af4d-5365249b08b0",
   "metadata": {},
   "source": [
    "### Step 1.4: Evaluate the model\n",
    "After training, evaluate the model using test data. This provides an indication of how well the model generalizes to new, unseen data. The metrics evaluated are the same as those specified during model compilation with `model.compile`. The output will be the calculated loss value on the test dataset."
   ]
  },
  {
   "cell_type": "code",
   "execution_count": 7,
   "id": "5a69b8d0-bc0e-4089-b368-7dd29d1bebc0",
   "metadata": {
    "tags": []
   },
   "outputs": [
    {
     "name": "stdout",
     "output_type": "stream",
     "text": [
      "129/129 [==============================] - 0s 2ms/step - loss: 0.3012 - mae: 0.3730\n",
      "Test loss: [0.30123254656791687, 0.37297651171684265]\n"
     ]
    }
   ],
   "source": [
    "# Evaluate the model\n",
    "test_loss = model.evaluate(X_test, y_test)\n",
    "print(f\"Test loss: {test_loss}\")"
   ]
  },
  {
   "cell_type": "markdown",
   "id": "7cb24d8a-86de-40de-97ce-2c6b027d77d5",
   "metadata": {},
   "source": [
    "**Components and hyperparameters in this step:**\n",
    "\n",
    "- **Input data**\n",
    "    - **`X_test`:** The feature matrix for test data.\n",
    "    - **`y_test`:** The true target values for the test data.\n",
    "- **Additional parameters**:\n",
    "   - **`batch_size`:** Number of samples per evaluation step. In default, it uses the batch size defined during training or the entire dataset if not specified. A larger batch size may speed up evaluation but can lead to memory issues with very large datasets.\n",
    "   - **`verbose`:** Level of verbosity for logging. The options are `0` (silent), `1` (progress bar), `2` (one line per epoch), while the default is `1`.\n",
    "\n",
    "If the test loss is significantly higher than the training loss, the model may have overfitted the training data.\n",
    "\n",
    "### Step 1.5: Make predictions\n",
    "Use the trained model to predict new data. In regression tasks, the model generates continuous outputs."
   ]
  },
  {
   "cell_type": "code",
   "execution_count": 8,
   "id": "a1710d4c-3219-4de2-8bb4-a6d909b0d1ff",
   "metadata": {
    "tags": []
   },
   "outputs": [
    {
     "name": "stdout",
     "output_type": "stream",
     "text": [
      "129/129 [==============================] - 0s 2ms/step\n",
      "Predictions:\n",
      " [[0.43465  ]\n",
      " [1.4989375]\n",
      " [4.6834807]\n",
      " [2.6295967]\n",
      " [2.9933033]]\n"
     ]
    }
   ],
   "source": [
    "# Make predictions\n",
    "predictions = model.predict(X_test)\n",
    "print(\"Predictions:\\n\", predictions[:5])"
   ]
  },
  {
   "cell_type": "markdown",
   "id": "58fbd0b8-8d81-4b1e-ba85-db125cdf26e8",
   "metadata": {},
   "source": [
    "### Step 1.6: Saving the model\n",
    "To save and load models in TensorFlow, we can use two main formats: the `SavedModel` format and the `HDF5` format. Each format has its own use cases and advantages.\n",
    "\n",
    "* The `SavedModel` format is TensorFlow’s default format for saving models. It includes the complete architecture, weights, and training configuration. It is suitable for TensorFlow deployments and serving. It includes everything needed to resume training, including optimizer states and custom objects.\n",
    "* The `HDF5` format is a more lightweight and flexible format used for saving models. It is convenient for sharing models as a single file. It’s compatible with various tools, but does not include the optimizer configuration."
   ]
  },
  {
   "cell_type": "code",
   "execution_count": 9,
   "id": "cd11bcba-ee3e-41d9-9540-21b3d45d8a19",
   "metadata": {
    "tags": []
   },
   "outputs": [
    {
     "name": "stderr",
     "output_type": "stream",
     "text": [
      "WARNING:absl:Found untraced functions such as _update_step_xla while saving (showing 1 of 1). These functions will not be directly callable after loading.\n"
     ]
    },
    {
     "name": "stdout",
     "output_type": "stream",
     "text": [
      "INFO:tensorflow:Assets written to: regression_model\\assets\n"
     ]
    },
    {
     "name": "stderr",
     "output_type": "stream",
     "text": [
      "INFO:tensorflow:Assets written to: regression_model\\assets\n"
     ]
    }
   ],
   "source": [
    "# Save the model in SavedModel format\n",
    "model.save(\"regression_model\", save_format=\"tf\")\n",
    "# Save the model in HDF5 format\n",
    "model.save(\"regression_model.h5\")"
   ]
  },
  {
   "cell_type": "markdown",
   "id": "a6c59a1a-86a9-4e1c-884f-1483e2ce46a6",
   "metadata": {},
   "source": [
    "**`SavedModel` format:** It saves the architecture, weights, optimizer state, and even custom objects or layers. It can be loaded in TensorFlow Serving and deployed for inference in different environments.\n",
    "- `model.save(filepath, save_format=\"tf\")`:This method saves the entire model to the specified path.\n",
    "- `save_format`: Specifies the format to save the model in. The default `save_format` is `\"tf\"`, which stands for TensorFlow’s SavedModel format. This format saves the model as a directory containing all necessary files to load the model later.\n",
    "\n",
    "**`HDF5` format:** Everything is stored in one file, making it easy to manage.\n",
    "- `model.save(filepath)`:** Saves the model in HDF5 format if the filepath ends with `.h5` or `.hdf5`.\n",
    "- HDF5 format: Saves the model architecture, weights, and training configuration in a single file.\n",
    "\n",
    "### Step 1.7: Loading the model"
   ]
  },
  {
   "cell_type": "code",
   "execution_count": 10,
   "id": "0cfd2bd9-b456-454f-b549-1e2a291296ac",
   "metadata": {
    "tags": []
   },
   "outputs": [
    {
     "name": "stdout",
     "output_type": "stream",
     "text": [
      "Model: \"sequential\"\n",
      "_________________________________________________________________\n",
      " Layer (type)                Output Shape              Param #   \n",
      "=================================================================\n",
      " dense (Dense)               (None, 64)                576       \n",
      "                                                                 \n",
      " dense_1 (Dense)             (None, 32)                2080      \n",
      "                                                                 \n",
      " dense_2 (Dense)             (None, 1)                 33        \n",
      "                                                                 \n",
      "=================================================================\n",
      "Total params: 2,689\n",
      "Trainable params: 2,689\n",
      "Non-trainable params: 0\n",
      "_________________________________________________________________\n",
      "\n",
      "\n",
      "Model: \"sequential\"\n",
      "_________________________________________________________________\n",
      " Layer (type)                Output Shape              Param #   \n",
      "=================================================================\n",
      " dense (Dense)               (None, 64)                576       \n",
      "                                                                 \n",
      " dense_1 (Dense)             (None, 32)                2080      \n",
      "                                                                 \n",
      " dense_2 (Dense)             (None, 1)                 33        \n",
      "                                                                 \n",
      "=================================================================\n",
      "Total params: 2,689\n",
      "Trainable params: 2,689\n",
      "Non-trainable params: 0\n",
      "_________________________________________________________________\n"
     ]
    }
   ],
   "source": [
    "# Load the model from SavedModel format\n",
    "regression_model = load_model(\"regression_model\")\n",
    "# Check the model with summary method\n",
    "regression_model.summary()\n",
    "\n",
    "# Load the model from HDF5 format\n",
    "regression_model = load_model(\"regression_model.h5\")\n",
    "print('\\n')\n",
    "# Check the model with summary method\n",
    "regression_model.summary()"
   ]
  },
  {
   "cell_type": "markdown",
   "id": "e9b29dbe-b9c3-485f-aa13-544b9e03945d",
   "metadata": {
    "tags": []
   },
   "source": [
    "- `loaded_model.summary()`: Prints a summary of the model architecture, showing the layers, shapes, and number of parameters.\n",
    "\n",
    "***Output breakdown***\n",
    "1. Model: \"sequential\" - This indicates that the model is a sequential model, meaning that layers are stacked one after another in a linear fashion without any branching or merging paths.\n",
    "2. Layer details:\n",
    "   - Dense layers: Each row in the table represents a layer in our model. In this example, you have three dense layers.\n",
    "   - Layer (type):\n",
    "     - **`dense` (Dense):** The first layer is a dense layer, which is a fully connected layer.\n",
    "     - **`dense_1` (Dense):** The second layer is another dense layer.\n",
    "     - **`dense_2` (Dense):** The third layer is also a dense layer, serving as the output layer.\n",
    "   - Output shape:\n",
    "     - **`(None, 64)`:** The output shape of the first layer is `(None, 64)`, where `None` indicates the batch size, which can vary. The `64` is the number of neurons in this layer.\n",
    "     - **`(None, 32)`:** The output shape of the second layer is `(None, 32)`, meaning this layer has 32 neurons.\n",
    "     - **`(None, 1)`:** The output shape of the third layer is `(None, 1)`, which is the output layer with 1 neuron, suitable for regression tasks that predict a single continuous value.\n",
    "3. Param # (parameters):\n",
    "   - **`576`:** The first dense layer has 576 parameters. This includes weights and biases. For a dense layer, the number of parameters is calculated as `(input features + 1) * number of neurons`. Here, the input is 9 (as deduced from 576/64 - 1 for the bias), giving us `9 * 64 + 64` for the weights and biases.\n",
    "   - **`2080`:** The second dense layer has 2080 parameters. The number of parameters is `(64 + 1) * 32`, considering 64 inputs and biases for 32 neurons.\n",
    "   - **`33`:** The third dense layer has 33 parameters, calculated as `(32 + 1) * 1`, where 32 is the number of inputs from the previous layer and 1 is for the bias.\n",
    "4. Total params: 2,689 - This is the sum of all parameters across all layers, including weights and biases.\n",
    "5. Trainable params: 2,689 - These are parameters that the model learns during training. In this case, all parameters are trainable.\n",
    "6. Non-trainable params: 0 - These would be parameters that are fixed and not updated during training. In our model, there are none."
   ]
  },
  {
   "cell_type": "markdown",
   "id": "5edb3d80-d334-4339-a12f-bfe6b70d7bf2",
   "metadata": {
    "tags": []
   },
   "source": [
    "## 2. Classification with Iris dataset\n",
    "In this section, we will build a neural network to classify iris flowers into one of three species using the Iris dataset. This dataset consists of measurements of iris flowers. It includes features like sepal length, sepal width, petal length, and petal width."
   ]
  },
  {
   "cell_type": "code",
   "execution_count": 11,
   "id": "a5d905d2-b207-4464-805d-bc755da30b23",
   "metadata": {
    "tags": []
   },
   "outputs": [],
   "source": [
    "# Load the Iris dataset\n",
    "iris = load_iris()\n",
    "X = iris.data\n",
    "y = iris.target\n",
    "\n",
    "# One-hot encode the labels\n",
    "encoder = OneHotEncoder(sparse=False)\n",
    "y_onehot = encoder.fit_transform(y.reshape(-1, 1))\n",
    "\n",
    "# Split the dataset into training and test sets\n",
    "X_train, X_test, y_train, y_test = train_test_split(X, y_onehot, test_size=0.2, random_state=42)\n",
    "\n",
    "# Standardize the features\n",
    "scaler = StandardScaler()\n",
    "X_train = scaler.fit_transform(X_train)\n",
    "X_test = scaler.transform(X_test)"
   ]
  },
  {
   "cell_type": "markdown",
   "id": "8dde3c2c-117b-4974-97fa-e38b18b56924",
   "metadata": {},
   "source": [
    "In classification tasks, labels are categorical. Neural networks typically require numerical input, and one-hot encoding is a way to convert categorical labels into a binary matrix format that the network can process.\n",
    "\n",
    "### Step 2.1: Define the model architecture\n",
    "Use the Sequential API to build a simple feedforward neural network for classification."
   ]
  },
  {
   "cell_type": "code",
   "execution_count": 12,
   "id": "d48c6072-c7d8-4674-8104-789ea9d9b833",
   "metadata": {
    "tags": []
   },
   "outputs": [],
   "source": [
    "# Define a simple feedforward neural network model for classification\n",
    "model = Sequential()\n",
    "model.add(InputLayer(input_shape=(X_train.shape[1],)))\n",
    "model.add(Dense(64, activation='relu'))  # Hidden layer with 64 neurons\n",
    "model.add(Dense(32, activation='relu'))  # Another hidden layer with 32 neurons\n",
    "model.add(Dense(y_train.shape[1], activation='softmax'))  # Output layer with softmax activation"
   ]
  },
  {
   "cell_type": "markdown",
   "id": "2b3e82a1-364e-43a8-9909-61cda252d9d7",
   "metadata": {},
   "source": [
    "**Explanation:**\n",
    "- **Initializing the sequential model**\n",
    "    - **`models.Sequential()`**: Creates a linear stack of layers, allowing us to build the model layer by layer.\n",
    "\n",
    "- **Input layer**: The input layer receives the data.\n",
    "    - Similar to regression, this layer defines the input data shape and passes it to the hidden layers.\n",
    "    - In our example:\n",
    "        - **`layers.InputLayer(input_shape=(X_train.shape[1],))`**: Specifies the input shape, similar to the regression task. The input shape here is based on the number of features in the training data.\n",
    "\n",
    "- **Hidden layers**: These layers extract features and learn patterns from the data.\n",
    "    - **Dense layers**: Provide a fully connected architecture for feature learning.\n",
    "    - **Neurons and activation**: Same as in the regression model, these layers use ReLU activation to introduce non-linearity and allow the model to learn complex patterns.\n",
    "    - In our example:\n",
    "        - **`layers.Dense(64, activation='relu')`**: Adds a dense layer with 64 neurons and ReLU activation function. This helps the model learn and represent features from the input data.\n",
    "        - **`layers.Dense(32, activation='relu')`**: Another dense layer with 32 neurons and ReLU activation. This layer further processes the data from the previous layer.\n",
    "\n",
    "- **Output layer**: The output layer provides class probabilities.\n",
    "    - Syntax for classification: `layers.Dense(number_of_classes, activation='softmax')`\n",
    "    - **Number of neurons**: The number of neurons equals the number of classes in the dataset. For example, if classifying into three categories, there will be 3 neurons.\n",
    "    - **`activation='softmax'`**: Converts raw scores into probabilities, making them suitable for classification tasks. The sum of probabilities across all classes will be 1.\n",
    "    - In our example:\n",
    "        - **`layers.Dense(y_train.shape[1], activation='softmax')`**: The output layer where `y_train.shape[1]` represents the number of classes. The `softmax` activation function converts the output to a probability distribution over the classes, making it suitable for classification.\n",
    "\n",
    "### Step 2.2: Compile the model\n",
    "Specify the optimizer, loss function, and metrics."
   ]
  },
  {
   "cell_type": "code",
   "execution_count": 13,
   "id": "1bc6e87c-96ec-41ba-b94d-6903e2a5744c",
   "metadata": {
    "tags": []
   },
   "outputs": [],
   "source": [
    "# Compile the model\n",
    "model.compile(optimizer=SGD(learning_rate=0.001, momentum=0.9), loss='categorical_crossentropy', metrics=['accuracy'])"
   ]
  },
  {
   "cell_type": "markdown",
   "id": "a0b855bd-02b4-427e-8d46-e599ebd59f13",
   "metadata": {},
   "source": [
    "**Hyperparameters in this step:**\n",
    "- **Loss function**: Common loss functions for classification:\n",
    "    - Categorical crossentropy ('categorical_crossentropy'): Used when there are multiple classes (multi-class classification) and the target data is one-hot encoded.\n",
    "    - Binary crossentropy ('binary_crossentropy'): Used for binary classification tasks.\n",
    "    - Sparse categorical crossentropy ('sparse_categorical_crossentropy'): Used for multi-class classification with integer labels instead of one-hot encoding.\n",
    "- **Metrics**: For classification tasks, accuracy is often used, but other metrics like precision and recall might be needed for imbalanced datasets. We should pick metrics that best capture the model's performance for your specific application.\n",
    "    \n",
    "### Step 2.3: Train the model\n",
    "Train the model using the training data."
   ]
  },
  {
   "cell_type": "code",
   "execution_count": 14,
   "id": "1a802ed4-4cda-4658-abaf-ae7598ae8534",
   "metadata": {
    "tags": []
   },
   "outputs": [
    {
     "name": "stdout",
     "output_type": "stream",
     "text": [
      "Epoch 1/20\n",
      "6/6 [==============================] - 1s 61ms/step - loss: 1.1696 - accuracy: 0.3438 - val_loss: 1.1518 - val_accuracy: 0.2500\n",
      "Epoch 2/20\n",
      "6/6 [==============================] - 0s 15ms/step - loss: 1.1534 - accuracy: 0.3438 - val_loss: 1.1366 - val_accuracy: 0.2500\n",
      "Epoch 3/20\n",
      "6/6 [==============================] - 0s 12ms/step - loss: 1.1327 - accuracy: 0.3438 - val_loss: 1.1176 - val_accuracy: 0.2500\n",
      "Epoch 4/20\n",
      "6/6 [==============================] - 0s 12ms/step - loss: 1.1083 - accuracy: 0.3646 - val_loss: 1.0991 - val_accuracy: 0.2917\n",
      "Epoch 5/20\n",
      "6/6 [==============================] - 0s 11ms/step - loss: 1.0864 - accuracy: 0.4688 - val_loss: 1.0810 - val_accuracy: 0.3750\n",
      "Epoch 6/20\n",
      "6/6 [==============================] - 0s 11ms/step - loss: 1.0645 - accuracy: 0.6354 - val_loss: 1.0653 - val_accuracy: 0.4167\n",
      "Epoch 7/20\n",
      "6/6 [==============================] - 0s 12ms/step - loss: 1.0438 - accuracy: 0.6875 - val_loss: 1.0509 - val_accuracy: 0.5000\n",
      "Epoch 8/20\n",
      "6/6 [==============================] - 0s 12ms/step - loss: 1.0264 - accuracy: 0.7604 - val_loss: 1.0375 - val_accuracy: 0.5833\n",
      "Epoch 9/20\n",
      "6/6 [==============================] - 0s 11ms/step - loss: 1.0095 - accuracy: 0.8021 - val_loss: 1.0240 - val_accuracy: 0.6667\n",
      "Epoch 10/20\n",
      "6/6 [==============================] - 0s 11ms/step - loss: 0.9921 - accuracy: 0.8021 - val_loss: 1.0103 - val_accuracy: 0.6667\n",
      "Epoch 11/20\n",
      "6/6 [==============================] - 0s 11ms/step - loss: 0.9747 - accuracy: 0.8333 - val_loss: 0.9971 - val_accuracy: 0.6667\n",
      "Epoch 12/20\n",
      "6/6 [==============================] - 0s 10ms/step - loss: 0.9590 - accuracy: 0.8438 - val_loss: 0.9838 - val_accuracy: 0.7083\n",
      "Epoch 13/20\n",
      "6/6 [==============================] - 0s 9ms/step - loss: 0.9428 - accuracy: 0.8646 - val_loss: 0.9704 - val_accuracy: 0.7500\n",
      "Epoch 14/20\n",
      "6/6 [==============================] - 0s 11ms/step - loss: 0.9271 - accuracy: 0.8750 - val_loss: 0.9564 - val_accuracy: 0.7500\n",
      "Epoch 15/20\n",
      "6/6 [==============================] - 0s 13ms/step - loss: 0.9114 - accuracy: 0.8854 - val_loss: 0.9424 - val_accuracy: 0.7917\n",
      "Epoch 16/20\n",
      "6/6 [==============================] - 0s 15ms/step - loss: 0.8936 - accuracy: 0.8958 - val_loss: 0.9281 - val_accuracy: 0.8333\n",
      "Epoch 17/20\n",
      "6/6 [==============================] - 0s 11ms/step - loss: 0.8766 - accuracy: 0.9167 - val_loss: 0.9140 - val_accuracy: 0.8333\n",
      "Epoch 18/20\n",
      "6/6 [==============================] - 0s 10ms/step - loss: 0.8594 - accuracy: 0.9271 - val_loss: 0.8990 - val_accuracy: 0.8750\n",
      "Epoch 19/20\n",
      "6/6 [==============================] - 0s 15ms/step - loss: 0.8421 - accuracy: 0.9375 - val_loss: 0.8840 - val_accuracy: 0.8750\n",
      "Epoch 20/20\n",
      "6/6 [==============================] - 0s 16ms/step - loss: 0.8248 - accuracy: 0.9375 - val_loss: 0.8687 - val_accuracy: 0.8750\n"
     ]
    }
   ],
   "source": [
    "# Train the model\n",
    "history = model.fit(X_train, y_train, epochs=20, batch_size=16, validation_split=0.2)"
   ]
  },
  {
   "cell_type": "markdown",
   "id": "ca953070-ab15-457c-8346-395d1ca1b251",
   "metadata": {},
   "source": [
    "**Hyperparameters in this step:**\n",
    "The concepts covered in the regression section also apply to classification tasks. However, there are a few additional considerations:\n",
    "- **Class imbalance** (dict): Handling imbalanced datasets where some classes are more frequent than others. We can adjust the `class_weight` parameter in `fit()` to give different weights to classes, ensuring all classes contribute equally to the loss.\n",
    "   - Syntax:\n",
    "   `model.fit(X_train, y_train, epochs=number_of_epochs, batch_size=batch_size_value, validation_split=validation_split_ratio), class_weight={class_index: weight_value}`\n",
    "   \n",
    "##### Plot training metrics"
   ]
  },
  {
   "cell_type": "code",
   "execution_count": 15,
   "id": "8df112ac-a623-4794-949a-58b361268812",
   "metadata": {
    "tags": []
   },
   "outputs": [
    {
     "data": {
      "image/png": "[encoded data removed]",
      "text/plain": [
       "<Figure size 1200x400 with 2 Axes>"
      ]
     },
     "metadata": {},
     "output_type": "display_data"
    }
   ],
   "source": [
    "# Plot training & validation accuracy values\n",
    "plt.figure(figsize=(12, 4))\n",
    "plt.subplot(1, 2, 1)\n",
    "plt.plot(history.history['accuracy'])\n",
    "plt.plot(history.history['val_accuracy'])\n",
    "plt.title('Model Accuracy')\n",
    "plt.ylabel('Accuracy')\n",
    "plt.xlabel('Epoch')\n",
    "plt.legend(['Train', 'Validation'], loc='upper left')\n",
    "\n",
    "# Plot training & validation loss values\n",
    "plt.subplot(1, 2, 2)\n",
    "plt.plot(history.history['loss'])\n",
    "plt.plot(history.history['val_loss'])\n",
    "plt.title('Model Loss')\n",
    "plt.ylabel('Loss')\n",
    "plt.xlabel('Epoch')\n",
    "plt.legend(['Train', 'Validation'], loc='upper left')\n",
    "\n",
    "plt.show()"
   ]
  },
  {
   "cell_type": "markdown",
   "id": "1eaa04f3-5308-4855-88e0-4737dfec1ad4",
   "metadata": {},
   "source": [
    "### Step 2.4: Evaluate the model\n",
    "Assess the performance of the model on the test data. In classification tasks, evaluation not only involves computing the loss but also assessing metrics such as accuracy."
   ]
  },
  {
   "cell_type": "code",
   "execution_count": 16,
   "id": "fc6dd1ca-6152-4261-95f5-f38391292dd0",
   "metadata": {
    "tags": []
   },
   "outputs": [
    {
     "name": "stdout",
     "output_type": "stream",
     "text": [
      "1/1 [==============================] - 0s 30ms/step - loss: 0.8283 - accuracy: 0.9333\n",
      "Test loss: 0.828315794467926, Test accuracy: 0.9333333373069763\n"
     ]
    }
   ],
   "source": [
    "# Evaluate the model\n",
    "test_loss, test_accuracy = model.evaluate(X_test, y_test)\n",
    "print(f\"Test loss: {test_loss}, Test accuracy: {test_accuracy}\")"
   ]
  },
  {
   "cell_type": "markdown",
   "id": "dcd2f2b0-43d0-45ae-b5cf-8b6bdc6a097a",
   "metadata": {},
   "source": [
    "If additional metrics were specified during model compilation (e.g., `precision`, `recall`), they will be returned in the same order as specified.\n",
    "\n",
    "### Step 2.5: Make predictions\n",
    "Use the trained model to make predictions on new data. In classification tasks, the model outputs probabilities for each class, allowing us to determine the most likely class for each input sample."
   ]
  },
  {
   "cell_type": "code",
   "execution_count": 17,
   "id": "9755df03-9bc5-4e67-b85f-f07b72eaec22",
   "metadata": {
    "tags": []
   },
   "outputs": [
    {
     "name": "stdout",
     "output_type": "stream",
     "text": [
      "1/1 [==============================] - 0s 105ms/step\n",
      "Predictions:\n",
      " [1 0 2 2 1]\n"
     ]
    }
   ],
   "source": [
    "# Make predictions\n",
    "predictions = model.predict(X_test)\n",
    "print(\"Predictions:\\n\", np.argmax(predictions, axis=1)[:5])"
   ]
  },
  {
   "cell_type": "markdown",
   "id": "18cfb37a-9a8c-4a68-9b77-fa6148e4ce3c",
   "metadata": {},
   "source": [
    "The output from a classification model (when using a softmax activation function) is an array of probabilities for each class. Each element in this array represents the model's estimate of the likelihood that the input belongs to a particular class. We use `np.argmax` to find the index of the maximum value along a specified axis. In this case, the axis is `1`, which means we are looking for the index of the highest probability in each row (i.e., for each sample). The index with the highest probability corresponds to the class the model predicts the input sample most likely belongs to. Thus, `np.argmax` effectively translates the array of probabilities into a discrete class label.\n",
    "\n",
    "### Step 2.6: Saving the model"
   ]
  },
  {
   "cell_type": "code",
   "execution_count": 18,
   "id": "f1912d47-e380-4217-9602-1b2d2fada7ff",
   "metadata": {
    "tags": []
   },
   "outputs": [
    {
     "name": "stderr",
     "output_type": "stream",
     "text": [
      "WARNING:absl:Found untraced functions such as _update_step_xla while saving (showing 1 of 1). These functions will not be directly callable after loading.\n"
     ]
    },
    {
     "name": "stdout",
     "output_type": "stream",
     "text": [
      "INFO:tensorflow:Assets written to: classification_model\\assets\n"
     ]
    },
    {
     "name": "stderr",
     "output_type": "stream",
     "text": [
      "INFO:tensorflow:Assets written to: classification_model\\assets\n"
     ]
    }
   ],
   "source": [
    "# Save the model in SavedModel format\n",
    "model.save(\"classification_model\", save_format=\"tf\")\n",
    "# Save the model in HDF5 format\n",
    "model.save(\"classification_model.h5\")"
   ]
  },
  {
   "cell_type": "markdown",
   "id": "257f541a-76bc-4c15-a0df-2df85d49b139",
   "metadata": {},
   "source": [
    "### Step 2.7: Loading the model"
   ]
  },
  {
   "cell_type": "code",
   "execution_count": 19,
   "id": "995bf3c0-8cfe-4ee9-8271-f20e40e6d118",
   "metadata": {
    "tags": []
   },
   "outputs": [
    {
     "name": "stdout",
     "output_type": "stream",
     "text": [
      "Model: \"sequential_1\"\n",
      "_________________________________________________________________\n",
      " Layer (type)                Output Shape              Param #   \n",
      "=================================================================\n",
      " dense_3 (Dense)             (None, 64)                320       \n",
      "                                                                 \n",
      " dense_4 (Dense)             (None, 32)                2080      \n",
      "                                                                 \n",
      " dense_5 (Dense)             (None, 3)                 99        \n",
      "                                                                 \n",
      "=================================================================\n",
      "Total params: 2,499\n",
      "Trainable params: 2,499\n",
      "Non-trainable params: 0\n",
      "_________________________________________________________________\n",
      "\n",
      "\n",
      "Model: \"sequential_1\"\n",
      "_________________________________________________________________\n",
      " Layer (type)                Output Shape              Param #   \n",
      "=================================================================\n",
      " dense_3 (Dense)             (None, 64)                320       \n",
      "                                                                 \n",
      " dense_4 (Dense)             (None, 32)                2080      \n",
      "                                                                 \n",
      " dense_5 (Dense)             (None, 3)                 99        \n",
      "                                                                 \n",
      "=================================================================\n",
      "Total params: 2,499\n",
      "Trainable params: 2,499\n",
      "Non-trainable params: 0\n",
      "_________________________________________________________________\n"
     ]
    }
   ],
   "source": [
    "# Load the model from SavedModel format\n",
    "regression_model = load_model(\"classification_model\")\n",
    "# Check the model with summary method\n",
    "regression_model.summary()\n",
    "\n",
    "# Load the model from HDF5 format\n",
    "regression_model = load_model(\"classification_model.h5\")\n",
    "print('\\n')\n",
    "# Check the model with summary method\n",
    "regression_model.summary()"
   ]
  }
 ],
 "metadata": {
  "kernelspec": {
   "display_name": "Python 3 (ipykernel)",
   "language": "python",
   "name": "python3"
  },
  "language_info": {
   "codemirror_mode": {
    "name": "ipython",
    "version": 3
   },
   "file_extension": ".py",
   "mimetype": "text/x-python",
   "name": "python",
   "nbconvert_exporter": "python",
   "pygments_lexer": "ipython3",
   "version": "3.9.13"
  }
 },
 "nbformat": 4,
 "nbformat_minor": 5
}
